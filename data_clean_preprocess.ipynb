{
 "cells": [
  {
   "cell_type": "markdown",
   "metadata": {},
   "source": [
    "## Importing Relevant Libraries"
   ]
  },
  {
   "cell_type": "code",
   "execution_count": 1,
   "metadata": {
    "id": "MRHHI1NBIfYL"
   },
   "outputs": [],
   "source": [
    "import pandas as pd\n",
    "import numpy as np\n",
    "import matplotlib.pyplot as plt\n",
    "from datetime import datetime, date\n",
    "import json\n",
    "\n",
    "%matplotlib inline\n",
    "\n",
    "import re\n",
    "import string\n",
    "\n",
    "import nltk\n",
    "from nltk.sentiment.vader import SentimentIntensityAnalyzer\n",
    "\n",
    "from sklearn.model_selection import train_test_split\n",
    "\n",
    "import warnings\n",
    "warnings.filterwarnings(\"ignore\")"
   ]
  },
  {
   "cell_type": "markdown",
   "metadata": {},
   "source": [
    "## Download Yelp Dataset from Kaggle"
   ]
  },
  {
   "attachments": {},
   "cell_type": "markdown",
   "metadata": {},
   "source": [
    "Create a kaggle API Token\n",
    "\n",
    "go to kaggle.com -> account -> create new api token <p>\n",
    "place kaggle.json to directory  (same path as the current notebook)\n",
    "\n",
    "or download the dataset from\n",
    "https://www.kaggle.com/datasets/yelp-dataset/yelp-dataset or the attached files on onedrive"
   ]
  },
  {
   "cell_type": "code",
   "execution_count": null,
   "metadata": {},
   "outputs": [],
   "source": [
    "!kaggle datasets download -d yelp-dataset/yelp-dataset"
   ]
  },
  {
   "cell_type": "code",
   "execution_count": null,
   "metadata": {},
   "outputs": [],
   "source": [
    "!mkdir dataset\n",
    "!unzip -q yelp-dataset.zip -d dataset"
   ]
  },
  {
   "cell_type": "markdown",
   "metadata": {},
   "source": [
    "## Preprocessing"
   ]
  },
  {
   "cell_type": "code",
   "execution_count": 15,
   "metadata": {},
   "outputs": [
    {
     "name": "stdout",
     "output_type": "stream",
     "text": [
      "CPU times: user 50.9 s, sys: 6.99 s, total: 57.9 s\n",
      "Wall time: 2min 24s\n"
     ]
    }
   ],
   "source": [
    "%%time\n",
    "review_file = 'dataset/yelp_academic_dataset_review.json'\n",
    "business_file = 'dataset/yelp_academic_dataset_business.json'\n",
    "\n",
    "# load json file\n",
    "reviews_json = [json.loads(line) for line in open(review_file, 'r', encoding='UTF-8')]\n",
    "restaurant_json = [json.loads(line) for line in open(business_file, 'r', encoding='UTF-8')]"
   ]
  },
  {
   "cell_type": "code",
   "execution_count": 16,
   "metadata": {},
   "outputs": [],
   "source": [
    "# importing to pandas\n",
    "reviews_df = pd.DataFrame(reviews_json)\n",
    "restaurant_df = pd.DataFrame(restaurant_json)"
   ]
  },
  {
   "cell_type": "code",
   "execution_count": 17,
   "metadata": {},
   "outputs": [],
   "source": [
    "restaurant_df.rename({'stars':'res_avg_stars'}, axis=1, inplace=True)"
   ]
  },
  {
   "cell_type": "code",
   "execution_count": 18,
   "metadata": {},
   "outputs": [],
   "source": [
    "# remove businesss that are not restaurants (categories might be 'restaurant' or 'restaurants')\n",
    "res_business_id = restaurant_df[restaurant_df['categories'].notnull() & restaurant_df['categories'].str.contains('Restaurant')]"
   ]
  },
  {
   "cell_type": "code",
   "execution_count": 20,
   "metadata": {
    "scrolled": true,
    "tags": []
   },
   "outputs": [],
   "source": [
    "# filter reviews consisting of only business of which are restaurants\n",
    "merged_df = pd.merge(reviews_df, res_business_id, on='business_id', how='inner')[[\"business_id\", \"user_id\", \"text\", \"stars\", \"date\", \"city\",\"res_avg_stars\",\"review_count\"]]"
   ]
  },
  {
   "cell_type": "code",
   "execution_count": 21,
   "metadata": {},
   "outputs": [
    {
     "data": {
      "text/plain": [
       "business_id      0\n",
       "user_id          0\n",
       "text             0\n",
       "stars            0\n",
       "date             0\n",
       "city             0\n",
       "res_avg_stars    0\n",
       "review_count     0\n",
       "dtype: int64"
      ]
     },
     "execution_count": 21,
     "metadata": {},
     "output_type": "execute_result"
    }
   ],
   "source": [
    "# counting null values\n",
    "merged_df.isna().sum()"
   ]
  },
  {
   "cell_type": "code",
   "execution_count": 23,
   "metadata": {},
   "outputs": [],
   "source": [
    "review_dupes_check = merged_df.groupby(['business_id','user_id']).count()['stars']"
   ]
  },
  {
   "cell_type": "code",
   "execution_count": 95,
   "metadata": {},
   "outputs": [
    {
     "data": {
      "text/plain": [
       "141834"
      ]
     },
     "execution_count": 95,
     "metadata": {},
     "output_type": "execute_result"
    }
   ],
   "source": [
    "review_dupes_check[review_dupes_check > 1].count() # there are users who leave more than 1 review in the same restaurant"
   ]
  },
  {
   "cell_type": "code",
   "execution_count": 25,
   "metadata": {},
   "outputs": [
    {
     "data": {
      "text/html": [
       "<div>\n",
       "<style scoped>\n",
       "    .dataframe tbody tr th:only-of-type {\n",
       "        vertical-align: middle;\n",
       "    }\n",
       "\n",
       "    .dataframe tbody tr th {\n",
       "        vertical-align: top;\n",
       "    }\n",
       "\n",
       "    .dataframe thead th {\n",
       "        text-align: right;\n",
       "    }\n",
       "</style>\n",
       "<table border=\"1\" class=\"dataframe\">\n",
       "  <thead>\n",
       "    <tr style=\"text-align: right;\">\n",
       "      <th></th>\n",
       "      <th>business_id</th>\n",
       "      <th>user_id</th>\n",
       "      <th>text</th>\n",
       "      <th>stars</th>\n",
       "      <th>date</th>\n",
       "      <th>city</th>\n",
       "      <th>res_avg_stars</th>\n",
       "      <th>review_count</th>\n",
       "    </tr>\n",
       "  </thead>\n",
       "  <tbody>\n",
       "    <tr>\n",
       "      <th>0</th>\n",
       "      <td>XQfwVwDr-v0ZS3_CbbE5Xw</td>\n",
       "      <td>mh_-eMZ6K5RLWhZyISBhwA</td>\n",
       "      <td>If you decide to eat here, just be aware it is...</td>\n",
       "      <td>3.0</td>\n",
       "      <td>2018-07-07 22:09:11</td>\n",
       "      <td>North Wales</td>\n",
       "      <td>3.0</td>\n",
       "      <td>169</td>\n",
       "    </tr>\n",
       "    <tr>\n",
       "      <th>1</th>\n",
       "      <td>XQfwVwDr-v0ZS3_CbbE5Xw</td>\n",
       "      <td>Iaee7y6zdSB3B-kRCo4z1w</td>\n",
       "      <td>This is the second time we tried turning point...</td>\n",
       "      <td>2.0</td>\n",
       "      <td>2017-05-13 17:06:55</td>\n",
       "      <td>North Wales</td>\n",
       "      <td>3.0</td>\n",
       "      <td>169</td>\n",
       "    </tr>\n",
       "    <tr>\n",
       "      <th>2</th>\n",
       "      <td>XQfwVwDr-v0ZS3_CbbE5Xw</td>\n",
       "      <td>ejFxLGqQcWNLdNByJlIhnQ</td>\n",
       "      <td>The place is cute and the staff was very frien...</td>\n",
       "      <td>4.0</td>\n",
       "      <td>2017-08-08 00:58:18</td>\n",
       "      <td>North Wales</td>\n",
       "      <td>3.0</td>\n",
       "      <td>169</td>\n",
       "    </tr>\n",
       "    <tr>\n",
       "      <th>3</th>\n",
       "      <td>XQfwVwDr-v0ZS3_CbbE5Xw</td>\n",
       "      <td>f7xa0p_1V9lx53iIGN5Sug</td>\n",
       "      <td>We came on a Saturday morning after waiting a ...</td>\n",
       "      <td>3.0</td>\n",
       "      <td>2017-11-19 02:20:23</td>\n",
       "      <td>North Wales</td>\n",
       "      <td>3.0</td>\n",
       "      <td>169</td>\n",
       "    </tr>\n",
       "    <tr>\n",
       "      <th>4</th>\n",
       "      <td>XQfwVwDr-v0ZS3_CbbE5Xw</td>\n",
       "      <td>dCooFVCk8M1nVaQqcfTL3Q</td>\n",
       "      <td>Mediocre at best. The decor is very nice, and ...</td>\n",
       "      <td>2.0</td>\n",
       "      <td>2017-09-09 17:49:47</td>\n",
       "      <td>North Wales</td>\n",
       "      <td>3.0</td>\n",
       "      <td>169</td>\n",
       "    </tr>\n",
       "  </tbody>\n",
       "</table>\n",
       "</div>"
      ],
      "text/plain": [
       "              business_id                 user_id  \\\n",
       "0  XQfwVwDr-v0ZS3_CbbE5Xw  mh_-eMZ6K5RLWhZyISBhwA   \n",
       "1  XQfwVwDr-v0ZS3_CbbE5Xw  Iaee7y6zdSB3B-kRCo4z1w   \n",
       "2  XQfwVwDr-v0ZS3_CbbE5Xw  ejFxLGqQcWNLdNByJlIhnQ   \n",
       "3  XQfwVwDr-v0ZS3_CbbE5Xw  f7xa0p_1V9lx53iIGN5Sug   \n",
       "4  XQfwVwDr-v0ZS3_CbbE5Xw  dCooFVCk8M1nVaQqcfTL3Q   \n",
       "\n",
       "                                                text  stars  \\\n",
       "0  If you decide to eat here, just be aware it is...    3.0   \n",
       "1  This is the second time we tried turning point...    2.0   \n",
       "2  The place is cute and the staff was very frien...    4.0   \n",
       "3  We came on a Saturday morning after waiting a ...    3.0   \n",
       "4  Mediocre at best. The decor is very nice, and ...    2.0   \n",
       "\n",
       "                  date         city  res_avg_stars  review_count  \n",
       "0  2018-07-07 22:09:11  North Wales            3.0           169  \n",
       "1  2017-05-13 17:06:55  North Wales            3.0           169  \n",
       "2  2017-08-08 00:58:18  North Wales            3.0           169  \n",
       "3  2017-11-19 02:20:23  North Wales            3.0           169  \n",
       "4  2017-09-09 17:49:47  North Wales            3.0           169  "
      ]
     },
     "execution_count": 25,
     "metadata": {},
     "output_type": "execute_result"
    }
   ],
   "source": [
    "merged_df.head()"
   ]
  },
  {
   "cell_type": "markdown",
   "metadata": {},
   "source": [
    "Get only the latest review by user"
   ]
  },
  {
   "cell_type": "code",
   "execution_count": 26,
   "metadata": {},
   "outputs": [],
   "source": [
    "latest_day_df = merged_df.groupby([\"user_id\", \"business_id\"]).agg({\"date\": \"max\"}).rename(columns={\"date\": \"latest_day\"}).reset_index()"
   ]
  },
  {
   "cell_type": "code",
   "execution_count": 27,
   "metadata": {},
   "outputs": [],
   "source": [
    "latest_restaurant_df = pd.merge(merged_df, latest_day_df.rename(columns={'latest_day':'date'}), on=[\"user_id\", \"business_id\", \"date\"], how=\"inner\")"
   ]
  },
  {
   "cell_type": "code",
   "execution_count": 28,
   "metadata": {},
   "outputs": [
    {
     "data": {
      "text/html": [
       "<div>\n",
       "<style scoped>\n",
       "    .dataframe tbody tr th:only-of-type {\n",
       "        vertical-align: middle;\n",
       "    }\n",
       "\n",
       "    .dataframe tbody tr th {\n",
       "        vertical-align: top;\n",
       "    }\n",
       "\n",
       "    .dataframe thead th {\n",
       "        text-align: right;\n",
       "    }\n",
       "</style>\n",
       "<table border=\"1\" class=\"dataframe\">\n",
       "  <thead>\n",
       "    <tr style=\"text-align: right;\">\n",
       "      <th></th>\n",
       "      <th>city</th>\n",
       "      <th>business_id</th>\n",
       "    </tr>\n",
       "  </thead>\n",
       "  <tbody>\n",
       "    <tr>\n",
       "      <th>0</th>\n",
       "      <td>Philadelphia</td>\n",
       "      <td>665773</td>\n",
       "    </tr>\n",
       "    <tr>\n",
       "      <th>1</th>\n",
       "      <td>New Orleans</td>\n",
       "      <td>466007</td>\n",
       "    </tr>\n",
       "    <tr>\n",
       "      <th>2</th>\n",
       "      <td>Nashville</td>\n",
       "      <td>318578</td>\n",
       "    </tr>\n",
       "    <tr>\n",
       "      <th>3</th>\n",
       "      <td>Tampa</td>\n",
       "      <td>293144</td>\n",
       "    </tr>\n",
       "    <tr>\n",
       "      <th>4</th>\n",
       "      <td>Indianapolis</td>\n",
       "      <td>242033</td>\n",
       "    </tr>\n",
       "  </tbody>\n",
       "</table>\n",
       "</div>"
      ],
      "text/plain": [
       "           city  business_id\n",
       "0  Philadelphia       665773\n",
       "1   New Orleans       466007\n",
       "2     Nashville       318578\n",
       "3         Tampa       293144\n",
       "4  Indianapolis       242033"
      ]
     },
     "execution_count": 28,
     "metadata": {},
     "output_type": "execute_result"
    }
   ],
   "source": [
    "review_count = latest_restaurant_df.groupby(\"city\").count()['business_id'].sort_values(ascending=False).to_frame().reset_index()\n",
    "review_count.head()"
   ]
  },
  {
   "cell_type": "code",
   "execution_count": 85,
   "metadata": {},
   "outputs": [
    {
     "data": {
      "application/vnd.plotly.v1+json": {
       "config": {
        "plotlyServerURL": "https://plot.ly"
       },
       "data": [
        {
         "alignmentgroup": "True",
         "hovertemplate": "City=%{x}<br>Review Count=%{y}<extra></extra>",
         "legendgroup": "",
         "marker": {
          "color": "#636efa",
          "pattern": {
           "shape": ""
          }
         },
         "name": "",
         "offsetgroup": "",
         "orientation": "v",
         "showlegend": false,
         "textposition": "auto",
         "type": "bar",
         "x": [
          "Philadelphia",
          "New Orleans",
          "Nashville",
          "Tampa",
          "Indianapolis"
         ],
         "xaxis": "x",
         "y": [
          665773,
          466007,
          318578,
          293144,
          242033
         ],
         "yaxis": "y"
        }
       ],
       "layout": {
        "autosize": true,
        "barmode": "relative",
        "legend": {
         "tracegroupgap": 0
        },
        "template": {
         "data": {
          "bar": [
           {
            "error_x": {
             "color": "#2a3f5f"
            },
            "error_y": {
             "color": "#2a3f5f"
            },
            "marker": {
             "line": {
              "color": "#E5ECF6",
              "width": 0.5
             },
             "pattern": {
              "fillmode": "overlay",
              "size": 10,
              "solidity": 0.2
             }
            },
            "type": "bar"
           }
          ],
          "barpolar": [
           {
            "marker": {
             "line": {
              "color": "#E5ECF6",
              "width": 0.5
             },
             "pattern": {
              "fillmode": "overlay",
              "size": 10,
              "solidity": 0.2
             }
            },
            "type": "barpolar"
           }
          ],
          "carpet": [
           {
            "aaxis": {
             "endlinecolor": "#2a3f5f",
             "gridcolor": "white",
             "linecolor": "white",
             "minorgridcolor": "white",
             "startlinecolor": "#2a3f5f"
            },
            "baxis": {
             "endlinecolor": "#2a3f5f",
             "gridcolor": "white",
             "linecolor": "white",
             "minorgridcolor": "white",
             "startlinecolor": "#2a3f5f"
            },
            "type": "carpet"
           }
          ],
          "choropleth": [
           {
            "colorbar": {
             "outlinewidth": 0,
             "ticks": ""
            },
            "type": "choropleth"
           }
          ],
          "contour": [
           {
            "colorbar": {
             "outlinewidth": 0,
             "ticks": ""
            },
            "colorscale": [
             [
              0,
              "#0d0887"
             ],
             [
              0.1111111111111111,
              "#46039f"
             ],
             [
              0.2222222222222222,
              "#7201a8"
             ],
             [
              0.3333333333333333,
              "#9c179e"
             ],
             [
              0.4444444444444444,
              "#bd3786"
             ],
             [
              0.5555555555555556,
              "#d8576b"
             ],
             [
              0.6666666666666666,
              "#ed7953"
             ],
             [
              0.7777777777777778,
              "#fb9f3a"
             ],
             [
              0.8888888888888888,
              "#fdca26"
             ],
             [
              1,
              "#f0f921"
             ]
            ],
            "type": "contour"
           }
          ],
          "contourcarpet": [
           {
            "colorbar": {
             "outlinewidth": 0,
             "ticks": ""
            },
            "type": "contourcarpet"
           }
          ],
          "heatmap": [
           {
            "colorbar": {
             "outlinewidth": 0,
             "ticks": ""
            },
            "colorscale": [
             [
              0,
              "#0d0887"
             ],
             [
              0.1111111111111111,
              "#46039f"
             ],
             [
              0.2222222222222222,
              "#7201a8"
             ],
             [
              0.3333333333333333,
              "#9c179e"
             ],
             [
              0.4444444444444444,
              "#bd3786"
             ],
             [
              0.5555555555555556,
              "#d8576b"
             ],
             [
              0.6666666666666666,
              "#ed7953"
             ],
             [
              0.7777777777777778,
              "#fb9f3a"
             ],
             [
              0.8888888888888888,
              "#fdca26"
             ],
             [
              1,
              "#f0f921"
             ]
            ],
            "type": "heatmap"
           }
          ],
          "heatmapgl": [
           {
            "colorbar": {
             "outlinewidth": 0,
             "ticks": ""
            },
            "colorscale": [
             [
              0,
              "#0d0887"
             ],
             [
              0.1111111111111111,
              "#46039f"
             ],
             [
              0.2222222222222222,
              "#7201a8"
             ],
             [
              0.3333333333333333,
              "#9c179e"
             ],
             [
              0.4444444444444444,
              "#bd3786"
             ],
             [
              0.5555555555555556,
              "#d8576b"
             ],
             [
              0.6666666666666666,
              "#ed7953"
             ],
             [
              0.7777777777777778,
              "#fb9f3a"
             ],
             [
              0.8888888888888888,
              "#fdca26"
             ],
             [
              1,
              "#f0f921"
             ]
            ],
            "type": "heatmapgl"
           }
          ],
          "histogram": [
           {
            "marker": {
             "pattern": {
              "fillmode": "overlay",
              "size": 10,
              "solidity": 0.2
             }
            },
            "type": "histogram"
           }
          ],
          "histogram2d": [
           {
            "colorbar": {
             "outlinewidth": 0,
             "ticks": ""
            },
            "colorscale": [
             [
              0,
              "#0d0887"
             ],
             [
              0.1111111111111111,
              "#46039f"
             ],
             [
              0.2222222222222222,
              "#7201a8"
             ],
             [
              0.3333333333333333,
              "#9c179e"
             ],
             [
              0.4444444444444444,
              "#bd3786"
             ],
             [
              0.5555555555555556,
              "#d8576b"
             ],
             [
              0.6666666666666666,
              "#ed7953"
             ],
             [
              0.7777777777777778,
              "#fb9f3a"
             ],
             [
              0.8888888888888888,
              "#fdca26"
             ],
             [
              1,
              "#f0f921"
             ]
            ],
            "type": "histogram2d"
           }
          ],
          "histogram2dcontour": [
           {
            "colorbar": {
             "outlinewidth": 0,
             "ticks": ""
            },
            "colorscale": [
             [
              0,
              "#0d0887"
             ],
             [
              0.1111111111111111,
              "#46039f"
             ],
             [
              0.2222222222222222,
              "#7201a8"
             ],
             [
              0.3333333333333333,
              "#9c179e"
             ],
             [
              0.4444444444444444,
              "#bd3786"
             ],
             [
              0.5555555555555556,
              "#d8576b"
             ],
             [
              0.6666666666666666,
              "#ed7953"
             ],
             [
              0.7777777777777778,
              "#fb9f3a"
             ],
             [
              0.8888888888888888,
              "#fdca26"
             ],
             [
              1,
              "#f0f921"
             ]
            ],
            "type": "histogram2dcontour"
           }
          ],
          "mesh3d": [
           {
            "colorbar": {
             "outlinewidth": 0,
             "ticks": ""
            },
            "type": "mesh3d"
           }
          ],
          "parcoords": [
           {
            "line": {
             "colorbar": {
              "outlinewidth": 0,
              "ticks": ""
             }
            },
            "type": "parcoords"
           }
          ],
          "pie": [
           {
            "automargin": true,
            "type": "pie"
           }
          ],
          "scatter": [
           {
            "fillpattern": {
             "fillmode": "overlay",
             "size": 10,
             "solidity": 0.2
            },
            "type": "scatter"
           }
          ],
          "scatter3d": [
           {
            "line": {
             "colorbar": {
              "outlinewidth": 0,
              "ticks": ""
             }
            },
            "marker": {
             "colorbar": {
              "outlinewidth": 0,
              "ticks": ""
             }
            },
            "type": "scatter3d"
           }
          ],
          "scattercarpet": [
           {
            "marker": {
             "colorbar": {
              "outlinewidth": 0,
              "ticks": ""
             }
            },
            "type": "scattercarpet"
           }
          ],
          "scattergeo": [
           {
            "marker": {
             "colorbar": {
              "outlinewidth": 0,
              "ticks": ""
             }
            },
            "type": "scattergeo"
           }
          ],
          "scattergl": [
           {
            "marker": {
             "colorbar": {
              "outlinewidth": 0,
              "ticks": ""
             }
            },
            "type": "scattergl"
           }
          ],
          "scattermapbox": [
           {
            "marker": {
             "colorbar": {
              "outlinewidth": 0,
              "ticks": ""
             }
            },
            "type": "scattermapbox"
           }
          ],
          "scatterpolar": [
           {
            "marker": {
             "colorbar": {
              "outlinewidth": 0,
              "ticks": ""
             }
            },
            "type": "scatterpolar"
           }
          ],
          "scatterpolargl": [
           {
            "marker": {
             "colorbar": {
              "outlinewidth": 0,
              "ticks": ""
             }
            },
            "type": "scatterpolargl"
           }
          ],
          "scatterternary": [
           {
            "marker": {
             "colorbar": {
              "outlinewidth": 0,
              "ticks": ""
             }
            },
            "type": "scatterternary"
           }
          ],
          "surface": [
           {
            "colorbar": {
             "outlinewidth": 0,
             "ticks": ""
            },
            "colorscale": [
             [
              0,
              "#0d0887"
             ],
             [
              0.1111111111111111,
              "#46039f"
             ],
             [
              0.2222222222222222,
              "#7201a8"
             ],
             [
              0.3333333333333333,
              "#9c179e"
             ],
             [
              0.4444444444444444,
              "#bd3786"
             ],
             [
              0.5555555555555556,
              "#d8576b"
             ],
             [
              0.6666666666666666,
              "#ed7953"
             ],
             [
              0.7777777777777778,
              "#fb9f3a"
             ],
             [
              0.8888888888888888,
              "#fdca26"
             ],
             [
              1,
              "#f0f921"
             ]
            ],
            "type": "surface"
           }
          ],
          "table": [
           {
            "cells": {
             "fill": {
              "color": "#EBF0F8"
             },
             "line": {
              "color": "white"
             }
            },
            "header": {
             "fill": {
              "color": "#C8D4E3"
             },
             "line": {
              "color": "white"
             }
            },
            "type": "table"
           }
          ]
         },
         "layout": {
          "annotationdefaults": {
           "arrowcolor": "#2a3f5f",
           "arrowhead": 0,
           "arrowwidth": 1
          },
          "autotypenumbers": "strict",
          "coloraxis": {
           "colorbar": {
            "outlinewidth": 0,
            "ticks": ""
           }
          },
          "colorscale": {
           "diverging": [
            [
             0,
             "#8e0152"
            ],
            [
             0.1,
             "#c51b7d"
            ],
            [
             0.2,
             "#de77ae"
            ],
            [
             0.3,
             "#f1b6da"
            ],
            [
             0.4,
             "#fde0ef"
            ],
            [
             0.5,
             "#f7f7f7"
            ],
            [
             0.6,
             "#e6f5d0"
            ],
            [
             0.7,
             "#b8e186"
            ],
            [
             0.8,
             "#7fbc41"
            ],
            [
             0.9,
             "#4d9221"
            ],
            [
             1,
             "#276419"
            ]
           ],
           "sequential": [
            [
             0,
             "#0d0887"
            ],
            [
             0.1111111111111111,
             "#46039f"
            ],
            [
             0.2222222222222222,
             "#7201a8"
            ],
            [
             0.3333333333333333,
             "#9c179e"
            ],
            [
             0.4444444444444444,
             "#bd3786"
            ],
            [
             0.5555555555555556,
             "#d8576b"
            ],
            [
             0.6666666666666666,
             "#ed7953"
            ],
            [
             0.7777777777777778,
             "#fb9f3a"
            ],
            [
             0.8888888888888888,
             "#fdca26"
            ],
            [
             1,
             "#f0f921"
            ]
           ],
           "sequentialminus": [
            [
             0,
             "#0d0887"
            ],
            [
             0.1111111111111111,
             "#46039f"
            ],
            [
             0.2222222222222222,
             "#7201a8"
            ],
            [
             0.3333333333333333,
             "#9c179e"
            ],
            [
             0.4444444444444444,
             "#bd3786"
            ],
            [
             0.5555555555555556,
             "#d8576b"
            ],
            [
             0.6666666666666666,
             "#ed7953"
            ],
            [
             0.7777777777777778,
             "#fb9f3a"
            ],
            [
             0.8888888888888888,
             "#fdca26"
            ],
            [
             1,
             "#f0f921"
            ]
           ]
          },
          "colorway": [
           "#636efa",
           "#EF553B",
           "#00cc96",
           "#ab63fa",
           "#FFA15A",
           "#19d3f3",
           "#FF6692",
           "#B6E880",
           "#FF97FF",
           "#FECB52"
          ],
          "font": {
           "color": "#2a3f5f"
          },
          "geo": {
           "bgcolor": "white",
           "lakecolor": "white",
           "landcolor": "#E5ECF6",
           "showlakes": true,
           "showland": true,
           "subunitcolor": "white"
          },
          "hoverlabel": {
           "align": "left"
          },
          "hovermode": "closest",
          "mapbox": {
           "style": "light"
          },
          "paper_bgcolor": "white",
          "plot_bgcolor": "#E5ECF6",
          "polar": {
           "angularaxis": {
            "gridcolor": "white",
            "linecolor": "white",
            "ticks": ""
           },
           "bgcolor": "#E5ECF6",
           "radialaxis": {
            "gridcolor": "white",
            "linecolor": "white",
            "ticks": ""
           }
          },
          "scene": {
           "xaxis": {
            "backgroundcolor": "#E5ECF6",
            "gridcolor": "white",
            "gridwidth": 2,
            "linecolor": "white",
            "showbackground": true,
            "ticks": "",
            "zerolinecolor": "white"
           },
           "yaxis": {
            "backgroundcolor": "#E5ECF6",
            "gridcolor": "white",
            "gridwidth": 2,
            "linecolor": "white",
            "showbackground": true,
            "ticks": "",
            "zerolinecolor": "white"
           },
           "zaxis": {
            "backgroundcolor": "#E5ECF6",
            "gridcolor": "white",
            "gridwidth": 2,
            "linecolor": "white",
            "showbackground": true,
            "ticks": "",
            "zerolinecolor": "white"
           }
          },
          "shapedefaults": {
           "line": {
            "color": "#2a3f5f"
           }
          },
          "ternary": {
           "aaxis": {
            "gridcolor": "white",
            "linecolor": "white",
            "ticks": ""
           },
           "baxis": {
            "gridcolor": "white",
            "linecolor": "white",
            "ticks": ""
           },
           "bgcolor": "#E5ECF6",
           "caxis": {
            "gridcolor": "white",
            "linecolor": "white",
            "ticks": ""
           }
          },
          "title": {
           "x": 0.05
          },
          "xaxis": {
           "automargin": true,
           "gridcolor": "white",
           "linecolor": "white",
           "ticks": "",
           "title": {
            "standoff": 15
           },
           "zerolinecolor": "white",
           "zerolinewidth": 2
          },
          "yaxis": {
           "automargin": true,
           "gridcolor": "white",
           "linecolor": "white",
           "ticks": "",
           "title": {
            "standoff": 15
           },
           "zerolinecolor": "white",
           "zerolinewidth": 2
          }
         }
        },
        "title": {
         "text": "Latest Review Count by City"
        },
        "xaxis": {
         "anchor": "y",
         "autorange": true,
         "domain": [
          0,
          1
         ],
         "range": [
          -0.5,
          4.5
         ],
         "title": {
          "text": "City"
         },
         "type": "category"
        },
        "yaxis": {
         "anchor": "x",
         "autorange": true,
         "domain": [
          0,
          1
         ],
         "range": [
          0,
          700813.6842105263
         ],
         "title": {
          "text": "Review Count"
         },
         "type": "linear"
        }
       }
      },
      "image/png": "[encoded data removed]",
      "text/html": [
       "<div>                            <div id=\"7469a7bc-1895-4882-a2ff-a6345208d161\" class=\"plotly-graph-div\" style=\"height:525px; width:100%;\"></div>            <script type=\"text/javascript\">                require([\"plotly\"], function(Plotly) {                    window.PLOTLYENV=window.PLOTLYENV || {};                                    if (document.getElementById(\"7469a7bc-1895-4882-a2ff-a6345208d161\")) {                    Plotly.newPlot(                        \"7469a7bc-1895-4882-a2ff-a6345208d161\",                        [{\"alignmentgroup\":\"True\",\"hovertemplate\":\"City=%{x}<br>Review Count=%{y}<extra></extra>\",\"legendgroup\":\"\",\"marker\":{\"color\":\"#636efa\",\"pattern\":{\"shape\":\"\"}},\"name\":\"\",\"offsetgroup\":\"\",\"orientation\":\"v\",\"showlegend\":false,\"textposition\":\"auto\",\"x\":[\"Philadelphia\",\"New Orleans\",\"Nashville\",\"Tampa\",\"Indianapolis\"],\"xaxis\":\"x\",\"y\":[665773,466007,318578,293144,242033],\"yaxis\":\"y\",\"type\":\"bar\"}],                        {\"template\":{\"data\":{\"histogram2dcontour\":[{\"type\":\"histogram2dcontour\",\"colorbar\":{\"outlinewidth\":0,\"ticks\":\"\"},\"colorscale\":[[0.0,\"#0d0887\"],[0.1111111111111111,\"#46039f\"],[0.2222222222222222,\"#7201a8\"],[0.3333333333333333,\"#9c179e\"],[0.4444444444444444,\"#bd3786\"],[0.5555555555555556,\"#d8576b\"],[0.6666666666666666,\"#ed7953\"],[0.7777777777777778,\"#fb9f3a\"],[0.8888888888888888,\"#fdca26\"],[1.0,\"#f0f921\"]]}],\"choropleth\":[{\"type\":\"choropleth\",\"colorbar\":{\"outlinewidth\":0,\"ticks\":\"\"}}],\"histogram2d\":[{\"type\":\"histogram2d\",\"colorbar\":{\"outlinewidth\":0,\"ticks\":\"\"},\"colorscale\":[[0.0,\"#0d0887\"],[0.1111111111111111,\"#46039f\"],[0.2222222222222222,\"#7201a8\"],[0.3333333333333333,\"#9c179e\"],[0.4444444444444444,\"#bd3786\"],[0.5555555555555556,\"#d8576b\"],[0.6666666666666666,\"#ed7953\"],[0.7777777777777778,\"#fb9f3a\"],[0.8888888888888888,\"#fdca26\"],[1.0,\"#f0f921\"]]}],\"heatmap\":[{\"type\":\"heatmap\",\"colorbar\":{\"outlinewidth\":0,\"ticks\":\"\"},\"colorscale\":[[0.0,\"#0d0887\"],[0.1111111111111111,\"#46039f\"],[0.2222222222222222,\"#7201a8\"],[0.3333333333333333,\"#9c179e\"],[0.4444444444444444,\"#bd3786\"],[0.5555555555555556,\"#d8576b\"],[0.6666666666666666,\"#ed7953\"],[0.7777777777777778,\"#fb9f3a\"],[0.8888888888888888,\"#fdca26\"],[1.0,\"#f0f921\"]]}],\"heatmapgl\":[{\"type\":\"heatmapgl\",\"colorbar\":{\"outlinewidth\":0,\"ticks\":\"\"},\"colorscale\":[[0.0,\"#0d0887\"],[0.1111111111111111,\"#46039f\"],[0.2222222222222222,\"#7201a8\"],[0.3333333333333333,\"#9c179e\"],[0.4444444444444444,\"#bd3786\"],[0.5555555555555556,\"#d8576b\"],[0.6666666666666666,\"#ed7953\"],[0.7777777777777778,\"#fb9f3a\"],[0.8888888888888888,\"#fdca26\"],[1.0,\"#f0f921\"]]}],\"contourcarpet\":[{\"type\":\"contourcarpet\",\"colorbar\":{\"outlinewidth\":0,\"ticks\":\"\"}}],\"contour\":[{\"type\":\"contour\",\"colorbar\":{\"outlinewidth\":0,\"ticks\":\"\"},\"colorscale\":[[0.0,\"#0d0887\"],[0.1111111111111111,\"#46039f\"],[0.2222222222222222,\"#7201a8\"],[0.3333333333333333,\"#9c179e\"],[0.4444444444444444,\"#bd3786\"],[0.5555555555555556,\"#d8576b\"],[0.6666666666666666,\"#ed7953\"],[0.7777777777777778,\"#fb9f3a\"],[0.8888888888888888,\"#fdca26\"],[1.0,\"#f0f921\"]]}],\"surface\":[{\"type\":\"surface\",\"colorbar\":{\"outlinewidth\":0,\"ticks\":\"\"},\"colorscale\":[[0.0,\"#0d0887\"],[0.1111111111111111,\"#46039f\"],[0.2222222222222222,\"#7201a8\"],[0.3333333333333333,\"#9c179e\"],[0.4444444444444444,\"#bd3786\"],[0.5555555555555556,\"#d8576b\"],[0.6666666666666666,\"#ed7953\"],[0.7777777777777778,\"#fb9f3a\"],[0.8888888888888888,\"#fdca26\"],[1.0,\"#f0f921\"]]}],\"mesh3d\":[{\"type\":\"mesh3d\",\"colorbar\":{\"outlinewidth\":0,\"ticks\":\"\"}}],\"scatter\":[{\"fillpattern\":{\"fillmode\":\"overlay\",\"size\":10,\"solidity\":0.2},\"type\":\"scatter\"}],\"parcoords\":[{\"type\":\"parcoords\",\"line\":{\"colorbar\":{\"outlinewidth\":0,\"ticks\":\"\"}}}],\"scatterpolargl\":[{\"type\":\"scatterpolargl\",\"marker\":{\"colorbar\":{\"outlinewidth\":0,\"ticks\":\"\"}}}],\"bar\":[{\"error_x\":{\"color\":\"#2a3f5f\"},\"error_y\":{\"color\":\"#2a3f5f\"},\"marker\":{\"line\":{\"color\":\"#E5ECF6\",\"width\":0.5},\"pattern\":{\"fillmode\":\"overlay\",\"size\":10,\"solidity\":0.2}},\"type\":\"bar\"}],\"scattergeo\":[{\"type\":\"scattergeo\",\"marker\":{\"colorbar\":{\"outlinewidth\":0,\"ticks\":\"\"}}}],\"scatterpolar\":[{\"type\":\"scatterpolar\",\"marker\":{\"colorbar\":{\"outlinewidth\":0,\"ticks\":\"\"}}}],\"histogram\":[{\"marker\":{\"pattern\":{\"fillmode\":\"overlay\",\"size\":10,\"solidity\":0.2}},\"type\":\"histogram\"}],\"scattergl\":[{\"type\":\"scattergl\",\"marker\":{\"colorbar\":{\"outlinewidth\":0,\"ticks\":\"\"}}}],\"scatter3d\":[{\"type\":\"scatter3d\",\"line\":{\"colorbar\":{\"outlinewidth\":0,\"ticks\":\"\"}},\"marker\":{\"colorbar\":{\"outlinewidth\":0,\"ticks\":\"\"}}}],\"scattermapbox\":[{\"type\":\"scattermapbox\",\"marker\":{\"colorbar\":{\"outlinewidth\":0,\"ticks\":\"\"}}}],\"scatterternary\":[{\"type\":\"scatterternary\",\"marker\":{\"colorbar\":{\"outlinewidth\":0,\"ticks\":\"\"}}}],\"scattercarpet\":[{\"type\":\"scattercarpet\",\"marker\":{\"colorbar\":{\"outlinewidth\":0,\"ticks\":\"\"}}}],\"carpet\":[{\"aaxis\":{\"endlinecolor\":\"#2a3f5f\",\"gridcolor\":\"white\",\"linecolor\":\"white\",\"minorgridcolor\":\"white\",\"startlinecolor\":\"#2a3f5f\"},\"baxis\":{\"endlinecolor\":\"#2a3f5f\",\"gridcolor\":\"white\",\"linecolor\":\"white\",\"minorgridcolor\":\"white\",\"startlinecolor\":\"#2a3f5f\"},\"type\":\"carpet\"}],\"table\":[{\"cells\":{\"fill\":{\"color\":\"#EBF0F8\"},\"line\":{\"color\":\"white\"}},\"header\":{\"fill\":{\"color\":\"#C8D4E3\"},\"line\":{\"color\":\"white\"}},\"type\":\"table\"}],\"barpolar\":[{\"marker\":{\"line\":{\"color\":\"#E5ECF6\",\"width\":0.5},\"pattern\":{\"fillmode\":\"overlay\",\"size\":10,\"solidity\":0.2}},\"type\":\"barpolar\"}],\"pie\":[{\"automargin\":true,\"type\":\"pie\"}]},\"layout\":{\"autotypenumbers\":\"strict\",\"colorway\":[\"#636efa\",\"#EF553B\",\"#00cc96\",\"#ab63fa\",\"#FFA15A\",\"#19d3f3\",\"#FF6692\",\"#B6E880\",\"#FF97FF\",\"#FECB52\"],\"font\":{\"color\":\"#2a3f5f\"},\"hovermode\":\"closest\",\"hoverlabel\":{\"align\":\"left\"},\"paper_bgcolor\":\"white\",\"plot_bgcolor\":\"#E5ECF6\",\"polar\":{\"bgcolor\":\"#E5ECF6\",\"angularaxis\":{\"gridcolor\":\"white\",\"linecolor\":\"white\",\"ticks\":\"\"},\"radialaxis\":{\"gridcolor\":\"white\",\"linecolor\":\"white\",\"ticks\":\"\"}},\"ternary\":{\"bgcolor\":\"#E5ECF6\",\"aaxis\":{\"gridcolor\":\"white\",\"linecolor\":\"white\",\"ticks\":\"\"},\"baxis\":{\"gridcolor\":\"white\",\"linecolor\":\"white\",\"ticks\":\"\"},\"caxis\":{\"gridcolor\":\"white\",\"linecolor\":\"white\",\"ticks\":\"\"}},\"coloraxis\":{\"colorbar\":{\"outlinewidth\":0,\"ticks\":\"\"}},\"colorscale\":{\"sequential\":[[0.0,\"#0d0887\"],[0.1111111111111111,\"#46039f\"],[0.2222222222222222,\"#7201a8\"],[0.3333333333333333,\"#9c179e\"],[0.4444444444444444,\"#bd3786\"],[0.5555555555555556,\"#d8576b\"],[0.6666666666666666,\"#ed7953\"],[0.7777777777777778,\"#fb9f3a\"],[0.8888888888888888,\"#fdca26\"],[1.0,\"#f0f921\"]],\"sequentialminus\":[[0.0,\"#0d0887\"],[0.1111111111111111,\"#46039f\"],[0.2222222222222222,\"#7201a8\"],[0.3333333333333333,\"#9c179e\"],[0.4444444444444444,\"#bd3786\"],[0.5555555555555556,\"#d8576b\"],[0.6666666666666666,\"#ed7953\"],[0.7777777777777778,\"#fb9f3a\"],[0.8888888888888888,\"#fdca26\"],[1.0,\"#f0f921\"]],\"diverging\":[[0,\"#8e0152\"],[0.1,\"#c51b7d\"],[0.2,\"#de77ae\"],[0.3,\"#f1b6da\"],[0.4,\"#fde0ef\"],[0.5,\"#f7f7f7\"],[0.6,\"#e6f5d0\"],[0.7,\"#b8e186\"],[0.8,\"#7fbc41\"],[0.9,\"#4d9221\"],[1,\"#276419\"]]},\"xaxis\":{\"gridcolor\":\"white\",\"linecolor\":\"white\",\"ticks\":\"\",\"title\":{\"standoff\":15},\"zerolinecolor\":\"white\",\"automargin\":true,\"zerolinewidth\":2},\"yaxis\":{\"gridcolor\":\"white\",\"linecolor\":\"white\",\"ticks\":\"\",\"title\":{\"standoff\":15},\"zerolinecolor\":\"white\",\"automargin\":true,\"zerolinewidth\":2},\"scene\":{\"xaxis\":{\"backgroundcolor\":\"#E5ECF6\",\"gridcolor\":\"white\",\"linecolor\":\"white\",\"showbackground\":true,\"ticks\":\"\",\"zerolinecolor\":\"white\",\"gridwidth\":2},\"yaxis\":{\"backgroundcolor\":\"#E5ECF6\",\"gridcolor\":\"white\",\"linecolor\":\"white\",\"showbackground\":true,\"ticks\":\"\",\"zerolinecolor\":\"white\",\"gridwidth\":2},\"zaxis\":{\"backgroundcolor\":\"#E5ECF6\",\"gridcolor\":\"white\",\"linecolor\":\"white\",\"showbackground\":true,\"ticks\":\"\",\"zerolinecolor\":\"white\",\"gridwidth\":2}},\"shapedefaults\":{\"line\":{\"color\":\"#2a3f5f\"}},\"annotationdefaults\":{\"arrowcolor\":\"#2a3f5f\",\"arrowhead\":0,\"arrowwidth\":1},\"geo\":{\"bgcolor\":\"white\",\"landcolor\":\"#E5ECF6\",\"subunitcolor\":\"white\",\"showland\":true,\"showlakes\":true,\"lakecolor\":\"white\"},\"title\":{\"x\":0.05},\"mapbox\":{\"style\":\"light\"}}},\"xaxis\":{\"anchor\":\"y\",\"domain\":[0.0,1.0],\"title\":{\"text\":\"City\"}},\"yaxis\":{\"anchor\":\"x\",\"domain\":[0.0,1.0],\"title\":{\"text\":\"Review Count\"}},\"legend\":{\"tracegroupgap\":0},\"title\":{\"text\":\"Latest Review Count by City\"},\"barmode\":\"relative\"},                        {\"responsive\": true}                    ).then(function(){\n",
       "                            \n",
       "var gd = document.getElementById('7469a7bc-1895-4882-a2ff-a6345208d161');\n",
       "var x = new MutationObserver(function (mutations, observer) {{\n",
       "        var display = window.getComputedStyle(gd).display;\n",
       "        if (!display || display === 'none') {{\n",
       "            console.log([gd, 'removed!']);\n",
       "            Plotly.purge(gd);\n",
       "            observer.disconnect();\n",
       "        }}\n",
       "}});\n",
       "\n",
       "// Listen for the removal of the full notebook cells\n",
       "var notebookContainer = gd.closest('#notebook-container');\n",
       "if (notebookContainer) {{\n",
       "    x.observe(notebookContainer, {childList: true});\n",
       "}}\n",
       "\n",
       "// Listen for the clearing of the current output cell\n",
       "var outputEl = gd.closest('.output');\n",
       "if (outputEl) {{\n",
       "    x.observe(outputEl, {childList: true});\n",
       "}}\n",
       "\n",
       "                        })                };                });            </script>        </div>"
      ]
     },
     "metadata": {},
     "output_type": "display_data"
    }
   ],
   "source": [
    "import plotly.express as px\n",
    "\n",
    "fig = px.bar(review_count[0:5], x='city', y='business_id', \n",
    "             title=\"Latest Review Count by City\", \n",
    "             labels={\n",
    "                     \"business_id\": \"Review Count\",\n",
    "                     \"city\": \"City\"\n",
    "                 })\n",
    "fig.show()"
   ]
  },
  {
   "cell_type": "code",
   "execution_count": 30,
   "metadata": {},
   "outputs": [
    {
     "data": {
      "text/html": [
       "<div>\n",
       "<style scoped>\n",
       "    .dataframe tbody tr th:only-of-type {\n",
       "        vertical-align: middle;\n",
       "    }\n",
       "\n",
       "    .dataframe tbody tr th {\n",
       "        vertical-align: top;\n",
       "    }\n",
       "\n",
       "    .dataframe thead th {\n",
       "        text-align: right;\n",
       "    }\n",
       "</style>\n",
       "<table border=\"1\" class=\"dataframe\">\n",
       "  <thead>\n",
       "    <tr style=\"text-align: right;\">\n",
       "      <th></th>\n",
       "      <th>business_id</th>\n",
       "      <th>user_id</th>\n",
       "      <th>text</th>\n",
       "      <th>stars</th>\n",
       "      <th>date</th>\n",
       "      <th>city</th>\n",
       "      <th>res_avg_stars</th>\n",
       "      <th>review_count</th>\n",
       "    </tr>\n",
       "  </thead>\n",
       "  <tbody>\n",
       "    <tr>\n",
       "      <th>216</th>\n",
       "      <td>kxX2SOes4o-D3ZQBkiMRfA</td>\n",
       "      <td>_7bHUi9Uuf5__HHc_Q8guQ</td>\n",
       "      <td>Wow!  Yummy, different,  delicious.   Our favo...</td>\n",
       "      <td>5.0</td>\n",
       "      <td>2015-01-04 00:01:03</td>\n",
       "      <td>Philadelphia</td>\n",
       "      <td>4.0</td>\n",
       "      <td>181</td>\n",
       "    </tr>\n",
       "    <tr>\n",
       "      <th>217</th>\n",
       "      <td>kxX2SOes4o-D3ZQBkiMRfA</td>\n",
       "      <td>kSMOJwJXuEUqzfmuFncK4A</td>\n",
       "      <td>Dine-in gets 2 stars. Disappointing service &amp; ...</td>\n",
       "      <td>2.0</td>\n",
       "      <td>2014-07-13 17:25:47</td>\n",
       "      <td>Philadelphia</td>\n",
       "      <td>4.0</td>\n",
       "      <td>181</td>\n",
       "    </tr>\n",
       "    <tr>\n",
       "      <th>218</th>\n",
       "      <td>kxX2SOes4o-D3ZQBkiMRfA</td>\n",
       "      <td>Z-xgVb4nM42943m2wbBkFw</td>\n",
       "      <td>We've eaten here 3 times and it seems that eac...</td>\n",
       "      <td>5.0</td>\n",
       "      <td>2017-01-02 14:25:26</td>\n",
       "      <td>Philadelphia</td>\n",
       "      <td>4.0</td>\n",
       "      <td>181</td>\n",
       "    </tr>\n",
       "    <tr>\n",
       "      <th>219</th>\n",
       "      <td>kxX2SOes4o-D3ZQBkiMRfA</td>\n",
       "      <td>2SEoXb6r6hPKrl9V9VzBgA</td>\n",
       "      <td>Came to Philly for a family event but stayed a...</td>\n",
       "      <td>5.0</td>\n",
       "      <td>2015-07-28 17:15:20</td>\n",
       "      <td>Philadelphia</td>\n",
       "      <td>4.0</td>\n",
       "      <td>181</td>\n",
       "    </tr>\n",
       "    <tr>\n",
       "      <th>220</th>\n",
       "      <td>kxX2SOes4o-D3ZQBkiMRfA</td>\n",
       "      <td>toFm0jWZJKqsOmHE7kMbRA</td>\n",
       "      <td>A very neat little hole in the wall. Very clea...</td>\n",
       "      <td>5.0</td>\n",
       "      <td>2015-06-21 01:11:14</td>\n",
       "      <td>Philadelphia</td>\n",
       "      <td>4.0</td>\n",
       "      <td>181</td>\n",
       "    </tr>\n",
       "  </tbody>\n",
       "</table>\n",
       "</div>"
      ],
      "text/plain": [
       "                business_id                 user_id  \\\n",
       "216  kxX2SOes4o-D3ZQBkiMRfA  _7bHUi9Uuf5__HHc_Q8guQ   \n",
       "217  kxX2SOes4o-D3ZQBkiMRfA  kSMOJwJXuEUqzfmuFncK4A   \n",
       "218  kxX2SOes4o-D3ZQBkiMRfA  Z-xgVb4nM42943m2wbBkFw   \n",
       "219  kxX2SOes4o-D3ZQBkiMRfA  2SEoXb6r6hPKrl9V9VzBgA   \n",
       "220  kxX2SOes4o-D3ZQBkiMRfA  toFm0jWZJKqsOmHE7kMbRA   \n",
       "\n",
       "                                                  text  stars  \\\n",
       "216  Wow!  Yummy, different,  delicious.   Our favo...    5.0   \n",
       "217  Dine-in gets 2 stars. Disappointing service & ...    2.0   \n",
       "218  We've eaten here 3 times and it seems that eac...    5.0   \n",
       "219  Came to Philly for a family event but stayed a...    5.0   \n",
       "220  A very neat little hole in the wall. Very clea...    5.0   \n",
       "\n",
       "                    date          city  res_avg_stars  review_count  \n",
       "216  2015-01-04 00:01:03  Philadelphia            4.0           181  \n",
       "217  2014-07-13 17:25:47  Philadelphia            4.0           181  \n",
       "218  2017-01-02 14:25:26  Philadelphia            4.0           181  \n",
       "219  2015-07-28 17:15:20  Philadelphia            4.0           181  \n",
       "220  2015-06-21 01:11:14  Philadelphia            4.0           181  "
      ]
     },
     "execution_count": 30,
     "metadata": {},
     "output_type": "execute_result"
    }
   ],
   "source": [
    "philly_latest_df = latest_restaurant_df[latest_restaurant_df['city'] == 'Philadelphia']\n",
    "philly_latest_df.head()"
   ]
  },
  {
   "cell_type": "code",
   "execution_count": 31,
   "metadata": {},
   "outputs": [],
   "source": [
    "user_indexer = pd.factorize(philly_latest_df['user_id'])\n",
    "business_indexer = pd.factorize(philly_latest_df['business_id'])\n",
    "philly_latest_df['user_id_index'] = user_indexer[0]\n",
    "philly_latest_df['business_id_index'] = business_indexer[0]"
   ]
  },
  {
   "cell_type": "code",
   "execution_count": 32,
   "metadata": {},
   "outputs": [
    {
     "data": {
      "text/html": [
       "<div>\n",
       "<style scoped>\n",
       "    .dataframe tbody tr th:only-of-type {\n",
       "        vertical-align: middle;\n",
       "    }\n",
       "\n",
       "    .dataframe tbody tr th {\n",
       "        vertical-align: top;\n",
       "    }\n",
       "\n",
       "    .dataframe thead th {\n",
       "        text-align: right;\n",
       "    }\n",
       "</style>\n",
       "<table border=\"1\" class=\"dataframe\">\n",
       "  <thead>\n",
       "    <tr style=\"text-align: right;\">\n",
       "      <th></th>\n",
       "      <th>business_id</th>\n",
       "      <th>user_id</th>\n",
       "      <th>text</th>\n",
       "      <th>stars</th>\n",
       "      <th>date</th>\n",
       "      <th>city</th>\n",
       "      <th>res_avg_stars</th>\n",
       "      <th>review_count</th>\n",
       "      <th>user_id_index</th>\n",
       "      <th>business_id_index</th>\n",
       "    </tr>\n",
       "  </thead>\n",
       "  <tbody>\n",
       "    <tr>\n",
       "      <th>216</th>\n",
       "      <td>kxX2SOes4o-D3ZQBkiMRfA</td>\n",
       "      <td>_7bHUi9Uuf5__HHc_Q8guQ</td>\n",
       "      <td>Wow!  Yummy, different,  delicious.   Our favo...</td>\n",
       "      <td>5.0</td>\n",
       "      <td>2015-01-04 00:01:03</td>\n",
       "      <td>Philadelphia</td>\n",
       "      <td>4.0</td>\n",
       "      <td>181</td>\n",
       "      <td>0</td>\n",
       "      <td>0</td>\n",
       "    </tr>\n",
       "    <tr>\n",
       "      <th>217</th>\n",
       "      <td>kxX2SOes4o-D3ZQBkiMRfA</td>\n",
       "      <td>kSMOJwJXuEUqzfmuFncK4A</td>\n",
       "      <td>Dine-in gets 2 stars. Disappointing service &amp; ...</td>\n",
       "      <td>2.0</td>\n",
       "      <td>2014-07-13 17:25:47</td>\n",
       "      <td>Philadelphia</td>\n",
       "      <td>4.0</td>\n",
       "      <td>181</td>\n",
       "      <td>1</td>\n",
       "      <td>0</td>\n",
       "    </tr>\n",
       "    <tr>\n",
       "      <th>218</th>\n",
       "      <td>kxX2SOes4o-D3ZQBkiMRfA</td>\n",
       "      <td>Z-xgVb4nM42943m2wbBkFw</td>\n",
       "      <td>We've eaten here 3 times and it seems that eac...</td>\n",
       "      <td>5.0</td>\n",
       "      <td>2017-01-02 14:25:26</td>\n",
       "      <td>Philadelphia</td>\n",
       "      <td>4.0</td>\n",
       "      <td>181</td>\n",
       "      <td>2</td>\n",
       "      <td>0</td>\n",
       "    </tr>\n",
       "    <tr>\n",
       "      <th>219</th>\n",
       "      <td>kxX2SOes4o-D3ZQBkiMRfA</td>\n",
       "      <td>2SEoXb6r6hPKrl9V9VzBgA</td>\n",
       "      <td>Came to Philly for a family event but stayed a...</td>\n",
       "      <td>5.0</td>\n",
       "      <td>2015-07-28 17:15:20</td>\n",
       "      <td>Philadelphia</td>\n",
       "      <td>4.0</td>\n",
       "      <td>181</td>\n",
       "      <td>3</td>\n",
       "      <td>0</td>\n",
       "    </tr>\n",
       "    <tr>\n",
       "      <th>220</th>\n",
       "      <td>kxX2SOes4o-D3ZQBkiMRfA</td>\n",
       "      <td>toFm0jWZJKqsOmHE7kMbRA</td>\n",
       "      <td>A very neat little hole in the wall. Very clea...</td>\n",
       "      <td>5.0</td>\n",
       "      <td>2015-06-21 01:11:14</td>\n",
       "      <td>Philadelphia</td>\n",
       "      <td>4.0</td>\n",
       "      <td>181</td>\n",
       "      <td>4</td>\n",
       "      <td>0</td>\n",
       "    </tr>\n",
       "  </tbody>\n",
       "</table>\n",
       "</div>"
      ],
      "text/plain": [
       "                business_id                 user_id  \\\n",
       "216  kxX2SOes4o-D3ZQBkiMRfA  _7bHUi9Uuf5__HHc_Q8guQ   \n",
       "217  kxX2SOes4o-D3ZQBkiMRfA  kSMOJwJXuEUqzfmuFncK4A   \n",
       "218  kxX2SOes4o-D3ZQBkiMRfA  Z-xgVb4nM42943m2wbBkFw   \n",
       "219  kxX2SOes4o-D3ZQBkiMRfA  2SEoXb6r6hPKrl9V9VzBgA   \n",
       "220  kxX2SOes4o-D3ZQBkiMRfA  toFm0jWZJKqsOmHE7kMbRA   \n",
       "\n",
       "                                                  text  stars  \\\n",
       "216  Wow!  Yummy, different,  delicious.   Our favo...    5.0   \n",
       "217  Dine-in gets 2 stars. Disappointing service & ...    2.0   \n",
       "218  We've eaten here 3 times and it seems that eac...    5.0   \n",
       "219  Came to Philly for a family event but stayed a...    5.0   \n",
       "220  A very neat little hole in the wall. Very clea...    5.0   \n",
       "\n",
       "                    date          city  res_avg_stars  review_count  \\\n",
       "216  2015-01-04 00:01:03  Philadelphia            4.0           181   \n",
       "217  2014-07-13 17:25:47  Philadelphia            4.0           181   \n",
       "218  2017-01-02 14:25:26  Philadelphia            4.0           181   \n",
       "219  2015-07-28 17:15:20  Philadelphia            4.0           181   \n",
       "220  2015-06-21 01:11:14  Philadelphia            4.0           181   \n",
       "\n",
       "     user_id_index  business_id_index  \n",
       "216              0                  0  \n",
       "217              1                  0  \n",
       "218              2                  0  \n",
       "219              3                  0  \n",
       "220              4                  0  "
      ]
     },
     "execution_count": 32,
     "metadata": {},
     "output_type": "execute_result"
    }
   ],
   "source": [
    "philly_latest_df.head()"
   ]
  },
  {
   "cell_type": "code",
   "execution_count": 73,
   "metadata": {},
   "outputs": [],
   "source": [
    "kk_cnt = philly_latest_df.groupby(\"user_id_index\").agg({\"business_id_index\": \"count\"}).rename(columns={\"business_id_index\": \"business_rated\"}).reset_index()"
   ]
  },
  {
   "cell_type": "code",
   "execution_count": null,
   "metadata": {},
   "outputs": [],
   "source": [
    "kk_cnt = kk_cnt[kk_cnt[\"business_rated\"] >= 10] # get users who review 10 or more restaurants"
   ]
  },
  {
   "cell_type": "code",
   "execution_count": 47,
   "metadata": {},
   "outputs": [
    {
     "data": {
      "text/html": [
       "<div>\n",
       "<style scoped>\n",
       "    .dataframe tbody tr th:only-of-type {\n",
       "        vertical-align: middle;\n",
       "    }\n",
       "\n",
       "    .dataframe tbody tr th {\n",
       "        vertical-align: top;\n",
       "    }\n",
       "\n",
       "    .dataframe thead th {\n",
       "        text-align: right;\n",
       "    }\n",
       "</style>\n",
       "<table border=\"1\" class=\"dataframe\">\n",
       "  <thead>\n",
       "    <tr style=\"text-align: right;\">\n",
       "      <th></th>\n",
       "      <th>business_id</th>\n",
       "      <th>user_id</th>\n",
       "      <th>text</th>\n",
       "      <th>stars</th>\n",
       "      <th>date</th>\n",
       "      <th>city</th>\n",
       "      <th>res_avg_stars</th>\n",
       "      <th>review_count</th>\n",
       "      <th>user_id_index</th>\n",
       "      <th>business_id_index</th>\n",
       "    </tr>\n",
       "  </thead>\n",
       "  <tbody>\n",
       "    <tr>\n",
       "      <th>216</th>\n",
       "      <td>kxX2SOes4o-D3ZQBkiMRfA</td>\n",
       "      <td>_7bHUi9Uuf5__HHc_Q8guQ</td>\n",
       "      <td>Wow!  Yummy, different,  delicious.   Our favo...</td>\n",
       "      <td>5.0</td>\n",
       "      <td>2015-01-04 00:01:03</td>\n",
       "      <td>Philadelphia</td>\n",
       "      <td>4.0</td>\n",
       "      <td>181</td>\n",
       "      <td>0</td>\n",
       "      <td>0</td>\n",
       "    </tr>\n",
       "    <tr>\n",
       "      <th>217</th>\n",
       "      <td>kxX2SOes4o-D3ZQBkiMRfA</td>\n",
       "      <td>kSMOJwJXuEUqzfmuFncK4A</td>\n",
       "      <td>Dine-in gets 2 stars. Disappointing service &amp; ...</td>\n",
       "      <td>2.0</td>\n",
       "      <td>2014-07-13 17:25:47</td>\n",
       "      <td>Philadelphia</td>\n",
       "      <td>4.0</td>\n",
       "      <td>181</td>\n",
       "      <td>1</td>\n",
       "      <td>0</td>\n",
       "    </tr>\n",
       "    <tr>\n",
       "      <th>218</th>\n",
       "      <td>kxX2SOes4o-D3ZQBkiMRfA</td>\n",
       "      <td>Z-xgVb4nM42943m2wbBkFw</td>\n",
       "      <td>We've eaten here 3 times and it seems that eac...</td>\n",
       "      <td>5.0</td>\n",
       "      <td>2017-01-02 14:25:26</td>\n",
       "      <td>Philadelphia</td>\n",
       "      <td>4.0</td>\n",
       "      <td>181</td>\n",
       "      <td>2</td>\n",
       "      <td>0</td>\n",
       "    </tr>\n",
       "    <tr>\n",
       "      <th>219</th>\n",
       "      <td>kxX2SOes4o-D3ZQBkiMRfA</td>\n",
       "      <td>2SEoXb6r6hPKrl9V9VzBgA</td>\n",
       "      <td>Came to Philly for a family event but stayed a...</td>\n",
       "      <td>5.0</td>\n",
       "      <td>2015-07-28 17:15:20</td>\n",
       "      <td>Philadelphia</td>\n",
       "      <td>4.0</td>\n",
       "      <td>181</td>\n",
       "      <td>3</td>\n",
       "      <td>0</td>\n",
       "    </tr>\n",
       "    <tr>\n",
       "      <th>220</th>\n",
       "      <td>kxX2SOes4o-D3ZQBkiMRfA</td>\n",
       "      <td>toFm0jWZJKqsOmHE7kMbRA</td>\n",
       "      <td>A very neat little hole in the wall. Very clea...</td>\n",
       "      <td>5.0</td>\n",
       "      <td>2015-06-21 01:11:14</td>\n",
       "      <td>Philadelphia</td>\n",
       "      <td>4.0</td>\n",
       "      <td>181</td>\n",
       "      <td>4</td>\n",
       "      <td>0</td>\n",
       "    </tr>\n",
       "    <tr>\n",
       "      <th>...</th>\n",
       "      <td>...</td>\n",
       "      <td>...</td>\n",
       "      <td>...</td>\n",
       "      <td>...</td>\n",
       "      <td>...</td>\n",
       "      <td>...</td>\n",
       "      <td>...</td>\n",
       "      <td>...</td>\n",
       "      <td>...</td>\n",
       "      <td>...</td>\n",
       "    </tr>\n",
       "    <tr>\n",
       "      <th>4561548</th>\n",
       "      <td>BEuGzy5gxtGyOEk8iwDfTg</td>\n",
       "      <td>reFwg-F-MCoRS1pA2YexMg</td>\n",
       "      <td>Very friendly people making great food at a re...</td>\n",
       "      <td>5.0</td>\n",
       "      <td>2020-08-02 00:06:32</td>\n",
       "      <td>Philadelphia</td>\n",
       "      <td>5.0</td>\n",
       "      <td>5</td>\n",
       "      <td>160817</td>\n",
       "      <td>5853</td>\n",
       "    </tr>\n",
       "    <tr>\n",
       "      <th>4561549</th>\n",
       "      <td>BEuGzy5gxtGyOEk8iwDfTg</td>\n",
       "      <td>dh3UhfqpFSoCitl8WCrdfw</td>\n",
       "      <td>I've had these pictures to post this review fo...</td>\n",
       "      <td>5.0</td>\n",
       "      <td>2021-03-20 07:33:23</td>\n",
       "      <td>Philadelphia</td>\n",
       "      <td>5.0</td>\n",
       "      <td>5</td>\n",
       "      <td>209516</td>\n",
       "      <td>5853</td>\n",
       "    </tr>\n",
       "    <tr>\n",
       "      <th>4561550</th>\n",
       "      <td>BEuGzy5gxtGyOEk8iwDfTg</td>\n",
       "      <td>nXwPLYvazD_Nd2Sar3eSWA</td>\n",
       "      <td>Chicken stew is amazing, fresh juices are deli...</td>\n",
       "      <td>5.0</td>\n",
       "      <td>2020-11-20 06:39:38</td>\n",
       "      <td>Philadelphia</td>\n",
       "      <td>5.0</td>\n",
       "      <td>5</td>\n",
       "      <td>164226</td>\n",
       "      <td>5853</td>\n",
       "    </tr>\n",
       "    <tr>\n",
       "      <th>4561551</th>\n",
       "      <td>BEuGzy5gxtGyOEk8iwDfTg</td>\n",
       "      <td>MlOJCxiiB1TeZN-is2Q4SA</td>\n",
       "      <td>Doesn't look like much when you pass by but th...</td>\n",
       "      <td>5.0</td>\n",
       "      <td>2020-04-23 14:30:52</td>\n",
       "      <td>Philadelphia</td>\n",
       "      <td>5.0</td>\n",
       "      <td>5</td>\n",
       "      <td>16684</td>\n",
       "      <td>5853</td>\n",
       "    </tr>\n",
       "    <tr>\n",
       "      <th>4561552</th>\n",
       "      <td>BEuGzy5gxtGyOEk8iwDfTg</td>\n",
       "      <td>AKXL58tPS_jNdT5DH5NhhA</td>\n",
       "      <td>Need to check out this place if you are in the...</td>\n",
       "      <td>5.0</td>\n",
       "      <td>2020-11-23 23:10:04</td>\n",
       "      <td>Philadelphia</td>\n",
       "      <td>5.0</td>\n",
       "      <td>5</td>\n",
       "      <td>152170</td>\n",
       "      <td>5853</td>\n",
       "    </tr>\n",
       "  </tbody>\n",
       "</table>\n",
       "<p>665773 rows × 10 columns</p>\n",
       "</div>"
      ],
      "text/plain": [
       "                    business_id                 user_id  \\\n",
       "216      kxX2SOes4o-D3ZQBkiMRfA  _7bHUi9Uuf5__HHc_Q8guQ   \n",
       "217      kxX2SOes4o-D3ZQBkiMRfA  kSMOJwJXuEUqzfmuFncK4A   \n",
       "218      kxX2SOes4o-D3ZQBkiMRfA  Z-xgVb4nM42943m2wbBkFw   \n",
       "219      kxX2SOes4o-D3ZQBkiMRfA  2SEoXb6r6hPKrl9V9VzBgA   \n",
       "220      kxX2SOes4o-D3ZQBkiMRfA  toFm0jWZJKqsOmHE7kMbRA   \n",
       "...                         ...                     ...   \n",
       "4561548  BEuGzy5gxtGyOEk8iwDfTg  reFwg-F-MCoRS1pA2YexMg   \n",
       "4561549  BEuGzy5gxtGyOEk8iwDfTg  dh3UhfqpFSoCitl8WCrdfw   \n",
       "4561550  BEuGzy5gxtGyOEk8iwDfTg  nXwPLYvazD_Nd2Sar3eSWA   \n",
       "4561551  BEuGzy5gxtGyOEk8iwDfTg  MlOJCxiiB1TeZN-is2Q4SA   \n",
       "4561552  BEuGzy5gxtGyOEk8iwDfTg  AKXL58tPS_jNdT5DH5NhhA   \n",
       "\n",
       "                                                      text  stars  \\\n",
       "216      Wow!  Yummy, different,  delicious.   Our favo...    5.0   \n",
       "217      Dine-in gets 2 stars. Disappointing service & ...    2.0   \n",
       "218      We've eaten here 3 times and it seems that eac...    5.0   \n",
       "219      Came to Philly for a family event but stayed a...    5.0   \n",
       "220      A very neat little hole in the wall. Very clea...    5.0   \n",
       "...                                                    ...    ...   \n",
       "4561548  Very friendly people making great food at a re...    5.0   \n",
       "4561549  I've had these pictures to post this review fo...    5.0   \n",
       "4561550  Chicken stew is amazing, fresh juices are deli...    5.0   \n",
       "4561551  Doesn't look like much when you pass by but th...    5.0   \n",
       "4561552  Need to check out this place if you are in the...    5.0   \n",
       "\n",
       "                        date          city  res_avg_stars  review_count  \\\n",
       "216      2015-01-04 00:01:03  Philadelphia            4.0           181   \n",
       "217      2014-07-13 17:25:47  Philadelphia            4.0           181   \n",
       "218      2017-01-02 14:25:26  Philadelphia            4.0           181   \n",
       "219      2015-07-28 17:15:20  Philadelphia            4.0           181   \n",
       "220      2015-06-21 01:11:14  Philadelphia            4.0           181   \n",
       "...                      ...           ...            ...           ...   \n",
       "4561548  2020-08-02 00:06:32  Philadelphia            5.0             5   \n",
       "4561549  2021-03-20 07:33:23  Philadelphia            5.0             5   \n",
       "4561550  2020-11-20 06:39:38  Philadelphia            5.0             5   \n",
       "4561551  2020-04-23 14:30:52  Philadelphia            5.0             5   \n",
       "4561552  2020-11-23 23:10:04  Philadelphia            5.0             5   \n",
       "\n",
       "         user_id_index  business_id_index  \n",
       "216                  0                  0  \n",
       "217                  1                  0  \n",
       "218                  2                  0  \n",
       "219                  3                  0  \n",
       "220                  4                  0  \n",
       "...                ...                ...  \n",
       "4561548         160817               5853  \n",
       "4561549         209516               5853  \n",
       "4561550         164226               5853  \n",
       "4561551          16684               5853  \n",
       "4561552         152170               5853  \n",
       "\n",
       "[665773 rows x 10 columns]"
      ]
     },
     "execution_count": 47,
     "metadata": {},
     "output_type": "execute_result"
    }
   ],
   "source": [
    "philly_latest_df"
   ]
  },
  {
   "cell_type": "code",
   "execution_count": 51,
   "metadata": {},
   "outputs": [],
   "source": [
    "filtered_restaurant_df = pd.merge(philly_latest_df, kk_cnt, on=\"user_id_index\", how=\"inner\").drop(['business_rated','city'],axis=1)"
   ]
  },
  {
   "cell_type": "code",
   "execution_count": 52,
   "metadata": {},
   "outputs": [
    {
     "data": {
      "text/html": [
       "<div>\n",
       "<style scoped>\n",
       "    .dataframe tbody tr th:only-of-type {\n",
       "        vertical-align: middle;\n",
       "    }\n",
       "\n",
       "    .dataframe tbody tr th {\n",
       "        vertical-align: top;\n",
       "    }\n",
       "\n",
       "    .dataframe thead th {\n",
       "        text-align: right;\n",
       "    }\n",
       "</style>\n",
       "<table border=\"1\" class=\"dataframe\">\n",
       "  <thead>\n",
       "    <tr style=\"text-align: right;\">\n",
       "      <th></th>\n",
       "      <th>business_id</th>\n",
       "      <th>user_id</th>\n",
       "      <th>text</th>\n",
       "      <th>stars</th>\n",
       "      <th>date</th>\n",
       "      <th>res_avg_stars</th>\n",
       "      <th>review_count</th>\n",
       "      <th>user_id_index</th>\n",
       "      <th>business_id_index</th>\n",
       "    </tr>\n",
       "  </thead>\n",
       "  <tbody>\n",
       "    <tr>\n",
       "      <th>0</th>\n",
       "      <td>kxX2SOes4o-D3ZQBkiMRfA</td>\n",
       "      <td>DVMopL-MS3_03qMW0Dxa1A</td>\n",
       "      <td>I've been here several times. The price is rea...</td>\n",
       "      <td>4.0</td>\n",
       "      <td>2014-11-13 20:50:21</td>\n",
       "      <td>4.0</td>\n",
       "      <td>181</td>\n",
       "      <td>6</td>\n",
       "      <td>0</td>\n",
       "    </tr>\n",
       "    <tr>\n",
       "      <th>1</th>\n",
       "      <td>AmI3LIUNwsi4023hOVGu3w</td>\n",
       "      <td>DVMopL-MS3_03qMW0Dxa1A</td>\n",
       "      <td>The wife and I have never been to Moshulu, tho...</td>\n",
       "      <td>4.0</td>\n",
       "      <td>2017-09-26 18:16:06</td>\n",
       "      <td>3.5</td>\n",
       "      <td>874</td>\n",
       "      <td>6</td>\n",
       "      <td>1352</td>\n",
       "    </tr>\n",
       "    <tr>\n",
       "      <th>2</th>\n",
       "      <td>wGnBaLvgH3hrq6C3AnO5Mg</td>\n",
       "      <td>DVMopL-MS3_03qMW0Dxa1A</td>\n",
       "      <td>Since the very first time I discovered and vis...</td>\n",
       "      <td>4.0</td>\n",
       "      <td>2015-06-14 00:04:04</td>\n",
       "      <td>3.5</td>\n",
       "      <td>93</td>\n",
       "      <td>6</td>\n",
       "      <td>2081</td>\n",
       "    </tr>\n",
       "    <tr>\n",
       "      <th>3</th>\n",
       "      <td>fYSaoJMOj7-r4XWEuYjRxw</td>\n",
       "      <td>DVMopL-MS3_03qMW0Dxa1A</td>\n",
       "      <td>This is SPECIFICALLY for the Afro-Beat Sunday,...</td>\n",
       "      <td>3.0</td>\n",
       "      <td>2016-07-11 13:58:52</td>\n",
       "      <td>2.5</td>\n",
       "      <td>215</td>\n",
       "      <td>6</td>\n",
       "      <td>2518</td>\n",
       "    </tr>\n",
       "    <tr>\n",
       "      <th>4</th>\n",
       "      <td>mXNKjKkq7Zk6-39_t4c5OA</td>\n",
       "      <td>DVMopL-MS3_03qMW0Dxa1A</td>\n",
       "      <td>After being very unwelcome at Zarafshon (see m...</td>\n",
       "      <td>3.0</td>\n",
       "      <td>2014-11-11 04:11:31</td>\n",
       "      <td>4.0</td>\n",
       "      <td>9</td>\n",
       "      <td>6</td>\n",
       "      <td>2787</td>\n",
       "    </tr>\n",
       "    <tr>\n",
       "      <th>...</th>\n",
       "      <td>...</td>\n",
       "      <td>...</td>\n",
       "      <td>...</td>\n",
       "      <td>...</td>\n",
       "      <td>...</td>\n",
       "      <td>...</td>\n",
       "      <td>...</td>\n",
       "      <td>...</td>\n",
       "      <td>...</td>\n",
       "    </tr>\n",
       "    <tr>\n",
       "      <th>294998</th>\n",
       "      <td>gu7iuTiVwyPAI_S2fwVi9Q</td>\n",
       "      <td>ZNbF8pW5CfbEhNfgs2nsUA</td>\n",
       "      <td>This is probably my favorite Chinese spot in t...</td>\n",
       "      <td>4.0</td>\n",
       "      <td>2018-01-06 14:52:54</td>\n",
       "      <td>3.5</td>\n",
       "      <td>41</td>\n",
       "      <td>152325</td>\n",
       "      <td>4885</td>\n",
       "    </tr>\n",
       "    <tr>\n",
       "      <th>294999</th>\n",
       "      <td>FUMp1kmo3ix5BstG-OW-8Q</td>\n",
       "      <td>ZNbF8pW5CfbEhNfgs2nsUA</td>\n",
       "      <td>We came here after leaving Leda &amp; the Swan aro...</td>\n",
       "      <td>4.0</td>\n",
       "      <td>2020-03-31 07:03:09</td>\n",
       "      <td>4.0</td>\n",
       "      <td>23</td>\n",
       "      <td>152325</td>\n",
       "      <td>5246</td>\n",
       "    </tr>\n",
       "    <tr>\n",
       "      <th>295000</th>\n",
       "      <td>_7V_3b2dSSVIXqVMJwGmoQ</td>\n",
       "      <td>ZNbF8pW5CfbEhNfgs2nsUA</td>\n",
       "      <td>Ugh I have trust issues when it comes to Chine...</td>\n",
       "      <td>2.0</td>\n",
       "      <td>2020-03-31 06:43:10</td>\n",
       "      <td>3.0</td>\n",
       "      <td>57</td>\n",
       "      <td>152325</td>\n",
       "      <td>5325</td>\n",
       "    </tr>\n",
       "    <tr>\n",
       "      <th>295001</th>\n",
       "      <td>oynwmvwg1CUYCk0-VpZlAg</td>\n",
       "      <td>ZNbF8pW5CfbEhNfgs2nsUA</td>\n",
       "      <td>My first visit today. Absolutely love this pla...</td>\n",
       "      <td>5.0</td>\n",
       "      <td>2019-03-09 19:40:17</td>\n",
       "      <td>4.5</td>\n",
       "      <td>42</td>\n",
       "      <td>152325</td>\n",
       "      <td>5752</td>\n",
       "    </tr>\n",
       "    <tr>\n",
       "      <th>295002</th>\n",
       "      <td>krvkW_BDCdhDi1II9KZcMw</td>\n",
       "      <td>ZNbF8pW5CfbEhNfgs2nsUA</td>\n",
       "      <td>One word: EW! Ordered off ubereats and quite p...</td>\n",
       "      <td>1.0</td>\n",
       "      <td>2019-06-29 15:12:18</td>\n",
       "      <td>2.0</td>\n",
       "      <td>23</td>\n",
       "      <td>152325</td>\n",
       "      <td>5763</td>\n",
       "    </tr>\n",
       "  </tbody>\n",
       "</table>\n",
       "<p>295003 rows × 9 columns</p>\n",
       "</div>"
      ],
      "text/plain": [
       "                   business_id                 user_id  \\\n",
       "0       kxX2SOes4o-D3ZQBkiMRfA  DVMopL-MS3_03qMW0Dxa1A   \n",
       "1       AmI3LIUNwsi4023hOVGu3w  DVMopL-MS3_03qMW0Dxa1A   \n",
       "2       wGnBaLvgH3hrq6C3AnO5Mg  DVMopL-MS3_03qMW0Dxa1A   \n",
       "3       fYSaoJMOj7-r4XWEuYjRxw  DVMopL-MS3_03qMW0Dxa1A   \n",
       "4       mXNKjKkq7Zk6-39_t4c5OA  DVMopL-MS3_03qMW0Dxa1A   \n",
       "...                        ...                     ...   \n",
       "294998  gu7iuTiVwyPAI_S2fwVi9Q  ZNbF8pW5CfbEhNfgs2nsUA   \n",
       "294999  FUMp1kmo3ix5BstG-OW-8Q  ZNbF8pW5CfbEhNfgs2nsUA   \n",
       "295000  _7V_3b2dSSVIXqVMJwGmoQ  ZNbF8pW5CfbEhNfgs2nsUA   \n",
       "295001  oynwmvwg1CUYCk0-VpZlAg  ZNbF8pW5CfbEhNfgs2nsUA   \n",
       "295002  krvkW_BDCdhDi1II9KZcMw  ZNbF8pW5CfbEhNfgs2nsUA   \n",
       "\n",
       "                                                     text  stars  \\\n",
       "0       I've been here several times. The price is rea...    4.0   \n",
       "1       The wife and I have never been to Moshulu, tho...    4.0   \n",
       "2       Since the very first time I discovered and vis...    4.0   \n",
       "3       This is SPECIFICALLY for the Afro-Beat Sunday,...    3.0   \n",
       "4       After being very unwelcome at Zarafshon (see m...    3.0   \n",
       "...                                                   ...    ...   \n",
       "294998  This is probably my favorite Chinese spot in t...    4.0   \n",
       "294999  We came here after leaving Leda & the Swan aro...    4.0   \n",
       "295000  Ugh I have trust issues when it comes to Chine...    2.0   \n",
       "295001  My first visit today. Absolutely love this pla...    5.0   \n",
       "295002  One word: EW! Ordered off ubereats and quite p...    1.0   \n",
       "\n",
       "                       date  res_avg_stars  review_count  user_id_index  \\\n",
       "0       2014-11-13 20:50:21            4.0           181              6   \n",
       "1       2017-09-26 18:16:06            3.5           874              6   \n",
       "2       2015-06-14 00:04:04            3.5            93              6   \n",
       "3       2016-07-11 13:58:52            2.5           215              6   \n",
       "4       2014-11-11 04:11:31            4.0             9              6   \n",
       "...                     ...            ...           ...            ...   \n",
       "294998  2018-01-06 14:52:54            3.5            41         152325   \n",
       "294999  2020-03-31 07:03:09            4.0            23         152325   \n",
       "295000  2020-03-31 06:43:10            3.0            57         152325   \n",
       "295001  2019-03-09 19:40:17            4.5            42         152325   \n",
       "295002  2019-06-29 15:12:18            2.0            23         152325   \n",
       "\n",
       "        business_id_index  \n",
       "0                       0  \n",
       "1                    1352  \n",
       "2                    2081  \n",
       "3                    2518  \n",
       "4                    2787  \n",
       "...                   ...  \n",
       "294998               4885  \n",
       "294999               5246  \n",
       "295000               5325  \n",
       "295001               5752  \n",
       "295002               5763  \n",
       "\n",
       "[295003 rows x 9 columns]"
      ]
     },
     "execution_count": 52,
     "metadata": {},
     "output_type": "execute_result"
    }
   ],
   "source": [
    "filtered_restaurant_df"
   ]
  },
  {
   "cell_type": "code",
   "execution_count": 53,
   "metadata": {},
   "outputs": [],
   "source": [
    "filtered_restaurant_df.to_csv('master_filtered_philly_295k.csv', index=False) #save as a 'checkpoint'"
   ]
  },
  {
   "cell_type": "markdown",
   "metadata": {},
   "source": [
    "## Applying Sentiment Analysis to Text Reviews"
   ]
  },
  {
   "cell_type": "code",
   "execution_count": 54,
   "metadata": {},
   "outputs": [],
   "source": [
    "df_test = pd.read_csv('master_filtered_philly_295k.csv')"
   ]
  },
  {
   "cell_type": "code",
   "execution_count": 55,
   "metadata": {},
   "outputs": [
    {
     "data": {
      "text/html": [
       "<div>\n",
       "<style scoped>\n",
       "    .dataframe tbody tr th:only-of-type {\n",
       "        vertical-align: middle;\n",
       "    }\n",
       "\n",
       "    .dataframe tbody tr th {\n",
       "        vertical-align: top;\n",
       "    }\n",
       "\n",
       "    .dataframe thead th {\n",
       "        text-align: right;\n",
       "    }\n",
       "</style>\n",
       "<table border=\"1\" class=\"dataframe\">\n",
       "  <thead>\n",
       "    <tr style=\"text-align: right;\">\n",
       "      <th></th>\n",
       "      <th>stars</th>\n",
       "      <th>res_avg_stars</th>\n",
       "      <th>review_count</th>\n",
       "      <th>user_id_index</th>\n",
       "      <th>business_id_index</th>\n",
       "    </tr>\n",
       "  </thead>\n",
       "  <tbody>\n",
       "    <tr>\n",
       "      <th>count</th>\n",
       "      <td>295003.000000</td>\n",
       "      <td>295003.000000</td>\n",
       "      <td>295003.000000</td>\n",
       "      <td>295003.000000</td>\n",
       "      <td>295003.000000</td>\n",
       "    </tr>\n",
       "    <tr>\n",
       "      <th>mean</th>\n",
       "      <td>3.837927</td>\n",
       "      <td>3.820259</td>\n",
       "      <td>552.003932</td>\n",
       "      <td>15052.051833</td>\n",
       "      <td>2719.734942</td>\n",
       "    </tr>\n",
       "    <tr>\n",
       "      <th>std</th>\n",
       "      <td>1.122135</td>\n",
       "      <td>0.541520</td>\n",
       "      <td>740.659309</td>\n",
       "      <td>17030.846714</td>\n",
       "      <td>1695.512807</td>\n",
       "    </tr>\n",
       "    <tr>\n",
       "      <th>min</th>\n",
       "      <td>1.000000</td>\n",
       "      <td>1.000000</td>\n",
       "      <td>5.000000</td>\n",
       "      <td>6.000000</td>\n",
       "      <td>0.000000</td>\n",
       "    </tr>\n",
       "    <tr>\n",
       "      <th>25%</th>\n",
       "      <td>3.000000</td>\n",
       "      <td>3.500000</td>\n",
       "      <td>132.000000</td>\n",
       "      <td>3009.000000</td>\n",
       "      <td>1247.000000</td>\n",
       "    </tr>\n",
       "    <tr>\n",
       "      <th>50%</th>\n",
       "      <td>4.000000</td>\n",
       "      <td>4.000000</td>\n",
       "      <td>312.000000</td>\n",
       "      <td>9174.000000</td>\n",
       "      <td>2611.000000</td>\n",
       "    </tr>\n",
       "    <tr>\n",
       "      <th>75%</th>\n",
       "      <td>5.000000</td>\n",
       "      <td>4.000000</td>\n",
       "      <td>657.000000</td>\n",
       "      <td>21152.000000</td>\n",
       "      <td>4153.000000</td>\n",
       "    </tr>\n",
       "    <tr>\n",
       "      <th>max</th>\n",
       "      <td>5.000000</td>\n",
       "      <td>5.000000</td>\n",
       "      <td>5721.000000</td>\n",
       "      <td>152325.000000</td>\n",
       "      <td>5852.000000</td>\n",
       "    </tr>\n",
       "  </tbody>\n",
       "</table>\n",
       "</div>"
      ],
      "text/plain": [
       "               stars  res_avg_stars   review_count  user_id_index  \\\n",
       "count  295003.000000  295003.000000  295003.000000  295003.000000   \n",
       "mean        3.837927       3.820259     552.003932   15052.051833   \n",
       "std         1.122135       0.541520     740.659309   17030.846714   \n",
       "min         1.000000       1.000000       5.000000       6.000000   \n",
       "25%         3.000000       3.500000     132.000000    3009.000000   \n",
       "50%         4.000000       4.000000     312.000000    9174.000000   \n",
       "75%         5.000000       4.000000     657.000000   21152.000000   \n",
       "max         5.000000       5.000000    5721.000000  152325.000000   \n",
       "\n",
       "       business_id_index  \n",
       "count      295003.000000  \n",
       "mean         2719.734942  \n",
       "std          1695.512807  \n",
       "min             0.000000  \n",
       "25%          1247.000000  \n",
       "50%          2611.000000  \n",
       "75%          4153.000000  \n",
       "max          5852.000000  "
      ]
     },
     "execution_count": 55,
     "metadata": {},
     "output_type": "execute_result"
    }
   ],
   "source": [
    "df_test.describe()"
   ]
  },
  {
   "cell_type": "code",
   "execution_count": 56,
   "metadata": {},
   "outputs": [
    {
     "data": {
      "text/html": [
       "<div>\n",
       "<style scoped>\n",
       "    .dataframe tbody tr th:only-of-type {\n",
       "        vertical-align: middle;\n",
       "    }\n",
       "\n",
       "    .dataframe tbody tr th {\n",
       "        vertical-align: top;\n",
       "    }\n",
       "\n",
       "    .dataframe thead th {\n",
       "        text-align: right;\n",
       "    }\n",
       "</style>\n",
       "<table border=\"1\" class=\"dataframe\">\n",
       "  <thead>\n",
       "    <tr style=\"text-align: right;\">\n",
       "      <th></th>\n",
       "      <th>business_id</th>\n",
       "      <th>user_id</th>\n",
       "      <th>text</th>\n",
       "      <th>stars</th>\n",
       "      <th>date</th>\n",
       "      <th>res_avg_stars</th>\n",
       "      <th>review_count</th>\n",
       "      <th>user_id_index</th>\n",
       "      <th>business_id_index</th>\n",
       "      <th>user_id_cat</th>\n",
       "      <th>business_id_cat</th>\n",
       "    </tr>\n",
       "  </thead>\n",
       "  <tbody>\n",
       "    <tr>\n",
       "      <th>0</th>\n",
       "      <td>kxX2SOes4o-D3ZQBkiMRfA</td>\n",
       "      <td>DVMopL-MS3_03qMW0Dxa1A</td>\n",
       "      <td>I've been here several times. The price is rea...</td>\n",
       "      <td>4.0</td>\n",
       "      <td>2014-11-13 20:50:21</td>\n",
       "      <td>4.0</td>\n",
       "      <td>181</td>\n",
       "      <td>6</td>\n",
       "      <td>0</td>\n",
       "      <td>0</td>\n",
       "      <td>0</td>\n",
       "    </tr>\n",
       "    <tr>\n",
       "      <th>1</th>\n",
       "      <td>AmI3LIUNwsi4023hOVGu3w</td>\n",
       "      <td>DVMopL-MS3_03qMW0Dxa1A</td>\n",
       "      <td>The wife and I have never been to Moshulu, tho...</td>\n",
       "      <td>4.0</td>\n",
       "      <td>2017-09-26 18:16:06</td>\n",
       "      <td>3.5</td>\n",
       "      <td>874</td>\n",
       "      <td>6</td>\n",
       "      <td>1352</td>\n",
       "      <td>0</td>\n",
       "      <td>1342</td>\n",
       "    </tr>\n",
       "    <tr>\n",
       "      <th>2</th>\n",
       "      <td>wGnBaLvgH3hrq6C3AnO5Mg</td>\n",
       "      <td>DVMopL-MS3_03qMW0Dxa1A</td>\n",
       "      <td>Since the very first time I discovered and vis...</td>\n",
       "      <td>4.0</td>\n",
       "      <td>2015-06-14 00:04:04</td>\n",
       "      <td>3.5</td>\n",
       "      <td>93</td>\n",
       "      <td>6</td>\n",
       "      <td>2081</td>\n",
       "      <td>0</td>\n",
       "      <td>2065</td>\n",
       "    </tr>\n",
       "    <tr>\n",
       "      <th>3</th>\n",
       "      <td>fYSaoJMOj7-r4XWEuYjRxw</td>\n",
       "      <td>DVMopL-MS3_03qMW0Dxa1A</td>\n",
       "      <td>This is SPECIFICALLY for the Afro-Beat Sunday,...</td>\n",
       "      <td>3.0</td>\n",
       "      <td>2016-07-11 13:58:52</td>\n",
       "      <td>2.5</td>\n",
       "      <td>215</td>\n",
       "      <td>6</td>\n",
       "      <td>2518</td>\n",
       "      <td>0</td>\n",
       "      <td>2500</td>\n",
       "    </tr>\n",
       "    <tr>\n",
       "      <th>4</th>\n",
       "      <td>mXNKjKkq7Zk6-39_t4c5OA</td>\n",
       "      <td>DVMopL-MS3_03qMW0Dxa1A</td>\n",
       "      <td>After being very unwelcome at Zarafshon (see m...</td>\n",
       "      <td>3.0</td>\n",
       "      <td>2014-11-11 04:11:31</td>\n",
       "      <td>4.0</td>\n",
       "      <td>9</td>\n",
       "      <td>6</td>\n",
       "      <td>2787</td>\n",
       "      <td>0</td>\n",
       "      <td>2765</td>\n",
       "    </tr>\n",
       "  </tbody>\n",
       "</table>\n",
       "</div>"
      ],
      "text/plain": [
       "              business_id                 user_id  \\\n",
       "0  kxX2SOes4o-D3ZQBkiMRfA  DVMopL-MS3_03qMW0Dxa1A   \n",
       "1  AmI3LIUNwsi4023hOVGu3w  DVMopL-MS3_03qMW0Dxa1A   \n",
       "2  wGnBaLvgH3hrq6C3AnO5Mg  DVMopL-MS3_03qMW0Dxa1A   \n",
       "3  fYSaoJMOj7-r4XWEuYjRxw  DVMopL-MS3_03qMW0Dxa1A   \n",
       "4  mXNKjKkq7Zk6-39_t4c5OA  DVMopL-MS3_03qMW0Dxa1A   \n",
       "\n",
       "                                                text  stars  \\\n",
       "0  I've been here several times. The price is rea...    4.0   \n",
       "1  The wife and I have never been to Moshulu, tho...    4.0   \n",
       "2  Since the very first time I discovered and vis...    4.0   \n",
       "3  This is SPECIFICALLY for the Afro-Beat Sunday,...    3.0   \n",
       "4  After being very unwelcome at Zarafshon (see m...    3.0   \n",
       "\n",
       "                  date  res_avg_stars  review_count user_id_index  \\\n",
       "0  2014-11-13 20:50:21            4.0           181             6   \n",
       "1  2017-09-26 18:16:06            3.5           874             6   \n",
       "2  2015-06-14 00:04:04            3.5            93             6   \n",
       "3  2016-07-11 13:58:52            2.5           215             6   \n",
       "4  2014-11-11 04:11:31            4.0             9             6   \n",
       "\n",
       "  business_id_index  user_id_cat  business_id_cat  \n",
       "0                 0            0                0  \n",
       "1              1352            0             1342  \n",
       "2              2081            0             2065  \n",
       "3              2518            0             2500  \n",
       "4              2787            0             2765  "
      ]
     },
     "execution_count": 56,
     "metadata": {},
     "output_type": "execute_result"
    }
   ],
   "source": [
    "# Create a numeric user_id and business_id column\n",
    "df_test['user_id_index'] = df_test['user_id_index'].astype(\"category\")\n",
    "df_test['business_id_index'] = df_test['business_id_index'].astype(\"category\")\n",
    "df_test['user_id_cat'] = df_test['user_id_index'].cat.codes\n",
    "df_test['business_id_cat'] = df_test['business_id_index'].cat.codes\n",
    "\n",
    "df_test.head()"
   ]
  },
  {
   "cell_type": "code",
   "execution_count": 57,
   "metadata": {},
   "outputs": [
    {
     "name": "stderr",
     "output_type": "stream",
     "text": [
      "[nltk_data] Downloading package vader_lexicon to\n",
      "[nltk_data]     /home/azureuser/nltk_data...\n",
      "[nltk_data]   Package vader_lexicon is already up-to-date!\n"
     ]
    },
    {
     "name": "stdout",
     "output_type": "stream",
     "text": [
      "CPU times: user 7min 17s, sys: 56.5 ms, total: 7min 17s\n",
      "Wall time: 7min 18s\n"
     ]
    }
   ],
   "source": [
    "%%time\n",
    "\n",
    "import nltk\n",
    "from nltk.sentiment.vader import SentimentIntensityAnalyzer\n",
    "\n",
    "nltk.download('vader_lexicon')\n",
    "analyzer = SentimentIntensityAnalyzer()\n",
    "\n",
    "def nltk_prediction(text):\n",
    "    sentiment_scores = analyzer.polarity_scores(text)\n",
    "    compound_score = sentiment_scores['compound']\n",
    "    return compound_score\n",
    "\n",
    "df_with_nltk_sent = df_test.copy()\n",
    "df_with_nltk_sent['nltk_sentiment'] = df_test[\"text\"].apply(nltk_prediction)"
   ]
  },
  {
   "cell_type": "code",
   "execution_count": 58,
   "metadata": {},
   "outputs": [
    {
     "data": {
      "text/html": [
       "<div>\n",
       "<style scoped>\n",
       "    .dataframe tbody tr th:only-of-type {\n",
       "        vertical-align: middle;\n",
       "    }\n",
       "\n",
       "    .dataframe tbody tr th {\n",
       "        vertical-align: top;\n",
       "    }\n",
       "\n",
       "    .dataframe thead th {\n",
       "        text-align: right;\n",
       "    }\n",
       "</style>\n",
       "<table border=\"1\" class=\"dataframe\">\n",
       "  <thead>\n",
       "    <tr style=\"text-align: right;\">\n",
       "      <th></th>\n",
       "      <th>nltk_sentiment</th>\n",
       "    </tr>\n",
       "  </thead>\n",
       "  <tbody>\n",
       "    <tr>\n",
       "      <th>count</th>\n",
       "      <td>295003.000000</td>\n",
       "    </tr>\n",
       "    <tr>\n",
       "      <th>mean</th>\n",
       "      <td>0.763480</td>\n",
       "    </tr>\n",
       "    <tr>\n",
       "      <th>std</th>\n",
       "      <td>0.437067</td>\n",
       "    </tr>\n",
       "    <tr>\n",
       "      <th>min</th>\n",
       "      <td>-0.998200</td>\n",
       "    </tr>\n",
       "    <tr>\n",
       "      <th>25%</th>\n",
       "      <td>0.810800</td>\n",
       "    </tr>\n",
       "    <tr>\n",
       "      <th>50%</th>\n",
       "      <td>0.945800</td>\n",
       "    </tr>\n",
       "    <tr>\n",
       "      <th>75%</th>\n",
       "      <td>0.981700</td>\n",
       "    </tr>\n",
       "    <tr>\n",
       "      <th>max</th>\n",
       "      <td>0.999900</td>\n",
       "    </tr>\n",
       "  </tbody>\n",
       "</table>\n",
       "</div>"
      ],
      "text/plain": [
       "       nltk_sentiment\n",
       "count   295003.000000\n",
       "mean         0.763480\n",
       "std          0.437067\n",
       "min         -0.998200\n",
       "25%          0.810800\n",
       "50%          0.945800\n",
       "75%          0.981700\n",
       "max          0.999900"
      ]
     },
     "execution_count": 58,
     "metadata": {},
     "output_type": "execute_result"
    }
   ],
   "source": [
    "df_with_nltk_sent['nltk_sentiment'].to_frame().describe()"
   ]
  },
  {
   "cell_type": "code",
   "execution_count": 60,
   "metadata": {},
   "outputs": [
    {
     "data": {
      "text/plain": [
       "<AxesSubplot: xlabel='nltk_sentiment', ylabel='Count'>"
      ]
     },
     "execution_count": 60,
     "metadata": {},
     "output_type": "execute_result"
    },
    {
     "data": {
      "image/png": "[encoded data removed]",
      "text/plain": [
       "<Figure size 640x480 with 1 Axes>"
      ]
     },
     "metadata": {},
     "output_type": "display_data"
    }
   ],
   "source": [
    "sns.histplot(df_with_nltk_sent['nltk_sentiment']) #histogram of ratings from vader text"
   ]
  },
  {
   "cell_type": "code",
   "execution_count": 68,
   "metadata": {},
   "outputs": [
    {
     "data": {
      "text/plain": [
       "<AxesSubplot: xlabel='stars', ylabel='Count'>"
      ]
     },
     "execution_count": 68,
     "metadata": {},
     "output_type": "execute_result"
    },
    {
     "data": {
      "image/png": "[encoded data removed]",
      "text/plain": [
       "<Figure size 640x480 with 1 Axes>"
      ]
     },
     "metadata": {},
     "output_type": "display_data"
    }
   ],
   "source": [
    "sns.histplot(df_with_nltk_sent['stars']) #histogram of actual ratings"
   ]
  },
  {
   "cell_type": "code",
   "execution_count": 69,
   "metadata": {},
   "outputs": [],
   "source": [
    "output_df = df_with_nltk_sent.copy()"
   ]
  },
  {
   "cell_type": "code",
   "execution_count": 70,
   "metadata": {},
   "outputs": [],
   "source": [
    "output_df.drop(columns=['user_id_index','business_id_index'], inplace=True)"
   ]
  },
  {
   "cell_type": "code",
   "execution_count": 71,
   "metadata": {},
   "outputs": [
    {
     "data": {
      "text/html": [
       "<div>\n",
       "<style scoped>\n",
       "    .dataframe tbody tr th:only-of-type {\n",
       "        vertical-align: middle;\n",
       "    }\n",
       "\n",
       "    .dataframe tbody tr th {\n",
       "        vertical-align: top;\n",
       "    }\n",
       "\n",
       "    .dataframe thead th {\n",
       "        text-align: right;\n",
       "    }\n",
       "</style>\n",
       "<table border=\"1\" class=\"dataframe\">\n",
       "  <thead>\n",
       "    <tr style=\"text-align: right;\">\n",
       "      <th></th>\n",
       "      <th>business_id</th>\n",
       "      <th>user_id</th>\n",
       "      <th>text</th>\n",
       "      <th>stars</th>\n",
       "      <th>date</th>\n",
       "      <th>res_avg_stars</th>\n",
       "      <th>review_count</th>\n",
       "      <th>user_id_cat</th>\n",
       "      <th>business_id_cat</th>\n",
       "      <th>nltk_sentiment</th>\n",
       "    </tr>\n",
       "  </thead>\n",
       "  <tbody>\n",
       "    <tr>\n",
       "      <th>0</th>\n",
       "      <td>kxX2SOes4o-D3ZQBkiMRfA</td>\n",
       "      <td>DVMopL-MS3_03qMW0Dxa1A</td>\n",
       "      <td>I've been here several times. The price is rea...</td>\n",
       "      <td>4.0</td>\n",
       "      <td>2014-11-13 20:50:21</td>\n",
       "      <td>4.0</td>\n",
       "      <td>181</td>\n",
       "      <td>0</td>\n",
       "      <td>0</td>\n",
       "      <td>0.9451</td>\n",
       "    </tr>\n",
       "    <tr>\n",
       "      <th>1</th>\n",
       "      <td>AmI3LIUNwsi4023hOVGu3w</td>\n",
       "      <td>DVMopL-MS3_03qMW0Dxa1A</td>\n",
       "      <td>The wife and I have never been to Moshulu, tho...</td>\n",
       "      <td>4.0</td>\n",
       "      <td>2017-09-26 18:16:06</td>\n",
       "      <td>3.5</td>\n",
       "      <td>874</td>\n",
       "      <td>0</td>\n",
       "      <td>1342</td>\n",
       "      <td>0.9845</td>\n",
       "    </tr>\n",
       "    <tr>\n",
       "      <th>2</th>\n",
       "      <td>wGnBaLvgH3hrq6C3AnO5Mg</td>\n",
       "      <td>DVMopL-MS3_03qMW0Dxa1A</td>\n",
       "      <td>Since the very first time I discovered and vis...</td>\n",
       "      <td>4.0</td>\n",
       "      <td>2015-06-14 00:04:04</td>\n",
       "      <td>3.5</td>\n",
       "      <td>93</td>\n",
       "      <td>0</td>\n",
       "      <td>2065</td>\n",
       "      <td>0.9798</td>\n",
       "    </tr>\n",
       "    <tr>\n",
       "      <th>3</th>\n",
       "      <td>fYSaoJMOj7-r4XWEuYjRxw</td>\n",
       "      <td>DVMopL-MS3_03qMW0Dxa1A</td>\n",
       "      <td>This is SPECIFICALLY for the Afro-Beat Sunday,...</td>\n",
       "      <td>3.0</td>\n",
       "      <td>2016-07-11 13:58:52</td>\n",
       "      <td>2.5</td>\n",
       "      <td>215</td>\n",
       "      <td>0</td>\n",
       "      <td>2500</td>\n",
       "      <td>0.6562</td>\n",
       "    </tr>\n",
       "    <tr>\n",
       "      <th>4</th>\n",
       "      <td>mXNKjKkq7Zk6-39_t4c5OA</td>\n",
       "      <td>DVMopL-MS3_03qMW0Dxa1A</td>\n",
       "      <td>After being very unwelcome at Zarafshon (see m...</td>\n",
       "      <td>3.0</td>\n",
       "      <td>2014-11-11 04:11:31</td>\n",
       "      <td>4.0</td>\n",
       "      <td>9</td>\n",
       "      <td>0</td>\n",
       "      <td>2765</td>\n",
       "      <td>0.9929</td>\n",
       "    </tr>\n",
       "  </tbody>\n",
       "</table>\n",
       "</div>"
      ],
      "text/plain": [
       "              business_id                 user_id  \\\n",
       "0  kxX2SOes4o-D3ZQBkiMRfA  DVMopL-MS3_03qMW0Dxa1A   \n",
       "1  AmI3LIUNwsi4023hOVGu3w  DVMopL-MS3_03qMW0Dxa1A   \n",
       "2  wGnBaLvgH3hrq6C3AnO5Mg  DVMopL-MS3_03qMW0Dxa1A   \n",
       "3  fYSaoJMOj7-r4XWEuYjRxw  DVMopL-MS3_03qMW0Dxa1A   \n",
       "4  mXNKjKkq7Zk6-39_t4c5OA  DVMopL-MS3_03qMW0Dxa1A   \n",
       "\n",
       "                                                text  stars  \\\n",
       "0  I've been here several times. The price is rea...    4.0   \n",
       "1  The wife and I have never been to Moshulu, tho...    4.0   \n",
       "2  Since the very first time I discovered and vis...    4.0   \n",
       "3  This is SPECIFICALLY for the Afro-Beat Sunday,...    3.0   \n",
       "4  After being very unwelcome at Zarafshon (see m...    3.0   \n",
       "\n",
       "                  date  res_avg_stars  review_count  user_id_cat  \\\n",
       "0  2014-11-13 20:50:21            4.0           181            0   \n",
       "1  2017-09-26 18:16:06            3.5           874            0   \n",
       "2  2015-06-14 00:04:04            3.5            93            0   \n",
       "3  2016-07-11 13:58:52            2.5           215            0   \n",
       "4  2014-11-11 04:11:31            4.0             9            0   \n",
       "\n",
       "   business_id_cat  nltk_sentiment  \n",
       "0                0          0.9451  \n",
       "1             1342          0.9845  \n",
       "2             2065          0.9798  \n",
       "3             2500          0.6562  \n",
       "4             2765          0.9929  "
      ]
     },
     "execution_count": 71,
     "metadata": {},
     "output_type": "execute_result"
    }
   ],
   "source": [
    "output_df.head()"
   ]
  },
  {
   "cell_type": "code",
   "execution_count": 72,
   "metadata": {},
   "outputs": [],
   "source": [
    "output_df.to_csv('vader_sent_filtered_philly_295k.csv', index=False)"
   ]
  }
 ],
 "metadata": {
  "colab": {
   "provenance": []
  },
  "kernelspec": {
   "display_name": "Python 3",
   "language": "python",
   "name": "python3"
  },
  "language_info": {
   "codemirror_mode": {
    "name": "ipython",
    "version": 3
   },
   "file_extension": ".py",
   "mimetype": "text/x-python",
   "name": "python",
   "nbconvert_exporter": "python",
   "pygments_lexer": "ipython3",
   "version": "3.10.1"
  }
 },
 "nbformat": 4,
 "nbformat_minor": 4
}
