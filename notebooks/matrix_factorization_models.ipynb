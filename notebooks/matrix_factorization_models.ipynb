{
 "cells": [
  {
   "attachments": {},
   "cell_type": "markdown",
   "id": "984aa12b",
   "metadata": {},
   "source": [
    "## Import Clean Data "
   ]
  },
  {
   "cell_type": "code",
   "execution_count": 1,
   "id": "664aa81f",
   "metadata": {},
   "outputs": [
    {
     "data": {
      "text/html": [
       "<div>\n",
       "<style scoped>\n",
       "    .dataframe tbody tr th:only-of-type {\n",
       "        vertical-align: middle;\n",
       "    }\n",
       "\n",
       "    .dataframe tbody tr th {\n",
       "        vertical-align: top;\n",
       "    }\n",
       "\n",
       "    .dataframe thead th {\n",
       "        text-align: right;\n",
       "    }\n",
       "</style>\n",
       "<table border=\"1\" class=\"dataframe\">\n",
       "  <thead>\n",
       "    <tr style=\"text-align: right;\">\n",
       "      <th></th>\n",
       "      <th>user_id</th>\n",
       "      <th>business_id</th>\n",
       "      <th>stars</th>\n",
       "    </tr>\n",
       "  </thead>\n",
       "  <tbody>\n",
       "    <tr>\n",
       "      <th>0</th>\n",
       "      <td>0</td>\n",
       "      <td>0</td>\n",
       "      <td>4.0</td>\n",
       "    </tr>\n",
       "    <tr>\n",
       "      <th>1</th>\n",
       "      <td>0</td>\n",
       "      <td>1342</td>\n",
       "      <td>4.0</td>\n",
       "    </tr>\n",
       "    <tr>\n",
       "      <th>2</th>\n",
       "      <td>0</td>\n",
       "      <td>2065</td>\n",
       "      <td>4.0</td>\n",
       "    </tr>\n",
       "    <tr>\n",
       "      <th>3</th>\n",
       "      <td>0</td>\n",
       "      <td>2500</td>\n",
       "      <td>3.0</td>\n",
       "    </tr>\n",
       "    <tr>\n",
       "      <th>4</th>\n",
       "      <td>0</td>\n",
       "      <td>2765</td>\n",
       "      <td>3.0</td>\n",
       "    </tr>\n",
       "    <tr>\n",
       "      <th>...</th>\n",
       "      <td>...</td>\n",
       "      <td>...</td>\n",
       "      <td>...</td>\n",
       "    </tr>\n",
       "    <tr>\n",
       "      <th>294998</th>\n",
       "      <td>10726</td>\n",
       "      <td>4837</td>\n",
       "      <td>4.0</td>\n",
       "    </tr>\n",
       "    <tr>\n",
       "      <th>294999</th>\n",
       "      <td>10726</td>\n",
       "      <td>5192</td>\n",
       "      <td>4.0</td>\n",
       "    </tr>\n",
       "    <tr>\n",
       "      <th>295000</th>\n",
       "      <td>10726</td>\n",
       "      <td>5271</td>\n",
       "      <td>2.0</td>\n",
       "    </tr>\n",
       "    <tr>\n",
       "      <th>295001</th>\n",
       "      <td>10726</td>\n",
       "      <td>5696</td>\n",
       "      <td>5.0</td>\n",
       "    </tr>\n",
       "    <tr>\n",
       "      <th>295002</th>\n",
       "      <td>10726</td>\n",
       "      <td>5707</td>\n",
       "      <td>1.0</td>\n",
       "    </tr>\n",
       "  </tbody>\n",
       "</table>\n",
       "<p>295003 rows × 3 columns</p>\n",
       "</div>"
      ],
      "text/plain": [
       "        user_id  business_id  stars\n",
       "0             0            0    4.0\n",
       "1             0         1342    4.0\n",
       "2             0         2065    4.0\n",
       "3             0         2500    3.0\n",
       "4             0         2765    3.0\n",
       "...         ...          ...    ...\n",
       "294998    10726         4837    4.0\n",
       "294999    10726         5192    4.0\n",
       "295000    10726         5271    2.0\n",
       "295001    10726         5696    5.0\n",
       "295002    10726         5707    1.0\n",
       "\n",
       "[295003 rows x 3 columns]"
      ]
     },
     "execution_count": 1,
     "metadata": {},
     "output_type": "execute_result"
    }
   ],
   "source": [
    "import pandas as pd\n",
    "\n",
    "df = pd.read_csv(\"../csvs/vader_sent_filtered_philly_295k.csv\")\n",
    "df.drop(columns=[\"business_id\", \"user_id\", \"text\", \"date\", \"res_avg_stars\", \"review_count\", \"nltk_sentiment\"], inplace=True)\n",
    "df.rename(columns={'user_id_cat' : 'user_id', 'business_id_cat' : 'business_id'}, inplace=True)\n",
    "df = df[[\"user_id\", \"business_id\", \"stars\"]]\n",
    "df"
   ]
  },
  {
   "attachments": {},
   "cell_type": "markdown",
   "id": "54719895",
   "metadata": {},
   "source": [
    "## Transform Data to Surpise Format"
   ]
  },
  {
   "cell_type": "code",
   "execution_count": 2,
   "id": "25f43e5f",
   "metadata": {},
   "outputs": [],
   "source": [
    "from surprise import Dataset, Reader, accuracy\n",
    "\n",
    "reader = Reader(rating_scale=(1, 5))\n",
    "data = Dataset.load_from_df(df, reader)"
   ]
  },
  {
   "attachments": {},
   "cell_type": "markdown",
   "id": "729f9dae",
   "metadata": {},
   "source": [
    "## Train Test Split"
   ]
  },
  {
   "cell_type": "code",
   "execution_count": 3,
   "id": "2a991751",
   "metadata": {},
   "outputs": [],
   "source": [
    "import random\n",
    "from surprise.model_selection import GridSearchCV\n",
    "from surprise import BaselineOnly, SVD, SVDpp, NMF\n",
    "\n",
    "# Load the full dataset.\n",
    "raw_ratings = data.raw_ratings\n",
    "\n",
    "# shuffle ratings if you want\n",
    "random.Random(123).shuffle(raw_ratings)\n",
    "\n",
    "# A = 80% of the data, B = 20% of the data\n",
    "threshold = int(0.8 * len(raw_ratings))\n",
    "A_raw_ratings = raw_ratings[:threshold]\n",
    "B_raw_ratings = raw_ratings[threshold:]\n",
    "\n",
    "data.raw_ratings = A_raw_ratings  # data is now the set A\n",
    "\n",
    "trainset = data.build_full_trainset() # trainset is now the set A as well\n",
    "testset = data.construct_testset(B_raw_ratings)  # testset is now the set B"
   ]
  },
  {
   "attachments": {},
   "cell_type": "markdown",
   "id": "57e7124c",
   "metadata": {},
   "source": [
    "## Baseline Method"
   ]
  },
  {
   "cell_type": "code",
   "execution_count": null,
   "id": "d69b8537",
   "metadata": {},
   "outputs": [
    {
     "name": "stdout",
     "output_type": "stream",
     "text": [
      "Estimating biases using als...\n",
      "RMSE: 0.9929\n",
      "0.9929128713663561\n",
      "MAE:  0.7768\n",
      "0.7767876435061934\n"
     ]
    }
   ],
   "source": [
    "# Baseline Method\n",
    "baseline_algo = BaselineOnly()\n",
    "baseline_algo.fit(trainset)\n",
    "\n",
    "predictions = baseline_algo.test(testset)\n",
    "print(accuracy.rmse(predictions))\n",
    "print(accuracy.mae(predictions))"
   ]
  },
  {
   "attachments": {},
   "cell_type": "markdown",
   "id": "0c9ae303",
   "metadata": {},
   "source": [
    "## SVD"
   ]
  },
  {
   "cell_type": "code",
   "execution_count": 5,
   "id": "f3b4eab0",
   "metadata": {},
   "outputs": [
    {
     "name": "stdout",
     "output_type": "stream",
     "text": [
      "RMSE: 1.0035\n",
      "1.0034551795033047\n",
      "MAE:  0.7821\n",
      "0.7820812535597816\n"
     ]
    }
   ],
   "source": [
    "# SVD\n",
    "svd_algo = SVD()\n",
    "svd_algo.fit(trainset)\n",
    "\n",
    "predictions = svd_algo.test(testset)\n",
    "print(accuracy.rmse(predictions))\n",
    "print(accuracy.mae(predictions))"
   ]
  },
  {
   "attachments": {},
   "cell_type": "markdown",
   "id": "86bdafbc",
   "metadata": {},
   "source": [
    "## SVD++"
   ]
  },
  {
   "cell_type": "code",
   "execution_count": 6,
   "id": "7d792d00",
   "metadata": {},
   "outputs": [
    {
     "name": "stdout",
     "output_type": "stream",
     "text": [
      "RMSE: 1.0025\n",
      "1.0025187370458302\n",
      "MAE:  0.7794\n",
      "0.7793710998772974\n"
     ]
    }
   ],
   "source": [
    "# SVD++\n",
    "svdpp_algo = SVDpp()\n",
    "svdpp_algo.fit(trainset)\n",
    "\n",
    "predictions = svdpp_algo.test(testset)\n",
    "print(accuracy.rmse(predictions))\n",
    "print(accuracy.mae(predictions))"
   ]
  },
  {
   "attachments": {},
   "cell_type": "markdown",
   "id": "0fd87601",
   "metadata": {},
   "source": [
    "## NMF "
   ]
  },
  {
   "cell_type": "code",
   "execution_count": 7,
   "id": "1c8f50b3",
   "metadata": {},
   "outputs": [
    {
     "name": "stdout",
     "output_type": "stream",
     "text": [
      "RMSE: 1.0710\n",
      "1.0710177133767183\n",
      "MAE:  0.8270\n",
      "0.8270302647139903\n"
     ]
    }
   ],
   "source": [
    "# NMF\n",
    "nmf_algo = NMF()\n",
    "nmf_algo.fit(trainset)\n",
    "\n",
    "predictions = nmf_algo.test(testset)\n",
    "print(accuracy.rmse(predictions))\n",
    "print(accuracy.mae(predictions))"
   ]
  },
  {
   "attachments": {},
   "cell_type": "markdown",
   "id": "bde91e60",
   "metadata": {},
   "source": [
    "## Hyperparameter Tuning"
   ]
  },
  {
   "attachments": {},
   "cell_type": "markdown",
   "id": "2a339bed",
   "metadata": {},
   "source": [
    "## SVD Tuning"
   ]
  },
  {
   "cell_type": "code",
   "execution_count": 8,
   "id": "453c45f6",
   "metadata": {},
   "outputs": [
    {
     "name": "stdout",
     "output_type": "stream",
     "text": [
      "Grid Search...\n",
      "{'n_factors': 20, 'n_epochs': 60, 'lr_all': 0.002, 'reg_all': 0.1}\n",
      "Prediction accuracy on B, RMSE: 0.9900\n",
      "0.9899871088094258\n",
      "MAE:  0.7714\n",
      "0.7713744753661325\n"
     ]
    }
   ],
   "source": [
    "# Tuning hyperparameters for SVD\n",
    "\n",
    "# Select your best algo with grid search.\n",
    "print(\"Grid Search...\")\n",
    "param_grid_1 = {\"n_factors\": [20, 50, 80, 100], \"n_epochs\": [40, 60, 80, 100], \"lr_all\": [0.002, 0.005, 0.007], \"reg_all\": [0.02, 0.05, 0.1]}\n",
    "grid_search_1 = GridSearchCV(SVD, param_grid_1, measures=[\"rmse\"], cv=5, n_jobs=-1)\n",
    "grid_search_1.fit(data)\n",
    "\n",
    "algo1 = grid_search_1.best_estimator[\"rmse\"]\n",
    "\n",
    "# Best params of SVD\n",
    "print(grid_search_1.best_params[\"rmse\"])\n",
    "\n",
    "# Fit the best model with training data\n",
    "algo1.fit(trainset)\n",
    "predictions = algo1.test(testset)\n",
    "print(\"Prediction accuracy on B,\", end=\" \")\n",
    "print(accuracy.rmse(predictions))\n",
    "print(accuracy.mae(predictions))"
   ]
  },
  {
   "attachments": {},
   "cell_type": "markdown",
   "id": "bb22ceb7",
   "metadata": {},
   "source": [
    "## SVD++ Tuning"
   ]
  },
  {
   "cell_type": "code",
   "execution_count": 9,
   "id": "3f63f42a",
   "metadata": {},
   "outputs": [
    {
     "name": "stdout",
     "output_type": "stream",
     "text": [
      "Grid Search...\n"
     ]
    },
    {
     "name": "stderr",
     "output_type": "stream",
     "text": [
      "/anaconda/envs/jupyter_env/lib/python3.8/site-packages/joblib/externals/loky/process_executor.py:700: UserWarning: A worker stopped while some jobs were given to the executor. This can be caused by a too short worker timeout or by a memory leak.\n",
      "  warnings.warn(\n"
     ]
    },
    {
     "name": "stdout",
     "output_type": "stream",
     "text": [
      "{'n_factors': 20, 'n_epochs': 60, 'lr_all': 0.002, 'reg_all': 0.1}\n",
      "Prediction accuracy on B, RMSE: 0.9901\n",
      "0.990103180179642\n",
      "MAE:  0.7717\n",
      "0.7717101192882551\n"
     ]
    }
   ],
   "source": [
    "# Tuning hyperparameters for SVDpp\n",
    "\n",
    "# Select your best algo with grid search.\n",
    "print(\"Grid Search...\")\n",
    "param_grid_2 = {\"n_factors\": [20, 50, 80], \"n_epochs\": [20, 40, 60], \"lr_all\": [0.002, 0.005, 0.007], \"reg_all\": [0.02, 0.05, 0.1]}\n",
    "grid_search_2 = GridSearchCV(SVDpp, param_grid_2, measures=[\"rmse\"], cv=5, n_jobs=-1)\n",
    "grid_search_2.fit(data)\n",
    "\n",
    "algo2 = grid_search_2.best_estimator[\"rmse\"]\n",
    "\n",
    "# Best params of SVD++\n",
    "print(grid_search_2.best_params[\"rmse\"])\n",
    "\n",
    "# Fit the best model with training data\n",
    "algo2.fit(trainset)\n",
    "predictions = algo2.test(testset)\n",
    "print(\"Prediction accuracy on B,\", end=\" \")\n",
    "print(accuracy.rmse(predictions))\n",
    "print(accuracy.mae(predictions))"
   ]
  },
  {
   "attachments": {},
   "cell_type": "markdown",
   "id": "fdc886cd",
   "metadata": {},
   "source": [
    "## NMF Tuning"
   ]
  },
  {
   "cell_type": "code",
   "execution_count": 10,
   "id": "7b1861a9",
   "metadata": {},
   "outputs": [
    {
     "name": "stdout",
     "output_type": "stream",
     "text": [
      "Grid Search...\n",
      "{'n_factors': 50, 'n_epochs': 30, 'reg_qi': 0.15, 'reg_pu': 0.15}\n",
      "Prediction accuracy on B, RMSE: 1.0082\n",
      "1.0082434354159713\n",
      "MAE:  0.7717\n",
      "0.7717046027186136\n"
     ]
    }
   ],
   "source": [
    "# Tuning hyperparameters for NMF\n",
    "\n",
    "# Select your best algo with grid search.\n",
    "print(\"Grid Search...\")\n",
    "param_grid_3 = {\"n_factors\": [15, 30, 50], \"n_epochs\": [30, 50, 80, 100], \"reg_qi\": [0.06, 0.1, 0.15], \"reg_pu\": [0.06, 0.1, 0.15]}\n",
    "grid_search_3 = GridSearchCV(NMF, param_grid_3, measures=[\"rmse\"], cv=5, n_jobs=-1)\n",
    "grid_search_3.fit(data)\n",
    "\n",
    "algo3 = grid_search_3.best_estimator[\"rmse\"]\n",
    "\n",
    "# Best params of NMF\n",
    "print(grid_search_3.best_params[\"rmse\"])\n",
    "\n",
    "# Fit the best model with training data\n",
    "algo3.fit(trainset)\n",
    "predictions = algo3.test(testset)\n",
    "print(\"Prediction accuracy on B,\", end=\" \")\n",
    "print(accuracy.rmse(predictions))\n",
    "print(accuracy.mae(predictions))"
   ]
  }
 ],
 "metadata": {
  "kernelspec": {
   "display_name": "Python 3.8 - Jupyter",
   "language": "python",
   "name": "python38-jupyter"
  },
  "language_info": {
   "codemirror_mode": {
    "name": "ipython",
    "version": 3
   },
   "file_extension": ".py",
   "mimetype": "text/x-python",
   "name": "python",
   "nbconvert_exporter": "python",
   "pygments_lexer": "ipython3",
   "version": "3.8.5"
  }
 },
 "nbformat": 4,
 "nbformat_minor": 5
}
