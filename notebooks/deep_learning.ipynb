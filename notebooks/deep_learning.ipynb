{
 "cells": [
  {
   "cell_type": "markdown",
   "metadata": {},
   "source": [
    "## Importing Relevant Libraries"
   ]
  },
  {
   "cell_type": "code",
   "execution_count": 1,
   "metadata": {
    "gather": {
     "logged": 1680904819494
    }
   },
   "outputs": [],
   "source": [
    "import pandas as pd\n",
    "import numpy as np\n",
    "\n",
    "import matplotlib.pyplot as plt\n",
    "import seaborn as sns\n",
    "from torchviz import make_dot\n",
    "import torch.nn as nn\n",
    "\n",
    "from sklearn.metrics import mean_squared_error, mean_absolute_error\n",
    "from sklearn.model_selection import StratifiedKFold, train_test_split\n",
    "\n",
    "from fastai.collab import *\n",
    "from fastai.tabular import *\n",
    "from fastai.tabular.all import *\n",
    "from fastai.callback import *\n",
    "\n",
    "from bayes_opt import BayesianOptimization\n",
    "\n",
    "import warnings\n",
    "warnings.filterwarnings(\"ignore\")"
   ]
  },
  {
   "cell_type": "code",
   "execution_count": 2,
   "metadata": {},
   "outputs": [
    {
     "name": "stdout",
     "output_type": "stream",
     "text": [
      "PyTorch version: 1.12.0+cu102\n",
      "**********\n",
      "CUDNN version: 7605\n",
      "Available GPU devices: 1\n",
      "Device Name: Tesla K80\n",
      "Pandas version: 2.0.0\n",
      "fastai version: 2.7.12\n"
     ]
    }
   ],
   "source": [
    "import torch\n",
    "import fastai\n",
    "\n",
    "print(f'PyTorch version: {torch.__version__}')\n",
    "print('*'*10)\n",
    "\n",
    "print(f'CUDNN version: {torch.backends.cudnn.version()}')\n",
    "print(f'Available GPU devices: {torch.cuda.device_count()}')\n",
    "print(f'Device Name: {torch.cuda.get_device_name()}')\n",
    "\n",
    "print(f'Pandas version: {pd.__version__}')\n",
    "print(f'fastai version: {fastai.__version__}')"
   ]
  },
  {
   "cell_type": "code",
   "execution_count": 3,
   "metadata": {},
   "outputs": [],
   "source": [
    "device = torch.device('cuda' if torch.cuda.is_available() else 'cpu')"
   ]
  },
  {
   "cell_type": "code",
   "execution_count": 4,
   "metadata": {},
   "outputs": [
    {
     "data": {
      "text/plain": [
       "device(type='cuda')"
      ]
     },
     "execution_count": 4,
     "metadata": {},
     "output_type": "execute_result"
    }
   ],
   "source": [
    "device"
   ]
  },
  {
   "cell_type": "code",
   "execution_count": 6,
   "metadata": {},
   "outputs": [
    {
     "name": "stdout",
     "output_type": "stream",
     "text": [
      "CPU times: user 2.24 s, sys: 307 ms, total: 2.55 s\n",
      "Wall time: 6.82 s\n"
     ]
    }
   ],
   "source": [
    "%%time\n",
    "df = pd.read_csv('../csvs/vader_sent_filtered_philly_295k.csv')"
   ]
  },
  {
   "cell_type": "code",
   "execution_count": 7,
   "metadata": {},
   "outputs": [
    {
     "data": {
      "text/plain": [
       "(295003, 10)"
      ]
     },
     "execution_count": 7,
     "metadata": {},
     "output_type": "execute_result"
    }
   ],
   "source": [
    "df.shape"
   ]
  },
  {
   "cell_type": "code",
   "execution_count": 8,
   "metadata": {
    "scrolled": false
   },
   "outputs": [
    {
     "data": {
      "text/html": [
       "<div>\n",
       "<style scoped>\n",
       "    .dataframe tbody tr th:only-of-type {\n",
       "        vertical-align: middle;\n",
       "    }\n",
       "\n",
       "    .dataframe tbody tr th {\n",
       "        vertical-align: top;\n",
       "    }\n",
       "\n",
       "    .dataframe thead th {\n",
       "        text-align: right;\n",
       "    }\n",
       "</style>\n",
       "<table border=\"1\" class=\"dataframe\">\n",
       "  <thead>\n",
       "    <tr style=\"text-align: right;\">\n",
       "      <th></th>\n",
       "      <th>business_id</th>\n",
       "      <th>user_id</th>\n",
       "      <th>text</th>\n",
       "      <th>stars</th>\n",
       "      <th>date</th>\n",
       "      <th>res_avg_stars</th>\n",
       "      <th>review_count</th>\n",
       "      <th>user_id_cat</th>\n",
       "      <th>business_id_cat</th>\n",
       "      <th>nltk_sentiment</th>\n",
       "    </tr>\n",
       "  </thead>\n",
       "  <tbody>\n",
       "    <tr>\n",
       "      <th>0</th>\n",
       "      <td>kxX2SOes4o-D3ZQBkiMRfA</td>\n",
       "      <td>DVMopL-MS3_03qMW0Dxa1A</td>\n",
       "      <td>I've been here several times. The price is reasonable, food is quite good, and the service as well. I've always ordered take-out. One time I went, and the guy who normally takes my order wasn't there... Instead there were 2 ladies... I think one was the wife of the owner. Or something along those lines. Anyway they were nice but when I came back to pick up my order they handed me the wrong bag (someone else's order). They should have confirmed the contents, but frankly I should have as well, so I accept at least part of the blame. I ended up going all the way home before I realized the scr...</td>\n",
       "      <td>4.0</td>\n",
       "      <td>2014-11-13 20:50:21</td>\n",
       "      <td>4.0</td>\n",
       "      <td>181</td>\n",
       "      <td>0</td>\n",
       "      <td>0</td>\n",
       "      <td>0.9451</td>\n",
       "    </tr>\n",
       "    <tr>\n",
       "      <th>1</th>\n",
       "      <td>AmI3LIUNwsi4023hOVGu3w</td>\n",
       "      <td>DVMopL-MS3_03qMW0Dxa1A</td>\n",
       "      <td>The wife and I have never been to Moshulu, though we always drove by there whenever we take cruises or tool around in that part of the city. So for this date night I said what the heck, let's give this overpriced joint a try and see if it's worth it. The wait staff was nice, albeit not QUITE as responsive as I'd have liked for an upscale joint. The food was decent, portions weren't too giant, and our tummies were satisfied. \\n\\nThe calamari was tasty enough for me (though not quite as tasty for the wife). The dumplings were tasty, and the NINE DOLLAR FRIES were especially yummy. Pretty muc...</td>\n",
       "      <td>4.0</td>\n",
       "      <td>2017-09-26 18:16:06</td>\n",
       "      <td>3.5</td>\n",
       "      <td>874</td>\n",
       "      <td>0</td>\n",
       "      <td>1342</td>\n",
       "      <td>0.9845</td>\n",
       "    </tr>\n",
       "    <tr>\n",
       "      <th>2</th>\n",
       "      <td>wGnBaLvgH3hrq6C3AnO5Mg</td>\n",
       "      <td>DVMopL-MS3_03qMW0Dxa1A</td>\n",
       "      <td>Since the very first time I discovered and visited this establishment, I've been hooked. Their [uniformed] waiter/waitress service is \"Russian Good\" (don't expect lots of smiles and fawning... they get straight to the point).\\n\\nJust about everything on the menu is tasty... the sweet potato french fries, beef or chicken samsas, veal liver, cow tongue, avocado salad... hell, even the rice pilaf is well-flavored (not necessarily \"spicy\" but well-seasoned). I don't ever remember having to add salt to my dishes.. and that's saying a lot, since I add salt and hot sauce to almost everything.\\n\\n...</td>\n",
       "      <td>4.0</td>\n",
       "      <td>2015-06-14 00:04:04</td>\n",
       "      <td>3.5</td>\n",
       "      <td>93</td>\n",
       "      <td>0</td>\n",
       "      <td>2065</td>\n",
       "      <td>0.9798</td>\n",
       "    </tr>\n",
       "    <tr>\n",
       "      <th>3</th>\n",
       "      <td>fYSaoJMOj7-r4XWEuYjRxw</td>\n",
       "      <td>DVMopL-MS3_03qMW0Dxa1A</td>\n",
       "      <td>This is SPECIFICALLY for the Afro-Beat Sunday, which is what I had the most experience with (twice so far). I'll keep it quick.\\n\\nPROS\\n1. No cover on Sunday night\\n2. Big-booty and fine-looking waitresses (and cute bartender guy, as my female cousin said)\\n3. Strong drinks - I had the Long Island Ice Tea, and was tipsy within 50% of it.\\n4. Good chicken wings.\\n5. Fairly diverse mix of people, by age, race, ethnicity, and apparent socioeconomic class.\\n\\nCONS\\n1. Music is LOUD. WAY TOO LOUD. Deafening. I think I might need a cochlea implant after this.\\n\\n2. Just as we were about to danc...</td>\n",
       "      <td>3.0</td>\n",
       "      <td>2016-07-11 13:58:52</td>\n",
       "      <td>2.5</td>\n",
       "      <td>215</td>\n",
       "      <td>0</td>\n",
       "      <td>2500</td>\n",
       "      <td>0.6562</td>\n",
       "    </tr>\n",
       "    <tr>\n",
       "      <th>4</th>\n",
       "      <td>mXNKjKkq7Zk6-39_t4c5OA</td>\n",
       "      <td>DVMopL-MS3_03qMW0Dxa1A</td>\n",
       "      <td>After being very unwelcome at Zarafshon (see my review of that Russian mobster joint), we thought hey let's go next door and give the Indian folks our business. Once again, our group of 5 well-dressed professional adults walked in, the guy came out (no greeting, nothing), we said we wanted to place a large take-out order, and he LITERALLY told us, \"Oh no I'm so busy tonight I can't take any order\", waved us away and walked back in.\\n\\nSo much for American Capitalism. I've never been so racially profiled all in 1 night. Maybe I might go back to this place and talk to the manager about what ...</td>\n",
       "      <td>3.0</td>\n",
       "      <td>2014-11-11 04:11:31</td>\n",
       "      <td>4.0</td>\n",
       "      <td>9</td>\n",
       "      <td>0</td>\n",
       "      <td>2765</td>\n",
       "      <td>0.9929</td>\n",
       "    </tr>\n",
       "  </tbody>\n",
       "</table>\n",
       "</div>"
      ],
      "text/plain": [
       "              business_id                 user_id   \n",
       "0  kxX2SOes4o-D3ZQBkiMRfA  DVMopL-MS3_03qMW0Dxa1A  \\\n",
       "1  AmI3LIUNwsi4023hOVGu3w  DVMopL-MS3_03qMW0Dxa1A   \n",
       "2  wGnBaLvgH3hrq6C3AnO5Mg  DVMopL-MS3_03qMW0Dxa1A   \n",
       "3  fYSaoJMOj7-r4XWEuYjRxw  DVMopL-MS3_03qMW0Dxa1A   \n",
       "4  mXNKjKkq7Zk6-39_t4c5OA  DVMopL-MS3_03qMW0Dxa1A   \n",
       "\n",
       "                                                                                                                                                                                                                                                                                                                                                                                                                                                                                                                                                                                                                      text   \n",
       "0  I've been here several times. The price is reasonable, food is quite good, and the service as well. I've always ordered take-out. One time I went, and the guy who normally takes my order wasn't there... Instead there were 2 ladies... I think one was the wife of the owner. Or something along those lines. Anyway they were nice but when I came back to pick up my order they handed me the wrong bag (someone else's order). They should have confirmed the contents, but frankly I should have as well, so I accept at least part of the blame. I ended up going all the way home before I realized the scr...  \\\n",
       "1  The wife and I have never been to Moshulu, though we always drove by there whenever we take cruises or tool around in that part of the city. So for this date night I said what the heck, let's give this overpriced joint a try and see if it's worth it. The wait staff was nice, albeit not QUITE as responsive as I'd have liked for an upscale joint. The food was decent, portions weren't too giant, and our tummies were satisfied. \\n\\nThe calamari was tasty enough for me (though not quite as tasty for the wife). The dumplings were tasty, and the NINE DOLLAR FRIES were especially yummy. Pretty muc...   \n",
       "2  Since the very first time I discovered and visited this establishment, I've been hooked. Their [uniformed] waiter/waitress service is \"Russian Good\" (don't expect lots of smiles and fawning... they get straight to the point).\\n\\nJust about everything on the menu is tasty... the sweet potato french fries, beef or chicken samsas, veal liver, cow tongue, avocado salad... hell, even the rice pilaf is well-flavored (not necessarily \"spicy\" but well-seasoned). I don't ever remember having to add salt to my dishes.. and that's saying a lot, since I add salt and hot sauce to almost everything.\\n\\n...   \n",
       "3  This is SPECIFICALLY for the Afro-Beat Sunday, which is what I had the most experience with (twice so far). I'll keep it quick.\\n\\nPROS\\n1. No cover on Sunday night\\n2. Big-booty and fine-looking waitresses (and cute bartender guy, as my female cousin said)\\n3. Strong drinks - I had the Long Island Ice Tea, and was tipsy within 50% of it.\\n4. Good chicken wings.\\n5. Fairly diverse mix of people, by age, race, ethnicity, and apparent socioeconomic class.\\n\\nCONS\\n1. Music is LOUD. WAY TOO LOUD. Deafening. I think I might need a cochlea implant after this.\\n\\n2. Just as we were about to danc...   \n",
       "4  After being very unwelcome at Zarafshon (see my review of that Russian mobster joint), we thought hey let's go next door and give the Indian folks our business. Once again, our group of 5 well-dressed professional adults walked in, the guy came out (no greeting, nothing), we said we wanted to place a large take-out order, and he LITERALLY told us, \"Oh no I'm so busy tonight I can't take any order\", waved us away and walked back in.\\n\\nSo much for American Capitalism. I've never been so racially profiled all in 1 night. Maybe I might go back to this place and talk to the manager about what ...   \n",
       "\n",
       "   stars                 date  res_avg_stars  review_count  user_id_cat   \n",
       "0    4.0  2014-11-13 20:50:21            4.0           181            0  \\\n",
       "1    4.0  2017-09-26 18:16:06            3.5           874            0   \n",
       "2    4.0  2015-06-14 00:04:04            3.5            93            0   \n",
       "3    3.0  2016-07-11 13:58:52            2.5           215            0   \n",
       "4    3.0  2014-11-11 04:11:31            4.0             9            0   \n",
       "\n",
       "   business_id_cat  nltk_sentiment  \n",
       "0                0          0.9451  \n",
       "1             1342          0.9845  \n",
       "2             2065          0.9798  \n",
       "3             2500          0.6562  \n",
       "4             2765          0.9929  "
      ]
     },
     "execution_count": 8,
     "metadata": {},
     "output_type": "execute_result"
    }
   ],
   "source": [
    "df.head()"
   ]
  },
  {
   "cell_type": "markdown",
   "metadata": {},
   "source": [
    "### Data Preparation"
   ]
  },
  {
   "cell_type": "code",
   "execution_count": 9,
   "metadata": {
    "gather": {
     "logged": 1680904777771
    }
   },
   "outputs": [],
   "source": [
    "df = df[['user_id_cat', 'business_id_cat', 'res_avg_stars', 'review_count', 'nltk_sentiment', 'stars']]"
   ]
  },
  {
   "cell_type": "code",
   "execution_count": 10,
   "metadata": {
    "gather": {
     "logged": 1680904779107
    }
   },
   "outputs": [
    {
     "data": {
      "text/html": [
       "<div>\n",
       "<style scoped>\n",
       "    .dataframe tbody tr th:only-of-type {\n",
       "        vertical-align: middle;\n",
       "    }\n",
       "\n",
       "    .dataframe tbody tr th {\n",
       "        vertical-align: top;\n",
       "    }\n",
       "\n",
       "    .dataframe thead th {\n",
       "        text-align: right;\n",
       "    }\n",
       "</style>\n",
       "<table border=\"1\" class=\"dataframe\">\n",
       "  <thead>\n",
       "    <tr style=\"text-align: right;\">\n",
       "      <th></th>\n",
       "      <th>user_id_cat</th>\n",
       "      <th>business_id_cat</th>\n",
       "      <th>res_avg_stars</th>\n",
       "      <th>review_count</th>\n",
       "      <th>nltk_sentiment</th>\n",
       "      <th>stars</th>\n",
       "    </tr>\n",
       "  </thead>\n",
       "  <tbody>\n",
       "    <tr>\n",
       "      <th>0</th>\n",
       "      <td>0</td>\n",
       "      <td>0</td>\n",
       "      <td>4.0</td>\n",
       "      <td>181</td>\n",
       "      <td>0.9451</td>\n",
       "      <td>4.0</td>\n",
       "    </tr>\n",
       "    <tr>\n",
       "      <th>1</th>\n",
       "      <td>0</td>\n",
       "      <td>1342</td>\n",
       "      <td>3.5</td>\n",
       "      <td>874</td>\n",
       "      <td>0.9845</td>\n",
       "      <td>4.0</td>\n",
       "    </tr>\n",
       "    <tr>\n",
       "      <th>2</th>\n",
       "      <td>0</td>\n",
       "      <td>2065</td>\n",
       "      <td>3.5</td>\n",
       "      <td>93</td>\n",
       "      <td>0.9798</td>\n",
       "      <td>4.0</td>\n",
       "    </tr>\n",
       "    <tr>\n",
       "      <th>3</th>\n",
       "      <td>0</td>\n",
       "      <td>2500</td>\n",
       "      <td>2.5</td>\n",
       "      <td>215</td>\n",
       "      <td>0.6562</td>\n",
       "      <td>3.0</td>\n",
       "    </tr>\n",
       "    <tr>\n",
       "      <th>4</th>\n",
       "      <td>0</td>\n",
       "      <td>2765</td>\n",
       "      <td>4.0</td>\n",
       "      <td>9</td>\n",
       "      <td>0.9929</td>\n",
       "      <td>3.0</td>\n",
       "    </tr>\n",
       "    <tr>\n",
       "      <th>...</th>\n",
       "      <td>...</td>\n",
       "      <td>...</td>\n",
       "      <td>...</td>\n",
       "      <td>...</td>\n",
       "      <td>...</td>\n",
       "      <td>...</td>\n",
       "    </tr>\n",
       "    <tr>\n",
       "      <th>294998</th>\n",
       "      <td>10726</td>\n",
       "      <td>4837</td>\n",
       "      <td>3.5</td>\n",
       "      <td>41</td>\n",
       "      <td>0.9665</td>\n",
       "      <td>4.0</td>\n",
       "    </tr>\n",
       "    <tr>\n",
       "      <th>294999</th>\n",
       "      <td>10726</td>\n",
       "      <td>5192</td>\n",
       "      <td>4.0</td>\n",
       "      <td>23</td>\n",
       "      <td>0.9857</td>\n",
       "      <td>4.0</td>\n",
       "    </tr>\n",
       "    <tr>\n",
       "      <th>295000</th>\n",
       "      <td>10726</td>\n",
       "      <td>5271</td>\n",
       "      <td>3.0</td>\n",
       "      <td>57</td>\n",
       "      <td>0.1250</td>\n",
       "      <td>2.0</td>\n",
       "    </tr>\n",
       "    <tr>\n",
       "      <th>295001</th>\n",
       "      <td>10726</td>\n",
       "      <td>5696</td>\n",
       "      <td>4.5</td>\n",
       "      <td>42</td>\n",
       "      <td>0.9873</td>\n",
       "      <td>5.0</td>\n",
       "    </tr>\n",
       "    <tr>\n",
       "      <th>295002</th>\n",
       "      <td>10726</td>\n",
       "      <td>5707</td>\n",
       "      <td>2.0</td>\n",
       "      <td>23</td>\n",
       "      <td>0.7010</td>\n",
       "      <td>1.0</td>\n",
       "    </tr>\n",
       "  </tbody>\n",
       "</table>\n",
       "<p>295003 rows × 6 columns</p>\n",
       "</div>"
      ],
      "text/plain": [
       "        user_id_cat  business_id_cat  res_avg_stars  review_count   \n",
       "0                 0                0            4.0           181  \\\n",
       "1                 0             1342            3.5           874   \n",
       "2                 0             2065            3.5            93   \n",
       "3                 0             2500            2.5           215   \n",
       "4                 0             2765            4.0             9   \n",
       "...             ...              ...            ...           ...   \n",
       "294998        10726             4837            3.5            41   \n",
       "294999        10726             5192            4.0            23   \n",
       "295000        10726             5271            3.0            57   \n",
       "295001        10726             5696            4.5            42   \n",
       "295002        10726             5707            2.0            23   \n",
       "\n",
       "        nltk_sentiment  stars  \n",
       "0               0.9451    4.0  \n",
       "1               0.9845    4.0  \n",
       "2               0.9798    4.0  \n",
       "3               0.6562    3.0  \n",
       "4               0.9929    3.0  \n",
       "...                ...    ...  \n",
       "294998          0.9665    4.0  \n",
       "294999          0.9857    4.0  \n",
       "295000          0.1250    2.0  \n",
       "295001          0.9873    5.0  \n",
       "295002          0.7010    1.0  \n",
       "\n",
       "[295003 rows x 6 columns]"
      ]
     },
     "execution_count": 10,
     "metadata": {},
     "output_type": "execute_result"
    }
   ],
   "source": [
    "df"
   ]
  },
  {
   "cell_type": "code",
   "execution_count": 11,
   "metadata": {},
   "outputs": [
    {
     "data": {
      "text/html": [
       "<div>\n",
       "<style scoped>\n",
       "    .dataframe tbody tr th:only-of-type {\n",
       "        vertical-align: middle;\n",
       "    }\n",
       "\n",
       "    .dataframe tbody tr th {\n",
       "        vertical-align: top;\n",
       "    }\n",
       "\n",
       "    .dataframe thead th {\n",
       "        text-align: right;\n",
       "    }\n",
       "</style>\n",
       "<table border=\"1\" class=\"dataframe\">\n",
       "  <thead>\n",
       "    <tr style=\"text-align: right;\">\n",
       "      <th></th>\n",
       "      <th>business_id_cat</th>\n",
       "      <th>avg_res_sentiment</th>\n",
       "    </tr>\n",
       "  </thead>\n",
       "  <tbody>\n",
       "    <tr>\n",
       "      <th>0</th>\n",
       "      <td>0</td>\n",
       "      <td>0.851986</td>\n",
       "    </tr>\n",
       "    <tr>\n",
       "      <th>1</th>\n",
       "      <td>1</td>\n",
       "      <td>0.755726</td>\n",
       "    </tr>\n",
       "    <tr>\n",
       "      <th>2</th>\n",
       "      <td>2</td>\n",
       "      <td>0.745231</td>\n",
       "    </tr>\n",
       "    <tr>\n",
       "      <th>3</th>\n",
       "      <td>3</td>\n",
       "      <td>0.836924</td>\n",
       "    </tr>\n",
       "    <tr>\n",
       "      <th>4</th>\n",
       "      <td>4</td>\n",
       "      <td>0.831195</td>\n",
       "    </tr>\n",
       "  </tbody>\n",
       "</table>\n",
       "</div>"
      ],
      "text/plain": [
       "   business_id_cat  avg_res_sentiment\n",
       "0                0           0.851986\n",
       "1                1           0.755726\n",
       "2                2           0.745231\n",
       "3                3           0.836924\n",
       "4                4           0.831195"
      ]
     },
     "execution_count": 11,
     "metadata": {},
     "output_type": "execute_result"
    }
   ],
   "source": [
    "# Compute average sentiment score for each restaurant\n",
    "avg_res_sentiment_df = df.groupby('business_id_cat')['nltk_sentiment'].mean().reset_index().rename(columns={'nltk_sentiment': 'avg_res_sentiment'})\n",
    "avg_res_sentiment_df.head()"
   ]
  },
  {
   "cell_type": "code",
   "execution_count": 12,
   "metadata": {},
   "outputs": [
    {
     "data": {
      "text/html": [
       "<div>\n",
       "<style scoped>\n",
       "    .dataframe tbody tr th:only-of-type {\n",
       "        vertical-align: middle;\n",
       "    }\n",
       "\n",
       "    .dataframe tbody tr th {\n",
       "        vertical-align: top;\n",
       "    }\n",
       "\n",
       "    .dataframe thead th {\n",
       "        text-align: right;\n",
       "    }\n",
       "</style>\n",
       "<table border=\"1\" class=\"dataframe\">\n",
       "  <thead>\n",
       "    <tr style=\"text-align: right;\">\n",
       "      <th></th>\n",
       "      <th>user_id_cat</th>\n",
       "      <th>business_id_cat</th>\n",
       "      <th>res_avg_stars</th>\n",
       "      <th>review_count</th>\n",
       "      <th>avg_res_sentiment</th>\n",
       "      <th>stars</th>\n",
       "    </tr>\n",
       "  </thead>\n",
       "  <tbody>\n",
       "    <tr>\n",
       "      <th>0</th>\n",
       "      <td>0</td>\n",
       "      <td>0</td>\n",
       "      <td>4.0</td>\n",
       "      <td>181</td>\n",
       "      <td>0.851986</td>\n",
       "      <td>4.0</td>\n",
       "    </tr>\n",
       "    <tr>\n",
       "      <th>1</th>\n",
       "      <td>0</td>\n",
       "      <td>1342</td>\n",
       "      <td>3.5</td>\n",
       "      <td>874</td>\n",
       "      <td>0.790914</td>\n",
       "      <td>4.0</td>\n",
       "    </tr>\n",
       "    <tr>\n",
       "      <th>2</th>\n",
       "      <td>0</td>\n",
       "      <td>2065</td>\n",
       "      <td>3.5</td>\n",
       "      <td>93</td>\n",
       "      <td>0.703277</td>\n",
       "      <td>4.0</td>\n",
       "    </tr>\n",
       "    <tr>\n",
       "      <th>3</th>\n",
       "      <td>0</td>\n",
       "      <td>2500</td>\n",
       "      <td>2.5</td>\n",
       "      <td>215</td>\n",
       "      <td>0.635389</td>\n",
       "      <td>3.0</td>\n",
       "    </tr>\n",
       "    <tr>\n",
       "      <th>4</th>\n",
       "      <td>0</td>\n",
       "      <td>2765</td>\n",
       "      <td>4.0</td>\n",
       "      <td>9</td>\n",
       "      <td>0.830550</td>\n",
       "      <td>3.0</td>\n",
       "    </tr>\n",
       "    <tr>\n",
       "      <th>...</th>\n",
       "      <td>...</td>\n",
       "      <td>...</td>\n",
       "      <td>...</td>\n",
       "      <td>...</td>\n",
       "      <td>...</td>\n",
       "      <td>...</td>\n",
       "    </tr>\n",
       "    <tr>\n",
       "      <th>294998</th>\n",
       "      <td>10726</td>\n",
       "      <td>4837</td>\n",
       "      <td>3.5</td>\n",
       "      <td>41</td>\n",
       "      <td>0.633663</td>\n",
       "      <td>4.0</td>\n",
       "    </tr>\n",
       "    <tr>\n",
       "      <th>294999</th>\n",
       "      <td>10726</td>\n",
       "      <td>5192</td>\n",
       "      <td>4.0</td>\n",
       "      <td>23</td>\n",
       "      <td>0.903925</td>\n",
       "      <td>4.0</td>\n",
       "    </tr>\n",
       "    <tr>\n",
       "      <th>295000</th>\n",
       "      <td>10726</td>\n",
       "      <td>5271</td>\n",
       "      <td>3.0</td>\n",
       "      <td>57</td>\n",
       "      <td>0.739628</td>\n",
       "      <td>2.0</td>\n",
       "    </tr>\n",
       "    <tr>\n",
       "      <th>295001</th>\n",
       "      <td>10726</td>\n",
       "      <td>5696</td>\n",
       "      <td>4.5</td>\n",
       "      <td>42</td>\n",
       "      <td>0.961263</td>\n",
       "      <td>5.0</td>\n",
       "    </tr>\n",
       "    <tr>\n",
       "      <th>295002</th>\n",
       "      <td>10726</td>\n",
       "      <td>5707</td>\n",
       "      <td>2.0</td>\n",
       "      <td>23</td>\n",
       "      <td>-0.105750</td>\n",
       "      <td>1.0</td>\n",
       "    </tr>\n",
       "  </tbody>\n",
       "</table>\n",
       "<p>295003 rows × 6 columns</p>\n",
       "</div>"
      ],
      "text/plain": [
       "        user_id_cat  business_id_cat  res_avg_stars  review_count   \n",
       "0                 0                0            4.0           181  \\\n",
       "1                 0             1342            3.5           874   \n",
       "2                 0             2065            3.5            93   \n",
       "3                 0             2500            2.5           215   \n",
       "4                 0             2765            4.0             9   \n",
       "...             ...              ...            ...           ...   \n",
       "294998        10726             4837            3.5            41   \n",
       "294999        10726             5192            4.0            23   \n",
       "295000        10726             5271            3.0            57   \n",
       "295001        10726             5696            4.5            42   \n",
       "295002        10726             5707            2.0            23   \n",
       "\n",
       "        avg_res_sentiment  stars  \n",
       "0                0.851986    4.0  \n",
       "1                0.790914    4.0  \n",
       "2                0.703277    4.0  \n",
       "3                0.635389    3.0  \n",
       "4                0.830550    3.0  \n",
       "...                   ...    ...  \n",
       "294998           0.633663    4.0  \n",
       "294999           0.903925    4.0  \n",
       "295000           0.739628    2.0  \n",
       "295001           0.961263    5.0  \n",
       "295002          -0.105750    1.0  \n",
       "\n",
       "[295003 rows x 6 columns]"
      ]
     },
     "execution_count": 12,
     "metadata": {},
     "output_type": "execute_result"
    }
   ],
   "source": [
    "embed_df = pd.merge(df, avg_res_sentiment_df, on='business_id_cat', how='left')\n",
    "embed_df = embed_df.drop('nltk_sentiment', axis=1)\n",
    "embed_df = embed_df[['user_id_cat', 'business_id_cat', 'res_avg_stars', 'review_count', 'avg_res_sentiment', 'stars']]\n",
    "embed_df"
   ]
  },
  {
   "cell_type": "code",
   "execution_count": 13,
   "metadata": {
    "gather": {
     "logged": 1680904780560
    }
   },
   "outputs": [
    {
     "data": {
      "image/png": "[encoded data removed]",
      "text/plain": [
       "<Figure size 640x480 with 1 Axes>"
      ]
     },
     "metadata": {},
     "output_type": "display_data"
    }
   ],
   "source": [
    "# Plot star ratings distribution\n",
    "sns.histplot(embed_df['stars'], binwidth=0.8)\n",
    "plt.xticks([1, 2, 3, 4, 5])\n",
    "plt.show()"
   ]
  },
  {
   "cell_type": "code",
   "execution_count": 14,
   "metadata": {},
   "outputs": [
    {
     "data": {
      "text/html": [
       "<div>\n",
       "<style scoped>\n",
       "    .dataframe tbody tr th:only-of-type {\n",
       "        vertical-align: middle;\n",
       "    }\n",
       "\n",
       "    .dataframe tbody tr th {\n",
       "        vertical-align: top;\n",
       "    }\n",
       "\n",
       "    .dataframe thead th {\n",
       "        text-align: right;\n",
       "    }\n",
       "</style>\n",
       "<table border=\"1\" class=\"dataframe\">\n",
       "  <thead>\n",
       "    <tr style=\"text-align: right;\">\n",
       "      <th></th>\n",
       "      <th>user_id_cat</th>\n",
       "      <th>business_id_cat</th>\n",
       "      <th>res_avg_stars</th>\n",
       "      <th>review_count</th>\n",
       "      <th>avg_res_sentiment</th>\n",
       "      <th>stars</th>\n",
       "    </tr>\n",
       "  </thead>\n",
       "  <tbody>\n",
       "    <tr>\n",
       "      <th>0</th>\n",
       "      <td>0</td>\n",
       "      <td>0</td>\n",
       "      <td>4.0</td>\n",
       "      <td>181</td>\n",
       "      <td>0.851986</td>\n",
       "      <td>4.0</td>\n",
       "    </tr>\n",
       "    <tr>\n",
       "      <th>1</th>\n",
       "      <td>0</td>\n",
       "      <td>1342</td>\n",
       "      <td>3.5</td>\n",
       "      <td>874</td>\n",
       "      <td>0.790914</td>\n",
       "      <td>4.0</td>\n",
       "    </tr>\n",
       "    <tr>\n",
       "      <th>2</th>\n",
       "      <td>0</td>\n",
       "      <td>2065</td>\n",
       "      <td>3.5</td>\n",
       "      <td>93</td>\n",
       "      <td>0.703277</td>\n",
       "      <td>4.0</td>\n",
       "    </tr>\n",
       "    <tr>\n",
       "      <th>3</th>\n",
       "      <td>0</td>\n",
       "      <td>2500</td>\n",
       "      <td>2.5</td>\n",
       "      <td>215</td>\n",
       "      <td>0.635389</td>\n",
       "      <td>3.0</td>\n",
       "    </tr>\n",
       "    <tr>\n",
       "      <th>4</th>\n",
       "      <td>0</td>\n",
       "      <td>2765</td>\n",
       "      <td>4.0</td>\n",
       "      <td>9</td>\n",
       "      <td>0.830550</td>\n",
       "      <td>3.0</td>\n",
       "    </tr>\n",
       "    <tr>\n",
       "      <th>...</th>\n",
       "      <td>...</td>\n",
       "      <td>...</td>\n",
       "      <td>...</td>\n",
       "      <td>...</td>\n",
       "      <td>...</td>\n",
       "      <td>...</td>\n",
       "    </tr>\n",
       "    <tr>\n",
       "      <th>294998</th>\n",
       "      <td>10726</td>\n",
       "      <td>4837</td>\n",
       "      <td>3.5</td>\n",
       "      <td>41</td>\n",
       "      <td>0.633663</td>\n",
       "      <td>4.0</td>\n",
       "    </tr>\n",
       "    <tr>\n",
       "      <th>294999</th>\n",
       "      <td>10726</td>\n",
       "      <td>5192</td>\n",
       "      <td>4.0</td>\n",
       "      <td>23</td>\n",
       "      <td>0.903925</td>\n",
       "      <td>4.0</td>\n",
       "    </tr>\n",
       "    <tr>\n",
       "      <th>295000</th>\n",
       "      <td>10726</td>\n",
       "      <td>5271</td>\n",
       "      <td>3.0</td>\n",
       "      <td>57</td>\n",
       "      <td>0.739628</td>\n",
       "      <td>2.0</td>\n",
       "    </tr>\n",
       "    <tr>\n",
       "      <th>295001</th>\n",
       "      <td>10726</td>\n",
       "      <td>5696</td>\n",
       "      <td>4.5</td>\n",
       "      <td>42</td>\n",
       "      <td>0.961263</td>\n",
       "      <td>5.0</td>\n",
       "    </tr>\n",
       "    <tr>\n",
       "      <th>295002</th>\n",
       "      <td>10726</td>\n",
       "      <td>5707</td>\n",
       "      <td>2.0</td>\n",
       "      <td>23</td>\n",
       "      <td>-0.105750</td>\n",
       "      <td>1.0</td>\n",
       "    </tr>\n",
       "  </tbody>\n",
       "</table>\n",
       "<p>295003 rows × 6 columns</p>\n",
       "</div>"
      ],
      "text/plain": [
       "        user_id_cat  business_id_cat  res_avg_stars  review_count   \n",
       "0                 0                0            4.0           181  \\\n",
       "1                 0             1342            3.5           874   \n",
       "2                 0             2065            3.5            93   \n",
       "3                 0             2500            2.5           215   \n",
       "4                 0             2765            4.0             9   \n",
       "...             ...              ...            ...           ...   \n",
       "294998        10726             4837            3.5            41   \n",
       "294999        10726             5192            4.0            23   \n",
       "295000        10726             5271            3.0            57   \n",
       "295001        10726             5696            4.5            42   \n",
       "295002        10726             5707            2.0            23   \n",
       "\n",
       "        avg_res_sentiment  stars  \n",
       "0                0.851986    4.0  \n",
       "1                0.790914    4.0  \n",
       "2                0.703277    4.0  \n",
       "3                0.635389    3.0  \n",
       "4                0.830550    3.0  \n",
       "...                   ...    ...  \n",
       "294998           0.633663    4.0  \n",
       "294999           0.903925    4.0  \n",
       "295000           0.739628    2.0  \n",
       "295001           0.961263    5.0  \n",
       "295002          -0.105750    1.0  \n",
       "\n",
       "[295003 rows x 6 columns]"
      ]
     },
     "execution_count": 14,
     "metadata": {},
     "output_type": "execute_result"
    }
   ],
   "source": [
    "embed_df"
   ]
  },
  {
   "cell_type": "code",
   "execution_count": 47,
   "metadata": {},
   "outputs": [
    {
     "data": {
      "text/html": [
       "<div>\n",
       "<style scoped>\n",
       "    .dataframe tbody tr th:only-of-type {\n",
       "        vertical-align: middle;\n",
       "    }\n",
       "\n",
       "    .dataframe tbody tr th {\n",
       "        vertical-align: top;\n",
       "    }\n",
       "\n",
       "    .dataframe thead th {\n",
       "        text-align: right;\n",
       "    }\n",
       "</style>\n",
       "<table border=\"1\" class=\"dataframe\">\n",
       "  <thead>\n",
       "    <tr style=\"text-align: right;\">\n",
       "      <th></th>\n",
       "      <th>user_id_cat</th>\n",
       "      <th>business_id_cat</th>\n",
       "      <th>res_avg_stars</th>\n",
       "      <th>review_count</th>\n",
       "      <th>avg_res_sentiment</th>\n",
       "      <th>stars</th>\n",
       "    </tr>\n",
       "  </thead>\n",
       "  <tbody>\n",
       "  </tbody>\n",
       "</table>\n",
       "</div>"
      ],
      "text/plain": [
       "Empty DataFrame\n",
       "Columns: [user_id_cat, business_id_cat, res_avg_stars, review_count, avg_res_sentiment, stars]\n",
       "Index: []"
      ]
     },
     "execution_count": 47,
     "metadata": {},
     "output_type": "execute_result"
    }
   ],
   "source": [
    "embed_df[embed_df.duplicated()]"
   ]
  },
  {
   "cell_type": "code",
   "execution_count": 45,
   "metadata": {},
   "outputs": [
    {
     "name": "stdout",
     "output_type": "stream",
     "text": [
      "Total number of unique users: 10727\n",
      "Total number of unique restaurants: 5795\n"
     ]
    }
   ],
   "source": [
    "unique_user = len(embed_df['user_id_cat'].unique())\n",
    "unique_resto = len(embed_df['business_id_cat'].unique())\n",
    "print(f'Total number of unique users: {unique_user}')\n",
    "print(f'Total number of unique restaurants: {unique_resto}')"
   ]
  },
  {
   "attachments": {},
   "cell_type": "markdown",
   "metadata": {},
   "source": [
    "## Splitting Data"
   ]
  },
  {
   "cell_type": "code",
   "execution_count": 29,
   "metadata": {},
   "outputs": [],
   "source": [
    "# Split data using 80:20 ratio\n",
    "train_df_dot, test_df_dot = train_test_split(embed_df, test_size=0.2, random_state=123)"
   ]
  },
  {
   "attachments": {},
   "cell_type": "markdown",
   "metadata": {},
   "source": [
    "## EmbeddingDotBias Model"
   ]
  },
  {
   "cell_type": "code",
   "execution_count": 30,
   "metadata": {},
   "outputs": [],
   "source": [
    "y_name = 'stars'\n",
    "\n",
    "# Select number of latent factors for the EmbeddingDotBias model (matrix factorization)\n",
    "n_factors = 60\n",
    "\n",
    "# Create the model by using collab_learner from fastai\n",
    "# Train using all data without validation set to get all user and restaurant bias in the dataset\n",
    "collab_dls = CollabDataLoaders.from_df(train_df_dot, valid_pct=0.2, seed=123, user_name='user_id_cat', item_name='business_id_cat', rating_name=y_name, device=device)\n",
    "learn_dot = collab_learner(collab_dls, n_factors=n_factors, y_range=(1, 5), wd=1e-1)\n",
    "learn_dot.model = learn_dot.model.to(device)"
   ]
  },
  {
   "cell_type": "code",
   "execution_count": 31,
   "metadata": {},
   "outputs": [
    {
     "data": {
      "text/plain": [
       "EmbeddingDotBias(\n",
       "  (u_weight): Embedding(10728, 60)\n",
       "  (i_weight): Embedding(5665, 60)\n",
       "  (u_bias): Embedding(10728, 1)\n",
       "  (i_bias): Embedding(5665, 1)\n",
       ")"
      ]
     },
     "execution_count": 31,
     "metadata": {},
     "output_type": "execute_result"
    }
   ],
   "source": [
    "# EmbeddingDotBias model architecture\n",
    "learn_dot.model"
   ]
  },
  {
   "cell_type": "code",
   "execution_count": 32,
   "metadata": {},
   "outputs": [
    {
     "data": {
      "text/html": [
       "\n",
       "<style>\n",
       "    /* Turns off some styling */\n",
       "    progress {\n",
       "        /* gets rid of default border in Firefox and Opera. */\n",
       "        border: none;\n",
       "        /* Needs to be in here for Safari polyfill so background images work as expected. */\n",
       "        background-size: auto;\n",
       "    }\n",
       "    progress:not([value]), progress:not([value])::-webkit-progress-bar {\n",
       "        background: repeating-linear-gradient(45deg, #7e7e7e, #7e7e7e 10px, #5c5c5c 10px, #5c5c5c 20px);\n",
       "    }\n",
       "    .progress-bar-interrupted, .progress-bar-interrupted::-webkit-progress-bar {\n",
       "        background: #F44336;\n",
       "    }\n",
       "</style>\n"
      ],
      "text/plain": [
       "<IPython.core.display.HTML object>"
      ]
     },
     "metadata": {},
     "output_type": "display_data"
    },
    {
     "data": {
      "text/html": [],
      "text/plain": [
       "<IPython.core.display.HTML object>"
      ]
     },
     "metadata": {},
     "output_type": "display_data"
    },
    {
     "data": {
      "text/plain": [
       "SuggestedLRs(valley=0.019054606556892395)"
      ]
     },
     "execution_count": 32,
     "metadata": {},
     "output_type": "execute_result"
    },
    {
     "data": {
      "image/png": "[encoded data removed]",
      "text/plain": [
       "<Figure size 640x480 with 1 Axes>"
      ]
     },
     "metadata": {},
     "output_type": "display_data"
    }
   ],
   "source": [
    "# Use fastai's lr_find() to get suggested learning rate\n",
    "learn_dot.lr_find()"
   ]
  },
  {
   "cell_type": "code",
   "execution_count": 33,
   "metadata": {},
   "outputs": [
    {
     "data": {
      "text/html": [
       "\n",
       "<style>\n",
       "    /* Turns off some styling */\n",
       "    progress {\n",
       "        /* gets rid of default border in Firefox and Opera. */\n",
       "        border: none;\n",
       "        /* Needs to be in here for Safari polyfill so background images work as expected. */\n",
       "        background-size: auto;\n",
       "    }\n",
       "    progress:not([value]), progress:not([value])::-webkit-progress-bar {\n",
       "        background: repeating-linear-gradient(45deg, #7e7e7e, #7e7e7e 10px, #5c5c5c 10px, #5c5c5c 20px);\n",
       "    }\n",
       "    .progress-bar-interrupted, .progress-bar-interrupted::-webkit-progress-bar {\n",
       "        background: #F44336;\n",
       "    }\n",
       "</style>\n"
      ],
      "text/plain": [
       "<IPython.core.display.HTML object>"
      ]
     },
     "metadata": {},
     "output_type": "display_data"
    },
    {
     "data": {
      "text/html": [
       "<table border=\"1\" class=\"dataframe\">\n",
       "  <thead>\n",
       "    <tr style=\"text-align: left;\">\n",
       "      <th>epoch</th>\n",
       "      <th>train_loss</th>\n",
       "      <th>valid_loss</th>\n",
       "      <th>time</th>\n",
       "    </tr>\n",
       "  </thead>\n",
       "  <tbody>\n",
       "    <tr>\n",
       "      <td>0</td>\n",
       "      <td>1.171339</td>\n",
       "      <td>1.171691</td>\n",
       "      <td>00:20</td>\n",
       "    </tr>\n",
       "    <tr>\n",
       "      <td>1</td>\n",
       "      <td>1.203682</td>\n",
       "      <td>1.219113</td>\n",
       "      <td>00:20</td>\n",
       "    </tr>\n",
       "    <tr>\n",
       "      <td>2</td>\n",
       "      <td>1.225976</td>\n",
       "      <td>1.227035</td>\n",
       "      <td>00:20</td>\n",
       "    </tr>\n",
       "    <tr>\n",
       "      <td>3</td>\n",
       "      <td>1.225370</td>\n",
       "      <td>1.216002</td>\n",
       "      <td>00:20</td>\n",
       "    </tr>\n",
       "    <tr>\n",
       "      <td>4</td>\n",
       "      <td>1.214949</td>\n",
       "      <td>1.193984</td>\n",
       "      <td>00:20</td>\n",
       "    </tr>\n",
       "    <tr>\n",
       "      <td>5</td>\n",
       "      <td>1.126273</td>\n",
       "      <td>1.155000</td>\n",
       "      <td>00:20</td>\n",
       "    </tr>\n",
       "    <tr>\n",
       "      <td>6</td>\n",
       "      <td>1.111838</td>\n",
       "      <td>1.120535</td>\n",
       "      <td>00:20</td>\n",
       "    </tr>\n",
       "    <tr>\n",
       "      <td>7</td>\n",
       "      <td>0.999374</td>\n",
       "      <td>1.081979</td>\n",
       "      <td>00:20</td>\n",
       "    </tr>\n",
       "    <tr>\n",
       "      <td>8</td>\n",
       "      <td>0.819021</td>\n",
       "      <td>1.069511</td>\n",
       "      <td>00:20</td>\n",
       "    </tr>\n",
       "    <tr>\n",
       "      <td>9</td>\n",
       "      <td>0.678870</td>\n",
       "      <td>1.069948</td>\n",
       "      <td>00:20</td>\n",
       "    </tr>\n",
       "  </tbody>\n",
       "</table>"
      ],
      "text/plain": [
       "<IPython.core.display.HTML object>"
      ]
     },
     "metadata": {},
     "output_type": "display_data"
    }
   ],
   "source": [
    "# Train the EmbeddingDotBias model\n",
    "learn_dot.fit_one_cycle(10, 0.019) #loss function: MSELossFlat"
   ]
  },
  {
   "cell_type": "code",
   "execution_count": 34,
   "metadata": {},
   "outputs": [
    {
     "data": {
      "text/html": [
       "\n",
       "<style>\n",
       "    /* Turns off some styling */\n",
       "    progress {\n",
       "        /* gets rid of default border in Firefox and Opera. */\n",
       "        border: none;\n",
       "        /* Needs to be in here for Safari polyfill so background images work as expected. */\n",
       "        background-size: auto;\n",
       "    }\n",
       "    progress:not([value]), progress:not([value])::-webkit-progress-bar {\n",
       "        background: repeating-linear-gradient(45deg, #7e7e7e, #7e7e7e 10px, #5c5c5c 10px, #5c5c5c 20px);\n",
       "    }\n",
       "    .progress-bar-interrupted, .progress-bar-interrupted::-webkit-progress-bar {\n",
       "        background: #F44336;\n",
       "    }\n",
       "</style>\n"
      ],
      "text/plain": [
       "<IPython.core.display.HTML object>"
      ]
     },
     "metadata": {},
     "output_type": "display_data"
    },
    {
     "data": {
      "text/html": [],
      "text/plain": [
       "<IPython.core.display.HTML object>"
      ]
     },
     "metadata": {},
     "output_type": "display_data"
    },
    {
     "name": "stdout",
     "output_type": "stream",
     "text": [
      "EmbeddingDotBias Model Test RMSE: 1.0321535140565499\n",
      "EmbeddingDotBias Model Test MAE: 0.831743061542511\n"
     ]
    }
   ],
   "source": [
    "# Define function to calculate model performance (RMSE and MAE)\n",
    "def calculate_dot_test_metrics(learn_model, model_name):\n",
    "    test_dl = learn_model.dls.test_dl(test_df_dot)\n",
    "    sub = learn_model.get_preds(dl=test_dl)\n",
    "\n",
    "    # Compute the test RMSE\n",
    "    y_preds = sub[0].numpy()\n",
    "    y_true = sub[1].numpy()\n",
    "    test_rmse = mean_squared_error(y_true, y_preds) ** 0.5\n",
    "    print(f'{model_name} Test RMSE: {test_rmse}' )\n",
    "    test_mae = mean_absolute_error(y_true, y_preds)\n",
    "    print(f'{model_name} Test MAE: {test_mae}')\n",
    "    \n",
    "    return (test_rmse, test_mae)\n",
    "\n",
    "# base_test_metrics = calculate_test_metrics(learn_dot, 'Base Model')\n",
    "base_test_metrics = calculate_dot_test_metrics(learn_dot, 'EmbeddingDotBias Model')"
   ]
  },
  {
   "cell_type": "code",
   "execution_count": 35,
   "metadata": {},
   "outputs": [],
   "source": [
    "learn_dot.export('../models/dot_model.pkl') # model export"
   ]
  },
  {
   "cell_type": "markdown",
   "metadata": {},
   "source": [
    "We could see that the EmbeddingDotBias Model are performing really well on train set, but the test RMSE is still high, which explains overfitting. However, we could retrieve the user's and restaurant's bias and use it as additional features for our neural network model."
   ]
  },
  {
   "cell_type": "markdown",
   "metadata": {},
   "source": [
    "### Feature Engineering using EmbeddingDotBias (latent factor method to retrieve user's and restaurant's bias)"
   ]
  },
  {
   "cell_type": "code",
   "execution_count": 49,
   "metadata": {},
   "outputs": [
    {
     "data": {
      "text/plain": [
       "EmbeddingDotBias(\n",
       "  (u_weight): Embedding(10728, 60)\n",
       "  (i_weight): Embedding(5796, 60)\n",
       "  (u_bias): Embedding(10728, 1)\n",
       "  (i_bias): Embedding(5796, 1)\n",
       ")"
      ]
     },
     "execution_count": 49,
     "metadata": {},
     "output_type": "execute_result"
    }
   ],
   "source": [
    "# Create the model by using collab_learner from fastai for the whole dataset\n",
    "collab_dls = CollabDataLoaders.from_df(df, valid_pct=0, seed=123, user_name='user_id_cat', item_name='business_id_cat', rating_name=y_name, device=device)\n",
    "learn_dot = collab_learner(collab_dls, n_factors=n_factors, y_range=(1, 5), wd=1e-1)\n",
    "learn_dot.model = learn_dot.model.to(device)\n",
    "learn_dot.model"
   ]
  },
  {
   "cell_type": "code",
   "execution_count": 41,
   "metadata": {},
   "outputs": [
    {
     "data": {
      "text/html": [
       "\n",
       "<style>\n",
       "    /* Turns off some styling */\n",
       "    progress {\n",
       "        /* gets rid of default border in Firefox and Opera. */\n",
       "        border: none;\n",
       "        /* Needs to be in here for Safari polyfill so background images work as expected. */\n",
       "        background-size: auto;\n",
       "    }\n",
       "    progress:not([value]), progress:not([value])::-webkit-progress-bar {\n",
       "        background: repeating-linear-gradient(45deg, #7e7e7e, #7e7e7e 10px, #5c5c5c 10px, #5c5c5c 20px);\n",
       "    }\n",
       "    .progress-bar-interrupted, .progress-bar-interrupted::-webkit-progress-bar {\n",
       "        background: #F44336;\n",
       "    }\n",
       "</style>\n"
      ],
      "text/plain": [
       "<IPython.core.display.HTML object>"
      ]
     },
     "metadata": {},
     "output_type": "display_data"
    },
    {
     "data": {
      "text/html": [],
      "text/plain": [
       "<IPython.core.display.HTML object>"
      ]
     },
     "metadata": {},
     "output_type": "display_data"
    },
    {
     "data": {
      "text/plain": [
       "SuggestedLRs(valley=0.019054606556892395)"
      ]
     },
     "execution_count": 41,
     "metadata": {},
     "output_type": "execute_result"
    },
    {
     "data": {
      "image/png": "[encoded data removed]",
      "text/plain": [
       "<Figure size 640x480 with 1 Axes>"
      ]
     },
     "metadata": {},
     "output_type": "display_data"
    }
   ],
   "source": [
    "# Use fastai's lr_find() to get suggested learning rate\n",
    "learn_dot.lr_find()"
   ]
  },
  {
   "cell_type": "code",
   "execution_count": 36,
   "metadata": {},
   "outputs": [
    {
     "name": "stdout",
     "output_type": "stream",
     "text": [
      "EmbeddingDotBiasModule(\n",
      "  (embedding_dot_bias): EmbeddingDotBias(\n",
      "    (u_weight): Embedding(10728, 60)\n",
      "    (i_weight): Embedding(5796, 60)\n",
      "    (u_bias): Embedding(10728, 1)\n",
      "    (i_bias): Embedding(5796, 1)\n",
      "  )\n",
      ")\n"
     ]
    },
    {
     "data": {
      "text/plain": [
       "'EmbeddingDotBias_viz.png'"
      ]
     },
     "execution_count": 36,
     "metadata": {},
     "output_type": "execute_result"
    }
   ],
   "source": [
    "# For EmbeddingDotBias model visualization\n",
    "class EmbeddingDotBiasModule(nn.Module):\n",
    "    def __init__(self, n_factors, n_users, n_items, y_range=None):\n",
    "        super().__init__()\n",
    "        self.embedding_dot_bias = EmbeddingDotBias(n_factors, n_users, n_items, y_range=y_range)\n",
    "        \n",
    "    def forward(self, x):\n",
    "        return self.embedding_dot_bias(x)\n",
    "\n",
    "model = EmbeddingDotBiasModule(n_factors=60, n_users=10728, n_items=5796)\n",
    "print(model)\n",
    "X = torch.LongTensor([[1, 2], [3, 4]])\n",
    "y = model(X)\n",
    "dot = make_dot(y.mean(), params=dict(model.named_parameters()), show_attrs=True, show_saved=True)\n",
    "dot.render('../images/EmbeddingDotBias_viz', format='png')"
   ]
  },
  {
   "cell_type": "code",
   "execution_count": 19,
   "metadata": {},
   "outputs": [
    {
     "data": {
      "image/svg+xml": [
       "<?xml version=\"1.0\" encoding=\"UTF-8\" standalone=\"no\"?>\n",
       "<!DOCTYPE svg PUBLIC \"-//W3C//DTD SVG 1.1//EN\"\n",
       " \"http://www.w3.org/Graphics/SVG/1.1/DTD/svg11.dtd\">\n",
       "<!-- Generated by graphviz version 2.43.0 (0)\n",
       " -->\n",
       "<!-- Title: %3 Pages: 1 -->\n",
       "<svg width=\"864pt\" height=\"563pt\"\n",
       " viewBox=\"0.00 0.00 864.00 562.79\" xmlns=\"http://www.w3.org/2000/svg\" xmlns:xlink=\"http://www.w3.org/1999/xlink\">\n",
       "<g id=\"graph0\" class=\"graph\" transform=\"scale(1.26 1.26) rotate(0) translate(4 706)\">\n",
       "<title>%3</title>\n",
       "<polygon fill=\"white\" stroke=\"transparent\" points=\"-4,4 -4,-706 1086,-706 1086,4 -4,4\"/>\n",
       "<!-- 139804524876640 -->\n",
       "<g id=\"node1\" class=\"node\">\n",
       "<title>139804524876640</title>\n",
       "<polygon fill=\"#caff70\" stroke=\"black\" points=\"658.5,-31 604.5,-31 604.5,0 658.5,0 658.5,-31\"/>\n",
       "<text text-anchor=\"middle\" x=\"631.5\" y=\"-7\" font-family=\"monospace\" font-size=\"10.00\"> ()</text>\n",
       "</g>\n",
       "<!-- 139804524860128 -->\n",
       "<g id=\"node2\" class=\"node\">\n",
       "<title>139804524860128</title>\n",
       "<polygon fill=\"lightgrey\" stroke=\"black\" points=\"688,-119 575,-119 575,-67 688,-67 688,-119\"/>\n",
       "<text text-anchor=\"middle\" x=\"631.5\" y=\"-107\" font-family=\"monospace\" font-size=\"10.00\">MeanBackward0</text>\n",
       "<text text-anchor=\"middle\" x=\"631.5\" y=\"-96\" font-family=\"monospace\" font-size=\"10.00\">&#45;&#45;&#45;&#45;&#45;&#45;&#45;&#45;&#45;&#45;&#45;&#45;&#45;&#45;&#45;&#45;</text>\n",
       "<text text-anchor=\"middle\" x=\"631.5\" y=\"-85\" font-family=\"monospace\" font-size=\"10.00\">self_numel: &#160;&#160;&#160;2</text>\n",
       "<text text-anchor=\"middle\" x=\"631.5\" y=\"-74\" font-family=\"monospace\" font-size=\"10.00\">self_sizes: (2,)</text>\n",
       "</g>\n",
       "<!-- 139804524860128&#45;&gt;139804524876640 -->\n",
       "<g id=\"edge25\" class=\"edge\">\n",
       "<title>139804524860128&#45;&gt;139804524876640</title>\n",
       "<path fill=\"none\" stroke=\"black\" d=\"M631.5,-66.86C631.5,-58.63 631.5,-49.49 631.5,-41.29\"/>\n",
       "<polygon fill=\"black\" stroke=\"black\" points=\"635,-41.19 631.5,-31.19 628,-41.19 635,-41.19\"/>\n",
       "</g>\n",
       "<!-- 139804524860224 -->\n",
       "<g id=\"node3\" class=\"node\">\n",
       "<title>139804524860224</title>\n",
       "<polygon fill=\"lightgrey\" stroke=\"black\" points=\"676,-196 587,-196 587,-155 676,-155 676,-196\"/>\n",
       "<text text-anchor=\"middle\" x=\"631.5\" y=\"-184\" font-family=\"monospace\" font-size=\"10.00\">AddBackward0</text>\n",
       "<text text-anchor=\"middle\" x=\"631.5\" y=\"-173\" font-family=\"monospace\" font-size=\"10.00\">&#45;&#45;&#45;&#45;&#45;&#45;&#45;&#45;&#45;&#45;&#45;&#45;</text>\n",
       "<text text-anchor=\"middle\" x=\"631.5\" y=\"-162\" font-family=\"monospace\" font-size=\"10.00\">alpha: 1</text>\n",
       "</g>\n",
       "<!-- 139804524860224&#45;&gt;139804524860128 -->\n",
       "<g id=\"edge1\" class=\"edge\">\n",
       "<title>139804524860224&#45;&gt;139804524860128</title>\n",
       "<path fill=\"none\" stroke=\"black\" d=\"M631.5,-154.6C631.5,-146.99 631.5,-138.06 631.5,-129.43\"/>\n",
       "<polygon fill=\"black\" stroke=\"black\" points=\"635,-129.16 631.5,-119.16 628,-129.16 635,-129.16\"/>\n",
       "</g>\n",
       "<!-- 139804524860032 -->\n",
       "<g id=\"node4\" class=\"node\">\n",
       "<title>139804524860032</title>\n",
       "<polygon fill=\"lightgrey\" stroke=\"black\" points=\"614,-273 525,-273 525,-232 614,-232 614,-273\"/>\n",
       "<text text-anchor=\"middle\" x=\"569.5\" y=\"-261\" font-family=\"monospace\" font-size=\"10.00\">AddBackward0</text>\n",
       "<text text-anchor=\"middle\" x=\"569.5\" y=\"-250\" font-family=\"monospace\" font-size=\"10.00\">&#45;&#45;&#45;&#45;&#45;&#45;&#45;&#45;&#45;&#45;&#45;&#45;</text>\n",
       "<text text-anchor=\"middle\" x=\"569.5\" y=\"-239\" font-family=\"monospace\" font-size=\"10.00\">alpha: 1</text>\n",
       "</g>\n",
       "<!-- 139804524860032&#45;&gt;139804524860224 -->\n",
       "<g id=\"edge2\" class=\"edge\">\n",
       "<title>139804524860032&#45;&gt;139804524860224</title>\n",
       "<path fill=\"none\" stroke=\"black\" d=\"M585.79,-231.79C592.84,-223.27 601.21,-213.14 608.85,-203.9\"/>\n",
       "<polygon fill=\"black\" stroke=\"black\" points=\"611.65,-206.01 615.32,-196.07 606.25,-201.55 611.65,-206.01\"/>\n",
       "</g>\n",
       "<!-- 139804524860320 -->\n",
       "<g id=\"node5\" class=\"node\">\n",
       "<title>139804524860320</title>\n",
       "<polygon fill=\"lightgrey\" stroke=\"black\" points=\"635,-372 504,-372 504,-309 635,-309 635,-372\"/>\n",
       "<text text-anchor=\"middle\" x=\"569.5\" y=\"-360\" font-family=\"monospace\" font-size=\"10.00\">SumBackward1</text>\n",
       "<text text-anchor=\"middle\" x=\"569.5\" y=\"-349\" font-family=\"monospace\" font-size=\"10.00\">&#45;&#45;&#45;&#45;&#45;&#45;&#45;&#45;&#45;&#45;&#45;&#45;&#45;&#45;&#45;&#45;&#45;&#45;&#45;</text>\n",
       "<text text-anchor=\"middle\" x=\"569.5\" y=\"-338\" font-family=\"monospace\" font-size=\"10.00\">dim &#160;&#160;&#160;&#160;&#160;&#160;: &#160;&#160;&#160;(1,)</text>\n",
       "<text text-anchor=\"middle\" x=\"569.5\" y=\"-327\" font-family=\"monospace\" font-size=\"10.00\">keepdim &#160;&#160;: &#160;&#160;False</text>\n",
       "<text text-anchor=\"middle\" x=\"569.5\" y=\"-316\" font-family=\"monospace\" font-size=\"10.00\">self_sizes: (2, 60)</text>\n",
       "</g>\n",
       "<!-- 139804524860320&#45;&gt;139804524860032 -->\n",
       "<g id=\"edge3\" class=\"edge\">\n",
       "<title>139804524860320&#45;&gt;139804524860032</title>\n",
       "<path fill=\"none\" stroke=\"black\" d=\"M569.5,-308.94C569.5,-300.59 569.5,-291.55 569.5,-283.25\"/>\n",
       "<polygon fill=\"black\" stroke=\"black\" points=\"573,-283.23 569.5,-273.23 566,-283.23 573,-283.23\"/>\n",
       "</g>\n",
       "<!-- 139804524860464 -->\n",
       "<g id=\"node6\" class=\"node\">\n",
       "<title>139804524860464</title>\n",
       "<polygon fill=\"lightgrey\" stroke=\"black\" points=\"525,-460 382,-460 382,-408 525,-408 525,-460\"/>\n",
       "<text text-anchor=\"middle\" x=\"453.5\" y=\"-448\" font-family=\"monospace\" font-size=\"10.00\">MulBackward0</text>\n",
       "<text text-anchor=\"middle\" x=\"453.5\" y=\"-437\" font-family=\"monospace\" font-size=\"10.00\">&#45;&#45;&#45;&#45;&#45;&#45;&#45;&#45;&#45;&#45;&#45;&#45;&#45;&#45;&#45;&#45;&#45;&#45;&#45;&#45;&#45;</text>\n",
       "<text text-anchor=\"middle\" x=\"453.5\" y=\"-426\" font-family=\"monospace\" font-size=\"10.00\">other: [saved tensor]</text>\n",
       "<text text-anchor=\"middle\" x=\"453.5\" y=\"-415\" font-family=\"monospace\" font-size=\"10.00\">self : [saved tensor]</text>\n",
       "</g>\n",
       "<!-- 139804524860464&#45;&gt;139804524860320 -->\n",
       "<g id=\"edge4\" class=\"edge\">\n",
       "<title>139804524860464&#45;&gt;139804524860320</title>\n",
       "<path fill=\"none\" stroke=\"black\" d=\"M485.2,-408C496.75,-398.88 510.08,-388.37 522.67,-378.44\"/>\n",
       "<polygon fill=\"black\" stroke=\"black\" points=\"525.13,-380.96 530.81,-372.02 520.79,-375.46 525.13,-380.96\"/>\n",
       "</g>\n",
       "<!-- 139804524876560 -->\n",
       "<g id=\"node7\" class=\"node\">\n",
       "<title>139804524876560</title>\n",
       "<polygon fill=\"orange\" stroke=\"black\" points=\"486,-355.5 421,-355.5 421,-325.5 486,-325.5 486,-355.5\"/>\n",
       "<text text-anchor=\"middle\" x=\"453.5\" y=\"-343.5\" font-family=\"monospace\" font-size=\"10.00\">other</text>\n",
       "<text text-anchor=\"middle\" x=\"453.5\" y=\"-332.5\" font-family=\"monospace\" font-size=\"10.00\"> (2, 60)</text>\n",
       "</g>\n",
       "<!-- 139804524860464&#45;&gt;139804524876560 -->\n",
       "<g id=\"edge5\" class=\"edge\">\n",
       "<title>139804524860464&#45;&gt;139804524876560</title>\n",
       "<path fill=\"none\" stroke=\"black\" d=\"M453.5,-408C453.5,-391.17 453.5,-369.59 453.5,-355.66\"/>\n",
       "</g>\n",
       "<!-- 139804524876160 -->\n",
       "<g id=\"node8\" class=\"node\">\n",
       "<title>139804524876160</title>\n",
       "<polygon fill=\"orange\" stroke=\"black\" points=\"403,-355.5 338,-355.5 338,-325.5 403,-325.5 403,-355.5\"/>\n",
       "<text text-anchor=\"middle\" x=\"370.5\" y=\"-343.5\" font-family=\"monospace\" font-size=\"10.00\">self</text>\n",
       "<text text-anchor=\"middle\" x=\"370.5\" y=\"-332.5\" font-family=\"monospace\" font-size=\"10.00\"> (2, 60)</text>\n",
       "</g>\n",
       "<!-- 139804524860464&#45;&gt;139804524876160 -->\n",
       "<g id=\"edge6\" class=\"edge\">\n",
       "<title>139804524860464&#45;&gt;139804524876160</title>\n",
       "<path fill=\"none\" stroke=\"black\" d=\"M430.82,-408C415.56,-391.17 395.98,-369.59 383.34,-355.66\"/>\n",
       "</g>\n",
       "<!-- 139804524860560 -->\n",
       "<g id=\"node9\" class=\"node\">\n",
       "<title>139804524860560</title>\n",
       "<polygon fill=\"lightgrey\" stroke=\"black\" points=\"532,-581 275,-581 275,-496 532,-496 532,-581\"/>\n",
       "<text text-anchor=\"middle\" x=\"403.5\" y=\"-569\" font-family=\"monospace\" font-size=\"10.00\">EmbeddingBackward0</text>\n",
       "<text text-anchor=\"middle\" x=\"403.5\" y=\"-558\" font-family=\"monospace\" font-size=\"10.00\">&#45;&#45;&#45;&#45;&#45;&#45;&#45;&#45;&#45;&#45;&#45;&#45;&#45;&#45;&#45;&#45;&#45;&#45;&#45;&#45;&#45;&#45;&#45;&#45;&#45;&#45;&#45;&#45;&#45;&#45;&#45;&#45;&#45;&#45;&#45;&#45;&#45;&#45;&#45;&#45;</text>\n",
       "<text text-anchor=\"middle\" x=\"403.5\" y=\"-547\" font-family=\"monospace\" font-size=\"10.00\">indices &#160;&#160;&#160;&#160;&#160;&#160;&#160;&#160;&#160;&#160;: &#160;&#160;&#160;&#160;&#160;&#160;[saved tensor]</text>\n",
       "<text text-anchor=\"middle\" x=\"403.5\" y=\"-536\" font-family=\"monospace\" font-size=\"10.00\">padding_idx &#160;&#160;&#160;&#160;&#160;&#160;: 18446744073709551615</text>\n",
       "<text text-anchor=\"middle\" x=\"403.5\" y=\"-525\" font-family=\"monospace\" font-size=\"10.00\">scale_grad_by_freq: &#160;&#160;&#160;&#160;&#160;&#160;&#160;&#160;&#160;&#160;&#160;&#160;&#160;&#160;&#160;False</text>\n",
       "<text text-anchor=\"middle\" x=\"403.5\" y=\"-514\" font-family=\"monospace\" font-size=\"10.00\">sparse &#160;&#160;&#160;&#160;&#160;&#160;&#160;&#160;&#160;&#160;&#160;: &#160;&#160;&#160;&#160;&#160;&#160;&#160;&#160;&#160;&#160;&#160;&#160;&#160;&#160;&#160;False</text>\n",
       "<text text-anchor=\"middle\" x=\"403.5\" y=\"-503\" font-family=\"monospace\" font-size=\"10.00\">weight_argsize_0 &#160;: &#160;&#160;&#160;&#160;&#160;&#160;&#160;&#160;&#160;&#160;&#160;&#160;&#160;&#160;&#160;10728</text>\n",
       "</g>\n",
       "<!-- 139804524860560&#45;&gt;139804524860464 -->\n",
       "<g id=\"edge7\" class=\"edge\">\n",
       "<title>139804524860560&#45;&gt;139804524860464</title>\n",
       "<path fill=\"none\" stroke=\"black\" d=\"M423.84,-495.81C428.12,-487.03 432.59,-477.86 436.72,-469.39\"/>\n",
       "<polygon fill=\"black\" stroke=\"black\" points=\"439.98,-470.69 441.22,-460.17 433.69,-467.63 439.98,-470.69\"/>\n",
       "</g>\n",
       "<!-- 139804524876320 -->\n",
       "<g id=\"node10\" class=\"node\">\n",
       "<title>139804524876320</title>\n",
       "<polygon fill=\"orange\" stroke=\"black\" points=\"335,-449 276,-449 276,-419 335,-419 335,-449\"/>\n",
       "<text text-anchor=\"middle\" x=\"305.5\" y=\"-437\" font-family=\"monospace\" font-size=\"10.00\">indices</text>\n",
       "<text text-anchor=\"middle\" x=\"305.5\" y=\"-426\" font-family=\"monospace\" font-size=\"10.00\"> (2)</text>\n",
       "</g>\n",
       "<!-- 139804524860560&#45;&gt;139804524876320 -->\n",
       "<g id=\"edge8\" class=\"edge\">\n",
       "<title>139804524860560&#45;&gt;139804524876320</title>\n",
       "<path fill=\"none\" stroke=\"black\" d=\"M363.64,-495.81C347.74,-479.18 330.51,-461.16 318.97,-449.09\"/>\n",
       "</g>\n",
       "<!-- 139804524860752 -->\n",
       "<g id=\"node11\" class=\"node\">\n",
       "<title>139804524860752</title>\n",
       "<polygon fill=\"lightgrey\" stroke=\"black\" points=\"454,-636 353,-636 353,-617 454,-617 454,-636\"/>\n",
       "<text text-anchor=\"middle\" x=\"403.5\" y=\"-624\" font-family=\"monospace\" font-size=\"10.00\">AccumulateGrad</text>\n",
       "</g>\n",
       "<!-- 139804524860752&#45;&gt;139804524860560 -->\n",
       "<g id=\"edge9\" class=\"edge\">\n",
       "<title>139804524860752&#45;&gt;139804524860560</title>\n",
       "<path fill=\"none\" stroke=\"black\" d=\"M403.5,-616.94C403.5,-610.57 403.5,-601.28 403.5,-591.34\"/>\n",
       "<polygon fill=\"black\" stroke=\"black\" points=\"407,-591.26 403.5,-581.26 400,-591.26 407,-591.26\"/>\n",
       "</g>\n",
       "<!-- 139804524876000 -->\n",
       "<g id=\"node12\" class=\"node\">\n",
       "<title>139804524876000</title>\n",
       "<polygon fill=\"lightblue\" stroke=\"black\" points=\"514,-702 293,-702 293,-672 514,-672 514,-702\"/>\n",
       "<text text-anchor=\"middle\" x=\"403.5\" y=\"-690\" font-family=\"monospace\" font-size=\"10.00\">embedding_dot_bias.u_weight.weight</text>\n",
       "<text text-anchor=\"middle\" x=\"403.5\" y=\"-679\" font-family=\"monospace\" font-size=\"10.00\"> (10728, 60)</text>\n",
       "</g>\n",
       "<!-- 139804524876000&#45;&gt;139804524860752 -->\n",
       "<g id=\"edge10\" class=\"edge\">\n",
       "<title>139804524876000&#45;&gt;139804524860752</title>\n",
       "<path fill=\"none\" stroke=\"black\" d=\"M403.5,-671.84C403.5,-664.21 403.5,-654.7 403.5,-646.45\"/>\n",
       "<polygon fill=\"black\" stroke=\"black\" points=\"407,-646.27 403.5,-636.27 400,-646.27 407,-646.27\"/>\n",
       "</g>\n",
       "<!-- 139804524860512 -->\n",
       "<g id=\"node13\" class=\"node\">\n",
       "<title>139804524860512</title>\n",
       "<polygon fill=\"lightgrey\" stroke=\"black\" points=\"807,-581 550,-581 550,-496 807,-496 807,-581\"/>\n",
       "<text text-anchor=\"middle\" x=\"678.5\" y=\"-569\" font-family=\"monospace\" font-size=\"10.00\">EmbeddingBackward0</text>\n",
       "<text text-anchor=\"middle\" x=\"678.5\" y=\"-558\" font-family=\"monospace\" font-size=\"10.00\">&#45;&#45;&#45;&#45;&#45;&#45;&#45;&#45;&#45;&#45;&#45;&#45;&#45;&#45;&#45;&#45;&#45;&#45;&#45;&#45;&#45;&#45;&#45;&#45;&#45;&#45;&#45;&#45;&#45;&#45;&#45;&#45;&#45;&#45;&#45;&#45;&#45;&#45;&#45;&#45;</text>\n",
       "<text text-anchor=\"middle\" x=\"678.5\" y=\"-547\" font-family=\"monospace\" font-size=\"10.00\">indices &#160;&#160;&#160;&#160;&#160;&#160;&#160;&#160;&#160;&#160;: &#160;&#160;&#160;&#160;&#160;&#160;[saved tensor]</text>\n",
       "<text text-anchor=\"middle\" x=\"678.5\" y=\"-536\" font-family=\"monospace\" font-size=\"10.00\">padding_idx &#160;&#160;&#160;&#160;&#160;&#160;: 18446744073709551615</text>\n",
       "<text text-anchor=\"middle\" x=\"678.5\" y=\"-525\" font-family=\"monospace\" font-size=\"10.00\">scale_grad_by_freq: &#160;&#160;&#160;&#160;&#160;&#160;&#160;&#160;&#160;&#160;&#160;&#160;&#160;&#160;&#160;False</text>\n",
       "<text text-anchor=\"middle\" x=\"678.5\" y=\"-514\" font-family=\"monospace\" font-size=\"10.00\">sparse &#160;&#160;&#160;&#160;&#160;&#160;&#160;&#160;&#160;&#160;&#160;: &#160;&#160;&#160;&#160;&#160;&#160;&#160;&#160;&#160;&#160;&#160;&#160;&#160;&#160;&#160;False</text>\n",
       "<text text-anchor=\"middle\" x=\"678.5\" y=\"-503\" font-family=\"monospace\" font-size=\"10.00\">weight_argsize_0 &#160;: &#160;&#160;&#160;&#160;&#160;&#160;&#160;&#160;&#160;&#160;&#160;&#160;&#160;&#160;&#160;&#160;5796</text>\n",
       "</g>\n",
       "<!-- 139804524860512&#45;&gt;139804524860464 -->\n",
       "<g id=\"edge11\" class=\"edge\">\n",
       "<title>139804524860512&#45;&gt;139804524860464</title>\n",
       "<path fill=\"none\" stroke=\"black\" d=\"M587.31,-495.96C564.07,-485.37 539.57,-474.21 517.98,-464.37\"/>\n",
       "<polygon fill=\"black\" stroke=\"black\" points=\"519.15,-461.06 508.6,-460.1 516.25,-467.43 519.15,-461.06\"/>\n",
       "</g>\n",
       "<!-- 139804524876480 -->\n",
       "<g id=\"node14\" class=\"node\">\n",
       "<title>139804524876480</title>\n",
       "<polygon fill=\"orange\" stroke=\"black\" points=\"762,-449 703,-449 703,-419 762,-419 762,-449\"/>\n",
       "<text text-anchor=\"middle\" x=\"732.5\" y=\"-437\" font-family=\"monospace\" font-size=\"10.00\">indices</text>\n",
       "<text text-anchor=\"middle\" x=\"732.5\" y=\"-426\" font-family=\"monospace\" font-size=\"10.00\"> (2)</text>\n",
       "</g>\n",
       "<!-- 139804524860512&#45;&gt;139804524876480 -->\n",
       "<g id=\"edge12\" class=\"edge\">\n",
       "<title>139804524860512&#45;&gt;139804524876480</title>\n",
       "<path fill=\"none\" stroke=\"black\" d=\"M700.46,-495.81C709.22,-479.18 718.72,-461.16 725.08,-449.09\"/>\n",
       "</g>\n",
       "<!-- 139804524860800 -->\n",
       "<g id=\"node15\" class=\"node\">\n",
       "<title>139804524860800</title>\n",
       "<polygon fill=\"lightgrey\" stroke=\"black\" points=\"729,-636 628,-636 628,-617 729,-617 729,-636\"/>\n",
       "<text text-anchor=\"middle\" x=\"678.5\" y=\"-624\" font-family=\"monospace\" font-size=\"10.00\">AccumulateGrad</text>\n",
       "</g>\n",
       "<!-- 139804524860800&#45;&gt;139804524860512 -->\n",
       "<g id=\"edge13\" class=\"edge\">\n",
       "<title>139804524860800&#45;&gt;139804524860512</title>\n",
       "<path fill=\"none\" stroke=\"black\" d=\"M678.5,-616.94C678.5,-610.57 678.5,-601.28 678.5,-591.34\"/>\n",
       "<polygon fill=\"black\" stroke=\"black\" points=\"682,-591.26 678.5,-581.26 675,-591.26 682,-591.26\"/>\n",
       "</g>\n",
       "<!-- 139804612873888 -->\n",
       "<g id=\"node16\" class=\"node\">\n",
       "<title>139804612873888</title>\n",
       "<polygon fill=\"lightblue\" stroke=\"black\" points=\"789,-702 568,-702 568,-672 789,-672 789,-702\"/>\n",
       "<text text-anchor=\"middle\" x=\"678.5\" y=\"-690\" font-family=\"monospace\" font-size=\"10.00\">embedding_dot_bias.i_weight.weight</text>\n",
       "<text text-anchor=\"middle\" x=\"678.5\" y=\"-679\" font-family=\"monospace\" font-size=\"10.00\"> (5796, 60)</text>\n",
       "</g>\n",
       "<!-- 139804612873888&#45;&gt;139804524860800 -->\n",
       "<g id=\"edge14\" class=\"edge\">\n",
       "<title>139804612873888&#45;&gt;139804524860800</title>\n",
       "<path fill=\"none\" stroke=\"black\" d=\"M678.5,-671.84C678.5,-664.21 678.5,-654.7 678.5,-646.45\"/>\n",
       "<polygon fill=\"black\" stroke=\"black\" points=\"682,-646.27 678.5,-636.27 675,-646.27 682,-646.27\"/>\n",
       "</g>\n",
       "<!-- 139804524860272 -->\n",
       "<g id=\"node17\" class=\"node\">\n",
       "<title>139804524860272</title>\n",
       "<polygon fill=\"lightgrey\" stroke=\"black\" points=\"300,-361 175,-361 175,-320 300,-320 300,-361\"/>\n",
       "<text text-anchor=\"middle\" x=\"237.5\" y=\"-349\" font-family=\"monospace\" font-size=\"10.00\">SqueezeBackward0</text>\n",
       "<text text-anchor=\"middle\" x=\"237.5\" y=\"-338\" font-family=\"monospace\" font-size=\"10.00\">&#45;&#45;&#45;&#45;&#45;&#45;&#45;&#45;&#45;&#45;&#45;&#45;&#45;&#45;&#45;&#45;&#45;&#45;</text>\n",
       "<text text-anchor=\"middle\" x=\"237.5\" y=\"-327\" font-family=\"monospace\" font-size=\"10.00\">self_sizes: (2, 1)</text>\n",
       "</g>\n",
       "<!-- 139804524860272&#45;&gt;139804524860032 -->\n",
       "<g id=\"edge15\" class=\"edge\">\n",
       "<title>139804524860272&#45;&gt;139804524860032</title>\n",
       "<path fill=\"none\" stroke=\"black\" d=\"M293.06,-319.93C304.7,-316.09 316.95,-312.26 328.5,-309 391.77,-291.16 465.57,-274.8 514.66,-264.54\"/>\n",
       "<polygon fill=\"black\" stroke=\"black\" points=\"515.67,-267.91 524.75,-262.45 514.25,-261.05 515.67,-267.91\"/>\n",
       "</g>\n",
       "<!-- 139804524860848 -->\n",
       "<g id=\"node18\" class=\"node\">\n",
       "<title>139804524860848</title>\n",
       "<polygon fill=\"lightgrey\" stroke=\"black\" points=\"257,-581 0,-581 0,-496 257,-496 257,-581\"/>\n",
       "<text text-anchor=\"middle\" x=\"128.5\" y=\"-569\" font-family=\"monospace\" font-size=\"10.00\">EmbeddingBackward0</text>\n",
       "<text text-anchor=\"middle\" x=\"128.5\" y=\"-558\" font-family=\"monospace\" font-size=\"10.00\">&#45;&#45;&#45;&#45;&#45;&#45;&#45;&#45;&#45;&#45;&#45;&#45;&#45;&#45;&#45;&#45;&#45;&#45;&#45;&#45;&#45;&#45;&#45;&#45;&#45;&#45;&#45;&#45;&#45;&#45;&#45;&#45;&#45;&#45;&#45;&#45;&#45;&#45;&#45;&#45;</text>\n",
       "<text text-anchor=\"middle\" x=\"128.5\" y=\"-547\" font-family=\"monospace\" font-size=\"10.00\">indices &#160;&#160;&#160;&#160;&#160;&#160;&#160;&#160;&#160;&#160;: &#160;&#160;&#160;&#160;&#160;&#160;[saved tensor]</text>\n",
       "<text text-anchor=\"middle\" x=\"128.5\" y=\"-536\" font-family=\"monospace\" font-size=\"10.00\">padding_idx &#160;&#160;&#160;&#160;&#160;&#160;: 18446744073709551615</text>\n",
       "<text text-anchor=\"middle\" x=\"128.5\" y=\"-525\" font-family=\"monospace\" font-size=\"10.00\">scale_grad_by_freq: &#160;&#160;&#160;&#160;&#160;&#160;&#160;&#160;&#160;&#160;&#160;&#160;&#160;&#160;&#160;False</text>\n",
       "<text text-anchor=\"middle\" x=\"128.5\" y=\"-514\" font-family=\"monospace\" font-size=\"10.00\">sparse &#160;&#160;&#160;&#160;&#160;&#160;&#160;&#160;&#160;&#160;&#160;: &#160;&#160;&#160;&#160;&#160;&#160;&#160;&#160;&#160;&#160;&#160;&#160;&#160;&#160;&#160;False</text>\n",
       "<text text-anchor=\"middle\" x=\"128.5\" y=\"-503\" font-family=\"monospace\" font-size=\"10.00\">weight_argsize_0 &#160;: &#160;&#160;&#160;&#160;&#160;&#160;&#160;&#160;&#160;&#160;&#160;&#160;&#160;&#160;&#160;10728</text>\n",
       "</g>\n",
       "<!-- 139804524860848&#45;&gt;139804524876320 -->\n",
       "<g id=\"edge17\" class=\"edge\">\n",
       "<title>139804524860848&#45;&gt;139804524876320</title>\n",
       "<path fill=\"none\" stroke=\"black\" d=\"M200.24,-495.96C228.99,-479.31 260.18,-461.24 281.09,-449.14\"/>\n",
       "</g>\n",
       "<!-- 139804524860848&#45;&gt;139804524860272 -->\n",
       "<g id=\"edge16\" class=\"edge\">\n",
       "<title>139804524860848&#45;&gt;139804524860272</title>\n",
       "<path fill=\"none\" stroke=\"black\" d=\"M151.62,-495.93C172.6,-458.19 203.01,-403.52 221.45,-370.36\"/>\n",
       "<polygon fill=\"black\" stroke=\"black\" points=\"224.74,-371.65 226.54,-361.21 218.62,-368.25 224.74,-371.65\"/>\n",
       "</g>\n",
       "<!-- 139804524860608 -->\n",
       "<g id=\"node19\" class=\"node\">\n",
       "<title>139804524860608</title>\n",
       "<polygon fill=\"lightgrey\" stroke=\"black\" points=\"179,-636 78,-636 78,-617 179,-617 179,-636\"/>\n",
       "<text text-anchor=\"middle\" x=\"128.5\" y=\"-624\" font-family=\"monospace\" font-size=\"10.00\">AccumulateGrad</text>\n",
       "</g>\n",
       "<!-- 139804524860608&#45;&gt;139804524860848 -->\n",
       "<g id=\"edge18\" class=\"edge\">\n",
       "<title>139804524860608&#45;&gt;139804524860848</title>\n",
       "<path fill=\"none\" stroke=\"black\" d=\"M128.5,-616.94C128.5,-610.57 128.5,-601.28 128.5,-591.34\"/>\n",
       "<polygon fill=\"black\" stroke=\"black\" points=\"132,-591.26 128.5,-581.26 125,-591.26 132,-591.26\"/>\n",
       "</g>\n",
       "<!-- 139804524875920 -->\n",
       "<g id=\"node20\" class=\"node\">\n",
       "<title>139804524875920</title>\n",
       "<polygon fill=\"lightblue\" stroke=\"black\" points=\"233,-702 24,-702 24,-672 233,-672 233,-702\"/>\n",
       "<text text-anchor=\"middle\" x=\"128.5\" y=\"-690\" font-family=\"monospace\" font-size=\"10.00\">embedding_dot_bias.u_bias.weight</text>\n",
       "<text text-anchor=\"middle\" x=\"128.5\" y=\"-679\" font-family=\"monospace\" font-size=\"10.00\"> (10728, 1)</text>\n",
       "</g>\n",
       "<!-- 139804524875920&#45;&gt;139804524860608 -->\n",
       "<g id=\"edge19\" class=\"edge\">\n",
       "<title>139804524875920&#45;&gt;139804524860608</title>\n",
       "<path fill=\"none\" stroke=\"black\" d=\"M128.5,-671.84C128.5,-664.21 128.5,-654.7 128.5,-646.45\"/>\n",
       "<polygon fill=\"black\" stroke=\"black\" points=\"132,-646.27 128.5,-636.27 125,-646.27 132,-646.27\"/>\n",
       "</g>\n",
       "<!-- 139804524859984 -->\n",
       "<g id=\"node21\" class=\"node\">\n",
       "<title>139804524859984</title>\n",
       "<polygon fill=\"lightgrey\" stroke=\"black\" points=\"857,-273 732,-273 732,-232 857,-232 857,-273\"/>\n",
       "<text text-anchor=\"middle\" x=\"794.5\" y=\"-261\" font-family=\"monospace\" font-size=\"10.00\">SqueezeBackward0</text>\n",
       "<text text-anchor=\"middle\" x=\"794.5\" y=\"-250\" font-family=\"monospace\" font-size=\"10.00\">&#45;&#45;&#45;&#45;&#45;&#45;&#45;&#45;&#45;&#45;&#45;&#45;&#45;&#45;&#45;&#45;&#45;&#45;</text>\n",
       "<text text-anchor=\"middle\" x=\"794.5\" y=\"-239\" font-family=\"monospace\" font-size=\"10.00\">self_sizes: (2, 1)</text>\n",
       "</g>\n",
       "<!-- 139804524859984&#45;&gt;139804524860224 -->\n",
       "<g id=\"edge20\" class=\"edge\">\n",
       "<title>139804524859984&#45;&gt;139804524860224</title>\n",
       "<path fill=\"none\" stroke=\"black\" d=\"M752.1,-231.99C731.05,-222.31 705.45,-210.52 683.25,-200.31\"/>\n",
       "<polygon fill=\"black\" stroke=\"black\" points=\"684.52,-197.04 673.97,-196.04 681.59,-203.4 684.52,-197.04\"/>\n",
       "</g>\n",
       "<!-- 139804524860896 -->\n",
       "<g id=\"node22\" class=\"node\">\n",
       "<title>139804524860896</title>\n",
       "<polygon fill=\"lightgrey\" stroke=\"black\" points=\"1082,-581 825,-581 825,-496 1082,-496 1082,-581\"/>\n",
       "<text text-anchor=\"middle\" x=\"953.5\" y=\"-569\" font-family=\"monospace\" font-size=\"10.00\">EmbeddingBackward0</text>\n",
       "<text text-anchor=\"middle\" x=\"953.5\" y=\"-558\" font-family=\"monospace\" font-size=\"10.00\">&#45;&#45;&#45;&#45;&#45;&#45;&#45;&#45;&#45;&#45;&#45;&#45;&#45;&#45;&#45;&#45;&#45;&#45;&#45;&#45;&#45;&#45;&#45;&#45;&#45;&#45;&#45;&#45;&#45;&#45;&#45;&#45;&#45;&#45;&#45;&#45;&#45;&#45;&#45;&#45;</text>\n",
       "<text text-anchor=\"middle\" x=\"953.5\" y=\"-547\" font-family=\"monospace\" font-size=\"10.00\">indices &#160;&#160;&#160;&#160;&#160;&#160;&#160;&#160;&#160;&#160;: &#160;&#160;&#160;&#160;&#160;&#160;[saved tensor]</text>\n",
       "<text text-anchor=\"middle\" x=\"953.5\" y=\"-536\" font-family=\"monospace\" font-size=\"10.00\">padding_idx &#160;&#160;&#160;&#160;&#160;&#160;: 18446744073709551615</text>\n",
       "<text text-anchor=\"middle\" x=\"953.5\" y=\"-525\" font-family=\"monospace\" font-size=\"10.00\">scale_grad_by_freq: &#160;&#160;&#160;&#160;&#160;&#160;&#160;&#160;&#160;&#160;&#160;&#160;&#160;&#160;&#160;False</text>\n",
       "<text text-anchor=\"middle\" x=\"953.5\" y=\"-514\" font-family=\"monospace\" font-size=\"10.00\">sparse &#160;&#160;&#160;&#160;&#160;&#160;&#160;&#160;&#160;&#160;&#160;: &#160;&#160;&#160;&#160;&#160;&#160;&#160;&#160;&#160;&#160;&#160;&#160;&#160;&#160;&#160;False</text>\n",
       "<text text-anchor=\"middle\" x=\"953.5\" y=\"-503\" font-family=\"monospace\" font-size=\"10.00\">weight_argsize_0 &#160;: &#160;&#160;&#160;&#160;&#160;&#160;&#160;&#160;&#160;&#160;&#160;&#160;&#160;&#160;&#160;&#160;5796</text>\n",
       "</g>\n",
       "<!-- 139804524860896&#45;&gt;139804524876480 -->\n",
       "<g id=\"edge22\" class=\"edge\">\n",
       "<title>139804524860896&#45;&gt;139804524876480</title>\n",
       "<path fill=\"none\" stroke=\"black\" d=\"M863.93,-495.96C827.68,-479.14 788.3,-460.88 762.2,-448.77\"/>\n",
       "</g>\n",
       "<!-- 139804524860896&#45;&gt;139804524859984 -->\n",
       "<g id=\"edge21\" class=\"edge\">\n",
       "<title>139804524860896&#45;&gt;139804524859984</title>\n",
       "<path fill=\"none\" stroke=\"black\" d=\"M930.21,-495.9C897.48,-437.45 838.74,-332.53 810.51,-282.1\"/>\n",
       "<polygon fill=\"black\" stroke=\"black\" points=\"813.55,-280.35 805.61,-273.34 807.44,-283.77 813.55,-280.35\"/>\n",
       "</g>\n",
       "<!-- 139804524860704 -->\n",
       "<g id=\"node23\" class=\"node\">\n",
       "<title>139804524860704</title>\n",
       "<polygon fill=\"lightgrey\" stroke=\"black\" points=\"1004,-636 903,-636 903,-617 1004,-617 1004,-636\"/>\n",
       "<text text-anchor=\"middle\" x=\"953.5\" y=\"-624\" font-family=\"monospace\" font-size=\"10.00\">AccumulateGrad</text>\n",
       "</g>\n",
       "<!-- 139804524860704&#45;&gt;139804524860896 -->\n",
       "<g id=\"edge23\" class=\"edge\">\n",
       "<title>139804524860704&#45;&gt;139804524860896</title>\n",
       "<path fill=\"none\" stroke=\"black\" d=\"M953.5,-616.94C953.5,-610.57 953.5,-601.28 953.5,-591.34\"/>\n",
       "<polygon fill=\"black\" stroke=\"black\" points=\"957,-591.26 953.5,-581.26 950,-591.26 957,-591.26\"/>\n",
       "</g>\n",
       "<!-- 139804524876080 -->\n",
       "<g id=\"node24\" class=\"node\">\n",
       "<title>139804524876080</title>\n",
       "<polygon fill=\"lightblue\" stroke=\"black\" points=\"1058,-702 849,-702 849,-672 1058,-672 1058,-702\"/>\n",
       "<text text-anchor=\"middle\" x=\"953.5\" y=\"-690\" font-family=\"monospace\" font-size=\"10.00\">embedding_dot_bias.i_bias.weight</text>\n",
       "<text text-anchor=\"middle\" x=\"953.5\" y=\"-679\" font-family=\"monospace\" font-size=\"10.00\"> (5796, 1)</text>\n",
       "</g>\n",
       "<!-- 139804524876080&#45;&gt;139804524860704 -->\n",
       "<g id=\"edge24\" class=\"edge\">\n",
       "<title>139804524876080&#45;&gt;139804524860704</title>\n",
       "<path fill=\"none\" stroke=\"black\" d=\"M953.5,-671.84C953.5,-664.21 953.5,-654.7 953.5,-646.45\"/>\n",
       "<polygon fill=\"black\" stroke=\"black\" points=\"957,-646.27 953.5,-636.27 950,-646.27 957,-646.27\"/>\n",
       "</g>\n",
       "</g>\n",
       "</svg>\n"
      ],
      "text/plain": [
       "<graphviz.graphs.Digraph at 0x7f26c70ad220>"
      ]
     },
     "execution_count": 19,
     "metadata": {},
     "output_type": "execute_result"
    }
   ],
   "source": [
    "dot"
   ]
  },
  {
   "cell_type": "code",
   "execution_count": 45,
   "metadata": {},
   "outputs": [
    {
     "data": {
      "text/html": [
       "\n",
       "<style>\n",
       "    /* Turns off some styling */\n",
       "    progress {\n",
       "        /* gets rid of default border in Firefox and Opera. */\n",
       "        border: none;\n",
       "        /* Needs to be in here for Safari polyfill so background images work as expected. */\n",
       "        background-size: auto;\n",
       "    }\n",
       "    progress:not([value]), progress:not([value])::-webkit-progress-bar {\n",
       "        background: repeating-linear-gradient(45deg, #7e7e7e, #7e7e7e 10px, #5c5c5c 10px, #5c5c5c 20px);\n",
       "    }\n",
       "    .progress-bar-interrupted, .progress-bar-interrupted::-webkit-progress-bar {\n",
       "        background: #F44336;\n",
       "    }\n",
       "</style>\n"
      ],
      "text/plain": [
       "<IPython.core.display.HTML object>"
      ]
     },
     "metadata": {},
     "output_type": "display_data"
    },
    {
     "data": {
      "text/html": [
       "<table border=\"1\" class=\"dataframe\">\n",
       "  <thead>\n",
       "    <tr style=\"text-align: left;\">\n",
       "      <th>epoch</th>\n",
       "      <th>train_loss</th>\n",
       "      <th>valid_loss</th>\n",
       "      <th>time</th>\n",
       "    </tr>\n",
       "  </thead>\n",
       "  <tbody>\n",
       "    <tr>\n",
       "      <td>0</td>\n",
       "      <td>1.170582</td>\n",
       "      <td>None</td>\n",
       "      <td>00:27</td>\n",
       "    </tr>\n",
       "    <tr>\n",
       "      <td>1</td>\n",
       "      <td>1.203453</td>\n",
       "      <td>None</td>\n",
       "      <td>00:27</td>\n",
       "    </tr>\n",
       "    <tr>\n",
       "      <td>2</td>\n",
       "      <td>1.244491</td>\n",
       "      <td>None</td>\n",
       "      <td>00:27</td>\n",
       "    </tr>\n",
       "    <tr>\n",
       "      <td>3</td>\n",
       "      <td>1.217307</td>\n",
       "      <td>None</td>\n",
       "      <td>00:27</td>\n",
       "    </tr>\n",
       "    <tr>\n",
       "      <td>4</td>\n",
       "      <td>1.179308</td>\n",
       "      <td>None</td>\n",
       "      <td>00:27</td>\n",
       "    </tr>\n",
       "    <tr>\n",
       "      <td>5</td>\n",
       "      <td>1.160555</td>\n",
       "      <td>None</td>\n",
       "      <td>00:27</td>\n",
       "    </tr>\n",
       "    <tr>\n",
       "      <td>6</td>\n",
       "      <td>1.139209</td>\n",
       "      <td>None</td>\n",
       "      <td>00:27</td>\n",
       "    </tr>\n",
       "    <tr>\n",
       "      <td>7</td>\n",
       "      <td>1.033406</td>\n",
       "      <td>None</td>\n",
       "      <td>00:27</td>\n",
       "    </tr>\n",
       "    <tr>\n",
       "      <td>8</td>\n",
       "      <td>0.949766</td>\n",
       "      <td>None</td>\n",
       "      <td>00:27</td>\n",
       "    </tr>\n",
       "    <tr>\n",
       "      <td>9</td>\n",
       "      <td>0.863977</td>\n",
       "      <td>None</td>\n",
       "      <td>00:27</td>\n",
       "    </tr>\n",
       "  </tbody>\n",
       "</table>"
      ],
      "text/plain": [
       "<IPython.core.display.HTML object>"
      ]
     },
     "metadata": {},
     "output_type": "display_data"
    }
   ],
   "source": [
    "# Train the EmbeddingDotBias model\n",
    "learn_dot.fit_one_cycle(10, 0.02) #loss function: MSELossFlat"
   ]
  },
  {
   "cell_type": "code",
   "execution_count": 47,
   "metadata": {},
   "outputs": [
    {
     "name": "stdout",
     "output_type": "stream",
     "text": [
      "Best Train RMSE: 0.9295037993691511\n"
     ]
    }
   ],
   "source": [
    "losses = np.array(learn_dot.recorder.values)\n",
    "best_train_rmse = np.min(losses[:, 0]) ** 0.5\n",
    "print('Best Train RMSE:', best_train_rmse)"
   ]
  },
  {
   "cell_type": "markdown",
   "metadata": {},
   "source": [
    "### Retrieve bias for users and restaurants, adding it as training features"
   ]
  },
  {
   "cell_type": "code",
   "execution_count": 49,
   "metadata": {},
   "outputs": [
    {
     "data": {
      "text/plain": [
       "business_id_cat\n",
       "5224    1591\n",
       "4668    1291\n",
       "1201    1285\n",
       "2364    1141\n",
       "634     1106\n",
       "3495    1008\n",
       "1794     951\n",
       "3498     949\n",
       "637      886\n",
       "4083     879\n",
       "Name: stars, dtype: int64"
      ]
     },
     "execution_count": 49,
     "metadata": {},
     "output_type": "execute_result"
    }
   ],
   "source": [
    "resto_count = df.groupby('business_id_cat')['stars'].count()\n",
    "resto_count.sort_values(ascending=False)[:10]"
   ]
  },
  {
   "cell_type": "code",
   "execution_count": 51,
   "metadata": {},
   "outputs": [
    {
     "data": {
      "text/html": [
       "<div>\n",
       "<style scoped>\n",
       "    .dataframe tbody tr th:only-of-type {\n",
       "        vertical-align: middle;\n",
       "    }\n",
       "\n",
       "    .dataframe tbody tr th {\n",
       "        vertical-align: top;\n",
       "    }\n",
       "\n",
       "    .dataframe thead th {\n",
       "        text-align: right;\n",
       "    }\n",
       "</style>\n",
       "<table border=\"1\" class=\"dataframe\">\n",
       "  <thead>\n",
       "    <tr style=\"text-align: right;\">\n",
       "      <th></th>\n",
       "      <th>resto_bias</th>\n",
       "      <th>business_id_cat</th>\n",
       "      <th>avg_pred_stars</th>\n",
       "      <th>total_reviews</th>\n",
       "    </tr>\n",
       "  </thead>\n",
       "  <tbody>\n",
       "    <tr>\n",
       "      <th>0</th>\n",
       "      <td>-0.418398</td>\n",
       "      <td>1776</td>\n",
       "      <td>2.273616</td>\n",
       "      <td>614</td>\n",
       "    </tr>\n",
       "    <tr>\n",
       "      <th>1</th>\n",
       "      <td>-0.385746</td>\n",
       "      <td>3149</td>\n",
       "      <td>1.280000</td>\n",
       "      <td>25</td>\n",
       "    </tr>\n",
       "    <tr>\n",
       "      <th>2</th>\n",
       "      <td>-0.365251</td>\n",
       "      <td>4839</td>\n",
       "      <td>2.109589</td>\n",
       "      <td>73</td>\n",
       "    </tr>\n",
       "    <tr>\n",
       "      <th>3</th>\n",
       "      <td>-0.360753</td>\n",
       "      <td>809</td>\n",
       "      <td>1.527778</td>\n",
       "      <td>36</td>\n",
       "    </tr>\n",
       "    <tr>\n",
       "      <th>4</th>\n",
       "      <td>-0.319066</td>\n",
       "      <td>1842</td>\n",
       "      <td>1.875000</td>\n",
       "      <td>40</td>\n",
       "    </tr>\n",
       "    <tr>\n",
       "      <th>...</th>\n",
       "      <td>...</td>\n",
       "      <td>...</td>\n",
       "      <td>...</td>\n",
       "      <td>...</td>\n",
       "    </tr>\n",
       "    <tr>\n",
       "      <th>5790</th>\n",
       "      <td>0.749199</td>\n",
       "      <td>2396</td>\n",
       "      <td>4.812950</td>\n",
       "      <td>139</td>\n",
       "    </tr>\n",
       "    <tr>\n",
       "      <th>5791</th>\n",
       "      <td>0.785729</td>\n",
       "      <td>3558</td>\n",
       "      <td>4.477679</td>\n",
       "      <td>448</td>\n",
       "    </tr>\n",
       "    <tr>\n",
       "      <th>5792</th>\n",
       "      <td>0.849251</td>\n",
       "      <td>1201</td>\n",
       "      <td>4.522179</td>\n",
       "      <td>1285</td>\n",
       "    </tr>\n",
       "    <tr>\n",
       "      <th>5793</th>\n",
       "      <td>0.868614</td>\n",
       "      <td>4649</td>\n",
       "      <td>4.628415</td>\n",
       "      <td>549</td>\n",
       "    </tr>\n",
       "    <tr>\n",
       "      <th>5794</th>\n",
       "      <td>0.971339</td>\n",
       "      <td>5224</td>\n",
       "      <td>4.588938</td>\n",
       "      <td>1591</td>\n",
       "    </tr>\n",
       "  </tbody>\n",
       "</table>\n",
       "<p>5795 rows × 4 columns</p>\n",
       "</div>"
      ],
      "text/plain": [
       "      resto_bias  business_id_cat  avg_pred_stars  total_reviews\n",
       "0      -0.418398             1776        2.273616            614\n",
       "1      -0.385746             3149        1.280000             25\n",
       "2      -0.365251             4839        2.109589             73\n",
       "3      -0.360753              809        1.527778             36\n",
       "4      -0.319066             1842        1.875000             40\n",
       "...          ...              ...             ...            ...\n",
       "5790    0.749199             2396        4.812950            139\n",
       "5791    0.785729             3558        4.477679            448\n",
       "5792    0.849251             1201        4.522179           1285\n",
       "5793    0.868614             4649        4.628415            549\n",
       "5794    0.971339             5224        4.588938           1591\n",
       "\n",
       "[5795 rows x 4 columns]"
      ]
     },
     "execution_count": 51,
     "metadata": {},
     "output_type": "execute_result"
    }
   ],
   "source": [
    "restos_idx = resto_count.sort_values(ascending=False).index.values\n",
    "resto_bias = learn_dot.bias(restos_idx, is_item=True)\n",
    "mean_ratings_resto = df.groupby('business_id_cat')['stars'].mean()\n",
    "resto_ratings_bias = [(b, i, mean_ratings_resto.loc[i], resto_count.loc[i]) for i,b in zip(restos_idx, resto_bias)]\n",
    "\n",
    "item0 = lambda o:o[0]\n",
    "sorted_resto_bias = sorted(resto_ratings_bias, key=item0)\n",
    "sorted_resto_bias_df = pd.DataFrame(sorted_resto_bias, columns=['resto_bias', 'business_id_cat', 'avg_pred_stars', 'total_reviews'])\n",
    "sorted_resto_bias_df['resto_bias'] = sorted_resto_bias_df['resto_bias'].apply(lambda x: x.numpy())\n",
    "sorted_resto_bias_df"
   ]
  },
  {
   "cell_type": "code",
   "execution_count": 52,
   "metadata": {},
   "outputs": [
    {
     "data": {
      "text/plain": [
       "user_id_cat\n",
       "220      706\n",
       "606      608\n",
       "170      538\n",
       "438      466\n",
       "517      438\n",
       "        ... \n",
       "7950      10\n",
       "9817      10\n",
       "9816      10\n",
       "5505      10\n",
       "10726     10\n",
       "Name: stars, Length: 10727, dtype: int64"
      ]
     },
     "execution_count": 52,
     "metadata": {},
     "output_type": "execute_result"
    }
   ],
   "source": [
    "user_count = df.groupby('user_id_cat')['stars'].count()\n",
    "user_count.sort_values(ascending=False)"
   ]
  },
  {
   "cell_type": "code",
   "execution_count": 53,
   "metadata": {},
   "outputs": [
    {
     "data": {
      "text/html": [
       "<div>\n",
       "<style scoped>\n",
       "    .dataframe tbody tr th:only-of-type {\n",
       "        vertical-align: middle;\n",
       "    }\n",
       "\n",
       "    .dataframe tbody tr th {\n",
       "        vertical-align: top;\n",
       "    }\n",
       "\n",
       "    .dataframe thead th {\n",
       "        text-align: right;\n",
       "    }\n",
       "</style>\n",
       "<table border=\"1\" class=\"dataframe\">\n",
       "  <thead>\n",
       "    <tr style=\"text-align: right;\">\n",
       "      <th></th>\n",
       "      <th>user_bias</th>\n",
       "      <th>user_id_cat</th>\n",
       "      <th>avg_pred_stars_given</th>\n",
       "      <th>total_reviews_given</th>\n",
       "    </tr>\n",
       "  </thead>\n",
       "  <tbody>\n",
       "    <tr>\n",
       "      <th>0</th>\n",
       "      <td>-0.370588</td>\n",
       "      <td>6538</td>\n",
       "      <td>1.272727</td>\n",
       "      <td>22</td>\n",
       "    </tr>\n",
       "    <tr>\n",
       "      <th>1</th>\n",
       "      <td>-0.334064</td>\n",
       "      <td>5670</td>\n",
       "      <td>1.210526</td>\n",
       "      <td>19</td>\n",
       "    </tr>\n",
       "    <tr>\n",
       "      <th>2</th>\n",
       "      <td>-0.323080</td>\n",
       "      <td>9383</td>\n",
       "      <td>1.000000</td>\n",
       "      <td>19</td>\n",
       "    </tr>\n",
       "    <tr>\n",
       "      <th>3</th>\n",
       "      <td>-0.301571</td>\n",
       "      <td>3450</td>\n",
       "      <td>1.781250</td>\n",
       "      <td>32</td>\n",
       "    </tr>\n",
       "    <tr>\n",
       "      <th>4</th>\n",
       "      <td>-0.272296</td>\n",
       "      <td>943</td>\n",
       "      <td>2.129630</td>\n",
       "      <td>54</td>\n",
       "    </tr>\n",
       "    <tr>\n",
       "      <th>...</th>\n",
       "      <td>...</td>\n",
       "      <td>...</td>\n",
       "      <td>...</td>\n",
       "      <td>...</td>\n",
       "    </tr>\n",
       "    <tr>\n",
       "      <th>10722</th>\n",
       "      <td>0.631546</td>\n",
       "      <td>4618</td>\n",
       "      <td>4.103627</td>\n",
       "      <td>193</td>\n",
       "    </tr>\n",
       "    <tr>\n",
       "      <th>10723</th>\n",
       "      <td>0.681244</td>\n",
       "      <td>1137</td>\n",
       "      <td>4.958904</td>\n",
       "      <td>73</td>\n",
       "    </tr>\n",
       "    <tr>\n",
       "      <th>10724</th>\n",
       "      <td>0.684404</td>\n",
       "      <td>2524</td>\n",
       "      <td>4.526316</td>\n",
       "      <td>228</td>\n",
       "    </tr>\n",
       "    <tr>\n",
       "      <th>10725</th>\n",
       "      <td>0.726669</td>\n",
       "      <td>501</td>\n",
       "      <td>4.404412</td>\n",
       "      <td>272</td>\n",
       "    </tr>\n",
       "    <tr>\n",
       "      <th>10726</th>\n",
       "      <td>0.747282</td>\n",
       "      <td>2983</td>\n",
       "      <td>4.571429</td>\n",
       "      <td>231</td>\n",
       "    </tr>\n",
       "  </tbody>\n",
       "</table>\n",
       "<p>10727 rows × 4 columns</p>\n",
       "</div>"
      ],
      "text/plain": [
       "       user_bias  user_id_cat  avg_pred_stars_given  total_reviews_given\n",
       "0      -0.370588         6538              1.272727                   22\n",
       "1      -0.334064         5670              1.210526                   19\n",
       "2      -0.323080         9383              1.000000                   19\n",
       "3      -0.301571         3450              1.781250                   32\n",
       "4      -0.272296          943              2.129630                   54\n",
       "...          ...          ...                   ...                  ...\n",
       "10722   0.631546         4618              4.103627                  193\n",
       "10723   0.681244         1137              4.958904                   73\n",
       "10724   0.684404         2524              4.526316                  228\n",
       "10725   0.726669          501              4.404412                  272\n",
       "10726   0.747282         2983              4.571429                  231\n",
       "\n",
       "[10727 rows x 4 columns]"
      ]
     },
     "execution_count": 53,
     "metadata": {},
     "output_type": "execute_result"
    }
   ],
   "source": [
    "users_idx = user_count.sort_values(ascending=False).index.values\n",
    "users_bias = learn_dot.bias(users_idx, is_item=False)\n",
    "mean_ratings_user = df.groupby('user_id_cat')['stars'].mean()\n",
    "users_ratings = [(b, i, mean_ratings_user.loc[i], user_count.loc[i]) for i,b in zip(users_idx, users_bias)]\n",
    "\n",
    "item0 = lambda o:o[0]\n",
    "sorted_users_bias = sorted(users_ratings, key=item0)\n",
    "sorted_users_bias_df = pd.DataFrame(sorted_users_bias, columns=['user_bias', 'user_id_cat', 'avg_pred_stars_given', 'total_reviews_given'])\n",
    "sorted_users_bias_df['user_bias'] = sorted_users_bias_df['user_bias'].apply(lambda x: x.numpy())\n",
    "sorted_users_bias_df"
   ]
  },
  {
   "cell_type": "code",
   "execution_count": 60,
   "metadata": {},
   "outputs": [
    {
     "data": {
      "text/html": [
       "<div>\n",
       "<style scoped>\n",
       "    .dataframe tbody tr th:only-of-type {\n",
       "        vertical-align: middle;\n",
       "    }\n",
       "\n",
       "    .dataframe tbody tr th {\n",
       "        vertical-align: top;\n",
       "    }\n",
       "\n",
       "    .dataframe thead th {\n",
       "        text-align: right;\n",
       "    }\n",
       "</style>\n",
       "<table border=\"1\" class=\"dataframe\">\n",
       "  <thead>\n",
       "    <tr style=\"text-align: right;\">\n",
       "      <th></th>\n",
       "      <th>user_id_cat</th>\n",
       "      <th>business_id_cat</th>\n",
       "      <th>res_avg_stars</th>\n",
       "      <th>res_review_count</th>\n",
       "      <th>avg_res_sentiment</th>\n",
       "      <th>user_bias</th>\n",
       "      <th>resto_bias</th>\n",
       "      <th>stars</th>\n",
       "    </tr>\n",
       "  </thead>\n",
       "  <tbody>\n",
       "    <tr>\n",
       "      <th>0</th>\n",
       "      <td>0</td>\n",
       "      <td>0</td>\n",
       "      <td>4.0</td>\n",
       "      <td>181</td>\n",
       "      <td>0.851986</td>\n",
       "      <td>-0.027455</td>\n",
       "      <td>0.367758</td>\n",
       "      <td>4.0</td>\n",
       "    </tr>\n",
       "    <tr>\n",
       "      <th>1</th>\n",
       "      <td>0</td>\n",
       "      <td>1342</td>\n",
       "      <td>3.5</td>\n",
       "      <td>874</td>\n",
       "      <td>0.790914</td>\n",
       "      <td>-0.027455</td>\n",
       "      <td>0.171414</td>\n",
       "      <td>4.0</td>\n",
       "    </tr>\n",
       "    <tr>\n",
       "      <th>2</th>\n",
       "      <td>0</td>\n",
       "      <td>2065</td>\n",
       "      <td>3.5</td>\n",
       "      <td>93</td>\n",
       "      <td>0.703277</td>\n",
       "      <td>-0.027455</td>\n",
       "      <td>0.137784</td>\n",
       "      <td>4.0</td>\n",
       "    </tr>\n",
       "    <tr>\n",
       "      <th>3</th>\n",
       "      <td>0</td>\n",
       "      <td>2500</td>\n",
       "      <td>2.5</td>\n",
       "      <td>215</td>\n",
       "      <td>0.635389</td>\n",
       "      <td>-0.027455</td>\n",
       "      <td>-0.097630</td>\n",
       "      <td>3.0</td>\n",
       "    </tr>\n",
       "    <tr>\n",
       "      <th>4</th>\n",
       "      <td>0</td>\n",
       "      <td>2765</td>\n",
       "      <td>4.0</td>\n",
       "      <td>9</td>\n",
       "      <td>0.830550</td>\n",
       "      <td>-0.027455</td>\n",
       "      <td>0.061210</td>\n",
       "      <td>3.0</td>\n",
       "    </tr>\n",
       "    <tr>\n",
       "      <th>...</th>\n",
       "      <td>...</td>\n",
       "      <td>...</td>\n",
       "      <td>...</td>\n",
       "      <td>...</td>\n",
       "      <td>...</td>\n",
       "      <td>...</td>\n",
       "      <td>...</td>\n",
       "      <td>...</td>\n",
       "    </tr>\n",
       "    <tr>\n",
       "      <th>294998</th>\n",
       "      <td>10726</td>\n",
       "      <td>4837</td>\n",
       "      <td>3.5</td>\n",
       "      <td>41</td>\n",
       "      <td>0.633663</td>\n",
       "      <td>0.014713</td>\n",
       "      <td>0.087498</td>\n",
       "      <td>4.0</td>\n",
       "    </tr>\n",
       "    <tr>\n",
       "      <th>294999</th>\n",
       "      <td>10726</td>\n",
       "      <td>5192</td>\n",
       "      <td>4.0</td>\n",
       "      <td>23</td>\n",
       "      <td>0.903925</td>\n",
       "      <td>0.014713</td>\n",
       "      <td>0.111554</td>\n",
       "      <td>4.0</td>\n",
       "    </tr>\n",
       "    <tr>\n",
       "      <th>295000</th>\n",
       "      <td>10726</td>\n",
       "      <td>5271</td>\n",
       "      <td>3.0</td>\n",
       "      <td>57</td>\n",
       "      <td>0.739628</td>\n",
       "      <td>0.014713</td>\n",
       "      <td>0.071674</td>\n",
       "      <td>2.0</td>\n",
       "    </tr>\n",
       "    <tr>\n",
       "      <th>295001</th>\n",
       "      <td>10726</td>\n",
       "      <td>5696</td>\n",
       "      <td>4.5</td>\n",
       "      <td>42</td>\n",
       "      <td>0.961263</td>\n",
       "      <td>0.014713</td>\n",
       "      <td>0.244893</td>\n",
       "      <td>5.0</td>\n",
       "    </tr>\n",
       "    <tr>\n",
       "      <th>295002</th>\n",
       "      <td>10726</td>\n",
       "      <td>5707</td>\n",
       "      <td>2.0</td>\n",
       "      <td>23</td>\n",
       "      <td>-0.105750</td>\n",
       "      <td>0.014713</td>\n",
       "      <td>-0.052442</td>\n",
       "      <td>1.0</td>\n",
       "    </tr>\n",
       "  </tbody>\n",
       "</table>\n",
       "<p>295003 rows × 8 columns</p>\n",
       "</div>"
      ],
      "text/plain": [
       "        user_id_cat  business_id_cat  res_avg_stars  res_review_count   \n",
       "0                 0                0            4.0               181  \\\n",
       "1                 0             1342            3.5               874   \n",
       "2                 0             2065            3.5                93   \n",
       "3                 0             2500            2.5               215   \n",
       "4                 0             2765            4.0                 9   \n",
       "...             ...              ...            ...               ...   \n",
       "294998        10726             4837            3.5                41   \n",
       "294999        10726             5192            4.0                23   \n",
       "295000        10726             5271            3.0                57   \n",
       "295001        10726             5696            4.5                42   \n",
       "295002        10726             5707            2.0                23   \n",
       "\n",
       "        avg_res_sentiment  user_bias  resto_bias  stars  \n",
       "0                0.851986  -0.027455    0.367758    4.0  \n",
       "1                0.790914  -0.027455    0.171414    4.0  \n",
       "2                0.703277  -0.027455    0.137784    4.0  \n",
       "3                0.635389  -0.027455   -0.097630    3.0  \n",
       "4                0.830550  -0.027455    0.061210    3.0  \n",
       "...                   ...        ...         ...    ...  \n",
       "294998           0.633663   0.014713    0.087498    4.0  \n",
       "294999           0.903925   0.014713    0.111554    4.0  \n",
       "295000           0.739628   0.014713    0.071674    2.0  \n",
       "295001           0.961263   0.014713    0.244893    5.0  \n",
       "295002          -0.105750   0.014713   -0.052442    1.0  \n",
       "\n",
       "[295003 rows x 8 columns]"
      ]
     },
     "execution_count": 60,
     "metadata": {},
     "output_type": "execute_result"
    }
   ],
   "source": [
    "dl_df = pd.merge(embed_df, sorted_resto_bias_df[['business_id_cat', 'resto_bias']], on='business_id_cat', how='left')\n",
    "dl_df = pd.merge(dl_df, sorted_users_bias_df[['user_id_cat', 'user_bias']], on='user_id_cat', how='left')\n",
    "dl_df = dl_df[['user_id_cat', 'business_id_cat', 'res_avg_stars', 'review_count', 'avg_res_sentiment', 'user_bias', 'resto_bias', 'stars']]\n",
    "dl_df.rename(columns={'review_count': 'res_review_count'}, inplace=True)\n",
    "dl_df"
   ]
  },
  {
   "cell_type": "markdown",
   "metadata": {},
   "source": [
    "## Deep Learning model using fastai's tabular learner"
   ]
  },
  {
   "cell_type": "code",
   "execution_count": 204,
   "metadata": {},
   "outputs": [],
   "source": [
    "# Split data using 80:20 ratio\n",
    "train_df, test_df = train_test_split(dl_df, test_size=0.2, random_state=123)\n",
    "test_df.to_csv('user_test_df.csv')"
   ]
  },
  {
   "cell_type": "code",
   "execution_count": 205,
   "metadata": {},
   "outputs": [],
   "source": [
    "# Define the input data using TabularPandas\n",
    "procs = [Categorify, FillMissing, Normalize]\n",
    "cat_names = ['user_id_cat', 'business_id_cat']\n",
    "cont_names = ['res_avg_stars', 'res_review_count', 'avg_res_sentiment', 'user_bias', 'resto_bias']\n",
    "\n",
    "y_names = 'stars'\n",
    "n_factors = 60"
   ]
  },
  {
   "cell_type": "code",
   "execution_count": 206,
   "metadata": {},
   "outputs": [
    {
     "data": {
      "text/html": [
       "\n",
       "<style>\n",
       "    /* Turns off some styling */\n",
       "    progress {\n",
       "        /* gets rid of default border in Firefox and Opera. */\n",
       "        border: none;\n",
       "        /* Needs to be in here for Safari polyfill so background images work as expected. */\n",
       "        background-size: auto;\n",
       "    }\n",
       "    progress:not([value]), progress:not([value])::-webkit-progress-bar {\n",
       "        background: repeating-linear-gradient(45deg, #7e7e7e, #7e7e7e 10px, #5c5c5c 10px, #5c5c5c 20px);\n",
       "    }\n",
       "    .progress-bar-interrupted, .progress-bar-interrupted::-webkit-progress-bar {\n",
       "        background: #F44336;\n",
       "    }\n",
       "</style>\n"
      ],
      "text/plain": [
       "<IPython.core.display.HTML object>"
      ]
     },
     "metadata": {},
     "output_type": "display_data"
    },
    {
     "data": {
      "text/html": [],
      "text/plain": [
       "<IPython.core.display.HTML object>"
      ]
     },
     "metadata": {},
     "output_type": "display_data"
    },
    {
     "data": {
      "text/plain": [
       "SuggestedLRs(valley=0.001737800776027143)"
      ]
     },
     "execution_count": 206,
     "metadata": {},
     "output_type": "execute_result"
    },
    {
     "data": {
      "image/png": "[encoded data removed]",
      "text/plain": [
       "<Figure size 640x480 with 1 Axes>"
      ]
     },
     "metadata": {},
     "output_type": "display_data"
    }
   ],
   "source": [
    "# Create dataloaders and base model\n",
    "dls = TabularDataLoaders.from_df(train_df, procs=procs, cat_names=cat_names, cont_names=cont_names,\n",
    "               y_names=y_names, valid_pct=0.2, bs=128, val_bs=128, device=device)\n",
    "learn_tab = tabular_learner(dls, layers=[n_factors, 100], config={'ps':[0.3, 0.1], 'embed_p':0.2, 'bn_final':False}, y_range=(1, 5), wd=1e-1, metrics=rmse)\n",
    "learn_tab.model = learn_tab.model.to(device)\n",
    "\n",
    "# Find suggested learning rate\n",
    "learn_tab.lr_find()"
   ]
  },
  {
   "cell_type": "code",
   "execution_count": 207,
   "metadata": {},
   "outputs": [
    {
     "data": {
      "text/plain": [
       "TabularModel(\n",
       "  (embeds): ModuleList(\n",
       "    (0): Embedding(10728, 289)\n",
       "    (1): Embedding(5679, 203)\n",
       "  )\n",
       "  (emb_drop): Dropout(p=0.2, inplace=False)\n",
       "  (bn_cont): BatchNorm1d(5, eps=1e-05, momentum=0.1, affine=True, track_running_stats=True)\n",
       "  (layers): Sequential(\n",
       "    (0): LinBnDrop(\n",
       "      (0): Linear(in_features=497, out_features=60, bias=False)\n",
       "      (1): ReLU(inplace=True)\n",
       "      (2): BatchNorm1d(60, eps=1e-05, momentum=0.1, affine=True, track_running_stats=True)\n",
       "      (3): Dropout(p=0.3, inplace=False)\n",
       "    )\n",
       "    (1): LinBnDrop(\n",
       "      (0): Linear(in_features=60, out_features=100, bias=False)\n",
       "      (1): ReLU(inplace=True)\n",
       "      (2): BatchNorm1d(100, eps=1e-05, momentum=0.1, affine=True, track_running_stats=True)\n",
       "      (3): Dropout(p=0.1, inplace=False)\n",
       "    )\n",
       "    (2): LinBnDrop(\n",
       "      (0): Linear(in_features=100, out_features=1, bias=True)\n",
       "    )\n",
       "    (3): fastai.layers.SigmoidRange(low=1, high=5)\n",
       "  )\n",
       ")"
      ]
     },
     "execution_count": 207,
     "metadata": {},
     "output_type": "execute_result"
    }
   ],
   "source": [
    "# Model architecture\n",
    "learn_tab.model"
   ]
  },
  {
   "cell_type": "code",
   "execution_count": 212,
   "metadata": {
    "scrolled": true
   },
   "outputs": [
    {
     "data": {
      "text/html": [
       "\n",
       "<style>\n",
       "    /* Turns off some styling */\n",
       "    progress {\n",
       "        /* gets rid of default border in Firefox and Opera. */\n",
       "        border: none;\n",
       "        /* Needs to be in here for Safari polyfill so background images work as expected. */\n",
       "        background-size: auto;\n",
       "    }\n",
       "    progress:not([value]), progress:not([value])::-webkit-progress-bar {\n",
       "        background: repeating-linear-gradient(45deg, #7e7e7e, #7e7e7e 10px, #5c5c5c 10px, #5c5c5c 20px);\n",
       "    }\n",
       "    .progress-bar-interrupted, .progress-bar-interrupted::-webkit-progress-bar {\n",
       "        background: #F44336;\n",
       "    }\n",
       "</style>\n"
      ],
      "text/plain": [
       "<IPython.core.display.HTML object>"
      ]
     },
     "metadata": {},
     "output_type": "display_data"
    },
    {
     "data": {
      "text/html": [
       "<table border=\"1\" class=\"dataframe\">\n",
       "  <thead>\n",
       "    <tr style=\"text-align: left;\">\n",
       "      <th>epoch</th>\n",
       "      <th>train_loss</th>\n",
       "      <th>valid_loss</th>\n",
       "      <th>_rmse</th>\n",
       "      <th>time</th>\n",
       "    </tr>\n",
       "  </thead>\n",
       "  <tbody>\n",
       "    <tr>\n",
       "      <td>0</td>\n",
       "      <td>0.685757</td>\n",
       "      <td>1.104964</td>\n",
       "      <td>1.051172</td>\n",
       "      <td>00:17</td>\n",
       "    </tr>\n",
       "    <tr>\n",
       "      <td>1</td>\n",
       "      <td>0.781145</td>\n",
       "      <td>1.024006</td>\n",
       "      <td>1.011932</td>\n",
       "      <td>00:17</td>\n",
       "    </tr>\n",
       "    <tr>\n",
       "      <td>2</td>\n",
       "      <td>0.829000</td>\n",
       "      <td>0.997748</td>\n",
       "      <td>0.998873</td>\n",
       "      <td>00:17</td>\n",
       "    </tr>\n",
       "    <tr>\n",
       "      <td>3</td>\n",
       "      <td>0.817950</td>\n",
       "      <td>1.001257</td>\n",
       "      <td>1.000628</td>\n",
       "      <td>00:17</td>\n",
       "    </tr>\n",
       "    <tr>\n",
       "      <td>4</td>\n",
       "      <td>0.779931</td>\n",
       "      <td>1.020261</td>\n",
       "      <td>1.010080</td>\n",
       "      <td>00:17</td>\n",
       "    </tr>\n",
       "    <tr>\n",
       "      <td>5</td>\n",
       "      <td>0.746451</td>\n",
       "      <td>1.060026</td>\n",
       "      <td>1.029576</td>\n",
       "      <td>00:17</td>\n",
       "    </tr>\n",
       "    <tr>\n",
       "      <td>6</td>\n",
       "      <td>0.684708</td>\n",
       "      <td>1.115694</td>\n",
       "      <td>1.056264</td>\n",
       "      <td>00:17</td>\n",
       "    </tr>\n",
       "    <tr>\n",
       "      <td>7</td>\n",
       "      <td>0.612241</td>\n",
       "      <td>1.142692</td>\n",
       "      <td>1.068968</td>\n",
       "      <td>00:17</td>\n",
       "    </tr>\n",
       "    <tr>\n",
       "      <td>8</td>\n",
       "      <td>0.555963</td>\n",
       "      <td>1.166991</td>\n",
       "      <td>1.080274</td>\n",
       "      <td>00:17</td>\n",
       "    </tr>\n",
       "    <tr>\n",
       "      <td>9</td>\n",
       "      <td>0.519988</td>\n",
       "      <td>1.190424</td>\n",
       "      <td>1.091066</td>\n",
       "      <td>00:17</td>\n",
       "    </tr>\n",
       "  </tbody>\n",
       "</table>"
      ],
      "text/plain": [
       "<IPython.core.display.HTML object>"
      ]
     },
     "metadata": {},
     "output_type": "display_data"
    }
   ],
   "source": [
    "# Train the model for 10 epochs and suggested learning rate\n",
    "learn_tab.fit_one_cycle(10, 0.0017)"
   ]
  },
  {
   "cell_type": "code",
   "execution_count": 213,
   "metadata": {},
   "outputs": [],
   "source": [
    "# Define function to calculate model performance (RMSE and MAE)\n",
    "def calculate_test_metrics(learn_model, model_name):\n",
    "    test_dl = learn_model.dls.test_dl(test_df)\n",
    "    sub = learn_model.get_preds(dl=test_dl)\n",
    "\n",
    "    # Compute the test RMSE\n",
    "    y_preds = sub[0].numpy()\n",
    "    y_true = sub[1].numpy()\n",
    "    test_rmse = mean_squared_error(y_true, y_preds) ** 0.5\n",
    "    print(f'{model_name} Test RMSE: {test_rmse}' )\n",
    "    test_mae = mean_absolute_error(y_true, y_preds)\n",
    "    print(f'{model_name} Test MAE: {test_mae}')\n",
    "    \n",
    "    return (test_rmse, test_mae)"
   ]
  },
  {
   "cell_type": "code",
   "execution_count": 214,
   "metadata": {},
   "outputs": [
    {
     "data": {
      "text/html": [
       "\n",
       "<style>\n",
       "    /* Turns off some styling */\n",
       "    progress {\n",
       "        /* gets rid of default border in Firefox and Opera. */\n",
       "        border: none;\n",
       "        /* Needs to be in here for Safari polyfill so background images work as expected. */\n",
       "        background-size: auto;\n",
       "    }\n",
       "    progress:not([value]), progress:not([value])::-webkit-progress-bar {\n",
       "        background: repeating-linear-gradient(45deg, #7e7e7e, #7e7e7e 10px, #5c5c5c 10px, #5c5c5c 20px);\n",
       "    }\n",
       "    .progress-bar-interrupted, .progress-bar-interrupted::-webkit-progress-bar {\n",
       "        background: #F44336;\n",
       "    }\n",
       "</style>\n"
      ],
      "text/plain": [
       "<IPython.core.display.HTML object>"
      ]
     },
     "metadata": {},
     "output_type": "display_data"
    },
    {
     "data": {
      "text/html": [],
      "text/plain": [
       "<IPython.core.display.HTML object>"
      ]
     },
     "metadata": {},
     "output_type": "display_data"
    },
    {
     "name": "stdout",
     "output_type": "stream",
     "text": [
      "Base Model Test RMSE: 1.087168811923662\n",
      "Base Model Test MAE: 0.8168315887451172\n"
     ]
    }
   ],
   "source": [
    "# base_test_metrics = calculate_test_metrics(learn_dot, 'Base Model')\n",
    "base_test_metrics = calculate_test_metrics(learn_tab, 'Base Model')"
   ]
  },
  {
   "cell_type": "code",
   "execution_count": 215,
   "metadata": {},
   "outputs": [],
   "source": [
    "learn_tab.export('tab_base_model.pkl')"
   ]
  },
  {
   "cell_type": "markdown",
   "metadata": {},
   "source": [
    "From the training results, it seems that the model is overfitting. Although the train_loss achieved a very good result, MSE Loss = 0.73 at the 10th epoch but when testing it on unseen data, the RMSE is not better than the previous models without deep learning."
   ]
  },
  {
   "cell_type": "markdown",
   "metadata": {},
   "source": [
    "## Hyperparameter Tuning with Bayes Optimization"
   ]
  },
  {
   "cell_type": "code",
   "execution_count": 223,
   "metadata": {},
   "outputs": [],
   "source": [
    "# Define model fitting function with Stratified 5-fold Cross Validation\n",
    "def fit_with(lr:float, wd:float, dropout1:float, dropout2:float, lin_layer:int):\n",
    "    \n",
    "    print('=============== Params ===================')\n",
    "    print(lr, float(wd), dropout1, dropout2, int(lin_layer))\n",
    "\n",
    "    config = {'ps': [dropout1, dropout2], 'embed_p': 0.2}\n",
    "    \n",
    "    # Perform stratified k-fold cross-validation\n",
    "    n_folds = 5\n",
    "    skf = StratifiedKFold(n_splits=n_folds, shuffle=True, random_state=123)\n",
    "\n",
    "    valid_losses = []\n",
    "\n",
    "    for fold, (train_idx, valid_idx) in enumerate(skf.split(train_df, train_df[y_names])):\n",
    "        print(f\"Training fold {fold+1}/{n_folds}\")\n",
    "        \n",
    "        dls = TabularDataLoaders.from_df(train_df, procs=procs, cat_names=cat_names, cont_names=cont_names,\n",
    "                   y_names=y_names, valid_idx=valid_idx, bs=128, val_bs=128, device=device)\n",
    "        \n",
    "        learn = tabular_learner(dls, layers=[n_factors, int(lin_layer)], config=config, y_range=(1, 5), wd=float(wd), metrics=rmse)\n",
    "        learn.model = learn.model.to(device)\n",
    "    \n",
    "        with learn.no_bar() and learn.no_logging():\n",
    "            learn.fit_one_cycle(10, float(lr))\n",
    "        \n",
    "        val_loss = float(learn.validate()[1])\n",
    "        valid_losses.append(val_loss)\n",
    "\n",
    "    avg_loss = np.mean(valid_losses)\n",
    "    print(f\"Average Validation Loss: {avg_loss:.4f}\\n\")\n",
    "    \n",
    "    return -avg_loss # maximize negative loss (MSE)"
   ]
  },
  {
   "cell_type": "code",
   "execution_count": 224,
   "metadata": {},
   "outputs": [],
   "source": [
    "# Define hyperparameters searching space\n",
    "hps = {'lr': (0.005, 0.01),\n",
    "        'wd': (1e-2, 1e-1),\n",
    "        'dropout1': (0.4, 0.6), \n",
    "        'dropout2': (0.2, 0.4),\n",
    "        'lin_layer': (100, 200)\n",
    "      }\n",
    "\n",
    "# Create tuning function\n",
    "optim = BayesianOptimization(\n",
    "    f = fit_with, \n",
    "    pbounds = hps, \n",
    "    verbose = 2,\n",
    "    random_state=123\n",
    ")"
   ]
  },
  {
   "cell_type": "code",
   "execution_count": 225,
   "metadata": {},
   "outputs": [
    {
     "name": "stdout",
     "output_type": "stream",
     "text": [
      "|   iter    |  target   | dropout1  | dropout2  | lin_layer |    lr     |    wd     |\n",
      "-------------------------------------------------------------------------------------\n",
      "=============== Params ===================\n",
      "0.0077565738454144564 0.035247792719299315 0.5392938371195724 0.25722786699007594 122\n",
      "Training fold 1/5\n"
     ]
    },
    {
     "data": {
      "text/html": [
       "\n",
       "<style>\n",
       "    /* Turns off some styling */\n",
       "    progress {\n",
       "        /* gets rid of default border in Firefox and Opera. */\n",
       "        border: none;\n",
       "        /* Needs to be in here for Safari polyfill so background images work as expected. */\n",
       "        background-size: auto;\n",
       "    }\n",
       "    progress:not([value]), progress:not([value])::-webkit-progress-bar {\n",
       "        background: repeating-linear-gradient(45deg, #7e7e7e, #7e7e7e 10px, #5c5c5c 10px, #5c5c5c 20px);\n",
       "    }\n",
       "    .progress-bar-interrupted, .progress-bar-interrupted::-webkit-progress-bar {\n",
       "        background: #F44336;\n",
       "    }\n",
       "</style>\n"
      ],
      "text/plain": [
       "<IPython.core.display.HTML object>"
      ]
     },
     "metadata": {},
     "output_type": "display_data"
    },
    {
     "data": {
      "text/html": [],
      "text/plain": [
       "<IPython.core.display.HTML object>"
      ]
     },
     "metadata": {},
     "output_type": "display_data"
    },
    {
     "data": {
      "text/html": [
       "\n",
       "<style>\n",
       "    /* Turns off some styling */\n",
       "    progress {\n",
       "        /* gets rid of default border in Firefox and Opera. */\n",
       "        border: none;\n",
       "        /* Needs to be in here for Safari polyfill so background images work as expected. */\n",
       "        background-size: auto;\n",
       "    }\n",
       "    progress:not([value]), progress:not([value])::-webkit-progress-bar {\n",
       "        background: repeating-linear-gradient(45deg, #7e7e7e, #7e7e7e 10px, #5c5c5c 10px, #5c5c5c 20px);\n",
       "    }\n",
       "    .progress-bar-interrupted, .progress-bar-interrupted::-webkit-progress-bar {\n",
       "        background: #F44336;\n",
       "    }\n",
       "</style>\n"
      ],
      "text/plain": [
       "<IPython.core.display.HTML object>"
      ]
     },
     "metadata": {},
     "output_type": "display_data"
    },
    {
     "data": {
      "text/html": [],
      "text/plain": [
       "<IPython.core.display.HTML object>"
      ]
     },
     "metadata": {},
     "output_type": "display_data"
    },
    {
     "name": "stdout",
     "output_type": "stream",
     "text": [
      "Training fold 2/5\n"
     ]
    },
    {
     "data": {
      "text/html": [
       "\n",
       "<style>\n",
       "    /* Turns off some styling */\n",
       "    progress {\n",
       "        /* gets rid of default border in Firefox and Opera. */\n",
       "        border: none;\n",
       "        /* Needs to be in here for Safari polyfill so background images work as expected. */\n",
       "        background-size: auto;\n",
       "    }\n",
       "    progress:not([value]), progress:not([value])::-webkit-progress-bar {\n",
       "        background: repeating-linear-gradient(45deg, #7e7e7e, #7e7e7e 10px, #5c5c5c 10px, #5c5c5c 20px);\n",
       "    }\n",
       "    .progress-bar-interrupted, .progress-bar-interrupted::-webkit-progress-bar {\n",
       "        background: #F44336;\n",
       "    }\n",
       "</style>\n"
      ],
      "text/plain": [
       "<IPython.core.display.HTML object>"
      ]
     },
     "metadata": {},
     "output_type": "display_data"
    },
    {
     "data": {
      "text/html": [],
      "text/plain": [
       "<IPython.core.display.HTML object>"
      ]
     },
     "metadata": {},
     "output_type": "display_data"
    },
    {
     "data": {
      "text/html": [
       "\n",
       "<style>\n",
       "    /* Turns off some styling */\n",
       "    progress {\n",
       "        /* gets rid of default border in Firefox and Opera. */\n",
       "        border: none;\n",
       "        /* Needs to be in here for Safari polyfill so background images work as expected. */\n",
       "        background-size: auto;\n",
       "    }\n",
       "    progress:not([value]), progress:not([value])::-webkit-progress-bar {\n",
       "        background: repeating-linear-gradient(45deg, #7e7e7e, #7e7e7e 10px, #5c5c5c 10px, #5c5c5c 20px);\n",
       "    }\n",
       "    .progress-bar-interrupted, .progress-bar-interrupted::-webkit-progress-bar {\n",
       "        background: #F44336;\n",
       "    }\n",
       "</style>\n"
      ],
      "text/plain": [
       "<IPython.core.display.HTML object>"
      ]
     },
     "metadata": {},
     "output_type": "display_data"
    },
    {
     "data": {
      "text/html": [],
      "text/plain": [
       "<IPython.core.display.HTML object>"
      ]
     },
     "metadata": {},
     "output_type": "display_data"
    },
    {
     "name": "stdout",
     "output_type": "stream",
     "text": [
      "Training fold 3/5\n"
     ]
    },
    {
     "data": {
      "text/html": [
       "\n",
       "<style>\n",
       "    /* Turns off some styling */\n",
       "    progress {\n",
       "        /* gets rid of default border in Firefox and Opera. */\n",
       "        border: none;\n",
       "        /* Needs to be in here for Safari polyfill so background images work as expected. */\n",
       "        background-size: auto;\n",
       "    }\n",
       "    progress:not([value]), progress:not([value])::-webkit-progress-bar {\n",
       "        background: repeating-linear-gradient(45deg, #7e7e7e, #7e7e7e 10px, #5c5c5c 10px, #5c5c5c 20px);\n",
       "    }\n",
       "    .progress-bar-interrupted, .progress-bar-interrupted::-webkit-progress-bar {\n",
       "        background: #F44336;\n",
       "    }\n",
       "</style>\n"
      ],
      "text/plain": [
       "<IPython.core.display.HTML object>"
      ]
     },
     "metadata": {},
     "output_type": "display_data"
    },
    {
     "data": {
      "text/html": [],
      "text/plain": [
       "<IPython.core.display.HTML object>"
      ]
     },
     "metadata": {},
     "output_type": "display_data"
    },
    {
     "data": {
      "text/html": [
       "\n",
       "<style>\n",
       "    /* Turns off some styling */\n",
       "    progress {\n",
       "        /* gets rid of default border in Firefox and Opera. */\n",
       "        border: none;\n",
       "        /* Needs to be in here for Safari polyfill so background images work as expected. */\n",
       "        background-size: auto;\n",
       "    }\n",
       "    progress:not([value]), progress:not([value])::-webkit-progress-bar {\n",
       "        background: repeating-linear-gradient(45deg, #7e7e7e, #7e7e7e 10px, #5c5c5c 10px, #5c5c5c 20px);\n",
       "    }\n",
       "    .progress-bar-interrupted, .progress-bar-interrupted::-webkit-progress-bar {\n",
       "        background: #F44336;\n",
       "    }\n",
       "</style>\n"
      ],
      "text/plain": [
       "<IPython.core.display.HTML object>"
      ]
     },
     "metadata": {},
     "output_type": "display_data"
    },
    {
     "data": {
      "text/html": [],
      "text/plain": [
       "<IPython.core.display.HTML object>"
      ]
     },
     "metadata": {},
     "output_type": "display_data"
    },
    {
     "name": "stdout",
     "output_type": "stream",
     "text": [
      "Training fold 4/5\n"
     ]
    },
    {
     "data": {
      "text/html": [
       "\n",
       "<style>\n",
       "    /* Turns off some styling */\n",
       "    progress {\n",
       "        /* gets rid of default border in Firefox and Opera. */\n",
       "        border: none;\n",
       "        /* Needs to be in here for Safari polyfill so background images work as expected. */\n",
       "        background-size: auto;\n",
       "    }\n",
       "    progress:not([value]), progress:not([value])::-webkit-progress-bar {\n",
       "        background: repeating-linear-gradient(45deg, #7e7e7e, #7e7e7e 10px, #5c5c5c 10px, #5c5c5c 20px);\n",
       "    }\n",
       "    .progress-bar-interrupted, .progress-bar-interrupted::-webkit-progress-bar {\n",
       "        background: #F44336;\n",
       "    }\n",
       "</style>\n"
      ],
      "text/plain": [
       "<IPython.core.display.HTML object>"
      ]
     },
     "metadata": {},
     "output_type": "display_data"
    },
    {
     "data": {
      "text/html": [],
      "text/plain": [
       "<IPython.core.display.HTML object>"
      ]
     },
     "metadata": {},
     "output_type": "display_data"
    },
    {
     "data": {
      "text/html": [
       "\n",
       "<style>\n",
       "    /* Turns off some styling */\n",
       "    progress {\n",
       "        /* gets rid of default border in Firefox and Opera. */\n",
       "        border: none;\n",
       "        /* Needs to be in here for Safari polyfill so background images work as expected. */\n",
       "        background-size: auto;\n",
       "    }\n",
       "    progress:not([value]), progress:not([value])::-webkit-progress-bar {\n",
       "        background: repeating-linear-gradient(45deg, #7e7e7e, #7e7e7e 10px, #5c5c5c 10px, #5c5c5c 20px);\n",
       "    }\n",
       "    .progress-bar-interrupted, .progress-bar-interrupted::-webkit-progress-bar {\n",
       "        background: #F44336;\n",
       "    }\n",
       "</style>\n"
      ],
      "text/plain": [
       "<IPython.core.display.HTML object>"
      ]
     },
     "metadata": {},
     "output_type": "display_data"
    },
    {
     "data": {
      "text/html": [],
      "text/plain": [
       "<IPython.core.display.HTML object>"
      ]
     },
     "metadata": {},
     "output_type": "display_data"
    },
    {
     "name": "stdout",
     "output_type": "stream",
     "text": [
      "Training fold 5/5\n"
     ]
    },
    {
     "data": {
      "text/html": [
       "\n",
       "<style>\n",
       "    /* Turns off some styling */\n",
       "    progress {\n",
       "        /* gets rid of default border in Firefox and Opera. */\n",
       "        border: none;\n",
       "        /* Needs to be in here for Safari polyfill so background images work as expected. */\n",
       "        background-size: auto;\n",
       "    }\n",
       "    progress:not([value]), progress:not([value])::-webkit-progress-bar {\n",
       "        background: repeating-linear-gradient(45deg, #7e7e7e, #7e7e7e 10px, #5c5c5c 10px, #5c5c5c 20px);\n",
       "    }\n",
       "    .progress-bar-interrupted, .progress-bar-interrupted::-webkit-progress-bar {\n",
       "        background: #F44336;\n",
       "    }\n",
       "</style>\n"
      ],
      "text/plain": [
       "<IPython.core.display.HTML object>"
      ]
     },
     "metadata": {},
     "output_type": "display_data"
    },
    {
     "data": {
      "text/html": [],
      "text/plain": [
       "<IPython.core.display.HTML object>"
      ]
     },
     "metadata": {},
     "output_type": "display_data"
    },
    {
     "data": {
      "text/html": [
       "\n",
       "<style>\n",
       "    /* Turns off some styling */\n",
       "    progress {\n",
       "        /* gets rid of default border in Firefox and Opera. */\n",
       "        border: none;\n",
       "        /* Needs to be in here for Safari polyfill so background images work as expected. */\n",
       "        background-size: auto;\n",
       "    }\n",
       "    progress:not([value]), progress:not([value])::-webkit-progress-bar {\n",
       "        background: repeating-linear-gradient(45deg, #7e7e7e, #7e7e7e 10px, #5c5c5c 10px, #5c5c5c 20px);\n",
       "    }\n",
       "    .progress-bar-interrupted, .progress-bar-interrupted::-webkit-progress-bar {\n",
       "        background: #F44336;\n",
       "    }\n",
       "</style>\n"
      ],
      "text/plain": [
       "<IPython.core.display.HTML object>"
      ]
     },
     "metadata": {},
     "output_type": "display_data"
    },
    {
     "data": {
      "text/html": [],
      "text/plain": [
       "<IPython.core.display.HTML object>"
      ]
     },
     "metadata": {},
     "output_type": "display_data"
    },
    {
     "name": "stdout",
     "output_type": "stream",
     "text": [
      "Average Validation Loss: 0.9775\n",
      "\n",
      "| \u001b[0m1        \u001b[0m | \u001b[0m-0.9775  \u001b[0m | \u001b[0m0.5393   \u001b[0m | \u001b[0m0.2572   \u001b[0m | \u001b[0m122.7    \u001b[0m | \u001b[0m0.007757 \u001b[0m | \u001b[0m0.03525  \u001b[0m |\n",
      "=============== Params ===================\n",
      "0.007404659507421805 0.06470942336252646 0.4846212920248922 0.3961528396769231 168\n",
      "Training fold 1/5\n"
     ]
    },
    {
     "data": {
      "text/html": [
       "\n",
       "<style>\n",
       "    /* Turns off some styling */\n",
       "    progress {\n",
       "        /* gets rid of default border in Firefox and Opera. */\n",
       "        border: none;\n",
       "        /* Needs to be in here for Safari polyfill so background images work as expected. */\n",
       "        background-size: auto;\n",
       "    }\n",
       "    progress:not([value]), progress:not([value])::-webkit-progress-bar {\n",
       "        background: repeating-linear-gradient(45deg, #7e7e7e, #7e7e7e 10px, #5c5c5c 10px, #5c5c5c 20px);\n",
       "    }\n",
       "    .progress-bar-interrupted, .progress-bar-interrupted::-webkit-progress-bar {\n",
       "        background: #F44336;\n",
       "    }\n",
       "</style>\n"
      ],
      "text/plain": [
       "<IPython.core.display.HTML object>"
      ]
     },
     "metadata": {},
     "output_type": "display_data"
    },
    {
     "data": {
      "text/html": [],
      "text/plain": [
       "<IPython.core.display.HTML object>"
      ]
     },
     "metadata": {},
     "output_type": "display_data"
    },
    {
     "data": {
      "text/html": [
       "\n",
       "<style>\n",
       "    /* Turns off some styling */\n",
       "    progress {\n",
       "        /* gets rid of default border in Firefox and Opera. */\n",
       "        border: none;\n",
       "        /* Needs to be in here for Safari polyfill so background images work as expected. */\n",
       "        background-size: auto;\n",
       "    }\n",
       "    progress:not([value]), progress:not([value])::-webkit-progress-bar {\n",
       "        background: repeating-linear-gradient(45deg, #7e7e7e, #7e7e7e 10px, #5c5c5c 10px, #5c5c5c 20px);\n",
       "    }\n",
       "    .progress-bar-interrupted, .progress-bar-interrupted::-webkit-progress-bar {\n",
       "        background: #F44336;\n",
       "    }\n",
       "</style>\n"
      ],
      "text/plain": [
       "<IPython.core.display.HTML object>"
      ]
     },
     "metadata": {},
     "output_type": "display_data"
    },
    {
     "data": {
      "text/html": [],
      "text/plain": [
       "<IPython.core.display.HTML object>"
      ]
     },
     "metadata": {},
     "output_type": "display_data"
    },
    {
     "name": "stdout",
     "output_type": "stream",
     "text": [
      "Training fold 2/5\n"
     ]
    },
    {
     "data": {
      "text/html": [
       "\n",
       "<style>\n",
       "    /* Turns off some styling */\n",
       "    progress {\n",
       "        /* gets rid of default border in Firefox and Opera. */\n",
       "        border: none;\n",
       "        /* Needs to be in here for Safari polyfill so background images work as expected. */\n",
       "        background-size: auto;\n",
       "    }\n",
       "    progress:not([value]), progress:not([value])::-webkit-progress-bar {\n",
       "        background: repeating-linear-gradient(45deg, #7e7e7e, #7e7e7e 10px, #5c5c5c 10px, #5c5c5c 20px);\n",
       "    }\n",
       "    .progress-bar-interrupted, .progress-bar-interrupted::-webkit-progress-bar {\n",
       "        background: #F44336;\n",
       "    }\n",
       "</style>\n"
      ],
      "text/plain": [
       "<IPython.core.display.HTML object>"
      ]
     },
     "metadata": {},
     "output_type": "display_data"
    },
    {
     "data": {
      "text/html": [],
      "text/plain": [
       "<IPython.core.display.HTML object>"
      ]
     },
     "metadata": {},
     "output_type": "display_data"
    },
    {
     "data": {
      "text/html": [
       "\n",
       "<style>\n",
       "    /* Turns off some styling */\n",
       "    progress {\n",
       "        /* gets rid of default border in Firefox and Opera. */\n",
       "        border: none;\n",
       "        /* Needs to be in here for Safari polyfill so background images work as expected. */\n",
       "        background-size: auto;\n",
       "    }\n",
       "    progress:not([value]), progress:not([value])::-webkit-progress-bar {\n",
       "        background: repeating-linear-gradient(45deg, #7e7e7e, #7e7e7e 10px, #5c5c5c 10px, #5c5c5c 20px);\n",
       "    }\n",
       "    .progress-bar-interrupted, .progress-bar-interrupted::-webkit-progress-bar {\n",
       "        background: #F44336;\n",
       "    }\n",
       "</style>\n"
      ],
      "text/plain": [
       "<IPython.core.display.HTML object>"
      ]
     },
     "metadata": {},
     "output_type": "display_data"
    },
    {
     "data": {
      "text/html": [],
      "text/plain": [
       "<IPython.core.display.HTML object>"
      ]
     },
     "metadata": {},
     "output_type": "display_data"
    },
    {
     "name": "stdout",
     "output_type": "stream",
     "text": [
      "Training fold 3/5\n"
     ]
    },
    {
     "data": {
      "text/html": [
       "\n",
       "<style>\n",
       "    /* Turns off some styling */\n",
       "    progress {\n",
       "        /* gets rid of default border in Firefox and Opera. */\n",
       "        border: none;\n",
       "        /* Needs to be in here for Safari polyfill so background images work as expected. */\n",
       "        background-size: auto;\n",
       "    }\n",
       "    progress:not([value]), progress:not([value])::-webkit-progress-bar {\n",
       "        background: repeating-linear-gradient(45deg, #7e7e7e, #7e7e7e 10px, #5c5c5c 10px, #5c5c5c 20px);\n",
       "    }\n",
       "    .progress-bar-interrupted, .progress-bar-interrupted::-webkit-progress-bar {\n",
       "        background: #F44336;\n",
       "    }\n",
       "</style>\n"
      ],
      "text/plain": [
       "<IPython.core.display.HTML object>"
      ]
     },
     "metadata": {},
     "output_type": "display_data"
    },
    {
     "data": {
      "text/html": [],
      "text/plain": [
       "<IPython.core.display.HTML object>"
      ]
     },
     "metadata": {},
     "output_type": "display_data"
    },
    {
     "data": {
      "text/html": [
       "\n",
       "<style>\n",
       "    /* Turns off some styling */\n",
       "    progress {\n",
       "        /* gets rid of default border in Firefox and Opera. */\n",
       "        border: none;\n",
       "        /* Needs to be in here for Safari polyfill so background images work as expected. */\n",
       "        background-size: auto;\n",
       "    }\n",
       "    progress:not([value]), progress:not([value])::-webkit-progress-bar {\n",
       "        background: repeating-linear-gradient(45deg, #7e7e7e, #7e7e7e 10px, #5c5c5c 10px, #5c5c5c 20px);\n",
       "    }\n",
       "    .progress-bar-interrupted, .progress-bar-interrupted::-webkit-progress-bar {\n",
       "        background: #F44336;\n",
       "    }\n",
       "</style>\n"
      ],
      "text/plain": [
       "<IPython.core.display.HTML object>"
      ]
     },
     "metadata": {},
     "output_type": "display_data"
    },
    {
     "data": {
      "text/html": [],
      "text/plain": [
       "<IPython.core.display.HTML object>"
      ]
     },
     "metadata": {},
     "output_type": "display_data"
    },
    {
     "name": "stdout",
     "output_type": "stream",
     "text": [
      "Training fold 4/5\n"
     ]
    },
    {
     "data": {
      "text/html": [
       "\n",
       "<style>\n",
       "    /* Turns off some styling */\n",
       "    progress {\n",
       "        /* gets rid of default border in Firefox and Opera. */\n",
       "        border: none;\n",
       "        /* Needs to be in here for Safari polyfill so background images work as expected. */\n",
       "        background-size: auto;\n",
       "    }\n",
       "    progress:not([value]), progress:not([value])::-webkit-progress-bar {\n",
       "        background: repeating-linear-gradient(45deg, #7e7e7e, #7e7e7e 10px, #5c5c5c 10px, #5c5c5c 20px);\n",
       "    }\n",
       "    .progress-bar-interrupted, .progress-bar-interrupted::-webkit-progress-bar {\n",
       "        background: #F44336;\n",
       "    }\n",
       "</style>\n"
      ],
      "text/plain": [
       "<IPython.core.display.HTML object>"
      ]
     },
     "metadata": {},
     "output_type": "display_data"
    },
    {
     "data": {
      "text/html": [],
      "text/plain": [
       "<IPython.core.display.HTML object>"
      ]
     },
     "metadata": {},
     "output_type": "display_data"
    },
    {
     "data": {
      "text/html": [
       "\n",
       "<style>\n",
       "    /* Turns off some styling */\n",
       "    progress {\n",
       "        /* gets rid of default border in Firefox and Opera. */\n",
       "        border: none;\n",
       "        /* Needs to be in here for Safari polyfill so background images work as expected. */\n",
       "        background-size: auto;\n",
       "    }\n",
       "    progress:not([value]), progress:not([value])::-webkit-progress-bar {\n",
       "        background: repeating-linear-gradient(45deg, #7e7e7e, #7e7e7e 10px, #5c5c5c 10px, #5c5c5c 20px);\n",
       "    }\n",
       "    .progress-bar-interrupted, .progress-bar-interrupted::-webkit-progress-bar {\n",
       "        background: #F44336;\n",
       "    }\n",
       "</style>\n"
      ],
      "text/plain": [
       "<IPython.core.display.HTML object>"
      ]
     },
     "metadata": {},
     "output_type": "display_data"
    },
    {
     "data": {
      "text/html": [],
      "text/plain": [
       "<IPython.core.display.HTML object>"
      ]
     },
     "metadata": {},
     "output_type": "display_data"
    },
    {
     "name": "stdout",
     "output_type": "stream",
     "text": [
      "Training fold 5/5\n"
     ]
    },
    {
     "data": {
      "text/html": [
       "\n",
       "<style>\n",
       "    /* Turns off some styling */\n",
       "    progress {\n",
       "        /* gets rid of default border in Firefox and Opera. */\n",
       "        border: none;\n",
       "        /* Needs to be in here for Safari polyfill so background images work as expected. */\n",
       "        background-size: auto;\n",
       "    }\n",
       "    progress:not([value]), progress:not([value])::-webkit-progress-bar {\n",
       "        background: repeating-linear-gradient(45deg, #7e7e7e, #7e7e7e 10px, #5c5c5c 10px, #5c5c5c 20px);\n",
       "    }\n",
       "    .progress-bar-interrupted, .progress-bar-interrupted::-webkit-progress-bar {\n",
       "        background: #F44336;\n",
       "    }\n",
       "</style>\n"
      ],
      "text/plain": [
       "<IPython.core.display.HTML object>"
      ]
     },
     "metadata": {},
     "output_type": "display_data"
    },
    {
     "data": {
      "text/html": [],
      "text/plain": [
       "<IPython.core.display.HTML object>"
      ]
     },
     "metadata": {},
     "output_type": "display_data"
    },
    {
     "data": {
      "text/html": [
       "\n",
       "<style>\n",
       "    /* Turns off some styling */\n",
       "    progress {\n",
       "        /* gets rid of default border in Firefox and Opera. */\n",
       "        border: none;\n",
       "        /* Needs to be in here for Safari polyfill so background images work as expected. */\n",
       "        background-size: auto;\n",
       "    }\n",
       "    progress:not([value]), progress:not([value])::-webkit-progress-bar {\n",
       "        background: repeating-linear-gradient(45deg, #7e7e7e, #7e7e7e 10px, #5c5c5c 10px, #5c5c5c 20px);\n",
       "    }\n",
       "    .progress-bar-interrupted, .progress-bar-interrupted::-webkit-progress-bar {\n",
       "        background: #F44336;\n",
       "    }\n",
       "</style>\n"
      ],
      "text/plain": [
       "<IPython.core.display.HTML object>"
      ]
     },
     "metadata": {},
     "output_type": "display_data"
    },
    {
     "data": {
      "text/html": [],
      "text/plain": [
       "<IPython.core.display.HTML object>"
      ]
     },
     "metadata": {},
     "output_type": "display_data"
    },
    {
     "name": "stdout",
     "output_type": "stream",
     "text": [
      "Average Validation Loss: 0.9866\n",
      "\n",
      "| \u001b[0m2        \u001b[0m | \u001b[0m-0.9866  \u001b[0m | \u001b[0m0.4846   \u001b[0m | \u001b[0m0.3962   \u001b[0m | \u001b[0m168.5    \u001b[0m | \u001b[0m0.007405 \u001b[0m | \u001b[0m0.06471  \u001b[0m |\n",
      "=============== Params ===================\n",
      "0.005298389483047842 0.06417601702026118 0.4686356032301739 0.3458099414768083 143\n",
      "Training fold 1/5\n"
     ]
    },
    {
     "data": {
      "text/html": [
       "\n",
       "<style>\n",
       "    /* Turns off some styling */\n",
       "    progress {\n",
       "        /* gets rid of default border in Firefox and Opera. */\n",
       "        border: none;\n",
       "        /* Needs to be in here for Safari polyfill so background images work as expected. */\n",
       "        background-size: auto;\n",
       "    }\n",
       "    progress:not([value]), progress:not([value])::-webkit-progress-bar {\n",
       "        background: repeating-linear-gradient(45deg, #7e7e7e, #7e7e7e 10px, #5c5c5c 10px, #5c5c5c 20px);\n",
       "    }\n",
       "    .progress-bar-interrupted, .progress-bar-interrupted::-webkit-progress-bar {\n",
       "        background: #F44336;\n",
       "    }\n",
       "</style>\n"
      ],
      "text/plain": [
       "<IPython.core.display.HTML object>"
      ]
     },
     "metadata": {},
     "output_type": "display_data"
    },
    {
     "data": {
      "text/html": [],
      "text/plain": [
       "<IPython.core.display.HTML object>"
      ]
     },
     "metadata": {},
     "output_type": "display_data"
    },
    {
     "data": {
      "text/html": [
       "\n",
       "<style>\n",
       "    /* Turns off some styling */\n",
       "    progress {\n",
       "        /* gets rid of default border in Firefox and Opera. */\n",
       "        border: none;\n",
       "        /* Needs to be in here for Safari polyfill so background images work as expected. */\n",
       "        background-size: auto;\n",
       "    }\n",
       "    progress:not([value]), progress:not([value])::-webkit-progress-bar {\n",
       "        background: repeating-linear-gradient(45deg, #7e7e7e, #7e7e7e 10px, #5c5c5c 10px, #5c5c5c 20px);\n",
       "    }\n",
       "    .progress-bar-interrupted, .progress-bar-interrupted::-webkit-progress-bar {\n",
       "        background: #F44336;\n",
       "    }\n",
       "</style>\n"
      ],
      "text/plain": [
       "<IPython.core.display.HTML object>"
      ]
     },
     "metadata": {},
     "output_type": "display_data"
    },
    {
     "data": {
      "text/html": [],
      "text/plain": [
       "<IPython.core.display.HTML object>"
      ]
     },
     "metadata": {},
     "output_type": "display_data"
    },
    {
     "name": "stdout",
     "output_type": "stream",
     "text": [
      "Training fold 2/5\n"
     ]
    },
    {
     "data": {
      "text/html": [
       "\n",
       "<style>\n",
       "    /* Turns off some styling */\n",
       "    progress {\n",
       "        /* gets rid of default border in Firefox and Opera. */\n",
       "        border: none;\n",
       "        /* Needs to be in here for Safari polyfill so background images work as expected. */\n",
       "        background-size: auto;\n",
       "    }\n",
       "    progress:not([value]), progress:not([value])::-webkit-progress-bar {\n",
       "        background: repeating-linear-gradient(45deg, #7e7e7e, #7e7e7e 10px, #5c5c5c 10px, #5c5c5c 20px);\n",
       "    }\n",
       "    .progress-bar-interrupted, .progress-bar-interrupted::-webkit-progress-bar {\n",
       "        background: #F44336;\n",
       "    }\n",
       "</style>\n"
      ],
      "text/plain": [
       "<IPython.core.display.HTML object>"
      ]
     },
     "metadata": {},
     "output_type": "display_data"
    },
    {
     "data": {
      "text/html": [],
      "text/plain": [
       "<IPython.core.display.HTML object>"
      ]
     },
     "metadata": {},
     "output_type": "display_data"
    },
    {
     "data": {
      "text/html": [
       "\n",
       "<style>\n",
       "    /* Turns off some styling */\n",
       "    progress {\n",
       "        /* gets rid of default border in Firefox and Opera. */\n",
       "        border: none;\n",
       "        /* Needs to be in here for Safari polyfill so background images work as expected. */\n",
       "        background-size: auto;\n",
       "    }\n",
       "    progress:not([value]), progress:not([value])::-webkit-progress-bar {\n",
       "        background: repeating-linear-gradient(45deg, #7e7e7e, #7e7e7e 10px, #5c5c5c 10px, #5c5c5c 20px);\n",
       "    }\n",
       "    .progress-bar-interrupted, .progress-bar-interrupted::-webkit-progress-bar {\n",
       "        background: #F44336;\n",
       "    }\n",
       "</style>\n"
      ],
      "text/plain": [
       "<IPython.core.display.HTML object>"
      ]
     },
     "metadata": {},
     "output_type": "display_data"
    },
    {
     "data": {
      "text/html": [],
      "text/plain": [
       "<IPython.core.display.HTML object>"
      ]
     },
     "metadata": {},
     "output_type": "display_data"
    },
    {
     "name": "stdout",
     "output_type": "stream",
     "text": [
      "Training fold 3/5\n"
     ]
    },
    {
     "data": {
      "text/html": [
       "\n",
       "<style>\n",
       "    /* Turns off some styling */\n",
       "    progress {\n",
       "        /* gets rid of default border in Firefox and Opera. */\n",
       "        border: none;\n",
       "        /* Needs to be in here for Safari polyfill so background images work as expected. */\n",
       "        background-size: auto;\n",
       "    }\n",
       "    progress:not([value]), progress:not([value])::-webkit-progress-bar {\n",
       "        background: repeating-linear-gradient(45deg, #7e7e7e, #7e7e7e 10px, #5c5c5c 10px, #5c5c5c 20px);\n",
       "    }\n",
       "    .progress-bar-interrupted, .progress-bar-interrupted::-webkit-progress-bar {\n",
       "        background: #F44336;\n",
       "    }\n",
       "</style>\n"
      ],
      "text/plain": [
       "<IPython.core.display.HTML object>"
      ]
     },
     "metadata": {},
     "output_type": "display_data"
    },
    {
     "data": {
      "text/html": [],
      "text/plain": [
       "<IPython.core.display.HTML object>"
      ]
     },
     "metadata": {},
     "output_type": "display_data"
    },
    {
     "data": {
      "text/html": [
       "\n",
       "<style>\n",
       "    /* Turns off some styling */\n",
       "    progress {\n",
       "        /* gets rid of default border in Firefox and Opera. */\n",
       "        border: none;\n",
       "        /* Needs to be in here for Safari polyfill so background images work as expected. */\n",
       "        background-size: auto;\n",
       "    }\n",
       "    progress:not([value]), progress:not([value])::-webkit-progress-bar {\n",
       "        background: repeating-linear-gradient(45deg, #7e7e7e, #7e7e7e 10px, #5c5c5c 10px, #5c5c5c 20px);\n",
       "    }\n",
       "    .progress-bar-interrupted, .progress-bar-interrupted::-webkit-progress-bar {\n",
       "        background: #F44336;\n",
       "    }\n",
       "</style>\n"
      ],
      "text/plain": [
       "<IPython.core.display.HTML object>"
      ]
     },
     "metadata": {},
     "output_type": "display_data"
    },
    {
     "data": {
      "text/html": [],
      "text/plain": [
       "<IPython.core.display.HTML object>"
      ]
     },
     "metadata": {},
     "output_type": "display_data"
    },
    {
     "name": "stdout",
     "output_type": "stream",
     "text": [
      "Training fold 4/5\n"
     ]
    },
    {
     "data": {
      "text/html": [
       "\n",
       "<style>\n",
       "    /* Turns off some styling */\n",
       "    progress {\n",
       "        /* gets rid of default border in Firefox and Opera. */\n",
       "        border: none;\n",
       "        /* Needs to be in here for Safari polyfill so background images work as expected. */\n",
       "        background-size: auto;\n",
       "    }\n",
       "    progress:not([value]), progress:not([value])::-webkit-progress-bar {\n",
       "        background: repeating-linear-gradient(45deg, #7e7e7e, #7e7e7e 10px, #5c5c5c 10px, #5c5c5c 20px);\n",
       "    }\n",
       "    .progress-bar-interrupted, .progress-bar-interrupted::-webkit-progress-bar {\n",
       "        background: #F44336;\n",
       "    }\n",
       "</style>\n"
      ],
      "text/plain": [
       "<IPython.core.display.HTML object>"
      ]
     },
     "metadata": {},
     "output_type": "display_data"
    },
    {
     "data": {
      "text/html": [],
      "text/plain": [
       "<IPython.core.display.HTML object>"
      ]
     },
     "metadata": {},
     "output_type": "display_data"
    },
    {
     "data": {
      "text/html": [
       "\n",
       "<style>\n",
       "    /* Turns off some styling */\n",
       "    progress {\n",
       "        /* gets rid of default border in Firefox and Opera. */\n",
       "        border: none;\n",
       "        /* Needs to be in here for Safari polyfill so background images work as expected. */\n",
       "        background-size: auto;\n",
       "    }\n",
       "    progress:not([value]), progress:not([value])::-webkit-progress-bar {\n",
       "        background: repeating-linear-gradient(45deg, #7e7e7e, #7e7e7e 10px, #5c5c5c 10px, #5c5c5c 20px);\n",
       "    }\n",
       "    .progress-bar-interrupted, .progress-bar-interrupted::-webkit-progress-bar {\n",
       "        background: #F44336;\n",
       "    }\n",
       "</style>\n"
      ],
      "text/plain": [
       "<IPython.core.display.HTML object>"
      ]
     },
     "metadata": {},
     "output_type": "display_data"
    },
    {
     "data": {
      "text/html": [],
      "text/plain": [
       "<IPython.core.display.HTML object>"
      ]
     },
     "metadata": {},
     "output_type": "display_data"
    },
    {
     "name": "stdout",
     "output_type": "stream",
     "text": [
      "Training fold 5/5\n"
     ]
    },
    {
     "data": {
      "text/html": [
       "\n",
       "<style>\n",
       "    /* Turns off some styling */\n",
       "    progress {\n",
       "        /* gets rid of default border in Firefox and Opera. */\n",
       "        border: none;\n",
       "        /* Needs to be in here for Safari polyfill so background images work as expected. */\n",
       "        background-size: auto;\n",
       "    }\n",
       "    progress:not([value]), progress:not([value])::-webkit-progress-bar {\n",
       "        background: repeating-linear-gradient(45deg, #7e7e7e, #7e7e7e 10px, #5c5c5c 10px, #5c5c5c 20px);\n",
       "    }\n",
       "    .progress-bar-interrupted, .progress-bar-interrupted::-webkit-progress-bar {\n",
       "        background: #F44336;\n",
       "    }\n",
       "</style>\n"
      ],
      "text/plain": [
       "<IPython.core.display.HTML object>"
      ]
     },
     "metadata": {},
     "output_type": "display_data"
    },
    {
     "data": {
      "text/html": [],
      "text/plain": [
       "<IPython.core.display.HTML object>"
      ]
     },
     "metadata": {},
     "output_type": "display_data"
    },
    {
     "data": {
      "text/html": [
       "\n",
       "<style>\n",
       "    /* Turns off some styling */\n",
       "    progress {\n",
       "        /* gets rid of default border in Firefox and Opera. */\n",
       "        border: none;\n",
       "        /* Needs to be in here for Safari polyfill so background images work as expected. */\n",
       "        background-size: auto;\n",
       "    }\n",
       "    progress:not([value]), progress:not([value])::-webkit-progress-bar {\n",
       "        background: repeating-linear-gradient(45deg, #7e7e7e, #7e7e7e 10px, #5c5c5c 10px, #5c5c5c 20px);\n",
       "    }\n",
       "    .progress-bar-interrupted, .progress-bar-interrupted::-webkit-progress-bar {\n",
       "        background: #F44336;\n",
       "    }\n",
       "</style>\n"
      ],
      "text/plain": [
       "<IPython.core.display.HTML object>"
      ]
     },
     "metadata": {},
     "output_type": "display_data"
    },
    {
     "data": {
      "text/html": [],
      "text/plain": [
       "<IPython.core.display.HTML object>"
      ]
     },
     "metadata": {},
     "output_type": "display_data"
    },
    {
     "name": "stdout",
     "output_type": "stream",
     "text": [
      "Average Validation Loss: 0.9935\n",
      "\n",
      "| \u001b[0m3        \u001b[0m | \u001b[0m-0.9935  \u001b[0m | \u001b[0m0.4686   \u001b[0m | \u001b[0m0.3458   \u001b[0m | \u001b[0m143.9    \u001b[0m | \u001b[0m0.005298 \u001b[0m | \u001b[0m0.06418  \u001b[0m |\n",
      "=============== Params ===================\n",
      "0.007657756869209192 0.052135517161282056 0.5475990811464071 0.2364983460907 117\n",
      "Training fold 1/5\n"
     ]
    },
    {
     "data": {
      "text/html": [
       "\n",
       "<style>\n",
       "    /* Turns off some styling */\n",
       "    progress {\n",
       "        /* gets rid of default border in Firefox and Opera. */\n",
       "        border: none;\n",
       "        /* Needs to be in here for Safari polyfill so background images work as expected. */\n",
       "        background-size: auto;\n",
       "    }\n",
       "    progress:not([value]), progress:not([value])::-webkit-progress-bar {\n",
       "        background: repeating-linear-gradient(45deg, #7e7e7e, #7e7e7e 10px, #5c5c5c 10px, #5c5c5c 20px);\n",
       "    }\n",
       "    .progress-bar-interrupted, .progress-bar-interrupted::-webkit-progress-bar {\n",
       "        background: #F44336;\n",
       "    }\n",
       "</style>\n"
      ],
      "text/plain": [
       "<IPython.core.display.HTML object>"
      ]
     },
     "metadata": {},
     "output_type": "display_data"
    },
    {
     "data": {
      "text/html": [],
      "text/plain": [
       "<IPython.core.display.HTML object>"
      ]
     },
     "metadata": {},
     "output_type": "display_data"
    },
    {
     "data": {
      "text/html": [
       "\n",
       "<style>\n",
       "    /* Turns off some styling */\n",
       "    progress {\n",
       "        /* gets rid of default border in Firefox and Opera. */\n",
       "        border: none;\n",
       "        /* Needs to be in here for Safari polyfill so background images work as expected. */\n",
       "        background-size: auto;\n",
       "    }\n",
       "    progress:not([value]), progress:not([value])::-webkit-progress-bar {\n",
       "        background: repeating-linear-gradient(45deg, #7e7e7e, #7e7e7e 10px, #5c5c5c 10px, #5c5c5c 20px);\n",
       "    }\n",
       "    .progress-bar-interrupted, .progress-bar-interrupted::-webkit-progress-bar {\n",
       "        background: #F44336;\n",
       "    }\n",
       "</style>\n"
      ],
      "text/plain": [
       "<IPython.core.display.HTML object>"
      ]
     },
     "metadata": {},
     "output_type": "display_data"
    },
    {
     "data": {
      "text/html": [],
      "text/plain": [
       "<IPython.core.display.HTML object>"
      ]
     },
     "metadata": {},
     "output_type": "display_data"
    },
    {
     "name": "stdout",
     "output_type": "stream",
     "text": [
      "Training fold 2/5\n"
     ]
    },
    {
     "data": {
      "text/html": [
       "\n",
       "<style>\n",
       "    /* Turns off some styling */\n",
       "    progress {\n",
       "        /* gets rid of default border in Firefox and Opera. */\n",
       "        border: none;\n",
       "        /* Needs to be in here for Safari polyfill so background images work as expected. */\n",
       "        background-size: auto;\n",
       "    }\n",
       "    progress:not([value]), progress:not([value])::-webkit-progress-bar {\n",
       "        background: repeating-linear-gradient(45deg, #7e7e7e, #7e7e7e 10px, #5c5c5c 10px, #5c5c5c 20px);\n",
       "    }\n",
       "    .progress-bar-interrupted, .progress-bar-interrupted::-webkit-progress-bar {\n",
       "        background: #F44336;\n",
       "    }\n",
       "</style>\n"
      ],
      "text/plain": [
       "<IPython.core.display.HTML object>"
      ]
     },
     "metadata": {},
     "output_type": "display_data"
    },
    {
     "data": {
      "text/html": [],
      "text/plain": [
       "<IPython.core.display.HTML object>"
      ]
     },
     "metadata": {},
     "output_type": "display_data"
    },
    {
     "data": {
      "text/html": [
       "\n",
       "<style>\n",
       "    /* Turns off some styling */\n",
       "    progress {\n",
       "        /* gets rid of default border in Firefox and Opera. */\n",
       "        border: none;\n",
       "        /* Needs to be in here for Safari polyfill so background images work as expected. */\n",
       "        background-size: auto;\n",
       "    }\n",
       "    progress:not([value]), progress:not([value])::-webkit-progress-bar {\n",
       "        background: repeating-linear-gradient(45deg, #7e7e7e, #7e7e7e 10px, #5c5c5c 10px, #5c5c5c 20px);\n",
       "    }\n",
       "    .progress-bar-interrupted, .progress-bar-interrupted::-webkit-progress-bar {\n",
       "        background: #F44336;\n",
       "    }\n",
       "</style>\n"
      ],
      "text/plain": [
       "<IPython.core.display.HTML object>"
      ]
     },
     "metadata": {},
     "output_type": "display_data"
    },
    {
     "data": {
      "text/html": [],
      "text/plain": [
       "<IPython.core.display.HTML object>"
      ]
     },
     "metadata": {},
     "output_type": "display_data"
    },
    {
     "name": "stdout",
     "output_type": "stream",
     "text": [
      "Training fold 3/5\n"
     ]
    },
    {
     "data": {
      "text/html": [
       "\n",
       "<style>\n",
       "    /* Turns off some styling */\n",
       "    progress {\n",
       "        /* gets rid of default border in Firefox and Opera. */\n",
       "        border: none;\n",
       "        /* Needs to be in here for Safari polyfill so background images work as expected. */\n",
       "        background-size: auto;\n",
       "    }\n",
       "    progress:not([value]), progress:not([value])::-webkit-progress-bar {\n",
       "        background: repeating-linear-gradient(45deg, #7e7e7e, #7e7e7e 10px, #5c5c5c 10px, #5c5c5c 20px);\n",
       "    }\n",
       "    .progress-bar-interrupted, .progress-bar-interrupted::-webkit-progress-bar {\n",
       "        background: #F44336;\n",
       "    }\n",
       "</style>\n"
      ],
      "text/plain": [
       "<IPython.core.display.HTML object>"
      ]
     },
     "metadata": {},
     "output_type": "display_data"
    },
    {
     "data": {
      "text/html": [],
      "text/plain": [
       "<IPython.core.display.HTML object>"
      ]
     },
     "metadata": {},
     "output_type": "display_data"
    },
    {
     "data": {
      "text/html": [
       "\n",
       "<style>\n",
       "    /* Turns off some styling */\n",
       "    progress {\n",
       "        /* gets rid of default border in Firefox and Opera. */\n",
       "        border: none;\n",
       "        /* Needs to be in here for Safari polyfill so background images work as expected. */\n",
       "        background-size: auto;\n",
       "    }\n",
       "    progress:not([value]), progress:not([value])::-webkit-progress-bar {\n",
       "        background: repeating-linear-gradient(45deg, #7e7e7e, #7e7e7e 10px, #5c5c5c 10px, #5c5c5c 20px);\n",
       "    }\n",
       "    .progress-bar-interrupted, .progress-bar-interrupted::-webkit-progress-bar {\n",
       "        background: #F44336;\n",
       "    }\n",
       "</style>\n"
      ],
      "text/plain": [
       "<IPython.core.display.HTML object>"
      ]
     },
     "metadata": {},
     "output_type": "display_data"
    },
    {
     "data": {
      "text/html": [],
      "text/plain": [
       "<IPython.core.display.HTML object>"
      ]
     },
     "metadata": {},
     "output_type": "display_data"
    },
    {
     "name": "stdout",
     "output_type": "stream",
     "text": [
      "Training fold 4/5\n"
     ]
    },
    {
     "data": {
      "text/html": [
       "\n",
       "<style>\n",
       "    /* Turns off some styling */\n",
       "    progress {\n",
       "        /* gets rid of default border in Firefox and Opera. */\n",
       "        border: none;\n",
       "        /* Needs to be in here for Safari polyfill so background images work as expected. */\n",
       "        background-size: auto;\n",
       "    }\n",
       "    progress:not([value]), progress:not([value])::-webkit-progress-bar {\n",
       "        background: repeating-linear-gradient(45deg, #7e7e7e, #7e7e7e 10px, #5c5c5c 10px, #5c5c5c 20px);\n",
       "    }\n",
       "    .progress-bar-interrupted, .progress-bar-interrupted::-webkit-progress-bar {\n",
       "        background: #F44336;\n",
       "    }\n",
       "</style>\n"
      ],
      "text/plain": [
       "<IPython.core.display.HTML object>"
      ]
     },
     "metadata": {},
     "output_type": "display_data"
    },
    {
     "data": {
      "text/html": [],
      "text/plain": [
       "<IPython.core.display.HTML object>"
      ]
     },
     "metadata": {},
     "output_type": "display_data"
    },
    {
     "data": {
      "text/html": [
       "\n",
       "<style>\n",
       "    /* Turns off some styling */\n",
       "    progress {\n",
       "        /* gets rid of default border in Firefox and Opera. */\n",
       "        border: none;\n",
       "        /* Needs to be in here for Safari polyfill so background images work as expected. */\n",
       "        background-size: auto;\n",
       "    }\n",
       "    progress:not([value]), progress:not([value])::-webkit-progress-bar {\n",
       "        background: repeating-linear-gradient(45deg, #7e7e7e, #7e7e7e 10px, #5c5c5c 10px, #5c5c5c 20px);\n",
       "    }\n",
       "    .progress-bar-interrupted, .progress-bar-interrupted::-webkit-progress-bar {\n",
       "        background: #F44336;\n",
       "    }\n",
       "</style>\n"
      ],
      "text/plain": [
       "<IPython.core.display.HTML object>"
      ]
     },
     "metadata": {},
     "output_type": "display_data"
    },
    {
     "data": {
      "text/html": [],
      "text/plain": [
       "<IPython.core.display.HTML object>"
      ]
     },
     "metadata": {},
     "output_type": "display_data"
    },
    {
     "name": "stdout",
     "output_type": "stream",
     "text": [
      "Training fold 5/5\n"
     ]
    },
    {
     "data": {
      "text/html": [
       "\n",
       "<style>\n",
       "    /* Turns off some styling */\n",
       "    progress {\n",
       "        /* gets rid of default border in Firefox and Opera. */\n",
       "        border: none;\n",
       "        /* Needs to be in here for Safari polyfill so background images work as expected. */\n",
       "        background-size: auto;\n",
       "    }\n",
       "    progress:not([value]), progress:not([value])::-webkit-progress-bar {\n",
       "        background: repeating-linear-gradient(45deg, #7e7e7e, #7e7e7e 10px, #5c5c5c 10px, #5c5c5c 20px);\n",
       "    }\n",
       "    .progress-bar-interrupted, .progress-bar-interrupted::-webkit-progress-bar {\n",
       "        background: #F44336;\n",
       "    }\n",
       "</style>\n"
      ],
      "text/plain": [
       "<IPython.core.display.HTML object>"
      ]
     },
     "metadata": {},
     "output_type": "display_data"
    },
    {
     "data": {
      "text/html": [],
      "text/plain": [
       "<IPython.core.display.HTML object>"
      ]
     },
     "metadata": {},
     "output_type": "display_data"
    },
    {
     "data": {
      "text/html": [
       "\n",
       "<style>\n",
       "    /* Turns off some styling */\n",
       "    progress {\n",
       "        /* gets rid of default border in Firefox and Opera. */\n",
       "        border: none;\n",
       "        /* Needs to be in here for Safari polyfill so background images work as expected. */\n",
       "        background-size: auto;\n",
       "    }\n",
       "    progress:not([value]), progress:not([value])::-webkit-progress-bar {\n",
       "        background: repeating-linear-gradient(45deg, #7e7e7e, #7e7e7e 10px, #5c5c5c 10px, #5c5c5c 20px);\n",
       "    }\n",
       "    .progress-bar-interrupted, .progress-bar-interrupted::-webkit-progress-bar {\n",
       "        background: #F44336;\n",
       "    }\n",
       "</style>\n"
      ],
      "text/plain": [
       "<IPython.core.display.HTML object>"
      ]
     },
     "metadata": {},
     "output_type": "display_data"
    },
    {
     "data": {
      "text/html": [],
      "text/plain": [
       "<IPython.core.display.HTML object>"
      ]
     },
     "metadata": {},
     "output_type": "display_data"
    },
    {
     "name": "stdout",
     "output_type": "stream",
     "text": [
      "Average Validation Loss: 0.9960\n",
      "\n",
      "| \u001b[0m4        \u001b[0m | \u001b[0m-0.996   \u001b[0m | \u001b[0m0.5476   \u001b[0m | \u001b[0m0.2365   \u001b[0m | \u001b[0m117.5    \u001b[0m | \u001b[0m0.007658 \u001b[0m | \u001b[0m0.05214  \u001b[0m |\n",
      "=============== Params ===================\n",
      "0.008055117553387914 0.034980095568680064 0.5268801917102642 0.3698863588155579 172\n",
      "Training fold 1/5\n"
     ]
    },
    {
     "data": {
      "text/html": [
       "\n",
       "<style>\n",
       "    /* Turns off some styling */\n",
       "    progress {\n",
       "        /* gets rid of default border in Firefox and Opera. */\n",
       "        border: none;\n",
       "        /* Needs to be in here for Safari polyfill so background images work as expected. */\n",
       "        background-size: auto;\n",
       "    }\n",
       "    progress:not([value]), progress:not([value])::-webkit-progress-bar {\n",
       "        background: repeating-linear-gradient(45deg, #7e7e7e, #7e7e7e 10px, #5c5c5c 10px, #5c5c5c 20px);\n",
       "    }\n",
       "    .progress-bar-interrupted, .progress-bar-interrupted::-webkit-progress-bar {\n",
       "        background: #F44336;\n",
       "    }\n",
       "</style>\n"
      ],
      "text/plain": [
       "<IPython.core.display.HTML object>"
      ]
     },
     "metadata": {},
     "output_type": "display_data"
    },
    {
     "data": {
      "text/html": [],
      "text/plain": [
       "<IPython.core.display.HTML object>"
      ]
     },
     "metadata": {},
     "output_type": "display_data"
    },
    {
     "data": {
      "text/html": [
       "\n",
       "<style>\n",
       "    /* Turns off some styling */\n",
       "    progress {\n",
       "        /* gets rid of default border in Firefox and Opera. */\n",
       "        border: none;\n",
       "        /* Needs to be in here for Safari polyfill so background images work as expected. */\n",
       "        background-size: auto;\n",
       "    }\n",
       "    progress:not([value]), progress:not([value])::-webkit-progress-bar {\n",
       "        background: repeating-linear-gradient(45deg, #7e7e7e, #7e7e7e 10px, #5c5c5c 10px, #5c5c5c 20px);\n",
       "    }\n",
       "    .progress-bar-interrupted, .progress-bar-interrupted::-webkit-progress-bar {\n",
       "        background: #F44336;\n",
       "    }\n",
       "</style>\n"
      ],
      "text/plain": [
       "<IPython.core.display.HTML object>"
      ]
     },
     "metadata": {},
     "output_type": "display_data"
    },
    {
     "data": {
      "text/html": [],
      "text/plain": [
       "<IPython.core.display.HTML object>"
      ]
     },
     "metadata": {},
     "output_type": "display_data"
    },
    {
     "name": "stdout",
     "output_type": "stream",
     "text": [
      "Training fold 2/5\n"
     ]
    },
    {
     "data": {
      "text/html": [
       "\n",
       "<style>\n",
       "    /* Turns off some styling */\n",
       "    progress {\n",
       "        /* gets rid of default border in Firefox and Opera. */\n",
       "        border: none;\n",
       "        /* Needs to be in here for Safari polyfill so background images work as expected. */\n",
       "        background-size: auto;\n",
       "    }\n",
       "    progress:not([value]), progress:not([value])::-webkit-progress-bar {\n",
       "        background: repeating-linear-gradient(45deg, #7e7e7e, #7e7e7e 10px, #5c5c5c 10px, #5c5c5c 20px);\n",
       "    }\n",
       "    .progress-bar-interrupted, .progress-bar-interrupted::-webkit-progress-bar {\n",
       "        background: #F44336;\n",
       "    }\n",
       "</style>\n"
      ],
      "text/plain": [
       "<IPython.core.display.HTML object>"
      ]
     },
     "metadata": {},
     "output_type": "display_data"
    },
    {
     "data": {
      "text/html": [],
      "text/plain": [
       "<IPython.core.display.HTML object>"
      ]
     },
     "metadata": {},
     "output_type": "display_data"
    },
    {
     "data": {
      "text/html": [
       "\n",
       "<style>\n",
       "    /* Turns off some styling */\n",
       "    progress {\n",
       "        /* gets rid of default border in Firefox and Opera. */\n",
       "        border: none;\n",
       "        /* Needs to be in here for Safari polyfill so background images work as expected. */\n",
       "        background-size: auto;\n",
       "    }\n",
       "    progress:not([value]), progress:not([value])::-webkit-progress-bar {\n",
       "        background: repeating-linear-gradient(45deg, #7e7e7e, #7e7e7e 10px, #5c5c5c 10px, #5c5c5c 20px);\n",
       "    }\n",
       "    .progress-bar-interrupted, .progress-bar-interrupted::-webkit-progress-bar {\n",
       "        background: #F44336;\n",
       "    }\n",
       "</style>\n"
      ],
      "text/plain": [
       "<IPython.core.display.HTML object>"
      ]
     },
     "metadata": {},
     "output_type": "display_data"
    },
    {
     "data": {
      "text/html": [],
      "text/plain": [
       "<IPython.core.display.HTML object>"
      ]
     },
     "metadata": {},
     "output_type": "display_data"
    },
    {
     "name": "stdout",
     "output_type": "stream",
     "text": [
      "Training fold 3/5\n"
     ]
    },
    {
     "data": {
      "text/html": [
       "\n",
       "<style>\n",
       "    /* Turns off some styling */\n",
       "    progress {\n",
       "        /* gets rid of default border in Firefox and Opera. */\n",
       "        border: none;\n",
       "        /* Needs to be in here for Safari polyfill so background images work as expected. */\n",
       "        background-size: auto;\n",
       "    }\n",
       "    progress:not([value]), progress:not([value])::-webkit-progress-bar {\n",
       "        background: repeating-linear-gradient(45deg, #7e7e7e, #7e7e7e 10px, #5c5c5c 10px, #5c5c5c 20px);\n",
       "    }\n",
       "    .progress-bar-interrupted, .progress-bar-interrupted::-webkit-progress-bar {\n",
       "        background: #F44336;\n",
       "    }\n",
       "</style>\n"
      ],
      "text/plain": [
       "<IPython.core.display.HTML object>"
      ]
     },
     "metadata": {},
     "output_type": "display_data"
    },
    {
     "data": {
      "text/html": [],
      "text/plain": [
       "<IPython.core.display.HTML object>"
      ]
     },
     "metadata": {},
     "output_type": "display_data"
    },
    {
     "data": {
      "text/html": [
       "\n",
       "<style>\n",
       "    /* Turns off some styling */\n",
       "    progress {\n",
       "        /* gets rid of default border in Firefox and Opera. */\n",
       "        border: none;\n",
       "        /* Needs to be in here for Safari polyfill so background images work as expected. */\n",
       "        background-size: auto;\n",
       "    }\n",
       "    progress:not([value]), progress:not([value])::-webkit-progress-bar {\n",
       "        background: repeating-linear-gradient(45deg, #7e7e7e, #7e7e7e 10px, #5c5c5c 10px, #5c5c5c 20px);\n",
       "    }\n",
       "    .progress-bar-interrupted, .progress-bar-interrupted::-webkit-progress-bar {\n",
       "        background: #F44336;\n",
       "    }\n",
       "</style>\n"
      ],
      "text/plain": [
       "<IPython.core.display.HTML object>"
      ]
     },
     "metadata": {},
     "output_type": "display_data"
    },
    {
     "data": {
      "text/html": [],
      "text/plain": [
       "<IPython.core.display.HTML object>"
      ]
     },
     "metadata": {},
     "output_type": "display_data"
    },
    {
     "name": "stdout",
     "output_type": "stream",
     "text": [
      "Training fold 4/5\n"
     ]
    },
    {
     "data": {
      "text/html": [
       "\n",
       "<style>\n",
       "    /* Turns off some styling */\n",
       "    progress {\n",
       "        /* gets rid of default border in Firefox and Opera. */\n",
       "        border: none;\n",
       "        /* Needs to be in here for Safari polyfill so background images work as expected. */\n",
       "        background-size: auto;\n",
       "    }\n",
       "    progress:not([value]), progress:not([value])::-webkit-progress-bar {\n",
       "        background: repeating-linear-gradient(45deg, #7e7e7e, #7e7e7e 10px, #5c5c5c 10px, #5c5c5c 20px);\n",
       "    }\n",
       "    .progress-bar-interrupted, .progress-bar-interrupted::-webkit-progress-bar {\n",
       "        background: #F44336;\n",
       "    }\n",
       "</style>\n"
      ],
      "text/plain": [
       "<IPython.core.display.HTML object>"
      ]
     },
     "metadata": {},
     "output_type": "display_data"
    },
    {
     "data": {
      "text/html": [],
      "text/plain": [
       "<IPython.core.display.HTML object>"
      ]
     },
     "metadata": {},
     "output_type": "display_data"
    },
    {
     "data": {
      "text/html": [
       "\n",
       "<style>\n",
       "    /* Turns off some styling */\n",
       "    progress {\n",
       "        /* gets rid of default border in Firefox and Opera. */\n",
       "        border: none;\n",
       "        /* Needs to be in here for Safari polyfill so background images work as expected. */\n",
       "        background-size: auto;\n",
       "    }\n",
       "    progress:not([value]), progress:not([value])::-webkit-progress-bar {\n",
       "        background: repeating-linear-gradient(45deg, #7e7e7e, #7e7e7e 10px, #5c5c5c 10px, #5c5c5c 20px);\n",
       "    }\n",
       "    .progress-bar-interrupted, .progress-bar-interrupted::-webkit-progress-bar {\n",
       "        background: #F44336;\n",
       "    }\n",
       "</style>\n"
      ],
      "text/plain": [
       "<IPython.core.display.HTML object>"
      ]
     },
     "metadata": {},
     "output_type": "display_data"
    },
    {
     "data": {
      "text/html": [],
      "text/plain": [
       "<IPython.core.display.HTML object>"
      ]
     },
     "metadata": {},
     "output_type": "display_data"
    },
    {
     "name": "stdout",
     "output_type": "stream",
     "text": [
      "Training fold 5/5\n"
     ]
    },
    {
     "data": {
      "text/html": [
       "\n",
       "<style>\n",
       "    /* Turns off some styling */\n",
       "    progress {\n",
       "        /* gets rid of default border in Firefox and Opera. */\n",
       "        border: none;\n",
       "        /* Needs to be in here for Safari polyfill so background images work as expected. */\n",
       "        background-size: auto;\n",
       "    }\n",
       "    progress:not([value]), progress:not([value])::-webkit-progress-bar {\n",
       "        background: repeating-linear-gradient(45deg, #7e7e7e, #7e7e7e 10px, #5c5c5c 10px, #5c5c5c 20px);\n",
       "    }\n",
       "    .progress-bar-interrupted, .progress-bar-interrupted::-webkit-progress-bar {\n",
       "        background: #F44336;\n",
       "    }\n",
       "</style>\n"
      ],
      "text/plain": [
       "<IPython.core.display.HTML object>"
      ]
     },
     "metadata": {},
     "output_type": "display_data"
    },
    {
     "data": {
      "text/html": [],
      "text/plain": [
       "<IPython.core.display.HTML object>"
      ]
     },
     "metadata": {},
     "output_type": "display_data"
    },
    {
     "data": {
      "text/html": [
       "\n",
       "<style>\n",
       "    /* Turns off some styling */\n",
       "    progress {\n",
       "        /* gets rid of default border in Firefox and Opera. */\n",
       "        border: none;\n",
       "        /* Needs to be in here for Safari polyfill so background images work as expected. */\n",
       "        background-size: auto;\n",
       "    }\n",
       "    progress:not([value]), progress:not([value])::-webkit-progress-bar {\n",
       "        background: repeating-linear-gradient(45deg, #7e7e7e, #7e7e7e 10px, #5c5c5c 10px, #5c5c5c 20px);\n",
       "    }\n",
       "    .progress-bar-interrupted, .progress-bar-interrupted::-webkit-progress-bar {\n",
       "        background: #F44336;\n",
       "    }\n",
       "</style>\n"
      ],
      "text/plain": [
       "<IPython.core.display.HTML object>"
      ]
     },
     "metadata": {},
     "output_type": "display_data"
    },
    {
     "data": {
      "text/html": [],
      "text/plain": [
       "<IPython.core.display.HTML object>"
      ]
     },
     "metadata": {},
     "output_type": "display_data"
    },
    {
     "name": "stdout",
     "output_type": "stream",
     "text": [
      "Average Validation Loss: 0.9986\n",
      "\n",
      "| \u001b[0m5        \u001b[0m | \u001b[0m-0.9986  \u001b[0m | \u001b[0m0.5269   \u001b[0m | \u001b[0m0.3699   \u001b[0m | \u001b[0m172.4    \u001b[0m | \u001b[0m0.008055 \u001b[0m | \u001b[0m0.03498  \u001b[0m |\n"
     ]
    },
    {
     "ename": "ValueError",
     "evalue": "LBFGSB - one of the lower bounds is greater than an upper bound.",
     "output_type": "error",
     "traceback": [
      "\u001b[0;31m---------------------------------------------------------------------------\u001b[0m",
      "\u001b[0;31mStopIteration\u001b[0m                             Traceback (most recent call last)",
      "File \u001b[0;32m/anaconda/envs/azureml_py38/lib/python3.8/site-packages/bayes_opt/bayesian_optimization.py:306\u001b[0m, in \u001b[0;36mBayesianOptimization.maximize\u001b[0;34m(self, init_points, n_iter, acquisition_function, acq, kappa, kappa_decay, kappa_decay_delay, xi, **gp_params)\u001b[0m\n\u001b[1;32m    305\u001b[0m \u001b[38;5;28;01mtry\u001b[39;00m:\n\u001b[0;32m--> 306\u001b[0m     x_probe \u001b[38;5;241m=\u001b[39m \u001b[38;5;28;43mnext\u001b[39;49m\u001b[43m(\u001b[49m\u001b[38;5;28;43mself\u001b[39;49m\u001b[38;5;241;43m.\u001b[39;49m\u001b[43m_queue\u001b[49m\u001b[43m)\u001b[49m\n\u001b[1;32m    307\u001b[0m \u001b[38;5;28;01mexcept\u001b[39;00m \u001b[38;5;167;01mStopIteration\u001b[39;00m:\n",
      "File \u001b[0;32m/anaconda/envs/azureml_py38/lib/python3.8/site-packages/bayes_opt/bayesian_optimization.py:27\u001b[0m, in \u001b[0;36mQueue.__next__\u001b[0;34m(self)\u001b[0m\n\u001b[1;32m     26\u001b[0m \u001b[38;5;28;01mif\u001b[39;00m \u001b[38;5;28mself\u001b[39m\u001b[38;5;241m.\u001b[39mempty:\n\u001b[0;32m---> 27\u001b[0m     \u001b[38;5;28;01mraise\u001b[39;00m \u001b[38;5;167;01mStopIteration\u001b[39;00m(\u001b[38;5;124m\"\u001b[39m\u001b[38;5;124mQueue is empty, no more objects to retrieve.\u001b[39m\u001b[38;5;124m\"\u001b[39m)\n\u001b[1;32m     28\u001b[0m obj \u001b[38;5;241m=\u001b[39m \u001b[38;5;28mself\u001b[39m\u001b[38;5;241m.\u001b[39m_queue[\u001b[38;5;241m0\u001b[39m]\n",
      "\u001b[0;31mStopIteration\u001b[0m: Queue is empty, no more objects to retrieve.",
      "\nDuring handling of the above exception, another exception occurred:\n",
      "\u001b[0;31mValueError\u001b[0m                                Traceback (most recent call last)",
      "File \u001b[0;32m<timed eval>:1\u001b[0m\n",
      "File \u001b[0;32m/anaconda/envs/azureml_py38/lib/python3.8/site-packages/bayes_opt/bayesian_optimization.py:309\u001b[0m, in \u001b[0;36mBayesianOptimization.maximize\u001b[0;34m(self, init_points, n_iter, acquisition_function, acq, kappa, kappa_decay, kappa_decay_delay, xi, **gp_params)\u001b[0m\n\u001b[1;32m    307\u001b[0m \u001b[38;5;28;01mexcept\u001b[39;00m \u001b[38;5;167;01mStopIteration\u001b[39;00m:\n\u001b[1;32m    308\u001b[0m     util\u001b[38;5;241m.\u001b[39mupdate_params()\n\u001b[0;32m--> 309\u001b[0m     x_probe \u001b[38;5;241m=\u001b[39m \u001b[38;5;28;43mself\u001b[39;49m\u001b[38;5;241;43m.\u001b[39;49m\u001b[43msuggest\u001b[49m\u001b[43m(\u001b[49m\u001b[43mutil\u001b[49m\u001b[43m)\u001b[49m\n\u001b[1;32m    310\u001b[0m     iteration \u001b[38;5;241m+\u001b[39m\u001b[38;5;241m=\u001b[39m \u001b[38;5;241m1\u001b[39m\n\u001b[1;32m    311\u001b[0m \u001b[38;5;28mself\u001b[39m\u001b[38;5;241m.\u001b[39mprobe(x_probe, lazy\u001b[38;5;241m=\u001b[39m\u001b[38;5;28;01mFalse\u001b[39;00m)\n",
      "File \u001b[0;32m/anaconda/envs/azureml_py38/lib/python3.8/site-packages/bayes_opt/bayesian_optimization.py:226\u001b[0m, in \u001b[0;36mBayesianOptimization.suggest\u001b[0;34m(self, utility_function)\u001b[0m\n\u001b[1;32m    222\u001b[0m         \u001b[38;5;28mself\u001b[39m\u001b[38;5;241m.\u001b[39mconstraint\u001b[38;5;241m.\u001b[39mfit(\u001b[38;5;28mself\u001b[39m\u001b[38;5;241m.\u001b[39m_space\u001b[38;5;241m.\u001b[39mparams,\n\u001b[1;32m    223\u001b[0m                             \u001b[38;5;28mself\u001b[39m\u001b[38;5;241m.\u001b[39m_space\u001b[38;5;241m.\u001b[39m_constraint_values)\n\u001b[1;32m    225\u001b[0m \u001b[38;5;66;03m# Finding argmax of the acquisition function.\u001b[39;00m\n\u001b[0;32m--> 226\u001b[0m suggestion \u001b[38;5;241m=\u001b[39m \u001b[43macq_max\u001b[49m\u001b[43m(\u001b[49m\u001b[43mac\u001b[49m\u001b[38;5;241;43m=\u001b[39;49m\u001b[43mutility_function\u001b[49m\u001b[38;5;241;43m.\u001b[39;49m\u001b[43mutility\u001b[49m\u001b[43m,\u001b[49m\n\u001b[1;32m    227\u001b[0m \u001b[43m                     \u001b[49m\u001b[43mgp\u001b[49m\u001b[38;5;241;43m=\u001b[39;49m\u001b[38;5;28;43mself\u001b[39;49m\u001b[38;5;241;43m.\u001b[39;49m\u001b[43m_gp\u001b[49m\u001b[43m,\u001b[49m\n\u001b[1;32m    228\u001b[0m \u001b[43m                     \u001b[49m\u001b[43mconstraint\u001b[49m\u001b[38;5;241;43m=\u001b[39;49m\u001b[38;5;28;43mself\u001b[39;49m\u001b[38;5;241;43m.\u001b[39;49m\u001b[43mconstraint\u001b[49m\u001b[43m,\u001b[49m\n\u001b[1;32m    229\u001b[0m \u001b[43m                     \u001b[49m\u001b[43my_max\u001b[49m\u001b[38;5;241;43m=\u001b[39;49m\u001b[38;5;28;43mself\u001b[39;49m\u001b[38;5;241;43m.\u001b[39;49m\u001b[43m_space\u001b[49m\u001b[38;5;241;43m.\u001b[39;49m\u001b[43mtarget\u001b[49m\u001b[38;5;241;43m.\u001b[39;49m\u001b[43mmax\u001b[49m\u001b[43m(\u001b[49m\u001b[43m)\u001b[49m\u001b[43m,\u001b[49m\n\u001b[1;32m    230\u001b[0m \u001b[43m                     \u001b[49m\u001b[43mbounds\u001b[49m\u001b[38;5;241;43m=\u001b[39;49m\u001b[38;5;28;43mself\u001b[39;49m\u001b[38;5;241;43m.\u001b[39;49m\u001b[43m_space\u001b[49m\u001b[38;5;241;43m.\u001b[39;49m\u001b[43mbounds\u001b[49m\u001b[43m,\u001b[49m\n\u001b[1;32m    231\u001b[0m \u001b[43m                     \u001b[49m\u001b[43mrandom_state\u001b[49m\u001b[38;5;241;43m=\u001b[39;49m\u001b[38;5;28;43mself\u001b[39;49m\u001b[38;5;241;43m.\u001b[39;49m\u001b[43m_random_state\u001b[49m\u001b[43m)\u001b[49m\n\u001b[1;32m    233\u001b[0m \u001b[38;5;28;01mreturn\u001b[39;00m \u001b[38;5;28mself\u001b[39m\u001b[38;5;241m.\u001b[39m_space\u001b[38;5;241m.\u001b[39marray_to_params(suggestion)\n",
      "File \u001b[0;32m/anaconda/envs/azureml_py38/lib/python3.8/site-packages/bayes_opt/util.py:78\u001b[0m, in \u001b[0;36macq_max\u001b[0;34m(ac, gp, y_max, bounds, random_state, constraint, n_warmup, n_iter)\u001b[0m\n\u001b[1;32m     74\u001b[0m     to_minimize \u001b[38;5;241m=\u001b[39m \u001b[38;5;28;01mlambda\u001b[39;00m x: \u001b[38;5;241m-\u001b[39mac(x\u001b[38;5;241m.\u001b[39mreshape(\u001b[38;5;241m1\u001b[39m, \u001b[38;5;241m-\u001b[39m\u001b[38;5;241m1\u001b[39m), gp\u001b[38;5;241m=\u001b[39mgp, y_max\u001b[38;5;241m=\u001b[39my_max)\n\u001b[1;32m     76\u001b[0m \u001b[38;5;28;01mfor\u001b[39;00m x_try \u001b[38;5;129;01min\u001b[39;00m x_seeds:\n\u001b[1;32m     77\u001b[0m     \u001b[38;5;66;03m# Find the minimum of minus the acquisition function\u001b[39;00m\n\u001b[0;32m---> 78\u001b[0m     res \u001b[38;5;241m=\u001b[39m \u001b[43mminimize\u001b[49m\u001b[43m(\u001b[49m\u001b[38;5;28;43;01mlambda\u001b[39;49;00m\u001b[43m \u001b[49m\u001b[43mx\u001b[49m\u001b[43m:\u001b[49m\u001b[43m \u001b[49m\u001b[43mto_minimize\u001b[49m\u001b[43m(\u001b[49m\u001b[43mx\u001b[49m\u001b[43m)\u001b[49m\u001b[43m,\u001b[49m\n\u001b[1;32m     79\u001b[0m \u001b[43m                   \u001b[49m\u001b[43mx_try\u001b[49m\u001b[43m,\u001b[49m\n\u001b[1;32m     80\u001b[0m \u001b[43m                   \u001b[49m\u001b[43mbounds\u001b[49m\u001b[38;5;241;43m=\u001b[39;49m\u001b[43mbounds\u001b[49m\u001b[43m,\u001b[49m\n\u001b[1;32m     81\u001b[0m \u001b[43m                   \u001b[49m\u001b[43mmethod\u001b[49m\u001b[38;5;241;43m=\u001b[39;49m\u001b[38;5;124;43m\"\u001b[39;49m\u001b[38;5;124;43mL-BFGS-B\u001b[39;49m\u001b[38;5;124;43m\"\u001b[39;49m\u001b[43m)\u001b[49m\n\u001b[1;32m     83\u001b[0m     \u001b[38;5;66;03m# See if success\u001b[39;00m\n\u001b[1;32m     84\u001b[0m     \u001b[38;5;28;01mif\u001b[39;00m \u001b[38;5;129;01mnot\u001b[39;00m res\u001b[38;5;241m.\u001b[39msuccess:\n",
      "File \u001b[0;32m/anaconda/envs/azureml_py38/lib/python3.8/site-packages/scipy/optimize/_minimize.py:617\u001b[0m, in \u001b[0;36mminimize\u001b[0;34m(fun, x0, args, method, jac, hess, hessp, bounds, constraints, tol, callback, options)\u001b[0m\n\u001b[1;32m    614\u001b[0m     \u001b[38;5;28;01mreturn\u001b[39;00m _minimize_newtoncg(fun, x0, args, jac, hess, hessp, callback,\n\u001b[1;32m    615\u001b[0m                               \u001b[38;5;241m*\u001b[39m\u001b[38;5;241m*\u001b[39moptions)\n\u001b[1;32m    616\u001b[0m \u001b[38;5;28;01melif\u001b[39;00m meth \u001b[38;5;241m==\u001b[39m \u001b[38;5;124m'\u001b[39m\u001b[38;5;124ml-bfgs-b\u001b[39m\u001b[38;5;124m'\u001b[39m:\n\u001b[0;32m--> 617\u001b[0m     \u001b[38;5;28;01mreturn\u001b[39;00m \u001b[43m_minimize_lbfgsb\u001b[49m\u001b[43m(\u001b[49m\u001b[43mfun\u001b[49m\u001b[43m,\u001b[49m\u001b[43m \u001b[49m\u001b[43mx0\u001b[49m\u001b[43m,\u001b[49m\u001b[43m \u001b[49m\u001b[43margs\u001b[49m\u001b[43m,\u001b[49m\u001b[43m \u001b[49m\u001b[43mjac\u001b[49m\u001b[43m,\u001b[49m\u001b[43m \u001b[49m\u001b[43mbounds\u001b[49m\u001b[43m,\u001b[49m\n\u001b[1;32m    618\u001b[0m \u001b[43m                            \u001b[49m\u001b[43mcallback\u001b[49m\u001b[38;5;241;43m=\u001b[39;49m\u001b[43mcallback\u001b[49m\u001b[43m,\u001b[49m\u001b[43m \u001b[49m\u001b[38;5;241;43m*\u001b[39;49m\u001b[38;5;241;43m*\u001b[39;49m\u001b[43moptions\u001b[49m\u001b[43m)\u001b[49m\n\u001b[1;32m    619\u001b[0m \u001b[38;5;28;01melif\u001b[39;00m meth \u001b[38;5;241m==\u001b[39m \u001b[38;5;124m'\u001b[39m\u001b[38;5;124mtnc\u001b[39m\u001b[38;5;124m'\u001b[39m:\n\u001b[1;32m    620\u001b[0m     \u001b[38;5;28;01mreturn\u001b[39;00m _minimize_tnc(fun, x0, args, jac, bounds, callback\u001b[38;5;241m=\u001b[39mcallback,\n\u001b[1;32m    621\u001b[0m                          \u001b[38;5;241m*\u001b[39m\u001b[38;5;241m*\u001b[39moptions)\n",
      "File \u001b[0;32m/anaconda/envs/azureml_py38/lib/python3.8/site-packages/scipy/optimize/lbfgsb.py:294\u001b[0m, in \u001b[0;36m_minimize_lbfgsb\u001b[0;34m(fun, x0, args, jac, bounds, disp, maxcor, ftol, gtol, eps, maxfun, maxiter, iprint, callback, maxls, finite_diff_rel_step, **unknown_options)\u001b[0m\n\u001b[1;32m    292\u001b[0m \u001b[38;5;66;03m# check bounds\u001b[39;00m\n\u001b[1;32m    293\u001b[0m \u001b[38;5;28;01mif\u001b[39;00m (new_bounds[\u001b[38;5;241m0\u001b[39m] \u001b[38;5;241m>\u001b[39m new_bounds[\u001b[38;5;241m1\u001b[39m])\u001b[38;5;241m.\u001b[39many():\n\u001b[0;32m--> 294\u001b[0m     \u001b[38;5;28;01mraise\u001b[39;00m \u001b[38;5;167;01mValueError\u001b[39;00m(\u001b[38;5;124m\"\u001b[39m\u001b[38;5;124mLBFGSB - one of the lower bounds is greater than an upper bound.\u001b[39m\u001b[38;5;124m\"\u001b[39m)\n\u001b[1;32m    296\u001b[0m \u001b[38;5;66;03m# initial vector must lie within the bounds. Otherwise ScalarFunction and\u001b[39;00m\n\u001b[1;32m    297\u001b[0m \u001b[38;5;66;03m# approx_derivative will cause problems\u001b[39;00m\n\u001b[1;32m    298\u001b[0m x0 \u001b[38;5;241m=\u001b[39m np\u001b[38;5;241m.\u001b[39mclip(x0, new_bounds[\u001b[38;5;241m0\u001b[39m], new_bounds[\u001b[38;5;241m1\u001b[39m])\n",
      "\u001b[0;31mValueError\u001b[0m: LBFGSB - one of the lower bounds is greater than an upper bound."
     ]
    }
   ],
   "source": [
    "%%time\n",
    "optim.maximize(n_iter=5)"
   ]
  },
  {
   "attachments": {},
   "cell_type": "markdown",
   "metadata": {},
   "source": [
    "The above results in an error because the tuning already resulted/found the best hyperparameter"
   ]
  },
  {
   "cell_type": "code",
   "execution_count": 226,
   "metadata": {},
   "outputs": [
    {
     "name": "stdout",
     "output_type": "stream",
     "text": [
      "{'target': -0.9775304635365804, 'params': {'dropout1': 0.5392938371195724, 'dropout2': 0.25722786699007594, 'lin_layer': 122.6851453564203, 'lr': 0.0077565738454144564, 'wd': 0.035247792719299315}}\n"
     ]
    }
   ],
   "source": [
    "# Get the best parameters which maximize the objective function which is -MSE / minimize MSE Loss\n",
    "print(optim.max)\n",
    "params = optim.max['params']"
   ]
  },
  {
   "cell_type": "markdown",
   "metadata": {},
   "source": [
    "So, we have the best hyperparameters results and let's train a new neural network using this parameters"
   ]
  },
  {
   "cell_type": "code",
   "execution_count": 230,
   "metadata": {},
   "outputs": [
    {
     "data": {
      "text/html": [
       "\n",
       "<style>\n",
       "    /* Turns off some styling */\n",
       "    progress {\n",
       "        /* gets rid of default border in Firefox and Opera. */\n",
       "        border: none;\n",
       "        /* Needs to be in here for Safari polyfill so background images work as expected. */\n",
       "        background-size: auto;\n",
       "    }\n",
       "    progress:not([value]), progress:not([value])::-webkit-progress-bar {\n",
       "        background: repeating-linear-gradient(45deg, #7e7e7e, #7e7e7e 10px, #5c5c5c 10px, #5c5c5c 20px);\n",
       "    }\n",
       "    .progress-bar-interrupted, .progress-bar-interrupted::-webkit-progress-bar {\n",
       "        background: #F44336;\n",
       "    }\n",
       "</style>\n"
      ],
      "text/plain": [
       "<IPython.core.display.HTML object>"
      ]
     },
     "metadata": {},
     "output_type": "display_data"
    },
    {
     "data": {
      "text/html": [
       "<table border=\"1\" class=\"dataframe\">\n",
       "  <thead>\n",
       "    <tr style=\"text-align: left;\">\n",
       "      <th>epoch</th>\n",
       "      <th>train_loss</th>\n",
       "      <th>valid_loss</th>\n",
       "      <th>_rmse</th>\n",
       "      <th>time</th>\n",
       "    </tr>\n",
       "  </thead>\n",
       "  <tbody>\n",
       "    <tr>\n",
       "      <td>0</td>\n",
       "      <td>0.934541</td>\n",
       "      <td>0.943029</td>\n",
       "      <td>0.971097</td>\n",
       "      <td>00:17</td>\n",
       "    </tr>\n",
       "    <tr>\n",
       "      <td>1</td>\n",
       "      <td>0.934699</td>\n",
       "      <td>0.941350</td>\n",
       "      <td>0.970232</td>\n",
       "      <td>00:19</td>\n",
       "    </tr>\n",
       "    <tr>\n",
       "      <td>2</td>\n",
       "      <td>0.941237</td>\n",
       "      <td>0.936138</td>\n",
       "      <td>0.967542</td>\n",
       "      <td>00:18</td>\n",
       "    </tr>\n",
       "    <tr>\n",
       "      <td>3</td>\n",
       "      <td>0.924801</td>\n",
       "      <td>0.923352</td>\n",
       "      <td>0.960912</td>\n",
       "      <td>00:18</td>\n",
       "    </tr>\n",
       "    <tr>\n",
       "      <td>4</td>\n",
       "      <td>0.928668</td>\n",
       "      <td>0.935248</td>\n",
       "      <td>0.967082</td>\n",
       "      <td>00:18</td>\n",
       "    </tr>\n",
       "    <tr>\n",
       "      <td>5</td>\n",
       "      <td>0.866740</td>\n",
       "      <td>0.946272</td>\n",
       "      <td>0.972765</td>\n",
       "      <td>00:18</td>\n",
       "    </tr>\n",
       "    <tr>\n",
       "      <td>6</td>\n",
       "      <td>0.880639</td>\n",
       "      <td>0.954821</td>\n",
       "      <td>0.977149</td>\n",
       "      <td>00:18</td>\n",
       "    </tr>\n",
       "    <tr>\n",
       "      <td>7</td>\n",
       "      <td>0.833089</td>\n",
       "      <td>0.987147</td>\n",
       "      <td>0.993553</td>\n",
       "      <td>00:18</td>\n",
       "    </tr>\n",
       "    <tr>\n",
       "      <td>8</td>\n",
       "      <td>0.796797</td>\n",
       "      <td>1.016733</td>\n",
       "      <td>1.008332</td>\n",
       "      <td>00:17</td>\n",
       "    </tr>\n",
       "    <tr>\n",
       "      <td>9</td>\n",
       "      <td>0.739466</td>\n",
       "      <td>1.027347</td>\n",
       "      <td>1.013581</td>\n",
       "      <td>00:17</td>\n",
       "    </tr>\n",
       "  </tbody>\n",
       "</table>"
      ],
      "text/plain": [
       "<IPython.core.display.HTML object>"
      ]
     },
     "metadata": {},
     "output_type": "display_data"
    },
    {
     "name": "stdout",
     "output_type": "stream",
     "text": [
      "Better model found at epoch 0 with valid_loss value: 0.9430288076400757.\n",
      "Better model found at epoch 1 with valid_loss value: 0.9413500428199768.\n",
      "Better model found at epoch 2 with valid_loss value: 0.9361379146575928.\n",
      "Epoch 2: reducing lr to 0.000767205363123997\n",
      "Better model found at epoch 3 with valid_loss value: 0.9233519434928894.\n",
      "Epoch 4: reducing lr to 0.0005818403665831331\n",
      "Epoch 6: reducing lr to 0.00026809286435406347\n",
      "Epoch 8: reducing lr to 3.358179265189306e-05\n"
     ]
    }
   ],
   "source": [
    "# Training new model with best hyperparameters\n",
    "lr = params['lr']\n",
    "wd = params['wd']\n",
    "lin_layer = round(params['lin_layer'])\n",
    "d1 = round(params['dropout1'], 1)\n",
    "d2 = round(params['dropout2'], 1)\n",
    "\n",
    "config = {'ps': [d1, d2], 'embed_p': 0.2}\n",
    "\n",
    "dls = TabularDataLoaders.from_df(train_df, procs=procs, cat_names=cat_names, cont_names=cont_names,\n",
    "           y_names=y_names, valid_pct=0.2, bs=128, val_bs=128, device=device)\n",
    "\n",
    "learn = tabular_learner(dls, layers=[n_factors, int(lin_layer)], config=config, y_range=(1, 5), wd=float(wd), metrics=rmse)\n",
    "learn.model = learn.model.to(device)\n",
    "\n",
    "# Utilize callbacks from fastai libraries\n",
    "cb_save = SaveModelCallback(monitor='valid_loss') # saving weights of the model if better model is found\n",
    "cb_reduce_lr = ReduceLROnPlateau(monitor='valid_loss', min_delta=0.05, patience=2, min_lr=1e-8) # reducing learning rate if valid_loss is not decreasing\n",
    "cbs = [cb_save, cb_reduce_lr]\n",
    "\n",
    "learn.fit_one_cycle(10, float(lr), cbs=cbs)"
   ]
  },
  {
   "cell_type": "code",
   "execution_count": 418,
   "metadata": {},
   "outputs": [],
   "source": [
    "learn.export('../models/tab_best_model.pkl') # export model"
   ]
  },
  {
   "cell_type": "code",
   "execution_count": 419,
   "metadata": {},
   "outputs": [],
   "source": [
    "learn = load_learner('../models/tab_best_model.pkl')"
   ]
  },
  {
   "cell_type": "code",
   "execution_count": 420,
   "metadata": {},
   "outputs": [
    {
     "data": {
      "text/html": [
       "\n",
       "<style>\n",
       "    /* Turns off some styling */\n",
       "    progress {\n",
       "        /* gets rid of default border in Firefox and Opera. */\n",
       "        border: none;\n",
       "        /* Needs to be in here for Safari polyfill so background images work as expected. */\n",
       "        background-size: auto;\n",
       "    }\n",
       "    progress:not([value]), progress:not([value])::-webkit-progress-bar {\n",
       "        background: repeating-linear-gradient(45deg, #7e7e7e, #7e7e7e 10px, #5c5c5c 10px, #5c5c5c 20px);\n",
       "    }\n",
       "    .progress-bar-interrupted, .progress-bar-interrupted::-webkit-progress-bar {\n",
       "        background: #F44336;\n",
       "    }\n",
       "</style>\n"
      ],
      "text/plain": [
       "<IPython.core.display.HTML object>"
      ]
     },
     "metadata": {},
     "output_type": "display_data"
    },
    {
     "data": {
      "text/html": [],
      "text/plain": [
       "<IPython.core.display.HTML object>"
      ]
     },
     "metadata": {},
     "output_type": "display_data"
    },
    {
     "name": "stdout",
     "output_type": "stream",
     "text": [
      "Best Params Model Test RMSE: 0.9590482671084907\n",
      "Best Params Model Test MAE: 0.7451607584953308\n"
     ]
    }
   ],
   "source": [
    "# Calculate new model's performance metrics\n",
    "best_test_metrics = calculate_test_metrics(learn, 'Best Params Model')"
   ]
  },
  {
   "cell_type": "code",
   "execution_count": 421,
   "metadata": {},
   "outputs": [
    {
     "data": {
      "text/plain": [
       "TabularModel(\n",
       "  (embeds): ModuleList(\n",
       "    (0): Embedding(10727, 289)\n",
       "    (1): Embedding(5676, 202)\n",
       "  )\n",
       "  (emb_drop): Dropout(p=0.2, inplace=False)\n",
       "  (bn_cont): BatchNorm1d(5, eps=1e-05, momentum=0.1, affine=True, track_running_stats=True)\n",
       "  (layers): Sequential(\n",
       "    (0): LinBnDrop(\n",
       "      (0): Linear(in_features=496, out_features=60, bias=False)\n",
       "      (1): ReLU(inplace=True)\n",
       "      (2): BatchNorm1d(60, eps=1e-05, momentum=0.1, affine=True, track_running_stats=True)\n",
       "      (3): Dropout(p=0.5, inplace=False)\n",
       "    )\n",
       "    (1): LinBnDrop(\n",
       "      (0): Linear(in_features=60, out_features=123, bias=False)\n",
       "      (1): ReLU(inplace=True)\n",
       "      (2): BatchNorm1d(123, eps=1e-05, momentum=0.1, affine=True, track_running_stats=True)\n",
       "      (3): Dropout(p=0.3, inplace=False)\n",
       "    )\n",
       "    (2): LinBnDrop(\n",
       "      (0): Linear(in_features=123, out_features=1, bias=True)\n",
       "    )\n",
       "    (3): fastai.layers.SigmoidRange(low=1, high=5)\n",
       "  )\n",
       ")"
      ]
     },
     "execution_count": 421,
     "metadata": {},
     "output_type": "execute_result"
    }
   ],
   "source": [
    "# Model architecture\n",
    "learn.model"
   ]
  },
  {
   "attachments": {},
   "cell_type": "markdown",
   "metadata": {},
   "source": [
    "## Permutation Importance"
   ]
  },
  {
   "cell_type": "code",
   "execution_count": 317,
   "metadata": {},
   "outputs": [],
   "source": [
    "# Creating Features Importance Plot of best model using permutation importance calculation\n",
    "# reference: https://github.com/muellerzr/Practical-Deep-Learning-for-Coders-2.0/blob/master/Tabular%20Notebooks/02_Regression_and_Permutation_Importance.ipynb\n",
    "class PermutationImportance():\n",
    "  \"Calculate and plot the permutation importance\"\n",
    "  def __init__(self, learn:Learner, df=None, bs=None):\n",
    "    \"Initialize with a test dataframe, a learner, and a metric\"\n",
    "    self.learn = learn\n",
    "    self.df = df\n",
    "    bs = bs if bs is not None else learn.dls.bs\n",
    "    if self.df is not None:\n",
    "      self.dl = learn.dls.test_dl(self.df, bs=bs)\n",
    "    else:\n",
    "      self.dl = learn.dls[1]\n",
    "    self.x_names = learn.dls.x_names.filter(lambda x: '_na' not in x)\n",
    "    self.na = learn.dls.x_names.filter(lambda x: '_na' in x)\n",
    "    self.y = dls.y_names\n",
    "    self.results = self.calc_feat_importance()\n",
    "    self.plot_importance(self.ord_dic_to_df(self.results))\n",
    "\n",
    "  def measure_col(self, name:str):\n",
    "    \"Measures change after column shuffle\"\n",
    "    col = [name]\n",
    "    if f'{name}_na' in self.na: col.append(name)\n",
    "    orig = self.dl.items[col].values\n",
    "    perm = np.random.permutation(len(orig))\n",
    "    self.dl.items[col] = self.dl.items[col].values[perm]\n",
    "    metric = learn.validate(dl=self.dl)[1]\n",
    "    self.dl.items[col] = orig\n",
    "    return metric\n",
    "\n",
    "  def calc_feat_importance(self):\n",
    "    \"Calculates permutation importance by shuffling a column on a percentage scale\"\n",
    "    print('Getting base error')\n",
    "    base_error = self.learn.validate(dl=self.dl)[1]\n",
    "    self.importance = {}\n",
    "    pbar = progress_bar(self.x_names)\n",
    "    print('Calculating Permutation Importance')\n",
    "    for col in pbar:\n",
    "      self.importance[col] = self.measure_col(col)\n",
    "    for key, value in self.importance.items():\n",
    "      self.importance[key] = (base_error-value)/base_error #this can be adjusted\n",
    "    return OrderedDict(sorted(self.importance.items(), key=lambda kv: kv[1], reverse=True))\n",
    "\n",
    "  def ord_dic_to_df(self, dict:OrderedDict):\n",
    "    return pd.DataFrame([[k, v] for k, v in dict.items()], columns=['feature', 'importance'])\n",
    "\n",
    "  def plot_importance(self, df:pd.DataFrame, limit=20, asc=False, **kwargs):\n",
    "    \"Plot importance with an optional limit to how many variables shown\"\n",
    "    df_copy = df.copy()\n",
    "    df_copy['feature'] = df_copy['feature'].str.slice(0,25)\n",
    "    df_copy = df_copy.sort_values(by='importance', ascending=asc)[:limit].sort_values(by='importance', ascending=not(asc))\n",
    "    ax = df_copy.plot.barh(x='feature', y='importance', **kwargs)\n",
    "    for p in ax.patches:\n",
    "      ax.annotate(f'{p.get_width():.4f}', ((p.get_width() * 1.005), p.get_y()  * 1.005))"
   ]
  },
  {
   "cell_type": "code",
   "execution_count": 318,
   "metadata": {},
   "outputs": [
    {
     "name": "stdout",
     "output_type": "stream",
     "text": [
      "Getting base error\n"
     ]
    },
    {
     "data": {
      "text/html": [
       "\n",
       "<style>\n",
       "    /* Turns off some styling */\n",
       "    progress {\n",
       "        /* gets rid of default border in Firefox and Opera. */\n",
       "        border: none;\n",
       "        /* Needs to be in here for Safari polyfill so background images work as expected. */\n",
       "        background-size: auto;\n",
       "    }\n",
       "    progress:not([value]), progress:not([value])::-webkit-progress-bar {\n",
       "        background: repeating-linear-gradient(45deg, #7e7e7e, #7e7e7e 10px, #5c5c5c 10px, #5c5c5c 20px);\n",
       "    }\n",
       "    .progress-bar-interrupted, .progress-bar-interrupted::-webkit-progress-bar {\n",
       "        background: #F44336;\n",
       "    }\n",
       "</style>\n"
      ],
      "text/plain": [
       "<IPython.core.display.HTML object>"
      ]
     },
     "metadata": {},
     "output_type": "display_data"
    },
    {
     "data": {
      "text/html": [],
      "text/plain": [
       "<IPython.core.display.HTML object>"
      ]
     },
     "metadata": {},
     "output_type": "display_data"
    },
    {
     "name": "stdout",
     "output_type": "stream",
     "text": [
      "Calculating Permutation Importance\n"
     ]
    },
    {
     "data": {
      "text/html": [
       "\n",
       "<style>\n",
       "    /* Turns off some styling */\n",
       "    progress {\n",
       "        /* gets rid of default border in Firefox and Opera. */\n",
       "        border: none;\n",
       "        /* Needs to be in here for Safari polyfill so background images work as expected. */\n",
       "        background-size: auto;\n",
       "    }\n",
       "    progress:not([value]), progress:not([value])::-webkit-progress-bar {\n",
       "        background: repeating-linear-gradient(45deg, #7e7e7e, #7e7e7e 10px, #5c5c5c 10px, #5c5c5c 20px);\n",
       "    }\n",
       "    .progress-bar-interrupted, .progress-bar-interrupted::-webkit-progress-bar {\n",
       "        background: #F44336;\n",
       "    }\n",
       "</style>\n"
      ],
      "text/plain": [
       "<IPython.core.display.HTML object>"
      ]
     },
     "metadata": {},
     "output_type": "display_data"
    },
    {
     "data": {
      "text/html": [
       "\n",
       "    <div>\n",
       "      <progress value='7' class='' max='7' style='width:300px; height:20px; vertical-align: middle;'></progress>\n",
       "      100.00% [7/7 01:13&lt;00:00]\n",
       "    </div>\n",
       "    "
      ],
      "text/plain": [
       "<IPython.core.display.HTML object>"
      ]
     },
     "metadata": {},
     "output_type": "display_data"
    },
    {
     "data": {
      "text/html": [
       "\n",
       "<style>\n",
       "    /* Turns off some styling */\n",
       "    progress {\n",
       "        /* gets rid of default border in Firefox and Opera. */\n",
       "        border: none;\n",
       "        /* Needs to be in here for Safari polyfill so background images work as expected. */\n",
       "        background-size: auto;\n",
       "    }\n",
       "    progress:not([value]), progress:not([value])::-webkit-progress-bar {\n",
       "        background: repeating-linear-gradient(45deg, #7e7e7e, #7e7e7e 10px, #5c5c5c 10px, #5c5c5c 20px);\n",
       "    }\n",
       "    .progress-bar-interrupted, .progress-bar-interrupted::-webkit-progress-bar {\n",
       "        background: #F44336;\n",
       "    }\n",
       "</style>\n"
      ],
      "text/plain": [
       "<IPython.core.display.HTML object>"
      ]
     },
     "metadata": {},
     "output_type": "display_data"
    },
    {
     "data": {
      "text/html": [],
      "text/plain": [
       "<IPython.core.display.HTML object>"
      ]
     },
     "metadata": {},
     "output_type": "display_data"
    },
    {
     "data": {
      "text/html": [
       "\n",
       "<style>\n",
       "    /* Turns off some styling */\n",
       "    progress {\n",
       "        /* gets rid of default border in Firefox and Opera. */\n",
       "        border: none;\n",
       "        /* Needs to be in here for Safari polyfill so background images work as expected. */\n",
       "        background-size: auto;\n",
       "    }\n",
       "    progress:not([value]), progress:not([value])::-webkit-progress-bar {\n",
       "        background: repeating-linear-gradient(45deg, #7e7e7e, #7e7e7e 10px, #5c5c5c 10px, #5c5c5c 20px);\n",
       "    }\n",
       "    .progress-bar-interrupted, .progress-bar-interrupted::-webkit-progress-bar {\n",
       "        background: #F44336;\n",
       "    }\n",
       "</style>\n"
      ],
      "text/plain": [
       "<IPython.core.display.HTML object>"
      ]
     },
     "metadata": {},
     "output_type": "display_data"
    },
    {
     "data": {
      "text/html": [],
      "text/plain": [
       "<IPython.core.display.HTML object>"
      ]
     },
     "metadata": {},
     "output_type": "display_data"
    },
    {
     "data": {
      "text/html": [
       "\n",
       "<style>\n",
       "    /* Turns off some styling */\n",
       "    progress {\n",
       "        /* gets rid of default border in Firefox and Opera. */\n",
       "        border: none;\n",
       "        /* Needs to be in here for Safari polyfill so background images work as expected. */\n",
       "        background-size: auto;\n",
       "    }\n",
       "    progress:not([value]), progress:not([value])::-webkit-progress-bar {\n",
       "        background: repeating-linear-gradient(45deg, #7e7e7e, #7e7e7e 10px, #5c5c5c 10px, #5c5c5c 20px);\n",
       "    }\n",
       "    .progress-bar-interrupted, .progress-bar-interrupted::-webkit-progress-bar {\n",
       "        background: #F44336;\n",
       "    }\n",
       "</style>\n"
      ],
      "text/plain": [
       "<IPython.core.display.HTML object>"
      ]
     },
     "metadata": {},
     "output_type": "display_data"
    },
    {
     "data": {
      "text/html": [],
      "text/plain": [
       "<IPython.core.display.HTML object>"
      ]
     },
     "metadata": {},
     "output_type": "display_data"
    },
    {
     "data": {
      "text/html": [
       "\n",
       "<style>\n",
       "    /* Turns off some styling */\n",
       "    progress {\n",
       "        /* gets rid of default border in Firefox and Opera. */\n",
       "        border: none;\n",
       "        /* Needs to be in here for Safari polyfill so background images work as expected. */\n",
       "        background-size: auto;\n",
       "    }\n",
       "    progress:not([value]), progress:not([value])::-webkit-progress-bar {\n",
       "        background: repeating-linear-gradient(45deg, #7e7e7e, #7e7e7e 10px, #5c5c5c 10px, #5c5c5c 20px);\n",
       "    }\n",
       "    .progress-bar-interrupted, .progress-bar-interrupted::-webkit-progress-bar {\n",
       "        background: #F44336;\n",
       "    }\n",
       "</style>\n"
      ],
      "text/plain": [
       "<IPython.core.display.HTML object>"
      ]
     },
     "metadata": {},
     "output_type": "display_data"
    },
    {
     "data": {
      "text/html": [],
      "text/plain": [
       "<IPython.core.display.HTML object>"
      ]
     },
     "metadata": {},
     "output_type": "display_data"
    },
    {
     "data": {
      "text/html": [
       "\n",
       "<style>\n",
       "    /* Turns off some styling */\n",
       "    progress {\n",
       "        /* gets rid of default border in Firefox and Opera. */\n",
       "        border: none;\n",
       "        /* Needs to be in here for Safari polyfill so background images work as expected. */\n",
       "        background-size: auto;\n",
       "    }\n",
       "    progress:not([value]), progress:not([value])::-webkit-progress-bar {\n",
       "        background: repeating-linear-gradient(45deg, #7e7e7e, #7e7e7e 10px, #5c5c5c 10px, #5c5c5c 20px);\n",
       "    }\n",
       "    .progress-bar-interrupted, .progress-bar-interrupted::-webkit-progress-bar {\n",
       "        background: #F44336;\n",
       "    }\n",
       "</style>\n"
      ],
      "text/plain": [
       "<IPython.core.display.HTML object>"
      ]
     },
     "metadata": {},
     "output_type": "display_data"
    },
    {
     "data": {
      "text/html": [],
      "text/plain": [
       "<IPython.core.display.HTML object>"
      ]
     },
     "metadata": {},
     "output_type": "display_data"
    },
    {
     "data": {
      "text/html": [
       "\n",
       "<style>\n",
       "    /* Turns off some styling */\n",
       "    progress {\n",
       "        /* gets rid of default border in Firefox and Opera. */\n",
       "        border: none;\n",
       "        /* Needs to be in here for Safari polyfill so background images work as expected. */\n",
       "        background-size: auto;\n",
       "    }\n",
       "    progress:not([value]), progress:not([value])::-webkit-progress-bar {\n",
       "        background: repeating-linear-gradient(45deg, #7e7e7e, #7e7e7e 10px, #5c5c5c 10px, #5c5c5c 20px);\n",
       "    }\n",
       "    .progress-bar-interrupted, .progress-bar-interrupted::-webkit-progress-bar {\n",
       "        background: #F44336;\n",
       "    }\n",
       "</style>\n"
      ],
      "text/plain": [
       "<IPython.core.display.HTML object>"
      ]
     },
     "metadata": {},
     "output_type": "display_data"
    },
    {
     "data": {
      "text/html": [],
      "text/plain": [
       "<IPython.core.display.HTML object>"
      ]
     },
     "metadata": {},
     "output_type": "display_data"
    },
    {
     "data": {
      "text/html": [
       "\n",
       "<style>\n",
       "    /* Turns off some styling */\n",
       "    progress {\n",
       "        /* gets rid of default border in Firefox and Opera. */\n",
       "        border: none;\n",
       "        /* Needs to be in here for Safari polyfill so background images work as expected. */\n",
       "        background-size: auto;\n",
       "    }\n",
       "    progress:not([value]), progress:not([value])::-webkit-progress-bar {\n",
       "        background: repeating-linear-gradient(45deg, #7e7e7e, #7e7e7e 10px, #5c5c5c 10px, #5c5c5c 20px);\n",
       "    }\n",
       "    .progress-bar-interrupted, .progress-bar-interrupted::-webkit-progress-bar {\n",
       "        background: #F44336;\n",
       "    }\n",
       "</style>\n"
      ],
      "text/plain": [
       "<IPython.core.display.HTML object>"
      ]
     },
     "metadata": {},
     "output_type": "display_data"
    },
    {
     "data": {
      "text/html": [],
      "text/plain": [
       "<IPython.core.display.HTML object>"
      ]
     },
     "metadata": {},
     "output_type": "display_data"
    },
    {
     "data": {
      "image/png": "[encoded data removed]",
      "text/plain": [
       "<Figure size 640x480 with 1 Axes>"
      ]
     },
     "metadata": {},
     "output_type": "display_data"
    }
   ],
   "source": [
    "fi_plot_tab = PermutationImportance(learn, train_df, bs=128)"
   ]
  },
  {
   "cell_type": "code",
   "execution_count": 326,
   "metadata": {},
   "outputs": [
    {
     "data": {
      "text/plain": [
       "'TabularModel_viz_with_att.png'"
      ]
     },
     "execution_count": 326,
     "metadata": {},
     "output_type": "execute_result"
    }
   ],
   "source": [
    "# For TabularModel model visualization\n",
    "class TabularModelModule(nn.Module):\n",
    "    def __init__(self, emb_szs, n_cont, out_sz, layers, ps=None, embed_p=0.0, y_range=None, use_bn=True):\n",
    "        super().__init__()\n",
    "        self.tabular_model = TabularModel(emb_szs, n_cont, out_sz, layers, ps=ps, embed_p=embed_p, y_range=y_range, use_bn=use_bn)\n",
    "        \n",
    "    def forward(self, x_cat, x_cont):\n",
    "        return self.tabular_model(x_cat, x_cont)\n",
    "\n",
    "model = TabularModelModule(emb_szs=[(10728, 289), (5686, 203)], n_cont=5, out_sz=1, layers=[60, 123], ps=[0.5, 0.3], embed_p=0.2, y_range=[1, 5], use_bn=True)\n",
    "X_cat = torch.LongTensor([[1, 2], [3, 4]])\n",
    "X_cont = torch.FloatTensor([[0.1, 0.2, 0.3, 0.4, 0.5], [0.6, 0.7, 0.8, 0.9, 1.0]])\n",
    "y = model(X_cat, X_cont)\n",
    "dot = make_dot(y, params=dict(model.named_parameters()), show_attrs=True, show_saved=True)\n",
    "dot.render('../images/TabularModel_viz_with_att', format='png')"
   ]
  },
  {
   "cell_type": "code",
   "execution_count": 327,
   "metadata": {},
   "outputs": [
    {
     "data": {
      "image/svg+xml": [
       "<?xml version=\"1.0\" encoding=\"UTF-8\" standalone=\"no\"?>\n",
       "<!DOCTYPE svg PUBLIC \"-//W3C//DTD SVG 1.1//EN\"\n",
       " \"http://www.w3.org/Graphics/SVG/1.1/DTD/svg11.dtd\">\n",
       "<!-- Generated by graphviz version 2.43.0 (0)\n",
       " -->\n",
       "<!-- Title: %3 Pages: 1 -->\n",
       "<svg width=\"1696pt\" height=\"1542pt\"\n",
       " viewBox=\"0.00 0.00 1696.00 1541.60\" xmlns=\"http://www.w3.org/2000/svg\" xmlns:xlink=\"http://www.w3.org/1999/xlink\">\n",
       "<g id=\"graph0\" class=\"graph\" transform=\"scale(1.22 1.22) rotate(0) translate(4 1883)\">\n",
       "<title>%3</title>\n",
       "<polygon fill=\"white\" stroke=\"transparent\" points=\"-4,4 -4,-1883 2072,-1883 2072,4 -4,4\"/>\n",
       "<!-- 140155786711744 -->\n",
       "<g id=\"node1\" class=\"node\">\n",
       "<title>140155786711744</title>\n",
       "<polygon fill=\"#caff70\" stroke=\"black\" points=\"74,-31 15,-31 15,0 74,0 74,-31\"/>\n",
       "<text text-anchor=\"middle\" x=\"44.5\" y=\"-7\" font-family=\"monospace\" font-size=\"10.00\"> (2, 1)</text>\n",
       "</g>\n",
       "<!-- 140156638635824 -->\n",
       "<g id=\"node2\" class=\"node\">\n",
       "<title>140156638635824</title>\n",
       "<polygon fill=\"lightgrey\" stroke=\"black\" points=\"89,-108 0,-108 0,-67 89,-67 89,-108\"/>\n",
       "<text text-anchor=\"middle\" x=\"44.5\" y=\"-96\" font-family=\"monospace\" font-size=\"10.00\">AddBackward0</text>\n",
       "<text text-anchor=\"middle\" x=\"44.5\" y=\"-85\" font-family=\"monospace\" font-size=\"10.00\">&#45;&#45;&#45;&#45;&#45;&#45;&#45;&#45;&#45;&#45;&#45;&#45;</text>\n",
       "<text text-anchor=\"middle\" x=\"44.5\" y=\"-74\" font-family=\"monospace\" font-size=\"10.00\">alpha: 1</text>\n",
       "</g>\n",
       "<!-- 140156638635824&#45;&gt;140155786711744 -->\n",
       "<g id=\"edge78\" class=\"edge\">\n",
       "<title>140156638635824&#45;&gt;140155786711744</title>\n",
       "<path fill=\"none\" stroke=\"black\" d=\"M44.5,-66.63C44.5,-58.76 44.5,-49.63 44.5,-41.33\"/>\n",
       "<polygon fill=\"black\" stroke=\"black\" points=\"48,-41.08 44.5,-31.08 41,-41.08 48,-41.08\"/>\n",
       "</g>\n",
       "<!-- 140156638636832 -->\n",
       "<g id=\"node3\" class=\"node\">\n",
       "<title>140156638636832</title>\n",
       "<polygon fill=\"lightgrey\" stroke=\"black\" points=\"161,-196 18,-196 18,-144 161,-144 161,-196\"/>\n",
       "<text text-anchor=\"middle\" x=\"89.5\" y=\"-184\" font-family=\"monospace\" font-size=\"10.00\">MulBackward0</text>\n",
       "<text text-anchor=\"middle\" x=\"89.5\" y=\"-173\" font-family=\"monospace\" font-size=\"10.00\">&#45;&#45;&#45;&#45;&#45;&#45;&#45;&#45;&#45;&#45;&#45;&#45;&#45;&#45;&#45;&#45;&#45;&#45;&#45;&#45;&#45;</text>\n",
       "<text text-anchor=\"middle\" x=\"89.5\" y=\"-162\" font-family=\"monospace\" font-size=\"10.00\">other: [saved tensor]</text>\n",
       "<text text-anchor=\"middle\" x=\"89.5\" y=\"-151\" font-family=\"monospace\" font-size=\"10.00\">self : &#160;&#160;&#160;&#160;&#160;&#160;&#160;&#160;&#160;&#160;None</text>\n",
       "</g>\n",
       "<!-- 140156638636832&#45;&gt;140156638635824 -->\n",
       "<g id=\"edge1\" class=\"edge\">\n",
       "<title>140156638636832&#45;&gt;140156638635824</title>\n",
       "<path fill=\"none\" stroke=\"black\" d=\"M75.51,-143.97C70.72,-135.41 65.33,-125.76 60.4,-116.95\"/>\n",
       "<polygon fill=\"black\" stroke=\"black\" points=\"63.42,-115.17 55.48,-108.15 57.31,-118.58 63.42,-115.17\"/>\n",
       "</g>\n",
       "<!-- 140156085036672 -->\n",
       "<g id=\"node4\" class=\"node\">\n",
       "<title>140156085036672</title>\n",
       "<polygon fill=\"orange\" stroke=\"black\" points=\"161.5,-102.5 107.5,-102.5 107.5,-72.5 161.5,-72.5 161.5,-102.5\"/>\n",
       "<text text-anchor=\"middle\" x=\"134.5\" y=\"-90.5\" font-family=\"monospace\" font-size=\"10.00\">other</text>\n",
       "<text text-anchor=\"middle\" x=\"134.5\" y=\"-79.5\" font-family=\"monospace\" font-size=\"10.00\"> ()</text>\n",
       "</g>\n",
       "<!-- 140156638636832&#45;&gt;140156085036672 -->\n",
       "<g id=\"edge2\" class=\"edge\">\n",
       "<title>140156638636832&#45;&gt;140156085036672</title>\n",
       "<path fill=\"none\" stroke=\"black\" d=\"M103.49,-143.97C111.03,-130.49 120.05,-114.35 126.42,-102.96\"/>\n",
       "</g>\n",
       "<!-- 140156638636544 -->\n",
       "<g id=\"node5\" class=\"node\">\n",
       "<title>140156638636544</title>\n",
       "<polygon fill=\"lightgrey\" stroke=\"black\" points=\"223,-273 74,-273 74,-232 223,-232 223,-273\"/>\n",
       "<text text-anchor=\"middle\" x=\"148.5\" y=\"-261\" font-family=\"monospace\" font-size=\"10.00\">SigmoidBackward0</text>\n",
       "<text text-anchor=\"middle\" x=\"148.5\" y=\"-250\" font-family=\"monospace\" font-size=\"10.00\">&#45;&#45;&#45;&#45;&#45;&#45;&#45;&#45;&#45;&#45;&#45;&#45;&#45;&#45;&#45;&#45;&#45;&#45;&#45;&#45;&#45;&#45;</text>\n",
       "<text text-anchor=\"middle\" x=\"148.5\" y=\"-239\" font-family=\"monospace\" font-size=\"10.00\">result: [saved tensor]</text>\n",
       "</g>\n",
       "<!-- 140156638636544&#45;&gt;140156638636832 -->\n",
       "<g id=\"edge3\" class=\"edge\">\n",
       "<title>140156638636544&#45;&gt;140156638636832</title>\n",
       "<path fill=\"none\" stroke=\"black\" d=\"M133.92,-231.6C127.91,-223.4 120.78,-213.67 114.01,-204.44\"/>\n",
       "<polygon fill=\"black\" stroke=\"black\" points=\"116.67,-202.15 107.94,-196.16 111.03,-206.29 116.67,-202.15\"/>\n",
       "</g>\n",
       "<!-- 140155786704432 -->\n",
       "<g id=\"node6\" class=\"node\">\n",
       "<title>140155786704432</title>\n",
       "<polygon fill=\"orange\" stroke=\"black\" points=\"238,-185 179,-185 179,-155 238,-155 238,-185\"/>\n",
       "<text text-anchor=\"middle\" x=\"208.5\" y=\"-173\" font-family=\"monospace\" font-size=\"10.00\">result</text>\n",
       "<text text-anchor=\"middle\" x=\"208.5\" y=\"-162\" font-family=\"monospace\" font-size=\"10.00\"> (2, 1)</text>\n",
       "</g>\n",
       "<!-- 140156638636544&#45;&gt;140155786704432 -->\n",
       "<g id=\"edge4\" class=\"edge\">\n",
       "<title>140156638636544&#45;&gt;140155786704432</title>\n",
       "<path fill=\"none\" stroke=\"black\" d=\"M163.33,-231.6C174.02,-217.26 188.19,-198.24 197.79,-185.37\"/>\n",
       "</g>\n",
       "<!-- 140156638635344 -->\n",
       "<g id=\"node7\" class=\"node\">\n",
       "<title>140156638635344</title>\n",
       "<polygon fill=\"lightgrey\" stroke=\"black\" points=\"369,-427 184,-427 184,-309 369,-309 369,-427\"/>\n",
       "<text text-anchor=\"middle\" x=\"276.5\" y=\"-415\" font-family=\"monospace\" font-size=\"10.00\">AddmmBackward0</text>\n",
       "<text text-anchor=\"middle\" x=\"276.5\" y=\"-404\" font-family=\"monospace\" font-size=\"10.00\">&#45;&#45;&#45;&#45;&#45;&#45;&#45;&#45;&#45;&#45;&#45;&#45;&#45;&#45;&#45;&#45;&#45;&#45;&#45;&#45;&#45;&#45;&#45;&#45;&#45;&#45;&#45;&#45;</text>\n",
       "<text text-anchor=\"middle\" x=\"276.5\" y=\"-393\" font-family=\"monospace\" font-size=\"10.00\">alpha &#160;&#160;&#160;&#160;&#160;&#160;: &#160;&#160;&#160;&#160;&#160;&#160;&#160;&#160;&#160;&#160;&#160;&#160;&#160;1</text>\n",
       "<text text-anchor=\"middle\" x=\"276.5\" y=\"-382\" font-family=\"monospace\" font-size=\"10.00\">beta &#160;&#160;&#160;&#160;&#160;&#160;&#160;: &#160;&#160;&#160;&#160;&#160;&#160;&#160;&#160;&#160;&#160;&#160;&#160;&#160;1</text>\n",
       "<text text-anchor=\"middle\" x=\"276.5\" y=\"-371\" font-family=\"monospace\" font-size=\"10.00\">mat1 &#160;&#160;&#160;&#160;&#160;&#160;&#160;: [saved tensor]</text>\n",
       "<text text-anchor=\"middle\" x=\"276.5\" y=\"-360\" font-family=\"monospace\" font-size=\"10.00\">mat1_sizes &#160;: &#160;&#160;&#160;&#160;&#160;&#160;(2, 123)</text>\n",
       "<text text-anchor=\"middle\" x=\"276.5\" y=\"-349\" font-family=\"monospace\" font-size=\"10.00\">mat1_strides: &#160;&#160;&#160;&#160;&#160;&#160;(123, 1)</text>\n",
       "<text text-anchor=\"middle\" x=\"276.5\" y=\"-338\" font-family=\"monospace\" font-size=\"10.00\">mat2 &#160;&#160;&#160;&#160;&#160;&#160;&#160;: [saved tensor]</text>\n",
       "<text text-anchor=\"middle\" x=\"276.5\" y=\"-327\" font-family=\"monospace\" font-size=\"10.00\">mat2_sizes &#160;: &#160;&#160;&#160;&#160;&#160;&#160;(123, 1)</text>\n",
       "<text text-anchor=\"middle\" x=\"276.5\" y=\"-316\" font-family=\"monospace\" font-size=\"10.00\">mat2_strides: &#160;&#160;&#160;&#160;&#160;&#160;(1, 123)</text>\n",
       "</g>\n",
       "<!-- 140156638635344&#45;&gt;140156638636544 -->\n",
       "<g id=\"edge5\" class=\"edge\">\n",
       "<title>140156638635344&#45;&gt;140156638636544</title>\n",
       "<path fill=\"none\" stroke=\"black\" d=\"M211,-308.92C199.55,-298.76 188.16,-288.66 178.3,-279.92\"/>\n",
       "<polygon fill=\"black\" stroke=\"black\" points=\"180.55,-277.25 170.75,-273.23 175.91,-282.48 180.55,-277.25\"/>\n",
       "</g>\n",
       "<!-- 140155786706592 -->\n",
       "<g id=\"node8\" class=\"node\">\n",
       "<title>140155786706592</title>\n",
       "<polygon fill=\"orange\" stroke=\"black\" points=\"312,-267.5 241,-267.5 241,-237.5 312,-237.5 312,-267.5\"/>\n",
       "<text text-anchor=\"middle\" x=\"276.5\" y=\"-255.5\" font-family=\"monospace\" font-size=\"10.00\">mat1</text>\n",
       "<text text-anchor=\"middle\" x=\"276.5\" y=\"-244.5\" font-family=\"monospace\" font-size=\"10.00\"> (2, 123)</text>\n",
       "</g>\n",
       "<!-- 140156638635344&#45;&gt;140155786706592 -->\n",
       "<g id=\"edge6\" class=\"edge\">\n",
       "<title>140156638635344&#45;&gt;140155786706592</title>\n",
       "<path fill=\"none\" stroke=\"black\" d=\"M276.5,-308.92C276.5,-293.65 276.5,-278.51 276.5,-267.92\"/>\n",
       "</g>\n",
       "<!-- 140155786704592 -->\n",
       "<g id=\"node9\" class=\"node\">\n",
       "<title>140155786704592</title>\n",
       "<polygon fill=\"orange\" stroke=\"black\" points=\"401,-267.5 330,-267.5 330,-237.5 401,-237.5 401,-267.5\"/>\n",
       "<text text-anchor=\"middle\" x=\"365.5\" y=\"-255.5\" font-family=\"monospace\" font-size=\"10.00\">mat2</text>\n",
       "<text text-anchor=\"middle\" x=\"365.5\" y=\"-244.5\" font-family=\"monospace\" font-size=\"10.00\"> (123, 1)</text>\n",
       "</g>\n",
       "<!-- 140156638635344&#45;&gt;140155786704592 -->\n",
       "<g id=\"edge7\" class=\"edge\">\n",
       "<title>140156638635344&#45;&gt;140155786704592</title>\n",
       "<path fill=\"none\" stroke=\"black\" d=\"M322.04,-308.92C334.02,-293.65 345.89,-278.51 354.19,-267.92\"/>\n",
       "</g>\n",
       "<!-- 140156747871760 -->\n",
       "<g id=\"node10\" class=\"node\">\n",
       "<title>140156747871760</title>\n",
       "<polygon fill=\"lightgrey\" stroke=\"black\" points=\"206,-498.5 105,-498.5 105,-479.5 206,-479.5 206,-498.5\"/>\n",
       "<text text-anchor=\"middle\" x=\"155.5\" y=\"-486.5\" font-family=\"monospace\" font-size=\"10.00\">AccumulateGrad</text>\n",
       "</g>\n",
       "<!-- 140156747871760&#45;&gt;140156638635344 -->\n",
       "<g id=\"edge8\" class=\"edge\">\n",
       "<title>140156747871760&#45;&gt;140156638635344</title>\n",
       "<path fill=\"none\" stroke=\"black\" d=\"M164.2,-479.44C174.25,-469.56 191.74,-452.36 209.97,-434.43\"/>\n",
       "<polygon fill=\"black\" stroke=\"black\" points=\"212.58,-436.77 217.26,-427.26 207.67,-431.78 212.58,-436.77\"/>\n",
       "</g>\n",
       "<!-- 140155786714944 -->\n",
       "<g id=\"node11\" class=\"node\">\n",
       "<title>140155786714944</title>\n",
       "<polygon fill=\"lightblue\" stroke=\"black\" points=\"223,-625 32,-625 32,-595 223,-595 223,-625\"/>\n",
       "<text text-anchor=\"middle\" x=\"127.5\" y=\"-613\" font-family=\"monospace\" font-size=\"10.00\">tabular_model.layers.2.0.bias</text>\n",
       "<text text-anchor=\"middle\" x=\"127.5\" y=\"-602\" font-family=\"monospace\" font-size=\"10.00\"> (1)</text>\n",
       "</g>\n",
       "<!-- 140155786714944&#45;&gt;140156747871760 -->\n",
       "<g id=\"edge9\" class=\"edge\">\n",
       "<title>140155786714944&#45;&gt;140156747871760</title>\n",
       "<path fill=\"none\" stroke=\"black\" d=\"M130.82,-594.88C135.87,-573.41 145.49,-532.52 151.11,-508.64\"/>\n",
       "<polygon fill=\"black\" stroke=\"black\" points=\"154.57,-509.25 153.45,-498.71 147.75,-507.64 154.57,-509.25\"/>\n",
       "</g>\n",
       "<!-- 140156747871664 -->\n",
       "<g id=\"node12\" class=\"node\">\n",
       "<title>140156747871664</title>\n",
       "<polygon fill=\"lightgrey\" stroke=\"black\" points=\"838,-515 695,-515 695,-463 838,-463 838,-515\"/>\n",
       "<text text-anchor=\"middle\" x=\"766.5\" y=\"-503\" font-family=\"monospace\" font-size=\"10.00\">MulBackward0</text>\n",
       "<text text-anchor=\"middle\" x=\"766.5\" y=\"-492\" font-family=\"monospace\" font-size=\"10.00\">&#45;&#45;&#45;&#45;&#45;&#45;&#45;&#45;&#45;&#45;&#45;&#45;&#45;&#45;&#45;&#45;&#45;&#45;&#45;&#45;&#45;</text>\n",
       "<text text-anchor=\"middle\" x=\"766.5\" y=\"-481\" font-family=\"monospace\" font-size=\"10.00\">other: [saved tensor]</text>\n",
       "<text text-anchor=\"middle\" x=\"766.5\" y=\"-470\" font-family=\"monospace\" font-size=\"10.00\">self : &#160;&#160;&#160;&#160;&#160;&#160;&#160;&#160;&#160;&#160;None</text>\n",
       "</g>\n",
       "<!-- 140156747871664&#45;&gt;140156638635344 -->\n",
       "<g id=\"edge10\" class=\"edge\">\n",
       "<title>140156747871664&#45;&gt;140156638635344</title>\n",
       "<path fill=\"none\" stroke=\"black\" d=\"M694.62,-465.25C691.88,-464.47 689.17,-463.72 686.5,-463 582.52,-434.88 462.25,-407.96 378.98,-390.19\"/>\n",
       "<polygon fill=\"black\" stroke=\"black\" points=\"379.52,-386.72 369.01,-388.07 378.06,-393.57 379.52,-386.72\"/>\n",
       "</g>\n",
       "<!-- 140155786705392 -->\n",
       "<g id=\"node13\" class=\"node\">\n",
       "<title>140155786705392</title>\n",
       "<polygon fill=\"orange\" stroke=\"black\" points=\"802,-383 731,-383 731,-353 802,-353 802,-383\"/>\n",
       "<text text-anchor=\"middle\" x=\"766.5\" y=\"-371\" font-family=\"monospace\" font-size=\"10.00\">other</text>\n",
       "<text text-anchor=\"middle\" x=\"766.5\" y=\"-360\" font-family=\"monospace\" font-size=\"10.00\"> (2, 123)</text>\n",
       "</g>\n",
       "<!-- 140156747871664&#45;&gt;140155786705392 -->\n",
       "<g id=\"edge11\" class=\"edge\">\n",
       "<title>140156747871664&#45;&gt;140155786705392</title>\n",
       "<path fill=\"none\" stroke=\"black\" d=\"M766.5,-462.76C766.5,-438.47 766.5,-402.63 766.5,-383.04\"/>\n",
       "</g>\n",
       "<!-- 140156747872144 -->\n",
       "<g id=\"node14\" class=\"node\">\n",
       "<title>140156747872144</title>\n",
       "<polygon fill=\"lightgrey\" stroke=\"black\" points=\"793,-669 608,-669 608,-551 793,-551 793,-669\"/>\n",
       "<text text-anchor=\"middle\" x=\"700.5\" y=\"-657\" font-family=\"monospace\" font-size=\"10.00\">NativeBatchNormBackward0</text>\n",
       "<text text-anchor=\"middle\" x=\"700.5\" y=\"-646\" font-family=\"monospace\" font-size=\"10.00\">&#45;&#45;&#45;&#45;&#45;&#45;&#45;&#45;&#45;&#45;&#45;&#45;&#45;&#45;&#45;&#45;&#45;&#45;&#45;&#45;&#45;&#45;&#45;&#45;&#45;&#45;&#45;&#45;</text>\n",
       "<text text-anchor=\"middle\" x=\"700.5\" y=\"-635\" font-family=\"monospace\" font-size=\"10.00\">eps &#160;&#160;&#160;&#160;&#160;&#160;&#160;&#160;: &#160;&#160;&#160;&#160;&#160;&#160;&#160;&#160;&#160;1e&#45;05</text>\n",
       "<text text-anchor=\"middle\" x=\"700.5\" y=\"-624\" font-family=\"monospace\" font-size=\"10.00\">input &#160;&#160;&#160;&#160;&#160;&#160;: [saved tensor]</text>\n",
       "<text text-anchor=\"middle\" x=\"700.5\" y=\"-613\" font-family=\"monospace\" font-size=\"10.00\">result1 &#160;&#160;&#160;&#160;: [saved tensor]</text>\n",
       "<text text-anchor=\"middle\" x=\"700.5\" y=\"-602\" font-family=\"monospace\" font-size=\"10.00\">result2 &#160;&#160;&#160;&#160;: [saved tensor]</text>\n",
       "<text text-anchor=\"middle\" x=\"700.5\" y=\"-591\" font-family=\"monospace\" font-size=\"10.00\">running_mean: [saved tensor]</text>\n",
       "<text text-anchor=\"middle\" x=\"700.5\" y=\"-580\" font-family=\"monospace\" font-size=\"10.00\">running_var : [saved tensor]</text>\n",
       "<text text-anchor=\"middle\" x=\"700.5\" y=\"-569\" font-family=\"monospace\" font-size=\"10.00\">training &#160;&#160;&#160;: &#160;&#160;&#160;&#160;&#160;&#160;&#160;&#160;&#160;&#160;True</text>\n",
       "<text text-anchor=\"middle\" x=\"700.5\" y=\"-558\" font-family=\"monospace\" font-size=\"10.00\">weight &#160;&#160;&#160;&#160;&#160;: [saved tensor]</text>\n",
       "</g>\n",
       "<!-- 140156747872144&#45;&gt;140156747871664 -->\n",
       "<g id=\"edge12\" class=\"edge\">\n",
       "<title>140156747872144&#45;&gt;140156747871664</title>\n",
       "<path fill=\"none\" stroke=\"black\" d=\"M732.73,-550.89C737.87,-541.62 743.04,-532.31 747.73,-523.84\"/>\n",
       "<polygon fill=\"black\" stroke=\"black\" points=\"750.82,-525.48 752.61,-515.04 744.7,-522.09 750.82,-525.48\"/>\n",
       "</g>\n",
       "<!-- 140155786704112 -->\n",
       "<g id=\"node15\" class=\"node\">\n",
       "<title>140155786704112</title>\n",
       "<polygon fill=\"orange\" stroke=\"black\" points=\"1187,-504 1116,-504 1116,-474 1187,-474 1187,-504\"/>\n",
       "<text text-anchor=\"middle\" x=\"1151.5\" y=\"-492\" font-family=\"monospace\" font-size=\"10.00\">input</text>\n",
       "<text text-anchor=\"middle\" x=\"1151.5\" y=\"-481\" font-family=\"monospace\" font-size=\"10.00\"> (2, 123)</text>\n",
       "</g>\n",
       "<!-- 140156747872144&#45;&gt;140155786704112 -->\n",
       "<g id=\"edge13\" class=\"edge\">\n",
       "<title>140156747872144&#45;&gt;140155786704112</title>\n",
       "<path fill=\"none\" stroke=\"black\" d=\"M793.3,-567.2C809.46,-561.05 826.29,-555.34 842.5,-551 957.32,-520.28 994.9,-553.05 1107.5,-515 1115.32,-512.36 1123.33,-508.28 1130.34,-504.19\"/>\n",
       "</g>\n",
       "<!-- 140155786704192 -->\n",
       "<g id=\"node16\" class=\"node\">\n",
       "<title>140155786704192</title>\n",
       "<polygon fill=\"orange\" stroke=\"black\" points=\"392,-504 333,-504 333,-474 392,-474 392,-504\"/>\n",
       "<text text-anchor=\"middle\" x=\"362.5\" y=\"-492\" font-family=\"monospace\" font-size=\"10.00\">result1</text>\n",
       "<text text-anchor=\"middle\" x=\"362.5\" y=\"-481\" font-family=\"monospace\" font-size=\"10.00\"> (123)</text>\n",
       "</g>\n",
       "<!-- 140156747872144&#45;&gt;140155786704192 -->\n",
       "<g id=\"edge14\" class=\"edge\">\n",
       "<title>140156747872144&#45;&gt;140155786704192</title>\n",
       "<path fill=\"none\" stroke=\"black\" d=\"M607.75,-587.1C547.16,-571.07 467.2,-546.63 400.5,-515 394.08,-511.95 387.48,-507.96 381.61,-504.06\"/>\n",
       "</g>\n",
       "<!-- 140155786702912 -->\n",
       "<g id=\"node17\" class=\"node\">\n",
       "<title>140155786702912</title>\n",
       "<polygon fill=\"orange\" stroke=\"black\" points=\"469,-504 410,-504 410,-474 469,-474 469,-504\"/>\n",
       "<text text-anchor=\"middle\" x=\"439.5\" y=\"-492\" font-family=\"monospace\" font-size=\"10.00\">result2</text>\n",
       "<text text-anchor=\"middle\" x=\"439.5\" y=\"-481\" font-family=\"monospace\" font-size=\"10.00\"> (123)</text>\n",
       "</g>\n",
       "<!-- 140156747872144&#45;&gt;140155786702912 -->\n",
       "<g id=\"edge15\" class=\"edge\">\n",
       "<title>140156747872144&#45;&gt;140155786702912</title>\n",
       "<path fill=\"none\" stroke=\"black\" d=\"M607.88,-573.88C567.43,-557.5 519.87,-536.82 478.5,-515 472.38,-511.77 465.97,-507.89 460.16,-504.16\"/>\n",
       "</g>\n",
       "<!-- 140155796404720 -->\n",
       "<g id=\"node18\" class=\"node\">\n",
       "<title>140155796404720</title>\n",
       "<polygon fill=\"orange\" stroke=\"black\" points=\"576,-504 487,-504 487,-474 576,-474 576,-504\"/>\n",
       "<text text-anchor=\"middle\" x=\"531.5\" y=\"-492\" font-family=\"monospace\" font-size=\"10.00\">running_mean</text>\n",
       "<text text-anchor=\"middle\" x=\"531.5\" y=\"-481\" font-family=\"monospace\" font-size=\"10.00\"> (123)</text>\n",
       "</g>\n",
       "<!-- 140156747872144&#45;&gt;140155796404720 -->\n",
       "<g id=\"edge16\" class=\"edge\">\n",
       "<title>140156747872144&#45;&gt;140155796404720</title>\n",
       "<path fill=\"none\" stroke=\"black\" d=\"M617.98,-550.89C593.18,-533.43 568.15,-515.81 551.45,-504.04\"/>\n",
       "</g>\n",
       "<!-- 140155796405920 -->\n",
       "<g id=\"node19\" class=\"node\">\n",
       "<title>140155796405920</title>\n",
       "<polygon fill=\"orange\" stroke=\"black\" points=\"677,-504 594,-504 594,-474 677,-474 677,-504\"/>\n",
       "<text text-anchor=\"middle\" x=\"635.5\" y=\"-492\" font-family=\"monospace\" font-size=\"10.00\">running_var</text>\n",
       "<text text-anchor=\"middle\" x=\"635.5\" y=\"-481\" font-family=\"monospace\" font-size=\"10.00\"> (123)</text>\n",
       "</g>\n",
       "<!-- 140156747872144&#45;&gt;140155796405920 -->\n",
       "<g id=\"edge17\" class=\"edge\">\n",
       "<title>140156747872144&#45;&gt;140155796405920</title>\n",
       "<path fill=\"none\" stroke=\"black\" d=\"M668.76,-550.89C659.22,-533.43 649.6,-515.81 643.17,-504.04\"/>\n",
       "</g>\n",
       "<!-- 140155796402400 -->\n",
       "<g id=\"node20\" class=\"node\">\n",
       "<title>140155796402400</title>\n",
       "<polygon fill=\"lightblue\" stroke=\"black\" points=\"1098,-504 895,-504 895,-474 1098,-474 1098,-504\"/>\n",
       "<text text-anchor=\"middle\" x=\"996.5\" y=\"-492\" font-family=\"monospace\" font-size=\"10.00\">tabular_model.layers.1.2.weight</text>\n",
       "<text text-anchor=\"middle\" x=\"996.5\" y=\"-481\" font-family=\"monospace\" font-size=\"10.00\"> (123)</text>\n",
       "</g>\n",
       "<!-- 140156747872144&#45;&gt;140155796402400 -->\n",
       "<g id=\"edge18\" class=\"edge\">\n",
       "<title>140156747872144&#45;&gt;140155796402400</title>\n",
       "<path fill=\"none\" stroke=\"black\" d=\"M793.25,-570.95C809.65,-564.27 826.56,-557.41 842.5,-551 882.92,-534.74 929.43,-516.36 960.67,-504.07\"/>\n",
       "</g>\n",
       "<!-- 140156747873296 -->\n",
       "<g id=\"node71\" class=\"node\">\n",
       "<title>140156747873296</title>\n",
       "<polygon fill=\"lightgrey\" stroke=\"black\" points=\"984,-377.5 883,-377.5 883,-358.5 984,-358.5 984,-377.5\"/>\n",
       "<text text-anchor=\"middle\" x=\"933.5\" y=\"-365.5\" font-family=\"monospace\" font-size=\"10.00\">AccumulateGrad</text>\n",
       "</g>\n",
       "<!-- 140155796402400&#45;&gt;140156747873296 -->\n",
       "<g id=\"edge72\" class=\"edge\">\n",
       "<title>140155796402400&#45;&gt;140156747873296</title>\n",
       "<path fill=\"none\" stroke=\"black\" d=\"M989.03,-473.88C977.5,-452.12 955.42,-410.41 942.86,-386.67\"/>\n",
       "<polygon fill=\"black\" stroke=\"black\" points=\"945.88,-384.91 938.11,-377.71 939.7,-388.19 945.88,-384.91\"/>\n",
       "</g>\n",
       "<!-- 140156747871040 -->\n",
       "<g id=\"node21\" class=\"node\">\n",
       "<title>140156747871040</title>\n",
       "<polygon fill=\"lightgrey\" stroke=\"black\" points=\"961,-746 812,-746 812,-705 961,-705 961,-746\"/>\n",
       "<text text-anchor=\"middle\" x=\"886.5\" y=\"-734\" font-family=\"monospace\" font-size=\"10.00\">ReluBackward0</text>\n",
       "<text text-anchor=\"middle\" x=\"886.5\" y=\"-723\" font-family=\"monospace\" font-size=\"10.00\">&#45;&#45;&#45;&#45;&#45;&#45;&#45;&#45;&#45;&#45;&#45;&#45;&#45;&#45;&#45;&#45;&#45;&#45;&#45;&#45;&#45;&#45;</text>\n",
       "<text text-anchor=\"middle\" x=\"886.5\" y=\"-712\" font-family=\"monospace\" font-size=\"10.00\">result: [saved tensor]</text>\n",
       "</g>\n",
       "<!-- 140156747871040&#45;&gt;140156747872144 -->\n",
       "<g id=\"edge19\" class=\"edge\">\n",
       "<title>140156747871040&#45;&gt;140156747872144</title>\n",
       "<path fill=\"none\" stroke=\"black\" d=\"M854.53,-704.99C839.66,-695.92 821.08,-684.58 802.01,-672.94\"/>\n",
       "<polygon fill=\"black\" stroke=\"black\" points=\"803.59,-669.81 793.23,-667.59 799.94,-675.78 803.59,-669.81\"/>\n",
       "</g>\n",
       "<!-- 140155786703872 -->\n",
       "<g id=\"node22\" class=\"node\">\n",
       "<title>140155786703872</title>\n",
       "<polygon fill=\"orange\" stroke=\"black\" points=\"922,-625 851,-625 851,-595 922,-595 922,-625\"/>\n",
       "<text text-anchor=\"middle\" x=\"886.5\" y=\"-613\" font-family=\"monospace\" font-size=\"10.00\">result</text>\n",
       "<text text-anchor=\"middle\" x=\"886.5\" y=\"-602\" font-family=\"monospace\" font-size=\"10.00\"> (2, 123)</text>\n",
       "</g>\n",
       "<!-- 140156747871040&#45;&gt;140155786703872 -->\n",
       "<g id=\"edge20\" class=\"edge\">\n",
       "<title>140156747871040&#45;&gt;140155786703872</title>\n",
       "<path fill=\"none\" stroke=\"black\" d=\"M886.5,-704.99C886.5,-682.3 886.5,-645.39 886.5,-625.24\"/>\n",
       "</g>\n",
       "<!-- 140156747870608 -->\n",
       "<g id=\"node23\" class=\"node\">\n",
       "<title>140156747870608</title>\n",
       "<polygon fill=\"lightgrey\" stroke=\"black\" points=\"979,-878 794,-878 794,-782 979,-782 979,-878\"/>\n",
       "<text text-anchor=\"middle\" x=\"886.5\" y=\"-866\" font-family=\"monospace\" font-size=\"10.00\">MmBackward0</text>\n",
       "<text text-anchor=\"middle\" x=\"886.5\" y=\"-855\" font-family=\"monospace\" font-size=\"10.00\">&#45;&#45;&#45;&#45;&#45;&#45;&#45;&#45;&#45;&#45;&#45;&#45;&#45;&#45;&#45;&#45;&#45;&#45;&#45;&#45;&#45;&#45;&#45;&#45;&#45;&#45;&#45;&#45;</text>\n",
       "<text text-anchor=\"middle\" x=\"886.5\" y=\"-844\" font-family=\"monospace\" font-size=\"10.00\">mat2 &#160;&#160;&#160;&#160;&#160;&#160;&#160;: [saved tensor]</text>\n",
       "<text text-anchor=\"middle\" x=\"886.5\" y=\"-833\" font-family=\"monospace\" font-size=\"10.00\">mat2_sizes &#160;: &#160;&#160;&#160;&#160;&#160;(60, 123)</text>\n",
       "<text text-anchor=\"middle\" x=\"886.5\" y=\"-822\" font-family=\"monospace\" font-size=\"10.00\">mat2_strides: &#160;&#160;&#160;&#160;&#160;&#160;&#160;(1, 60)</text>\n",
       "<text text-anchor=\"middle\" x=\"886.5\" y=\"-811\" font-family=\"monospace\" font-size=\"10.00\">self &#160;&#160;&#160;&#160;&#160;&#160;&#160;: [saved tensor]</text>\n",
       "<text text-anchor=\"middle\" x=\"886.5\" y=\"-800\" font-family=\"monospace\" font-size=\"10.00\">self_sizes &#160;: &#160;&#160;&#160;&#160;&#160;&#160;&#160;(2, 60)</text>\n",
       "<text text-anchor=\"middle\" x=\"886.5\" y=\"-789\" font-family=\"monospace\" font-size=\"10.00\">self_strides: &#160;&#160;&#160;&#160;&#160;&#160;&#160;(60, 1)</text>\n",
       "</g>\n",
       "<!-- 140156747870608&#45;&gt;140156747871040 -->\n",
       "<g id=\"edge21\" class=\"edge\">\n",
       "<title>140156747870608&#45;&gt;140156747871040</title>\n",
       "<path fill=\"none\" stroke=\"black\" d=\"M886.5,-781.95C886.5,-773.17 886.5,-764.22 886.5,-756.15\"/>\n",
       "<polygon fill=\"black\" stroke=\"black\" points=\"890,-756.13 886.5,-746.13 883,-756.13 890,-756.13\"/>\n",
       "</g>\n",
       "<!-- 140155786705952 -->\n",
       "<g id=\"node24\" class=\"node\">\n",
       "<title>140155786705952</title>\n",
       "<polygon fill=\"orange\" stroke=\"black\" points=\"1056,-740.5 979,-740.5 979,-710.5 1056,-710.5 1056,-740.5\"/>\n",
       "<text text-anchor=\"middle\" x=\"1017.5\" y=\"-728.5\" font-family=\"monospace\" font-size=\"10.00\">mat2</text>\n",
       "<text text-anchor=\"middle\" x=\"1017.5\" y=\"-717.5\" font-family=\"monospace\" font-size=\"10.00\"> (60, 123)</text>\n",
       "</g>\n",
       "<!-- 140156747870608&#45;&gt;140155786705952 -->\n",
       "<g id=\"edge22\" class=\"edge\">\n",
       "<title>140156747870608&#45;&gt;140155786705952</title>\n",
       "<path fill=\"none\" stroke=\"black\" d=\"M946.63,-781.95C965.87,-766.9 985.73,-751.36 999.51,-740.58\"/>\n",
       "</g>\n",
       "<!-- 140155786704512 -->\n",
       "<g id=\"node25\" class=\"node\">\n",
       "<title>140155786704512</title>\n",
       "<polygon fill=\"orange\" stroke=\"black\" points=\"794,-740.5 729,-740.5 729,-710.5 794,-710.5 794,-740.5\"/>\n",
       "<text text-anchor=\"middle\" x=\"761.5\" y=\"-728.5\" font-family=\"monospace\" font-size=\"10.00\">self</text>\n",
       "<text text-anchor=\"middle\" x=\"761.5\" y=\"-717.5\" font-family=\"monospace\" font-size=\"10.00\"> (2, 60)</text>\n",
       "</g>\n",
       "<!-- 140156747870608&#45;&gt;140155786704512 -->\n",
       "<g id=\"edge23\" class=\"edge\">\n",
       "<title>140156747870608&#45;&gt;140155786704512</title>\n",
       "<path fill=\"none\" stroke=\"black\" d=\"M829.12,-781.95C810.77,-766.9 791.82,-751.36 778.67,-740.58\"/>\n",
       "</g>\n",
       "<!-- 140156747870368 -->\n",
       "<g id=\"node26\" class=\"node\">\n",
       "<title>140156747870368</title>\n",
       "<polygon fill=\"lightgrey\" stroke=\"black\" points=\"1316,-966 1173,-966 1173,-914 1316,-914 1316,-966\"/>\n",
       "<text text-anchor=\"middle\" x=\"1244.5\" y=\"-954\" font-family=\"monospace\" font-size=\"10.00\">MulBackward0</text>\n",
       "<text text-anchor=\"middle\" x=\"1244.5\" y=\"-943\" font-family=\"monospace\" font-size=\"10.00\">&#45;&#45;&#45;&#45;&#45;&#45;&#45;&#45;&#45;&#45;&#45;&#45;&#45;&#45;&#45;&#45;&#45;&#45;&#45;&#45;&#45;</text>\n",
       "<text text-anchor=\"middle\" x=\"1244.5\" y=\"-932\" font-family=\"monospace\" font-size=\"10.00\">other: [saved tensor]</text>\n",
       "<text text-anchor=\"middle\" x=\"1244.5\" y=\"-921\" font-family=\"monospace\" font-size=\"10.00\">self : &#160;&#160;&#160;&#160;&#160;&#160;&#160;&#160;&#160;&#160;None</text>\n",
       "</g>\n",
       "<!-- 140156747870368&#45;&gt;140156747870608 -->\n",
       "<g id=\"edge24\" class=\"edge\">\n",
       "<title>140156747870368&#45;&gt;140156747870608</title>\n",
       "<path fill=\"none\" stroke=\"black\" d=\"M1172.98,-916.6C1170.12,-915.72 1167.28,-914.85 1164.5,-914 1106.45,-896.27 1041.46,-876.84 988.92,-861.24\"/>\n",
       "<polygon fill=\"black\" stroke=\"black\" points=\"989.84,-857.86 979.26,-858.37 987.85,-864.57 989.84,-857.86\"/>\n",
       "</g>\n",
       "<!-- 140155786703072 -->\n",
       "<g id=\"node27\" class=\"node\">\n",
       "<title>140155786703072</title>\n",
       "<polygon fill=\"orange\" stroke=\"black\" points=\"1277,-845 1212,-845 1212,-815 1277,-815 1277,-845\"/>\n",
       "<text text-anchor=\"middle\" x=\"1244.5\" y=\"-833\" font-family=\"monospace\" font-size=\"10.00\">other</text>\n",
       "<text text-anchor=\"middle\" x=\"1244.5\" y=\"-822\" font-family=\"monospace\" font-size=\"10.00\"> (2, 60)</text>\n",
       "</g>\n",
       "<!-- 140156747870368&#45;&gt;140155786703072 -->\n",
       "<g id=\"edge25\" class=\"edge\">\n",
       "<title>140156747870368&#45;&gt;140155786703072</title>\n",
       "<path fill=\"none\" stroke=\"black\" d=\"M1244.5,-913.95C1244.5,-892.52 1244.5,-862.44 1244.5,-845.01\"/>\n",
       "</g>\n",
       "<!-- 140156747874112 -->\n",
       "<g id=\"node28\" class=\"node\">\n",
       "<title>140156747874112</title>\n",
       "<polygon fill=\"lightgrey\" stroke=\"black\" points=\"1154,-1120 969,-1120 969,-1002 1154,-1002 1154,-1120\"/>\n",
       "<text text-anchor=\"middle\" x=\"1061.5\" y=\"-1108\" font-family=\"monospace\" font-size=\"10.00\">NativeBatchNormBackward0</text>\n",
       "<text text-anchor=\"middle\" x=\"1061.5\" y=\"-1097\" font-family=\"monospace\" font-size=\"10.00\">&#45;&#45;&#45;&#45;&#45;&#45;&#45;&#45;&#45;&#45;&#45;&#45;&#45;&#45;&#45;&#45;&#45;&#45;&#45;&#45;&#45;&#45;&#45;&#45;&#45;&#45;&#45;&#45;</text>\n",
       "<text text-anchor=\"middle\" x=\"1061.5\" y=\"-1086\" font-family=\"monospace\" font-size=\"10.00\">eps &#160;&#160;&#160;&#160;&#160;&#160;&#160;&#160;: &#160;&#160;&#160;&#160;&#160;&#160;&#160;&#160;&#160;1e&#45;05</text>\n",
       "<text text-anchor=\"middle\" x=\"1061.5\" y=\"-1075\" font-family=\"monospace\" font-size=\"10.00\">input &#160;&#160;&#160;&#160;&#160;&#160;: [saved tensor]</text>\n",
       "<text text-anchor=\"middle\" x=\"1061.5\" y=\"-1064\" font-family=\"monospace\" font-size=\"10.00\">result1 &#160;&#160;&#160;&#160;: [saved tensor]</text>\n",
       "<text text-anchor=\"middle\" x=\"1061.5\" y=\"-1053\" font-family=\"monospace\" font-size=\"10.00\">result2 &#160;&#160;&#160;&#160;: [saved tensor]</text>\n",
       "<text text-anchor=\"middle\" x=\"1061.5\" y=\"-1042\" font-family=\"monospace\" font-size=\"10.00\">running_mean: [saved tensor]</text>\n",
       "<text text-anchor=\"middle\" x=\"1061.5\" y=\"-1031\" font-family=\"monospace\" font-size=\"10.00\">running_var : [saved tensor]</text>\n",
       "<text text-anchor=\"middle\" x=\"1061.5\" y=\"-1020\" font-family=\"monospace\" font-size=\"10.00\">training &#160;&#160;&#160;: &#160;&#160;&#160;&#160;&#160;&#160;&#160;&#160;&#160;&#160;True</text>\n",
       "<text text-anchor=\"middle\" x=\"1061.5\" y=\"-1009\" font-family=\"monospace\" font-size=\"10.00\">weight &#160;&#160;&#160;&#160;&#160;: [saved tensor]</text>\n",
       "</g>\n",
       "<!-- 140156747874112&#45;&gt;140156747870368 -->\n",
       "<g id=\"edge26\" class=\"edge\">\n",
       "<title>140156747874112&#45;&gt;140156747870368</title>\n",
       "<path fill=\"none\" stroke=\"black\" d=\"M1150.86,-1001.89C1166.93,-991.44 1183.1,-980.93 1197.37,-971.65\"/>\n",
       "<polygon fill=\"black\" stroke=\"black\" points=\"1199.52,-974.43 1205.99,-966.04 1195.7,-968.56 1199.52,-974.43\"/>\n",
       "</g>\n",
       "<!-- 140155786703952 -->\n",
       "<g id=\"node29\" class=\"node\">\n",
       "<title>140155786703952</title>\n",
       "<polygon fill=\"orange\" stroke=\"black\" points=\"793,-955 728,-955 728,-925 793,-925 793,-955\"/>\n",
       "<text text-anchor=\"middle\" x=\"760.5\" y=\"-943\" font-family=\"monospace\" font-size=\"10.00\">input</text>\n",
       "<text text-anchor=\"middle\" x=\"760.5\" y=\"-932\" font-family=\"monospace\" font-size=\"10.00\"> (2, 60)</text>\n",
       "</g>\n",
       "<!-- 140156747874112&#45;&gt;140155786703952 -->\n",
       "<g id=\"edge27\" class=\"edge\">\n",
       "<title>140156747874112&#45;&gt;140155786703952</title>\n",
       "<path fill=\"none\" stroke=\"black\" d=\"M968.99,-1031.16C918.79,-1014.34 856.21,-991.45 802.5,-966 795.75,-962.8 788.68,-958.85 782.3,-955.04\"/>\n",
       "</g>\n",
       "<!-- 140155786706432 -->\n",
       "<g id=\"node30\" class=\"node\">\n",
       "<title>140155786706432</title>\n",
       "<polygon fill=\"orange\" stroke=\"black\" points=\"870,-955 811,-955 811,-925 870,-925 870,-955\"/>\n",
       "<text text-anchor=\"middle\" x=\"840.5\" y=\"-943\" font-family=\"monospace\" font-size=\"10.00\">result1</text>\n",
       "<text text-anchor=\"middle\" x=\"840.5\" y=\"-932\" font-family=\"monospace\" font-size=\"10.00\"> (60)</text>\n",
       "</g>\n",
       "<!-- 140156747874112&#45;&gt;140155786706432 -->\n",
       "<g id=\"edge28\" class=\"edge\">\n",
       "<title>140156747874112&#45;&gt;140155786706432</title>\n",
       "<path fill=\"none\" stroke=\"black\" d=\"M968.95,-1014.31C940,-999.46 908.15,-982.53 879.5,-966 873.65,-962.62 867.44,-958.77 861.73,-955.12\"/>\n",
       "</g>\n",
       "<!-- 140155786705472 -->\n",
       "<g id=\"node31\" class=\"node\">\n",
       "<title>140155786705472</title>\n",
       "<polygon fill=\"orange\" stroke=\"black\" points=\"947,-955 888,-955 888,-925 947,-925 947,-955\"/>\n",
       "<text text-anchor=\"middle\" x=\"917.5\" y=\"-943\" font-family=\"monospace\" font-size=\"10.00\">result2</text>\n",
       "<text text-anchor=\"middle\" x=\"917.5\" y=\"-932\" font-family=\"monospace\" font-size=\"10.00\"> (60)</text>\n",
       "</g>\n",
       "<!-- 140156747874112&#45;&gt;140155786705472 -->\n",
       "<g id=\"edge29\" class=\"edge\">\n",
       "<title>140156747874112&#45;&gt;140155786705472</title>\n",
       "<path fill=\"none\" stroke=\"black\" d=\"M991.19,-1001.89C970.05,-984.43 948.73,-966.81 934.5,-955.04\"/>\n",
       "</g>\n",
       "<!-- 140156085038912 -->\n",
       "<g id=\"node32\" class=\"node\">\n",
       "<title>140156085038912</title>\n",
       "<polygon fill=\"orange\" stroke=\"black\" points=\"1054,-955 965,-955 965,-925 1054,-925 1054,-955\"/>\n",
       "<text text-anchor=\"middle\" x=\"1009.5\" y=\"-943\" font-family=\"monospace\" font-size=\"10.00\">running_mean</text>\n",
       "<text text-anchor=\"middle\" x=\"1009.5\" y=\"-932\" font-family=\"monospace\" font-size=\"10.00\"> (60)</text>\n",
       "</g>\n",
       "<!-- 140156747874112&#45;&gt;140156085038912 -->\n",
       "<g id=\"edge30\" class=\"edge\">\n",
       "<title>140156747874112&#45;&gt;140156085038912</title>\n",
       "<path fill=\"none\" stroke=\"black\" d=\"M1036.11,-1001.89C1028.48,-984.43 1020.78,-966.81 1015.64,-955.04\"/>\n",
       "</g>\n",
       "<!-- 140155796403360 -->\n",
       "<g id=\"node33\" class=\"node\">\n",
       "<title>140155796403360</title>\n",
       "<polygon fill=\"orange\" stroke=\"black\" points=\"1155,-955 1072,-955 1072,-925 1155,-925 1155,-955\"/>\n",
       "<text text-anchor=\"middle\" x=\"1113.5\" y=\"-943\" font-family=\"monospace\" font-size=\"10.00\">running_var</text>\n",
       "<text text-anchor=\"middle\" x=\"1113.5\" y=\"-932\" font-family=\"monospace\" font-size=\"10.00\"> (60)</text>\n",
       "</g>\n",
       "<!-- 140156747874112&#45;&gt;140155796403360 -->\n",
       "<g id=\"edge31\" class=\"edge\">\n",
       "<title>140156747874112&#45;&gt;140155796403360</title>\n",
       "<path fill=\"none\" stroke=\"black\" d=\"M1086.89,-1001.89C1094.52,-984.43 1102.22,-966.81 1107.36,-955.04\"/>\n",
       "</g>\n",
       "<!-- 140155796403440 -->\n",
       "<g id=\"node34\" class=\"node\">\n",
       "<title>140155796403440</title>\n",
       "<polygon fill=\"lightblue\" stroke=\"black\" points=\"1537,-955 1334,-955 1334,-925 1537,-925 1537,-955\"/>\n",
       "<text text-anchor=\"middle\" x=\"1435.5\" y=\"-943\" font-family=\"monospace\" font-size=\"10.00\">tabular_model.layers.0.2.weight</text>\n",
       "<text text-anchor=\"middle\" x=\"1435.5\" y=\"-932\" font-family=\"monospace\" font-size=\"10.00\"> (60)</text>\n",
       "</g>\n",
       "<!-- 140156747874112&#45;&gt;140155796403440 -->\n",
       "<g id=\"edge32\" class=\"edge\">\n",
       "<title>140156747874112&#45;&gt;140155796403440</title>\n",
       "<path fill=\"none\" stroke=\"black\" d=\"M1154.37,-1021.23C1171.89,-1014.45 1190.15,-1007.74 1207.5,-1002 1263.71,-983.39 1329.1,-966.35 1375.41,-955.04\"/>\n",
       "</g>\n",
       "<!-- 140156747871568 -->\n",
       "<g id=\"node65\" class=\"node\">\n",
       "<title>140156747871568</title>\n",
       "<polygon fill=\"lightgrey\" stroke=\"black\" points=\"1551,-839.5 1450,-839.5 1450,-820.5 1551,-820.5 1551,-839.5\"/>\n",
       "<text text-anchor=\"middle\" x=\"1500.5\" y=\"-827.5\" font-family=\"monospace\" font-size=\"10.00\">AccumulateGrad</text>\n",
       "</g>\n",
       "<!-- 140155796403440&#45;&gt;140156747871568 -->\n",
       "<g id=\"edge65\" class=\"edge\">\n",
       "<title>140155796403440&#45;&gt;140156747871568</title>\n",
       "<path fill=\"none\" stroke=\"black\" d=\"M1444,-924.88C1455.87,-905.15 1477.41,-869.36 1490.19,-848.13\"/>\n",
       "<polygon fill=\"black\" stroke=\"black\" points=\"1493.22,-849.88 1495.38,-839.51 1487.23,-846.27 1493.22,-849.88\"/>\n",
       "</g>\n",
       "<!-- 140156747871088 -->\n",
       "<g id=\"node35\" class=\"node\">\n",
       "<title>140156747871088</title>\n",
       "<polygon fill=\"lightgrey\" stroke=\"black\" points=\"1323,-1197 1174,-1197 1174,-1156 1323,-1156 1323,-1197\"/>\n",
       "<text text-anchor=\"middle\" x=\"1248.5\" y=\"-1185\" font-family=\"monospace\" font-size=\"10.00\">ReluBackward0</text>\n",
       "<text text-anchor=\"middle\" x=\"1248.5\" y=\"-1174\" font-family=\"monospace\" font-size=\"10.00\">&#45;&#45;&#45;&#45;&#45;&#45;&#45;&#45;&#45;&#45;&#45;&#45;&#45;&#45;&#45;&#45;&#45;&#45;&#45;&#45;&#45;&#45;</text>\n",
       "<text text-anchor=\"middle\" x=\"1248.5\" y=\"-1163\" font-family=\"monospace\" font-size=\"10.00\">result: [saved tensor]</text>\n",
       "</g>\n",
       "<!-- 140156747871088&#45;&gt;140156747874112 -->\n",
       "<g id=\"edge33\" class=\"edge\">\n",
       "<title>140156747871088&#45;&gt;140156747874112</title>\n",
       "<path fill=\"none\" stroke=\"black\" d=\"M1216.35,-1155.99C1201.25,-1146.82 1182.33,-1135.34 1162.95,-1123.57\"/>\n",
       "<polygon fill=\"black\" stroke=\"black\" points=\"1164.69,-1120.54 1154.33,-1118.34 1161.06,-1126.52 1164.69,-1120.54\"/>\n",
       "</g>\n",
       "<!-- 140156104917536 -->\n",
       "<g id=\"node36\" class=\"node\">\n",
       "<title>140156104917536</title>\n",
       "<polygon fill=\"orange\" stroke=\"black\" points=\"1281,-1076 1216,-1076 1216,-1046 1281,-1046 1281,-1076\"/>\n",
       "<text text-anchor=\"middle\" x=\"1248.5\" y=\"-1064\" font-family=\"monospace\" font-size=\"10.00\">result</text>\n",
       "<text text-anchor=\"middle\" x=\"1248.5\" y=\"-1053\" font-family=\"monospace\" font-size=\"10.00\"> (2, 60)</text>\n",
       "</g>\n",
       "<!-- 140156747871088&#45;&gt;140156104917536 -->\n",
       "<g id=\"edge34\" class=\"edge\">\n",
       "<title>140156747871088&#45;&gt;140156104917536</title>\n",
       "<path fill=\"none\" stroke=\"black\" d=\"M1248.5,-1155.99C1248.5,-1133.3 1248.5,-1096.39 1248.5,-1076.24\"/>\n",
       "</g>\n",
       "<!-- 140156747873488 -->\n",
       "<g id=\"node37\" class=\"node\">\n",
       "<title>140156747873488</title>\n",
       "<polygon fill=\"lightgrey\" stroke=\"black\" points=\"1341,-1329 1156,-1329 1156,-1233 1341,-1233 1341,-1329\"/>\n",
       "<text text-anchor=\"middle\" x=\"1248.5\" y=\"-1317\" font-family=\"monospace\" font-size=\"10.00\">MmBackward0</text>\n",
       "<text text-anchor=\"middle\" x=\"1248.5\" y=\"-1306\" font-family=\"monospace\" font-size=\"10.00\">&#45;&#45;&#45;&#45;&#45;&#45;&#45;&#45;&#45;&#45;&#45;&#45;&#45;&#45;&#45;&#45;&#45;&#45;&#45;&#45;&#45;&#45;&#45;&#45;&#45;&#45;&#45;&#45;</text>\n",
       "<text text-anchor=\"middle\" x=\"1248.5\" y=\"-1295\" font-family=\"monospace\" font-size=\"10.00\">mat2 &#160;&#160;&#160;&#160;&#160;&#160;&#160;: [saved tensor]</text>\n",
       "<text text-anchor=\"middle\" x=\"1248.5\" y=\"-1284\" font-family=\"monospace\" font-size=\"10.00\">mat2_sizes &#160;: &#160;&#160;&#160;&#160;&#160;(497, 60)</text>\n",
       "<text text-anchor=\"middle\" x=\"1248.5\" y=\"-1273\" font-family=\"monospace\" font-size=\"10.00\">mat2_strides: &#160;&#160;&#160;&#160;&#160;&#160;(1, 497)</text>\n",
       "<text text-anchor=\"middle\" x=\"1248.5\" y=\"-1262\" font-family=\"monospace\" font-size=\"10.00\">self &#160;&#160;&#160;&#160;&#160;&#160;&#160;: [saved tensor]</text>\n",
       "<text text-anchor=\"middle\" x=\"1248.5\" y=\"-1251\" font-family=\"monospace\" font-size=\"10.00\">self_sizes &#160;: &#160;&#160;&#160;&#160;&#160;&#160;(2, 497)</text>\n",
       "<text text-anchor=\"middle\" x=\"1248.5\" y=\"-1240\" font-family=\"monospace\" font-size=\"10.00\">self_strides: &#160;&#160;&#160;&#160;&#160;&#160;(497, 1)</text>\n",
       "</g>\n",
       "<!-- 140156747873488&#45;&gt;140156747871088 -->\n",
       "<g id=\"edge35\" class=\"edge\">\n",
       "<title>140156747873488&#45;&gt;140156747871088</title>\n",
       "<path fill=\"none\" stroke=\"black\" d=\"M1248.5,-1232.95C1248.5,-1224.17 1248.5,-1215.22 1248.5,-1207.15\"/>\n",
       "<polygon fill=\"black\" stroke=\"black\" points=\"1252,-1207.13 1248.5,-1197.13 1245,-1207.13 1252,-1207.13\"/>\n",
       "</g>\n",
       "<!-- 140156104920896 -->\n",
       "<g id=\"node38\" class=\"node\">\n",
       "<title>140156104920896</title>\n",
       "<polygon fill=\"orange\" stroke=\"black\" points=\"1418,-1191.5 1341,-1191.5 1341,-1161.5 1418,-1161.5 1418,-1191.5\"/>\n",
       "<text text-anchor=\"middle\" x=\"1379.5\" y=\"-1179.5\" font-family=\"monospace\" font-size=\"10.00\">mat2</text>\n",
       "<text text-anchor=\"middle\" x=\"1379.5\" y=\"-1168.5\" font-family=\"monospace\" font-size=\"10.00\"> (497, 60)</text>\n",
       "</g>\n",
       "<!-- 140156747873488&#45;&gt;140156104920896 -->\n",
       "<g id=\"edge36\" class=\"edge\">\n",
       "<title>140156747873488&#45;&gt;140156104920896</title>\n",
       "<path fill=\"none\" stroke=\"black\" d=\"M1308.63,-1232.95C1327.87,-1217.9 1347.73,-1202.36 1361.51,-1191.58\"/>\n",
       "</g>\n",
       "<!-- 140155786714384 -->\n",
       "<g id=\"node39\" class=\"node\">\n",
       "<title>140155786714384</title>\n",
       "<polygon fill=\"orange\" stroke=\"black\" points=\"1156,-1191.5 1085,-1191.5 1085,-1161.5 1156,-1161.5 1156,-1191.5\"/>\n",
       "<text text-anchor=\"middle\" x=\"1120.5\" y=\"-1179.5\" font-family=\"monospace\" font-size=\"10.00\">self</text>\n",
       "<text text-anchor=\"middle\" x=\"1120.5\" y=\"-1168.5\" font-family=\"monospace\" font-size=\"10.00\"> (2, 497)</text>\n",
       "</g>\n",
       "<!-- 140156747873488&#45;&gt;140155786714384 -->\n",
       "<g id=\"edge37\" class=\"edge\">\n",
       "<title>140156747873488&#45;&gt;140155786714384</title>\n",
       "<path fill=\"none\" stroke=\"black\" d=\"M1189.74,-1232.95C1170.95,-1217.9 1151.55,-1202.36 1138.08,-1191.58\"/>\n",
       "</g>\n",
       "<!-- 140156747874064 -->\n",
       "<g id=\"node40\" class=\"node\">\n",
       "<title>140156747874064</title>\n",
       "<polygon fill=\"lightgrey\" stroke=\"black\" points=\"1388,-1406 1299,-1406 1299,-1365 1388,-1365 1388,-1406\"/>\n",
       "<text text-anchor=\"middle\" x=\"1343.5\" y=\"-1394\" font-family=\"monospace\" font-size=\"10.00\">CatBackward0</text>\n",
       "<text text-anchor=\"middle\" x=\"1343.5\" y=\"-1383\" font-family=\"monospace\" font-size=\"10.00\">&#45;&#45;&#45;&#45;&#45;&#45;&#45;&#45;&#45;&#45;&#45;&#45;</text>\n",
       "<text text-anchor=\"middle\" x=\"1343.5\" y=\"-1372\" font-family=\"monospace\" font-size=\"10.00\">dim: 1</text>\n",
       "</g>\n",
       "<!-- 140156747874064&#45;&gt;140156747873488 -->\n",
       "<g id=\"edge38\" class=\"edge\">\n",
       "<title>140156747874064&#45;&gt;140156747873488</title>\n",
       "<path fill=\"none\" stroke=\"black\" d=\"M1325.18,-1364.74C1317.71,-1356.67 1308.66,-1346.91 1299.43,-1336.95\"/>\n",
       "<polygon fill=\"black\" stroke=\"black\" points=\"1301.73,-1334.29 1292.37,-1329.33 1296.6,-1339.04 1301.73,-1334.29\"/>\n",
       "</g>\n",
       "<!-- 140156747872096 -->\n",
       "<g id=\"node41\" class=\"node\">\n",
       "<title>140156747872096</title>\n",
       "<polygon fill=\"lightgrey\" stroke=\"black\" points=\"1389,-1527 1246,-1527 1246,-1475 1389,-1475 1389,-1527\"/>\n",
       "<text text-anchor=\"middle\" x=\"1317.5\" y=\"-1515\" font-family=\"monospace\" font-size=\"10.00\">MulBackward0</text>\n",
       "<text text-anchor=\"middle\" x=\"1317.5\" y=\"-1504\" font-family=\"monospace\" font-size=\"10.00\">&#45;&#45;&#45;&#45;&#45;&#45;&#45;&#45;&#45;&#45;&#45;&#45;&#45;&#45;&#45;&#45;&#45;&#45;&#45;&#45;&#45;</text>\n",
       "<text text-anchor=\"middle\" x=\"1317.5\" y=\"-1493\" font-family=\"monospace\" font-size=\"10.00\">other: [saved tensor]</text>\n",
       "<text text-anchor=\"middle\" x=\"1317.5\" y=\"-1482\" font-family=\"monospace\" font-size=\"10.00\">self : &#160;&#160;&#160;&#160;&#160;&#160;&#160;&#160;&#160;&#160;None</text>\n",
       "</g>\n",
       "<!-- 140156747872096&#45;&gt;140156747874064 -->\n",
       "<g id=\"edge39\" class=\"edge\">\n",
       "<title>140156747872096&#45;&gt;140156747874064</title>\n",
       "<path fill=\"none\" stroke=\"black\" d=\"M1323.27,-1474.81C1327.24,-1457.48 1332.53,-1434.39 1336.7,-1416.16\"/>\n",
       "<polygon fill=\"black\" stroke=\"black\" points=\"1340.13,-1416.87 1338.95,-1406.34 1333.31,-1415.31 1340.13,-1416.87\"/>\n",
       "</g>\n",
       "<!-- 140156104918976 -->\n",
       "<g id=\"node42\" class=\"node\">\n",
       "<title>140156104918976</title>\n",
       "<polygon fill=\"orange\" stroke=\"black\" points=\"1281,-1400.5 1210,-1400.5 1210,-1370.5 1281,-1370.5 1281,-1400.5\"/>\n",
       "<text text-anchor=\"middle\" x=\"1245.5\" y=\"-1388.5\" font-family=\"monospace\" font-size=\"10.00\">other</text>\n",
       "<text text-anchor=\"middle\" x=\"1245.5\" y=\"-1377.5\" font-family=\"monospace\" font-size=\"10.00\"> (2, 492)</text>\n",
       "</g>\n",
       "<!-- 140156747872096&#45;&gt;140156104918976 -->\n",
       "<g id=\"edge40\" class=\"edge\">\n",
       "<title>140156747872096&#45;&gt;140156104918976</title>\n",
       "<path fill=\"none\" stroke=\"black\" d=\"M1301.52,-1474.81C1287.02,-1451.95 1266.17,-1419.08 1254.42,-1400.56\"/>\n",
       "</g>\n",
       "<!-- 140156649171840 -->\n",
       "<g id=\"node43\" class=\"node\">\n",
       "<title>140156649171840</title>\n",
       "<polygon fill=\"lightgrey\" stroke=\"black\" points=\"1362,-1637 1273,-1637 1273,-1596 1362,-1596 1362,-1637\"/>\n",
       "<text text-anchor=\"middle\" x=\"1317.5\" y=\"-1625\" font-family=\"monospace\" font-size=\"10.00\">CatBackward0</text>\n",
       "<text text-anchor=\"middle\" x=\"1317.5\" y=\"-1614\" font-family=\"monospace\" font-size=\"10.00\">&#45;&#45;&#45;&#45;&#45;&#45;&#45;&#45;&#45;&#45;&#45;&#45;</text>\n",
       "<text text-anchor=\"middle\" x=\"1317.5\" y=\"-1603\" font-family=\"monospace\" font-size=\"10.00\">dim: 1</text>\n",
       "</g>\n",
       "<!-- 140156649171840&#45;&gt;140156747872096 -->\n",
       "<g id=\"edge41\" class=\"edge\">\n",
       "<title>140156649171840&#45;&gt;140156747872096</title>\n",
       "<path fill=\"none\" stroke=\"black\" d=\"M1317.5,-1595.99C1317.5,-1579.95 1317.5,-1556.79 1317.5,-1537.48\"/>\n",
       "<polygon fill=\"black\" stroke=\"black\" points=\"1321,-1537.22 1317.5,-1527.22 1314,-1537.22 1321,-1537.22\"/>\n",
       "</g>\n",
       "<!-- 140156649171504 -->\n",
       "<g id=\"node44\" class=\"node\">\n",
       "<title>140156649171504</title>\n",
       "<polygon fill=\"lightgrey\" stroke=\"black\" points=\"1198,-1758 941,-1758 941,-1673 1198,-1673 1198,-1758\"/>\n",
       "<text text-anchor=\"middle\" x=\"1069.5\" y=\"-1746\" font-family=\"monospace\" font-size=\"10.00\">EmbeddingBackward0</text>\n",
       "<text text-anchor=\"middle\" x=\"1069.5\" y=\"-1735\" font-family=\"monospace\" font-size=\"10.00\">&#45;&#45;&#45;&#45;&#45;&#45;&#45;&#45;&#45;&#45;&#45;&#45;&#45;&#45;&#45;&#45;&#45;&#45;&#45;&#45;&#45;&#45;&#45;&#45;&#45;&#45;&#45;&#45;&#45;&#45;&#45;&#45;&#45;&#45;&#45;&#45;&#45;&#45;&#45;&#45;</text>\n",
       "<text text-anchor=\"middle\" x=\"1069.5\" y=\"-1724\" font-family=\"monospace\" font-size=\"10.00\">indices &#160;&#160;&#160;&#160;&#160;&#160;&#160;&#160;&#160;&#160;: &#160;&#160;&#160;&#160;&#160;&#160;[saved tensor]</text>\n",
       "<text text-anchor=\"middle\" x=\"1069.5\" y=\"-1713\" font-family=\"monospace\" font-size=\"10.00\">padding_idx &#160;&#160;&#160;&#160;&#160;&#160;: 18446744073709551615</text>\n",
       "<text text-anchor=\"middle\" x=\"1069.5\" y=\"-1702\" font-family=\"monospace\" font-size=\"10.00\">scale_grad_by_freq: &#160;&#160;&#160;&#160;&#160;&#160;&#160;&#160;&#160;&#160;&#160;&#160;&#160;&#160;&#160;False</text>\n",
       "<text text-anchor=\"middle\" x=\"1069.5\" y=\"-1691\" font-family=\"monospace\" font-size=\"10.00\">sparse &#160;&#160;&#160;&#160;&#160;&#160;&#160;&#160;&#160;&#160;&#160;: &#160;&#160;&#160;&#160;&#160;&#160;&#160;&#160;&#160;&#160;&#160;&#160;&#160;&#160;&#160;False</text>\n",
       "<text text-anchor=\"middle\" x=\"1069.5\" y=\"-1680\" font-family=\"monospace\" font-size=\"10.00\">weight_argsize_0 &#160;: &#160;&#160;&#160;&#160;&#160;&#160;&#160;&#160;&#160;&#160;&#160;&#160;&#160;&#160;&#160;10728</text>\n",
       "</g>\n",
       "<!-- 140156649171504&#45;&gt;140156649171840 -->\n",
       "<g id=\"edge42\" class=\"edge\">\n",
       "<title>140156649171504&#45;&gt;140156649171840</title>\n",
       "<path fill=\"none\" stroke=\"black\" d=\"M1175.75,-1672.94C1205.95,-1661.13 1237.57,-1648.76 1263.27,-1638.71\"/>\n",
       "<polygon fill=\"black\" stroke=\"black\" points=\"1264.78,-1641.88 1272.82,-1634.98 1262.23,-1635.36 1264.78,-1641.88\"/>\n",
       "</g>\n",
       "<!-- 140156085035792 -->\n",
       "<g id=\"node45\" class=\"node\">\n",
       "<title>140156085035792</title>\n",
       "<polygon fill=\"orange\" stroke=\"black\" points=\"1034,-1631.5 975,-1631.5 975,-1601.5 1034,-1601.5 1034,-1631.5\"/>\n",
       "<text text-anchor=\"middle\" x=\"1004.5\" y=\"-1619.5\" font-family=\"monospace\" font-size=\"10.00\">indices</text>\n",
       "<text text-anchor=\"middle\" x=\"1004.5\" y=\"-1608.5\" font-family=\"monospace\" font-size=\"10.00\"> (2)</text>\n",
       "</g>\n",
       "<!-- 140156649171504&#45;&gt;140156085035792 -->\n",
       "<g id=\"edge43\" class=\"edge\">\n",
       "<title>140156649171504&#45;&gt;140156085035792</title>\n",
       "<path fill=\"none\" stroke=\"black\" d=\"M1041.56,-1672.8C1031.65,-1658.01 1021.16,-1642.36 1013.88,-1631.5\"/>\n",
       "</g>\n",
       "<!-- 140156659742320 -->\n",
       "<g id=\"node46\" class=\"node\">\n",
       "<title>140156659742320</title>\n",
       "<polygon fill=\"lightgrey\" stroke=\"black\" points=\"1120,-1813 1019,-1813 1019,-1794 1120,-1794 1120,-1813\"/>\n",
       "<text text-anchor=\"middle\" x=\"1069.5\" y=\"-1801\" font-family=\"monospace\" font-size=\"10.00\">AccumulateGrad</text>\n",
       "</g>\n",
       "<!-- 140156659742320&#45;&gt;140156649171504 -->\n",
       "<g id=\"edge44\" class=\"edge\">\n",
       "<title>140156659742320&#45;&gt;140156649171504</title>\n",
       "<path fill=\"none\" stroke=\"black\" d=\"M1069.5,-1793.94C1069.5,-1787.57 1069.5,-1778.28 1069.5,-1768.34\"/>\n",
       "<polygon fill=\"black\" stroke=\"black\" points=\"1073,-1768.26 1069.5,-1758.26 1066,-1768.26 1073,-1768.26\"/>\n",
       "</g>\n",
       "<!-- 140156085038672 -->\n",
       "<g id=\"node47\" class=\"node\">\n",
       "<title>140156085038672</title>\n",
       "<polygon fill=\"lightblue\" stroke=\"black\" points=\"1165,-1879 974,-1879 974,-1849 1165,-1849 1165,-1879\"/>\n",
       "<text text-anchor=\"middle\" x=\"1069.5\" y=\"-1867\" font-family=\"monospace\" font-size=\"10.00\">tabular_model.embeds.0.weight</text>\n",
       "<text text-anchor=\"middle\" x=\"1069.5\" y=\"-1856\" font-family=\"monospace\" font-size=\"10.00\"> (10728, 289)</text>\n",
       "</g>\n",
       "<!-- 140156085038672&#45;&gt;140156659742320 -->\n",
       "<g id=\"edge45\" class=\"edge\">\n",
       "<title>140156085038672&#45;&gt;140156659742320</title>\n",
       "<path fill=\"none\" stroke=\"black\" d=\"M1069.5,-1848.84C1069.5,-1841.21 1069.5,-1831.7 1069.5,-1823.45\"/>\n",
       "<polygon fill=\"black\" stroke=\"black\" points=\"1073,-1823.27 1069.5,-1813.27 1066,-1823.27 1073,-1823.27\"/>\n",
       "</g>\n",
       "<!-- 140156659743424 -->\n",
       "<g id=\"node48\" class=\"node\">\n",
       "<title>140156659743424</title>\n",
       "<polygon fill=\"lightgrey\" stroke=\"black\" points=\"1492,-1758 1235,-1758 1235,-1673 1492,-1673 1492,-1758\"/>\n",
       "<text text-anchor=\"middle\" x=\"1363.5\" y=\"-1746\" font-family=\"monospace\" font-size=\"10.00\">EmbeddingBackward0</text>\n",
       "<text text-anchor=\"middle\" x=\"1363.5\" y=\"-1735\" font-family=\"monospace\" font-size=\"10.00\">&#45;&#45;&#45;&#45;&#45;&#45;&#45;&#45;&#45;&#45;&#45;&#45;&#45;&#45;&#45;&#45;&#45;&#45;&#45;&#45;&#45;&#45;&#45;&#45;&#45;&#45;&#45;&#45;&#45;&#45;&#45;&#45;&#45;&#45;&#45;&#45;&#45;&#45;&#45;&#45;</text>\n",
       "<text text-anchor=\"middle\" x=\"1363.5\" y=\"-1724\" font-family=\"monospace\" font-size=\"10.00\">indices &#160;&#160;&#160;&#160;&#160;&#160;&#160;&#160;&#160;&#160;: &#160;&#160;&#160;&#160;&#160;&#160;[saved tensor]</text>\n",
       "<text text-anchor=\"middle\" x=\"1363.5\" y=\"-1713\" font-family=\"monospace\" font-size=\"10.00\">padding_idx &#160;&#160;&#160;&#160;&#160;&#160;: 18446744073709551615</text>\n",
       "<text text-anchor=\"middle\" x=\"1363.5\" y=\"-1702\" font-family=\"monospace\" font-size=\"10.00\">scale_grad_by_freq: &#160;&#160;&#160;&#160;&#160;&#160;&#160;&#160;&#160;&#160;&#160;&#160;&#160;&#160;&#160;False</text>\n",
       "<text text-anchor=\"middle\" x=\"1363.5\" y=\"-1691\" font-family=\"monospace\" font-size=\"10.00\">sparse &#160;&#160;&#160;&#160;&#160;&#160;&#160;&#160;&#160;&#160;&#160;: &#160;&#160;&#160;&#160;&#160;&#160;&#160;&#160;&#160;&#160;&#160;&#160;&#160;&#160;&#160;False</text>\n",
       "<text text-anchor=\"middle\" x=\"1363.5\" y=\"-1680\" font-family=\"monospace\" font-size=\"10.00\">weight_argsize_0 &#160;: &#160;&#160;&#160;&#160;&#160;&#160;&#160;&#160;&#160;&#160;&#160;&#160;&#160;&#160;&#160;&#160;5686</text>\n",
       "</g>\n",
       "<!-- 140156659743424&#45;&gt;140156649171840 -->\n",
       "<g id=\"edge46\" class=\"edge\">\n",
       "<title>140156659743424&#45;&gt;140156649171840</title>\n",
       "<path fill=\"none\" stroke=\"black\" d=\"M1343.72,-1672.8C1339.49,-1663.87 1335.11,-1654.62 1331.16,-1646.31\"/>\n",
       "<polygon fill=\"black\" stroke=\"black\" points=\"1334.22,-1644.58 1326.77,-1637.05 1327.89,-1647.58 1334.22,-1644.58\"/>\n",
       "</g>\n",
       "<!-- 140156085035312 -->\n",
       "<g id=\"node49\" class=\"node\">\n",
       "<title>140156085035312</title>\n",
       "<polygon fill=\"orange\" stroke=\"black\" points=\"1439,-1631.5 1380,-1631.5 1380,-1601.5 1439,-1601.5 1439,-1631.5\"/>\n",
       "<text text-anchor=\"middle\" x=\"1409.5\" y=\"-1619.5\" font-family=\"monospace\" font-size=\"10.00\">indices</text>\n",
       "<text text-anchor=\"middle\" x=\"1409.5\" y=\"-1608.5\" font-family=\"monospace\" font-size=\"10.00\"> (2)</text>\n",
       "</g>\n",
       "<!-- 140156659743424&#45;&gt;140156085035312 -->\n",
       "<g id=\"edge47\" class=\"edge\">\n",
       "<title>140156659743424&#45;&gt;140156085035312</title>\n",
       "<path fill=\"none\" stroke=\"black\" d=\"M1383.28,-1672.8C1390.29,-1658.01 1397.71,-1642.36 1402.86,-1631.5\"/>\n",
       "</g>\n",
       "<!-- 140156659742032 -->\n",
       "<g id=\"node50\" class=\"node\">\n",
       "<title>140156659742032</title>\n",
       "<polygon fill=\"lightgrey\" stroke=\"black\" points=\"1414,-1813 1313,-1813 1313,-1794 1414,-1794 1414,-1813\"/>\n",
       "<text text-anchor=\"middle\" x=\"1363.5\" y=\"-1801\" font-family=\"monospace\" font-size=\"10.00\">AccumulateGrad</text>\n",
       "</g>\n",
       "<!-- 140156659742032&#45;&gt;140156659743424 -->\n",
       "<g id=\"edge48\" class=\"edge\">\n",
       "<title>140156659742032&#45;&gt;140156659743424</title>\n",
       "<path fill=\"none\" stroke=\"black\" d=\"M1363.5,-1793.94C1363.5,-1787.57 1363.5,-1778.28 1363.5,-1768.34\"/>\n",
       "<polygon fill=\"black\" stroke=\"black\" points=\"1367,-1768.26 1363.5,-1758.26 1360,-1768.26 1367,-1768.26\"/>\n",
       "</g>\n",
       "<!-- 140156085036992 -->\n",
       "<g id=\"node51\" class=\"node\">\n",
       "<title>140156085036992</title>\n",
       "<polygon fill=\"lightblue\" stroke=\"black\" points=\"1459,-1879 1268,-1879 1268,-1849 1459,-1849 1459,-1879\"/>\n",
       "<text text-anchor=\"middle\" x=\"1363.5\" y=\"-1867\" font-family=\"monospace\" font-size=\"10.00\">tabular_model.embeds.1.weight</text>\n",
       "<text text-anchor=\"middle\" x=\"1363.5\" y=\"-1856\" font-family=\"monospace\" font-size=\"10.00\"> (5686, 203)</text>\n",
       "</g>\n",
       "<!-- 140156085036992&#45;&gt;140156659742032 -->\n",
       "<g id=\"edge49\" class=\"edge\">\n",
       "<title>140156085036992&#45;&gt;140156659742032</title>\n",
       "<path fill=\"none\" stroke=\"black\" d=\"M1363.5,-1848.84C1363.5,-1841.21 1363.5,-1831.7 1363.5,-1823.45\"/>\n",
       "<polygon fill=\"black\" stroke=\"black\" points=\"1367,-1823.27 1363.5,-1813.27 1360,-1823.27 1367,-1823.27\"/>\n",
       "</g>\n",
       "<!-- 140156649171600 -->\n",
       "<g id=\"node52\" class=\"node\">\n",
       "<title>140156649171600</title>\n",
       "<polygon fill=\"lightgrey\" stroke=\"black\" points=\"1859,-1560 1674,-1560 1674,-1442 1859,-1442 1859,-1560\"/>\n",
       "<text text-anchor=\"middle\" x=\"1766.5\" y=\"-1548\" font-family=\"monospace\" font-size=\"10.00\">NativeBatchNormBackward0</text>\n",
       "<text text-anchor=\"middle\" x=\"1766.5\" y=\"-1537\" font-family=\"monospace\" font-size=\"10.00\">&#45;&#45;&#45;&#45;&#45;&#45;&#45;&#45;&#45;&#45;&#45;&#45;&#45;&#45;&#45;&#45;&#45;&#45;&#45;&#45;&#45;&#45;&#45;&#45;&#45;&#45;&#45;&#45;</text>\n",
       "<text text-anchor=\"middle\" x=\"1766.5\" y=\"-1526\" font-family=\"monospace\" font-size=\"10.00\">eps &#160;&#160;&#160;&#160;&#160;&#160;&#160;&#160;: &#160;&#160;&#160;&#160;&#160;&#160;&#160;&#160;&#160;1e&#45;05</text>\n",
       "<text text-anchor=\"middle\" x=\"1766.5\" y=\"-1515\" font-family=\"monospace\" font-size=\"10.00\">input &#160;&#160;&#160;&#160;&#160;&#160;: [saved tensor]</text>\n",
       "<text text-anchor=\"middle\" x=\"1766.5\" y=\"-1504\" font-family=\"monospace\" font-size=\"10.00\">result1 &#160;&#160;&#160;&#160;: [saved tensor]</text>\n",
       "<text text-anchor=\"middle\" x=\"1766.5\" y=\"-1493\" font-family=\"monospace\" font-size=\"10.00\">result2 &#160;&#160;&#160;&#160;: [saved tensor]</text>\n",
       "<text text-anchor=\"middle\" x=\"1766.5\" y=\"-1482\" font-family=\"monospace\" font-size=\"10.00\">running_mean: [saved tensor]</text>\n",
       "<text text-anchor=\"middle\" x=\"1766.5\" y=\"-1471\" font-family=\"monospace\" font-size=\"10.00\">running_var : [saved tensor]</text>\n",
       "<text text-anchor=\"middle\" x=\"1766.5\" y=\"-1460\" font-family=\"monospace\" font-size=\"10.00\">training &#160;&#160;&#160;: &#160;&#160;&#160;&#160;&#160;&#160;&#160;&#160;&#160;&#160;True</text>\n",
       "<text text-anchor=\"middle\" x=\"1766.5\" y=\"-1449\" font-family=\"monospace\" font-size=\"10.00\">weight &#160;&#160;&#160;&#160;&#160;: [saved tensor]</text>\n",
       "</g>\n",
       "<!-- 140156649171600&#45;&gt;140156747874064 -->\n",
       "<g id=\"edge50\" class=\"edge\">\n",
       "<title>140156649171600&#45;&gt;140156747874064</title>\n",
       "<path fill=\"none\" stroke=\"black\" d=\"M1673.68,-1479C1600.99,-1461.93 1497.28,-1436.25 1397.79,-1405.96\"/>\n",
       "<polygon fill=\"black\" stroke=\"black\" points=\"1398.76,-1402.59 1388.18,-1403.01 1396.71,-1409.29 1398.76,-1402.59\"/>\n",
       "</g>\n",
       "<!-- 140155786717440 -->\n",
       "<g id=\"node53\" class=\"node\">\n",
       "<title>140155786717440</title>\n",
       "<polygon fill=\"orange\" stroke=\"black\" points=\"1914,-1400.5 1855,-1400.5 1855,-1370.5 1914,-1370.5 1914,-1400.5\"/>\n",
       "<text text-anchor=\"middle\" x=\"1884.5\" y=\"-1388.5\" font-family=\"monospace\" font-size=\"10.00\">input</text>\n",
       "<text text-anchor=\"middle\" x=\"1884.5\" y=\"-1377.5\" font-family=\"monospace\" font-size=\"10.00\"> (2, 5)</text>\n",
       "</g>\n",
       "<!-- 140156649171600&#45;&gt;140155786717440 -->\n",
       "<g id=\"edge51\" class=\"edge\">\n",
       "<title>140156649171600&#45;&gt;140155786717440</title>\n",
       "<path fill=\"none\" stroke=\"black\" d=\"M1826.88,-1441.92C1842.76,-1426.65 1858.5,-1411.51 1869.51,-1400.92\"/>\n",
       "</g>\n",
       "<!-- 140156104920816 -->\n",
       "<g id=\"node54\" class=\"node\">\n",
       "<title>140156104920816</title>\n",
       "<polygon fill=\"orange\" stroke=\"black\" points=\"1991,-1400.5 1932,-1400.5 1932,-1370.5 1991,-1370.5 1991,-1400.5\"/>\n",
       "<text text-anchor=\"middle\" x=\"1961.5\" y=\"-1388.5\" font-family=\"monospace\" font-size=\"10.00\">result1</text>\n",
       "<text text-anchor=\"middle\" x=\"1961.5\" y=\"-1377.5\" font-family=\"monospace\" font-size=\"10.00\"> (5)</text>\n",
       "</g>\n",
       "<!-- 140156649171600&#45;&gt;140156104920816 -->\n",
       "<g id=\"edge52\" class=\"edge\">\n",
       "<title>140156649171600&#45;&gt;140156104920816</title>\n",
       "<path fill=\"none\" stroke=\"black\" d=\"M1859.15,-1446.08C1888.04,-1429.26 1917.5,-1412.11 1937.35,-1400.56\"/>\n",
       "</g>\n",
       "<!-- 140156104917376 -->\n",
       "<g id=\"node55\" class=\"node\">\n",
       "<title>140156104917376</title>\n",
       "<polygon fill=\"orange\" stroke=\"black\" points=\"2068,-1400.5 2009,-1400.5 2009,-1370.5 2068,-1370.5 2068,-1400.5\"/>\n",
       "<text text-anchor=\"middle\" x=\"2038.5\" y=\"-1388.5\" font-family=\"monospace\" font-size=\"10.00\">result2</text>\n",
       "<text text-anchor=\"middle\" x=\"2038.5\" y=\"-1377.5\" font-family=\"monospace\" font-size=\"10.00\"> (5)</text>\n",
       "</g>\n",
       "<!-- 140156649171600&#45;&gt;140156104917376 -->\n",
       "<g id=\"edge53\" class=\"edge\">\n",
       "<title>140156649171600&#45;&gt;140156104917376</title>\n",
       "<path fill=\"none\" stroke=\"black\" d=\"M1859.01,-1465.1C1902.37,-1448.17 1954.5,-1426.99 2000.5,-1406 2004.14,-1404.34 2007.94,-1402.51 2011.66,-1400.66\"/>\n",
       "</g>\n",
       "<!-- 140155786651264 -->\n",
       "<g id=\"node56\" class=\"node\">\n",
       "<title>140155786651264</title>\n",
       "<polygon fill=\"orange\" stroke=\"black\" points=\"1495,-1400.5 1406,-1400.5 1406,-1370.5 1495,-1370.5 1495,-1400.5\"/>\n",
       "<text text-anchor=\"middle\" x=\"1450.5\" y=\"-1388.5\" font-family=\"monospace\" font-size=\"10.00\">running_mean</text>\n",
       "<text text-anchor=\"middle\" x=\"1450.5\" y=\"-1377.5\" font-family=\"monospace\" font-size=\"10.00\"> (5)</text>\n",
       "</g>\n",
       "<!-- 140156649171600&#45;&gt;140155786651264 -->\n",
       "<g id=\"edge54\" class=\"edge\">\n",
       "<title>140156649171600&#45;&gt;140155786651264</title>\n",
       "<path fill=\"none\" stroke=\"black\" d=\"M1673.72,-1466.77C1623.6,-1448.8 1560.65,-1426.21 1504.5,-1406 1499.62,-1404.24 1494.5,-1402.4 1489.43,-1400.57\"/>\n",
       "</g>\n",
       "<!-- 140155796404800 -->\n",
       "<g id=\"node57\" class=\"node\">\n",
       "<title>140155796404800</title>\n",
       "<polygon fill=\"orange\" stroke=\"black\" points=\"1596,-1400.5 1513,-1400.5 1513,-1370.5 1596,-1370.5 1596,-1400.5\"/>\n",
       "<text text-anchor=\"middle\" x=\"1554.5\" y=\"-1388.5\" font-family=\"monospace\" font-size=\"10.00\">running_var</text>\n",
       "<text text-anchor=\"middle\" x=\"1554.5\" y=\"-1377.5\" font-family=\"monospace\" font-size=\"10.00\"> (5)</text>\n",
       "</g>\n",
       "<!-- 140156649171600&#45;&gt;140155796404800 -->\n",
       "<g id=\"edge55\" class=\"edge\">\n",
       "<title>140156649171600&#45;&gt;140155796404800</title>\n",
       "<path fill=\"none\" stroke=\"black\" d=\"M1673.82,-1450.38C1639.95,-1432.25 1604.24,-1413.13 1580.81,-1400.58\"/>\n",
       "</g>\n",
       "<!-- 140155786732864 -->\n",
       "<g id=\"node58\" class=\"node\">\n",
       "<title>140155786732864</title>\n",
       "<polygon fill=\"lightblue\" stroke=\"black\" points=\"1799,-1400.5 1614,-1400.5 1614,-1370.5 1799,-1370.5 1799,-1400.5\"/>\n",
       "<text text-anchor=\"middle\" x=\"1706.5\" y=\"-1388.5\" font-family=\"monospace\" font-size=\"10.00\">tabular_model.bn_cont.weight</text>\n",
       "<text text-anchor=\"middle\" x=\"1706.5\" y=\"-1377.5\" font-family=\"monospace\" font-size=\"10.00\"> (5)</text>\n",
       "</g>\n",
       "<!-- 140156649171600&#45;&gt;140155786732864 -->\n",
       "<g id=\"edge56\" class=\"edge\">\n",
       "<title>140156649171600&#45;&gt;140155786732864</title>\n",
       "<path fill=\"none\" stroke=\"black\" d=\"M1735.8,-1441.92C1727.72,-1426.65 1719.72,-1411.51 1714.12,-1400.92\"/>\n",
       "</g>\n",
       "<!-- 140156649172944 -->\n",
       "<g id=\"node59\" class=\"node\">\n",
       "<title>140156649172944</title>\n",
       "<polygon fill=\"lightgrey\" stroke=\"black\" points=\"1817,-1290.5 1716,-1290.5 1716,-1271.5 1817,-1271.5 1817,-1290.5\"/>\n",
       "<text text-anchor=\"middle\" x=\"1766.5\" y=\"-1278.5\" font-family=\"monospace\" font-size=\"10.00\">AccumulateGrad</text>\n",
       "</g>\n",
       "<!-- 140155786732864&#45;&gt;140156649172944 -->\n",
       "<g id=\"edge58\" class=\"edge\">\n",
       "<title>140155786732864&#45;&gt;140156649172944</title>\n",
       "<path fill=\"none\" stroke=\"black\" d=\"M1714.84,-1370.25C1725.69,-1351.72 1744.63,-1319.37 1756.31,-1299.41\"/>\n",
       "<polygon fill=\"black\" stroke=\"black\" points=\"1759.37,-1301.12 1761.4,-1290.72 1753.32,-1297.58 1759.37,-1301.12\"/>\n",
       "</g>\n",
       "<!-- 140156649172944&#45;&gt;140156649171600 -->\n",
       "<g id=\"edge57\" class=\"edge\">\n",
       "<title>140156649172944&#45;&gt;140156649171600</title>\n",
       "<path fill=\"none\" stroke=\"black\" d=\"M1772.64,-1290.67C1782.52,-1305.21 1801.53,-1335.78 1808.5,-1365 1813.76,-1387.05 1809.76,-1410.76 1802.49,-1432.06\"/>\n",
       "<polygon fill=\"black\" stroke=\"black\" points=\"1799.13,-1431.07 1798.95,-1441.67 1805.7,-1433.5 1799.13,-1431.07\"/>\n",
       "</g>\n",
       "<!-- 140156659744384 -->\n",
       "<g id=\"node60\" class=\"node\">\n",
       "<title>140156659744384</title>\n",
       "<polygon fill=\"lightgrey\" stroke=\"black\" points=\"1817,-1626 1716,-1626 1716,-1607 1817,-1607 1817,-1626\"/>\n",
       "<text text-anchor=\"middle\" x=\"1766.5\" y=\"-1614\" font-family=\"monospace\" font-size=\"10.00\">AccumulateGrad</text>\n",
       "</g>\n",
       "<!-- 140156659744384&#45;&gt;140156649171600 -->\n",
       "<g id=\"edge59\" class=\"edge\">\n",
       "<title>140156659744384&#45;&gt;140156649171600</title>\n",
       "<path fill=\"none\" stroke=\"black\" d=\"M1766.5,-1606.97C1766.5,-1598.63 1766.5,-1585.09 1766.5,-1570.47\"/>\n",
       "<polygon fill=\"black\" stroke=\"black\" points=\"1770,-1570.22 1766.5,-1560.22 1763,-1570.22 1770,-1570.22\"/>\n",
       "</g>\n",
       "<!-- 140155796403040 -->\n",
       "<g id=\"node61\" class=\"node\">\n",
       "<title>140155796403040</title>\n",
       "<polygon fill=\"lightblue\" stroke=\"black\" points=\"1853,-1730.5 1680,-1730.5 1680,-1700.5 1853,-1700.5 1853,-1730.5\"/>\n",
       "<text text-anchor=\"middle\" x=\"1766.5\" y=\"-1718.5\" font-family=\"monospace\" font-size=\"10.00\">tabular_model.bn_cont.bias</text>\n",
       "<text text-anchor=\"middle\" x=\"1766.5\" y=\"-1707.5\" font-family=\"monospace\" font-size=\"10.00\"> (5)</text>\n",
       "</g>\n",
       "<!-- 140155796403040&#45;&gt;140156659744384 -->\n",
       "<g id=\"edge60\" class=\"edge\">\n",
       "<title>140155796403040&#45;&gt;140156659744384</title>\n",
       "<path fill=\"none\" stroke=\"black\" d=\"M1766.5,-1700.19C1766.5,-1683.25 1766.5,-1655.01 1766.5,-1636.32\"/>\n",
       "<polygon fill=\"black\" stroke=\"black\" points=\"1770,-1636.1 1766.5,-1626.1 1763,-1636.1 1770,-1636.1\"/>\n",
       "</g>\n",
       "<!-- 140156747870560 -->\n",
       "<g id=\"node62\" class=\"node\">\n",
       "<title>140156747870560</title>\n",
       "<polygon fill=\"lightgrey\" stroke=\"black\" points=\"1192,-1395 1115,-1395 1115,-1376 1192,-1376 1192,-1395\"/>\n",
       "<text text-anchor=\"middle\" x=\"1153.5\" y=\"-1383\" font-family=\"monospace\" font-size=\"10.00\">TBackward0</text>\n",
       "</g>\n",
       "<!-- 140156747870560&#45;&gt;140156747873488 -->\n",
       "<g id=\"edge61\" class=\"edge\">\n",
       "<title>140156747870560&#45;&gt;140156747873488</title>\n",
       "<path fill=\"none\" stroke=\"black\" d=\"M1161.6,-1375.76C1169.93,-1366.77 1183.64,-1351.98 1197.74,-1336.77\"/>\n",
       "<polygon fill=\"black\" stroke=\"black\" points=\"1200.44,-1339.01 1204.67,-1329.29 1195.3,-1334.25 1200.44,-1339.01\"/>\n",
       "</g>\n",
       "<!-- 140156659742176 -->\n",
       "<g id=\"node63\" class=\"node\">\n",
       "<title>140156659742176</title>\n",
       "<polygon fill=\"lightgrey\" stroke=\"black\" points=\"1204,-1510.5 1103,-1510.5 1103,-1491.5 1204,-1491.5 1204,-1510.5\"/>\n",
       "<text text-anchor=\"middle\" x=\"1153.5\" y=\"-1498.5\" font-family=\"monospace\" font-size=\"10.00\">AccumulateGrad</text>\n",
       "</g>\n",
       "<!-- 140156659742176&#45;&gt;140156747870560 -->\n",
       "<g id=\"edge62\" class=\"edge\">\n",
       "<title>140156659742176&#45;&gt;140156747870560</title>\n",
       "<path fill=\"none\" stroke=\"black\" d=\"M1153.5,-1491.47C1153.5,-1473.23 1153.5,-1430.07 1153.5,-1405.14\"/>\n",
       "<polygon fill=\"black\" stroke=\"black\" points=\"1157,-1405.13 1153.5,-1395.13 1150,-1405.13 1157,-1405.13\"/>\n",
       "</g>\n",
       "<!-- 140155796404000 -->\n",
       "<g id=\"node64\" class=\"node\">\n",
       "<title>140155796404000</title>\n",
       "<polygon fill=\"lightblue\" stroke=\"black\" points=\"1255,-1631.5 1052,-1631.5 1052,-1601.5 1255,-1601.5 1255,-1631.5\"/>\n",
       "<text text-anchor=\"middle\" x=\"1153.5\" y=\"-1619.5\" font-family=\"monospace\" font-size=\"10.00\">tabular_model.layers.0.0.weight</text>\n",
       "<text text-anchor=\"middle\" x=\"1153.5\" y=\"-1608.5\" font-family=\"monospace\" font-size=\"10.00\"> (60, 497)</text>\n",
       "</g>\n",
       "<!-- 140155796404000&#45;&gt;140156659742176 -->\n",
       "<g id=\"edge63\" class=\"edge\">\n",
       "<title>140155796404000&#45;&gt;140156659742176</title>\n",
       "<path fill=\"none\" stroke=\"black\" d=\"M1153.5,-1601.13C1153.5,-1580.71 1153.5,-1543.31 1153.5,-1520.74\"/>\n",
       "<polygon fill=\"black\" stroke=\"black\" points=\"1157,-1520.73 1153.5,-1510.73 1150,-1520.73 1157,-1520.73\"/>\n",
       "</g>\n",
       "<!-- 140156747871568&#45;&gt;140156747874112 -->\n",
       "<g id=\"edge64\" class=\"edge\">\n",
       "<title>140156747871568&#45;&gt;140156747874112</title>\n",
       "<path fill=\"none\" stroke=\"black\" d=\"M1508.68,-839.76C1529.55,-863.15 1580.78,-927.89 1546.5,-966 1495.84,-1022.33 1281.05,-983.85 1207.5,-1002 1193.06,-1005.57 1178.14,-1010.24 1163.6,-1015.4\"/>\n",
       "<polygon fill=\"black\" stroke=\"black\" points=\"1162.32,-1012.14 1154.12,-1018.85 1164.71,-1018.72 1162.32,-1012.14\"/>\n",
       "</g>\n",
       "<!-- 140156747871904 -->\n",
       "<g id=\"node66\" class=\"node\">\n",
       "<title>140156747871904</title>\n",
       "<polygon fill=\"lightgrey\" stroke=\"black\" points=\"1067,-1186 966,-1186 966,-1167 1067,-1167 1067,-1186\"/>\n",
       "<text text-anchor=\"middle\" x=\"1016.5\" y=\"-1174\" font-family=\"monospace\" font-size=\"10.00\">AccumulateGrad</text>\n",
       "</g>\n",
       "<!-- 140156747871904&#45;&gt;140156747874112 -->\n",
       "<g id=\"edge66\" class=\"edge\">\n",
       "<title>140156747871904&#45;&gt;140156747874112</title>\n",
       "<path fill=\"none\" stroke=\"black\" d=\"M1019.88,-1166.97C1023.25,-1158.47 1028.76,-1144.57 1034.69,-1129.62\"/>\n",
       "<polygon fill=\"black\" stroke=\"black\" points=\"1037.98,-1130.81 1038.42,-1120.22 1031.48,-1128.23 1037.98,-1130.81\"/>\n",
       "</g>\n",
       "<!-- 140155796403200 -->\n",
       "<g id=\"node67\" class=\"node\">\n",
       "<title>140155796403200</title>\n",
       "<polygon fill=\"lightblue\" stroke=\"black\" points=\"1112,-1296 921,-1296 921,-1266 1112,-1266 1112,-1296\"/>\n",
       "<text text-anchor=\"middle\" x=\"1016.5\" y=\"-1284\" font-family=\"monospace\" font-size=\"10.00\">tabular_model.layers.0.2.bias</text>\n",
       "<text text-anchor=\"middle\" x=\"1016.5\" y=\"-1273\" font-family=\"monospace\" font-size=\"10.00\"> (60)</text>\n",
       "</g>\n",
       "<!-- 140155796403200&#45;&gt;140156747871904 -->\n",
       "<g id=\"edge67\" class=\"edge\">\n",
       "<title>140155796403200&#45;&gt;140156747871904</title>\n",
       "<path fill=\"none\" stroke=\"black\" d=\"M1016.5,-1265.75C1016.5,-1247.64 1016.5,-1216.33 1016.5,-1196.29\"/>\n",
       "<polygon fill=\"black\" stroke=\"black\" points=\"1020,-1196.22 1016.5,-1186.22 1013,-1196.22 1020,-1196.22\"/>\n",
       "</g>\n",
       "<!-- 140156747872576 -->\n",
       "<g id=\"node68\" class=\"node\">\n",
       "<title>140156747872576</title>\n",
       "<polygon fill=\"lightgrey\" stroke=\"black\" points=\"710,-949.5 633,-949.5 633,-930.5 710,-930.5 710,-949.5\"/>\n",
       "<text text-anchor=\"middle\" x=\"671.5\" y=\"-937.5\" font-family=\"monospace\" font-size=\"10.00\">TBackward0</text>\n",
       "</g>\n",
       "<!-- 140156747872576&#45;&gt;140156747870608 -->\n",
       "<g id=\"edge68\" class=\"edge\">\n",
       "<title>140156747872576&#45;&gt;140156747870608</title>\n",
       "<path fill=\"none\" stroke=\"black\" d=\"M687.9,-930.36C697.16,-925.51 708.95,-919.37 719.5,-914 740.46,-903.34 762.96,-892.04 784.45,-881.34\"/>\n",
       "<polygon fill=\"black\" stroke=\"black\" points=\"786.2,-884.38 793.59,-876.79 783.08,-878.11 786.2,-884.38\"/>\n",
       "</g>\n",
       "<!-- 140156747870464 -->\n",
       "<g id=\"node69\" class=\"node\">\n",
       "<title>140156747870464</title>\n",
       "<polygon fill=\"lightgrey\" stroke=\"black\" points=\"722,-1070.5 621,-1070.5 621,-1051.5 722,-1051.5 722,-1070.5\"/>\n",
       "<text text-anchor=\"middle\" x=\"671.5\" y=\"-1058.5\" font-family=\"monospace\" font-size=\"10.00\">AccumulateGrad</text>\n",
       "</g>\n",
       "<!-- 140156747870464&#45;&gt;140156747872576 -->\n",
       "<g id=\"edge69\" class=\"edge\">\n",
       "<title>140156747870464&#45;&gt;140156747872576</title>\n",
       "<path fill=\"none\" stroke=\"black\" d=\"M671.5,-1051.44C671.5,-1032.41 671.5,-986.19 671.5,-959.97\"/>\n",
       "<polygon fill=\"black\" stroke=\"black\" points=\"675,-959.8 671.5,-949.8 668,-959.8 675,-959.8\"/>\n",
       "</g>\n",
       "<!-- 140155786714784 -->\n",
       "<g id=\"node70\" class=\"node\">\n",
       "<title>140155786714784</title>\n",
       "<polygon fill=\"lightblue\" stroke=\"black\" points=\"773,-1191.5 570,-1191.5 570,-1161.5 773,-1161.5 773,-1191.5\"/>\n",
       "<text text-anchor=\"middle\" x=\"671.5\" y=\"-1179.5\" font-family=\"monospace\" font-size=\"10.00\">tabular_model.layers.1.0.weight</text>\n",
       "<text text-anchor=\"middle\" x=\"671.5\" y=\"-1168.5\" font-family=\"monospace\" font-size=\"10.00\"> (123, 60)</text>\n",
       "</g>\n",
       "<!-- 140155786714784&#45;&gt;140156747870464 -->\n",
       "<g id=\"edge70\" class=\"edge\">\n",
       "<title>140155786714784&#45;&gt;140156747870464</title>\n",
       "<path fill=\"none\" stroke=\"black\" d=\"M671.5,-1161.13C671.5,-1140.71 671.5,-1103.31 671.5,-1080.74\"/>\n",
       "<polygon fill=\"black\" stroke=\"black\" points=\"675,-1080.73 671.5,-1070.73 668,-1080.73 675,-1080.73\"/>\n",
       "</g>\n",
       "<!-- 140156747873296&#45;&gt;140156747872144 -->\n",
       "<g id=\"edge71\" class=\"edge\">\n",
       "<title>140156747873296&#45;&gt;140156747872144</title>\n",
       "<path fill=\"none\" stroke=\"black\" d=\"M929.08,-377.67C914.76,-405.54 869.35,-492.34 847.5,-515 833.98,-529.02 817.98,-541.93 801.6,-553.4\"/>\n",
       "<polygon fill=\"black\" stroke=\"black\" points=\"799.3,-550.73 793.01,-559.26 803.24,-556.51 799.3,-550.73\"/>\n",
       "</g>\n",
       "<!-- 140156747872000 -->\n",
       "<g id=\"node72\" class=\"node\">\n",
       "<title>140156747872000</title>\n",
       "<polygon fill=\"lightgrey\" stroke=\"black\" points=\"711,-735 610,-735 610,-716 711,-716 711,-735\"/>\n",
       "<text text-anchor=\"middle\" x=\"660.5\" y=\"-723\" font-family=\"monospace\" font-size=\"10.00\">AccumulateGrad</text>\n",
       "</g>\n",
       "<!-- 140156747872000&#45;&gt;140156747872144 -->\n",
       "<g id=\"edge73\" class=\"edge\">\n",
       "<title>140156747872000&#45;&gt;140156747872144</title>\n",
       "<path fill=\"none\" stroke=\"black\" d=\"M663.51,-715.97C666.47,-707.55 671.31,-693.83 676.52,-679.05\"/>\n",
       "<polygon fill=\"black\" stroke=\"black\" points=\"679.96,-679.82 679.98,-669.22 673.36,-677.49 679.96,-679.82\"/>\n",
       "</g>\n",
       "<!-- 140155796404480 -->\n",
       "<g id=\"node73\" class=\"node\">\n",
       "<title>140155796404480</title>\n",
       "<polygon fill=\"lightblue\" stroke=\"black\" points=\"756,-845 565,-845 565,-815 756,-815 756,-845\"/>\n",
       "<text text-anchor=\"middle\" x=\"660.5\" y=\"-833\" font-family=\"monospace\" font-size=\"10.00\">tabular_model.layers.1.2.bias</text>\n",
       "<text text-anchor=\"middle\" x=\"660.5\" y=\"-822\" font-family=\"monospace\" font-size=\"10.00\"> (123)</text>\n",
       "</g>\n",
       "<!-- 140155796404480&#45;&gt;140156747872000 -->\n",
       "<g id=\"edge74\" class=\"edge\">\n",
       "<title>140155796404480&#45;&gt;140156747872000</title>\n",
       "<path fill=\"none\" stroke=\"black\" d=\"M660.5,-814.75C660.5,-796.64 660.5,-765.33 660.5,-745.29\"/>\n",
       "<polygon fill=\"black\" stroke=\"black\" points=\"664,-745.22 660.5,-735.22 657,-745.22 664,-745.22\"/>\n",
       "</g>\n",
       "<!-- 140156747872672 -->\n",
       "<g id=\"node74\" class=\"node\">\n",
       "<title>140156747872672</title>\n",
       "<polygon fill=\"lightgrey\" stroke=\"black\" points=\"315,-498.5 238,-498.5 238,-479.5 315,-479.5 315,-498.5\"/>\n",
       "<text text-anchor=\"middle\" x=\"276.5\" y=\"-486.5\" font-family=\"monospace\" font-size=\"10.00\">TBackward0</text>\n",
       "</g>\n",
       "<!-- 140156747872672&#45;&gt;140156638635344 -->\n",
       "<g id=\"edge75\" class=\"edge\">\n",
       "<title>140156747872672&#45;&gt;140156638635344</title>\n",
       "<path fill=\"none\" stroke=\"black\" d=\"M276.5,-479.44C276.5,-470.09 276.5,-454.16 276.5,-437.28\"/>\n",
       "<polygon fill=\"black\" stroke=\"black\" points=\"280,-437.26 276.5,-427.26 273,-437.26 280,-437.26\"/>\n",
       "</g>\n",
       "<!-- 140156747872720 -->\n",
       "<g id=\"node75\" class=\"node\">\n",
       "<title>140156747872720</title>\n",
       "<polygon fill=\"lightgrey\" stroke=\"black\" points=\"342,-619.5 241,-619.5 241,-600.5 342,-600.5 342,-619.5\"/>\n",
       "<text text-anchor=\"middle\" x=\"291.5\" y=\"-607.5\" font-family=\"monospace\" font-size=\"10.00\">AccumulateGrad</text>\n",
       "</g>\n",
       "<!-- 140156747872720&#45;&gt;140156747872672 -->\n",
       "<g id=\"edge76\" class=\"edge\">\n",
       "<title>140156747872720&#45;&gt;140156747872672</title>\n",
       "<path fill=\"none\" stroke=\"black\" d=\"M290.42,-600.44C288.02,-581.41 282.2,-535.19 278.89,-508.97\"/>\n",
       "<polygon fill=\"black\" stroke=\"black\" points=\"282.33,-508.29 277.61,-498.8 275.39,-509.16 282.33,-508.29\"/>\n",
       "</g>\n",
       "<!-- 140155786713024 -->\n",
       "<g id=\"node76\" class=\"node\">\n",
       "<title>140155786713024</title>\n",
       "<polygon fill=\"lightblue\" stroke=\"black\" points=\"393,-740.5 190,-740.5 190,-710.5 393,-710.5 393,-740.5\"/>\n",
       "<text text-anchor=\"middle\" x=\"291.5\" y=\"-728.5\" font-family=\"monospace\" font-size=\"10.00\">tabular_model.layers.2.0.weight</text>\n",
       "<text text-anchor=\"middle\" x=\"291.5\" y=\"-717.5\" font-family=\"monospace\" font-size=\"10.00\"> (1, 123)</text>\n",
       "</g>\n",
       "<!-- 140155786713024&#45;&gt;140156747872720 -->\n",
       "<g id=\"edge77\" class=\"edge\">\n",
       "<title>140155786713024&#45;&gt;140156747872720</title>\n",
       "<path fill=\"none\" stroke=\"black\" d=\"M291.5,-710.13C291.5,-689.71 291.5,-652.31 291.5,-629.74\"/>\n",
       "<polygon fill=\"black\" stroke=\"black\" points=\"295,-629.73 291.5,-619.73 288,-629.73 295,-629.73\"/>\n",
       "</g>\n",
       "</g>\n",
       "</svg>\n"
      ],
      "text/plain": [
       "<graphviz.graphs.Digraph at 0x7f78c2a8ac70>"
      ]
     },
     "execution_count": 327,
     "metadata": {},
     "output_type": "execute_result"
    }
   ],
   "source": [
    "dot"
   ]
  }
 ],
 "metadata": {
  "kernel_info": {
   "name": "python38-azureml"
  },
  "kernelspec": {
   "display_name": "Python 3.8 - AzureML",
   "language": "python",
   "name": "python38-azureml"
  },
  "language_info": {
   "codemirror_mode": {
    "name": "ipython",
    "version": 3
   },
   "file_extension": ".py",
   "mimetype": "text/x-python",
   "name": "python",
   "nbconvert_exporter": "python",
   "pygments_lexer": "ipython3",
   "version": "3.8.10"
  },
  "microsoft": {
   "ms_spell_check": {
    "ms_spell_check_language": "en"
   }
  },
  "nteract": {
   "version": "nteract-front-end@1.0.0"
  }
 },
 "nbformat": 4,
 "nbformat_minor": 2
}
